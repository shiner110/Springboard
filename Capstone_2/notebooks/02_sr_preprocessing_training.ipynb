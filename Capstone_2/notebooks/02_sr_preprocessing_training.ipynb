{
 "cells": [
  {
   "cell_type": "code",
   "execution_count": 95,
   "metadata": {},
   "outputs": [],
   "source": [
    "import pandas as pd\n",
    "import numpy as np\n",
    "import os\n",
    "import matplotlib.pyplot as plt\n",
    "import seaborn as sns\n",
    "import pickle\n",
    "\n",
    "from sklearn import __version__ as sklearn_version\n",
    "from sklearn.decomposition import PCA\n",
    "from sklearn.model_selection import train_test_split, cross_validate, GridSearchCV, learning_curve\n",
    "from sklearn.preprocessing import MinMaxScaler\n",
    "from sklearn.linear_model import LinearRegression\n",
    "from sklearn.dummy import DummyRegressor\n",
    "from sklearn.ensemble import RandomForestRegressor\n",
    "from sklearn.metrics import r2_score, mean_squared_error, mean_absolute_error\n",
    "from sklearn.pipeline import make_pipeline\n",
    "from sklearn.impute import SimpleImputer\n",
    "from sklearn.feature_selection import SelectKBest, f_regression\n",
    "from sklearn.cluster import KMeans\n",
    "from sklearn.ensemble import RandomForestClassifier\n",
    "\n",
    "import datetime"
   ]
  },
  {
   "cell_type": "code",
   "execution_count": 2,
   "metadata": {},
   "outputs": [
    {
     "data": {
      "text/html": [
       "<div>\n",
       "<style scoped>\n",
       "    .dataframe tbody tr th:only-of-type {\n",
       "        vertical-align: middle;\n",
       "    }\n",
       "\n",
       "    .dataframe tbody tr th {\n",
       "        vertical-align: top;\n",
       "    }\n",
       "\n",
       "    .dataframe thead th {\n",
       "        text-align: right;\n",
       "    }\n",
       "</style>\n",
       "<table border=\"1\" class=\"dataframe\">\n",
       "  <thead>\n",
       "    <tr style=\"text-align: right;\">\n",
       "      <th></th>\n",
       "      <th>Unnamed: 0</th>\n",
       "      <th>occupation</th>\n",
       "      <th>skill</th>\n",
       "      <th>importance</th>\n",
       "      <th>location</th>\n",
       "      <th>state</th>\n",
       "      <th>salary</th>\n",
       "    </tr>\n",
       "  </thead>\n",
       "  <tbody>\n",
       "    <tr>\n",
       "      <th>0</th>\n",
       "      <td>0</td>\n",
       "      <td>Chief Executives</td>\n",
       "      <td>Reading Comprehension</td>\n",
       "      <td>4.12</td>\n",
       "      <td>Aguadilla-Isabela</td>\n",
       "      <td>PR</td>\n",
       "      <td>92200.0</td>\n",
       "    </tr>\n",
       "    <tr>\n",
       "      <th>1</th>\n",
       "      <td>1</td>\n",
       "      <td>Chief Executives</td>\n",
       "      <td>Reading Comprehension</td>\n",
       "      <td>4.12</td>\n",
       "      <td>Akron</td>\n",
       "      <td>OH</td>\n",
       "      <td>204420.0</td>\n",
       "    </tr>\n",
       "    <tr>\n",
       "      <th>2</th>\n",
       "      <td>2</td>\n",
       "      <td>Chief Executives</td>\n",
       "      <td>Reading Comprehension</td>\n",
       "      <td>4.12</td>\n",
       "      <td>Albany</td>\n",
       "      <td>GA</td>\n",
       "      <td>121260.0</td>\n",
       "    </tr>\n",
       "    <tr>\n",
       "      <th>3</th>\n",
       "      <td>3</td>\n",
       "      <td>Chief Executives</td>\n",
       "      <td>Reading Comprehension</td>\n",
       "      <td>4.12</td>\n",
       "      <td>Albany-Schenectady-Troy</td>\n",
       "      <td>NY</td>\n",
       "      <td>155870.0</td>\n",
       "    </tr>\n",
       "    <tr>\n",
       "      <th>4</th>\n",
       "      <td>4</td>\n",
       "      <td>Chief Executives</td>\n",
       "      <td>Reading Comprehension</td>\n",
       "      <td>4.12</td>\n",
       "      <td>Allentown-Bethlehem-Easton</td>\n",
       "      <td>PA</td>\n",
       "      <td>215910.0</td>\n",
       "    </tr>\n",
       "  </tbody>\n",
       "</table>\n",
       "</div>"
      ],
      "text/plain": [
       "   Unnamed: 0        occupation                  skill  importance  \\\n",
       "0           0  Chief Executives  Reading Comprehension        4.12   \n",
       "1           1  Chief Executives  Reading Comprehension        4.12   \n",
       "2           2  Chief Executives  Reading Comprehension        4.12   \n",
       "3           3  Chief Executives  Reading Comprehension        4.12   \n",
       "4           4  Chief Executives  Reading Comprehension        4.12   \n",
       "\n",
       "                     location state    salary  \n",
       "0           Aguadilla-Isabela    PR   92200.0  \n",
       "1                       Akron    OH  204420.0  \n",
       "2                      Albany    GA  121260.0  \n",
       "3     Albany-Schenectady-Troy    NY  155870.0  \n",
       "4  Allentown-Bethlehem-Easton    PA  215910.0  "
      ]
     },
     "execution_count": 2,
     "metadata": {},
     "output_type": "execute_result"
    }
   ],
   "source": [
    "df = pd.read_csv('../data/interim/salary_skill_cleaned.csv')\n",
    "df.head()"
   ]
  },
  {
   "cell_type": "code",
   "execution_count": 3,
   "metadata": {},
   "outputs": [
    {
     "data": {
      "text/html": [
       "<div>\n",
       "<style scoped>\n",
       "    .dataframe tbody tr th:only-of-type {\n",
       "        vertical-align: middle;\n",
       "    }\n",
       "\n",
       "    .dataframe tbody tr th {\n",
       "        vertical-align: top;\n",
       "    }\n",
       "\n",
       "    .dataframe thead th {\n",
       "        text-align: right;\n",
       "    }\n",
       "</style>\n",
       "<table border=\"1\" class=\"dataframe\">\n",
       "  <thead>\n",
       "    <tr style=\"text-align: right;\">\n",
       "      <th>skill</th>\n",
       "      <th>occupation</th>\n",
       "      <th>state</th>\n",
       "      <th>salary</th>\n",
       "      <th>Active Learning</th>\n",
       "      <th>Active Listening</th>\n",
       "      <th>Complex Problem Solving</th>\n",
       "      <th>Coordination</th>\n",
       "      <th>Critical Thinking</th>\n",
       "      <th>Equipment Maintenance</th>\n",
       "      <th>Equipment Selection</th>\n",
       "      <th>...</th>\n",
       "      <th>Science</th>\n",
       "      <th>Service Orientation</th>\n",
       "      <th>Social Perceptiveness</th>\n",
       "      <th>Speaking</th>\n",
       "      <th>Systems Analysis</th>\n",
       "      <th>Systems Evaluation</th>\n",
       "      <th>Technology Design</th>\n",
       "      <th>Time Management</th>\n",
       "      <th>Troubleshooting</th>\n",
       "      <th>Writing</th>\n",
       "    </tr>\n",
       "  </thead>\n",
       "  <tbody>\n",
       "    <tr>\n",
       "      <th>0</th>\n",
       "      <td>Accountants and Auditors</td>\n",
       "      <td>AK</td>\n",
       "      <td>71610.0</td>\n",
       "      <td>3.31</td>\n",
       "      <td>3.94</td>\n",
       "      <td>3.44</td>\n",
       "      <td>3.06</td>\n",
       "      <td>3.88</td>\n",
       "      <td>1.0</td>\n",
       "      <td>1.0</td>\n",
       "      <td>...</td>\n",
       "      <td>1.88</td>\n",
       "      <td>3.0</td>\n",
       "      <td>3.06</td>\n",
       "      <td>3.81</td>\n",
       "      <td>3.19</td>\n",
       "      <td>2.94</td>\n",
       "      <td>1.75</td>\n",
       "      <td>3.25</td>\n",
       "      <td>1.12</td>\n",
       "      <td>3.75</td>\n",
       "    </tr>\n",
       "    <tr>\n",
       "      <th>1</th>\n",
       "      <td>Accountants and Auditors</td>\n",
       "      <td>AK</td>\n",
       "      <td>81170.0</td>\n",
       "      <td>3.31</td>\n",
       "      <td>3.94</td>\n",
       "      <td>3.44</td>\n",
       "      <td>3.06</td>\n",
       "      <td>3.88</td>\n",
       "      <td>1.0</td>\n",
       "      <td>1.0</td>\n",
       "      <td>...</td>\n",
       "      <td>1.88</td>\n",
       "      <td>3.0</td>\n",
       "      <td>3.06</td>\n",
       "      <td>3.81</td>\n",
       "      <td>3.19</td>\n",
       "      <td>2.94</td>\n",
       "      <td>1.75</td>\n",
       "      <td>3.25</td>\n",
       "      <td>1.12</td>\n",
       "      <td>3.75</td>\n",
       "    </tr>\n",
       "    <tr>\n",
       "      <th>2</th>\n",
       "      <td>Accountants and Auditors</td>\n",
       "      <td>AL</td>\n",
       "      <td>58570.0</td>\n",
       "      <td>3.31</td>\n",
       "      <td>3.94</td>\n",
       "      <td>3.44</td>\n",
       "      <td>3.06</td>\n",
       "      <td>3.88</td>\n",
       "      <td>1.0</td>\n",
       "      <td>1.0</td>\n",
       "      <td>...</td>\n",
       "      <td>1.88</td>\n",
       "      <td>3.0</td>\n",
       "      <td>3.06</td>\n",
       "      <td>3.81</td>\n",
       "      <td>3.19</td>\n",
       "      <td>2.94</td>\n",
       "      <td>1.75</td>\n",
       "      <td>3.25</td>\n",
       "      <td>1.12</td>\n",
       "      <td>3.75</td>\n",
       "    </tr>\n",
       "    <tr>\n",
       "      <th>3</th>\n",
       "      <td>Accountants and Auditors</td>\n",
       "      <td>AL</td>\n",
       "      <td>60400.0</td>\n",
       "      <td>3.31</td>\n",
       "      <td>3.94</td>\n",
       "      <td>3.44</td>\n",
       "      <td>3.06</td>\n",
       "      <td>3.88</td>\n",
       "      <td>1.0</td>\n",
       "      <td>1.0</td>\n",
       "      <td>...</td>\n",
       "      <td>1.88</td>\n",
       "      <td>3.0</td>\n",
       "      <td>3.06</td>\n",
       "      <td>3.81</td>\n",
       "      <td>3.19</td>\n",
       "      <td>2.94</td>\n",
       "      <td>1.75</td>\n",
       "      <td>3.25</td>\n",
       "      <td>1.12</td>\n",
       "      <td>3.75</td>\n",
       "    </tr>\n",
       "    <tr>\n",
       "      <th>4</th>\n",
       "      <td>Accountants and Auditors</td>\n",
       "      <td>AL</td>\n",
       "      <td>62120.0</td>\n",
       "      <td>3.31</td>\n",
       "      <td>3.94</td>\n",
       "      <td>3.44</td>\n",
       "      <td>3.06</td>\n",
       "      <td>3.88</td>\n",
       "      <td>1.0</td>\n",
       "      <td>1.0</td>\n",
       "      <td>...</td>\n",
       "      <td>1.88</td>\n",
       "      <td>3.0</td>\n",
       "      <td>3.06</td>\n",
       "      <td>3.81</td>\n",
       "      <td>3.19</td>\n",
       "      <td>2.94</td>\n",
       "      <td>1.75</td>\n",
       "      <td>3.25</td>\n",
       "      <td>1.12</td>\n",
       "      <td>3.75</td>\n",
       "    </tr>\n",
       "  </tbody>\n",
       "</table>\n",
       "<p>5 rows × 38 columns</p>\n",
       "</div>"
      ],
      "text/plain": [
       "skill                occupation state   salary  Active Learning  \\\n",
       "0      Accountants and Auditors    AK  71610.0             3.31   \n",
       "1      Accountants and Auditors    AK  81170.0             3.31   \n",
       "2      Accountants and Auditors    AL  58570.0             3.31   \n",
       "3      Accountants and Auditors    AL  60400.0             3.31   \n",
       "4      Accountants and Auditors    AL  62120.0             3.31   \n",
       "\n",
       "skill  Active Listening  Complex Problem Solving  Coordination  \\\n",
       "0                  3.94                     3.44          3.06   \n",
       "1                  3.94                     3.44          3.06   \n",
       "2                  3.94                     3.44          3.06   \n",
       "3                  3.94                     3.44          3.06   \n",
       "4                  3.94                     3.44          3.06   \n",
       "\n",
       "skill  Critical Thinking  Equipment Maintenance  Equipment Selection  ...  \\\n",
       "0                   3.88                    1.0                  1.0  ...   \n",
       "1                   3.88                    1.0                  1.0  ...   \n",
       "2                   3.88                    1.0                  1.0  ...   \n",
       "3                   3.88                    1.0                  1.0  ...   \n",
       "4                   3.88                    1.0                  1.0  ...   \n",
       "\n",
       "skill  Science  Service Orientation  Social Perceptiveness  Speaking  \\\n",
       "0         1.88                  3.0                   3.06      3.81   \n",
       "1         1.88                  3.0                   3.06      3.81   \n",
       "2         1.88                  3.0                   3.06      3.81   \n",
       "3         1.88                  3.0                   3.06      3.81   \n",
       "4         1.88                  3.0                   3.06      3.81   \n",
       "\n",
       "skill  Systems Analysis  Systems Evaluation  Technology Design  \\\n",
       "0                  3.19                2.94               1.75   \n",
       "1                  3.19                2.94               1.75   \n",
       "2                  3.19                2.94               1.75   \n",
       "3                  3.19                2.94               1.75   \n",
       "4                  3.19                2.94               1.75   \n",
       "\n",
       "skill  Time Management  Troubleshooting  Writing  \n",
       "0                 3.25             1.12     3.75  \n",
       "1                 3.25             1.12     3.75  \n",
       "2                 3.25             1.12     3.75  \n",
       "3                 3.25             1.12     3.75  \n",
       "4                 3.25             1.12     3.75  \n",
       "\n",
       "[5 rows x 38 columns]"
      ]
     },
     "execution_count": 3,
     "metadata": {},
     "output_type": "execute_result"
    }
   ],
   "source": [
    "skills = df.pivot_table(values='importance',index=['occupation', 'state', 'salary'],columns='skill').reset_index()\n",
    "skills.head()"
   ]
  },
  {
   "cell_type": "code",
   "execution_count": 4,
   "metadata": {},
   "outputs": [
    {
     "data": {
      "text/plain": [
       "(136041, 38)"
      ]
     },
     "execution_count": 4,
     "metadata": {},
     "output_type": "execute_result"
    }
   ],
   "source": [
    "skills.shape"
   ]
  },
  {
   "cell_type": "code",
   "execution_count": 5,
   "metadata": {},
   "outputs": [
    {
     "data": {
      "text/plain": [
       "Index(['state', 'salary', 'Active Learning', 'Active Listening',\n",
       "       'Complex Problem Solving', 'Coordination', 'Critical Thinking',\n",
       "       'Instructing', 'Judgment and Decision Making', 'Learning Strategies',\n",
       "       'Management of Financial Resources', 'Management of Material Resources',\n",
       "       'Management of Personnel Resources', 'Mathematics', 'Monitoring',\n",
       "       'Negotiation', 'Operation and Control', 'Operations Analysis',\n",
       "       'Operations Monitoring', 'Persuasion', 'Programming',\n",
       "       'Quality Control Analysis', 'Reading Comprehension', 'Science',\n",
       "       'Service Orientation', 'Social Perceptiveness', 'Speaking',\n",
       "       'Systems Analysis', 'Systems Evaluation', 'Technology Design',\n",
       "       'Time Management', 'Troubleshooting', 'Writing'],\n",
       "      dtype='object', name='skill')"
      ]
     },
     "execution_count": 5,
     "metadata": {},
     "output_type": "execute_result"
    }
   ],
   "source": [
    "# Drop Installation, Equipment Selection, Equipment Maintenance, and Repairing (from EDA)\n",
    "skills.drop(columns=['Installation', 'Equipment Selection', 'Equipment Maintenance', 'Repairing'], inplace=True)\n",
    "skills.set_index('occupation', inplace=True)\n",
    "skills.columns"
   ]
  },
  {
   "cell_type": "code",
   "execution_count": 6,
   "metadata": {},
   "outputs": [
    {
     "data": {
      "text/plain": [
       "(136041, 33)"
      ]
     },
     "execution_count": 6,
     "metadata": {},
     "output_type": "execute_result"
    }
   ],
   "source": [
    "skills.shape"
   ]
  },
  {
   "cell_type": "code",
   "execution_count": 7,
   "metadata": {},
   "outputs": [
    {
     "data": {
      "text/html": [
       "<div>\n",
       "<style scoped>\n",
       "    .dataframe tbody tr th:only-of-type {\n",
       "        vertical-align: middle;\n",
       "    }\n",
       "\n",
       "    .dataframe tbody tr th {\n",
       "        vertical-align: top;\n",
       "    }\n",
       "\n",
       "    .dataframe thead th {\n",
       "        text-align: right;\n",
       "    }\n",
       "</style>\n",
       "<table border=\"1\" class=\"dataframe\">\n",
       "  <thead>\n",
       "    <tr style=\"text-align: right;\">\n",
       "      <th></th>\n",
       "      <th>salary</th>\n",
       "      <th>Active Learning</th>\n",
       "      <th>Active Listening</th>\n",
       "      <th>Complex Problem Solving</th>\n",
       "      <th>Coordination</th>\n",
       "      <th>Critical Thinking</th>\n",
       "      <th>Instructing</th>\n",
       "      <th>Judgment and Decision Making</th>\n",
       "      <th>Learning Strategies</th>\n",
       "      <th>Management of Financial Resources</th>\n",
       "      <th>...</th>\n",
       "      <th>C_SD</th>\n",
       "      <th>C_TN</th>\n",
       "      <th>C_TX</th>\n",
       "      <th>C_UT</th>\n",
       "      <th>C_VA</th>\n",
       "      <th>C_VT</th>\n",
       "      <th>C_WA</th>\n",
       "      <th>C_WI</th>\n",
       "      <th>C_WV</th>\n",
       "      <th>C_WY</th>\n",
       "    </tr>\n",
       "    <tr>\n",
       "      <th>occupation</th>\n",
       "      <th></th>\n",
       "      <th></th>\n",
       "      <th></th>\n",
       "      <th></th>\n",
       "      <th></th>\n",
       "      <th></th>\n",
       "      <th></th>\n",
       "      <th></th>\n",
       "      <th></th>\n",
       "      <th></th>\n",
       "      <th></th>\n",
       "      <th></th>\n",
       "      <th></th>\n",
       "      <th></th>\n",
       "      <th></th>\n",
       "      <th></th>\n",
       "      <th></th>\n",
       "      <th></th>\n",
       "      <th></th>\n",
       "      <th></th>\n",
       "      <th></th>\n",
       "    </tr>\n",
       "  </thead>\n",
       "  <tbody>\n",
       "    <tr>\n",
       "      <th>Accountants and Auditors</th>\n",
       "      <td>71610.0</td>\n",
       "      <td>3.31</td>\n",
       "      <td>3.94</td>\n",
       "      <td>3.44</td>\n",
       "      <td>3.06</td>\n",
       "      <td>3.88</td>\n",
       "      <td>2.88</td>\n",
       "      <td>3.5</td>\n",
       "      <td>2.94</td>\n",
       "      <td>2.56</td>\n",
       "      <td>...</td>\n",
       "      <td>0</td>\n",
       "      <td>0</td>\n",
       "      <td>0</td>\n",
       "      <td>0</td>\n",
       "      <td>0</td>\n",
       "      <td>0</td>\n",
       "      <td>0</td>\n",
       "      <td>0</td>\n",
       "      <td>0</td>\n",
       "      <td>0</td>\n",
       "    </tr>\n",
       "    <tr>\n",
       "      <th>Accountants and Auditors</th>\n",
       "      <td>81170.0</td>\n",
       "      <td>3.31</td>\n",
       "      <td>3.94</td>\n",
       "      <td>3.44</td>\n",
       "      <td>3.06</td>\n",
       "      <td>3.88</td>\n",
       "      <td>2.88</td>\n",
       "      <td>3.5</td>\n",
       "      <td>2.94</td>\n",
       "      <td>2.56</td>\n",
       "      <td>...</td>\n",
       "      <td>0</td>\n",
       "      <td>0</td>\n",
       "      <td>0</td>\n",
       "      <td>0</td>\n",
       "      <td>0</td>\n",
       "      <td>0</td>\n",
       "      <td>0</td>\n",
       "      <td>0</td>\n",
       "      <td>0</td>\n",
       "      <td>0</td>\n",
       "    </tr>\n",
       "    <tr>\n",
       "      <th>Accountants and Auditors</th>\n",
       "      <td>58570.0</td>\n",
       "      <td>3.31</td>\n",
       "      <td>3.94</td>\n",
       "      <td>3.44</td>\n",
       "      <td>3.06</td>\n",
       "      <td>3.88</td>\n",
       "      <td>2.88</td>\n",
       "      <td>3.5</td>\n",
       "      <td>2.94</td>\n",
       "      <td>2.56</td>\n",
       "      <td>...</td>\n",
       "      <td>0</td>\n",
       "      <td>0</td>\n",
       "      <td>0</td>\n",
       "      <td>0</td>\n",
       "      <td>0</td>\n",
       "      <td>0</td>\n",
       "      <td>0</td>\n",
       "      <td>0</td>\n",
       "      <td>0</td>\n",
       "      <td>0</td>\n",
       "    </tr>\n",
       "    <tr>\n",
       "      <th>Accountants and Auditors</th>\n",
       "      <td>60400.0</td>\n",
       "      <td>3.31</td>\n",
       "      <td>3.94</td>\n",
       "      <td>3.44</td>\n",
       "      <td>3.06</td>\n",
       "      <td>3.88</td>\n",
       "      <td>2.88</td>\n",
       "      <td>3.5</td>\n",
       "      <td>2.94</td>\n",
       "      <td>2.56</td>\n",
       "      <td>...</td>\n",
       "      <td>0</td>\n",
       "      <td>0</td>\n",
       "      <td>0</td>\n",
       "      <td>0</td>\n",
       "      <td>0</td>\n",
       "      <td>0</td>\n",
       "      <td>0</td>\n",
       "      <td>0</td>\n",
       "      <td>0</td>\n",
       "      <td>0</td>\n",
       "    </tr>\n",
       "    <tr>\n",
       "      <th>Accountants and Auditors</th>\n",
       "      <td>62120.0</td>\n",
       "      <td>3.31</td>\n",
       "      <td>3.94</td>\n",
       "      <td>3.44</td>\n",
       "      <td>3.06</td>\n",
       "      <td>3.88</td>\n",
       "      <td>2.88</td>\n",
       "      <td>3.5</td>\n",
       "      <td>2.94</td>\n",
       "      <td>2.56</td>\n",
       "      <td>...</td>\n",
       "      <td>0</td>\n",
       "      <td>0</td>\n",
       "      <td>0</td>\n",
       "      <td>0</td>\n",
       "      <td>0</td>\n",
       "      <td>0</td>\n",
       "      <td>0</td>\n",
       "      <td>0</td>\n",
       "      <td>0</td>\n",
       "      <td>0</td>\n",
       "    </tr>\n",
       "  </tbody>\n",
       "</table>\n",
       "<p>5 rows × 83 columns</p>\n",
       "</div>"
      ],
      "text/plain": [
       "                           salary  Active Learning  Active Listening  \\\n",
       "occupation                                                             \n",
       "Accountants and Auditors  71610.0             3.31              3.94   \n",
       "Accountants and Auditors  81170.0             3.31              3.94   \n",
       "Accountants and Auditors  58570.0             3.31              3.94   \n",
       "Accountants and Auditors  60400.0             3.31              3.94   \n",
       "Accountants and Auditors  62120.0             3.31              3.94   \n",
       "\n",
       "                          Complex Problem Solving  Coordination  \\\n",
       "occupation                                                        \n",
       "Accountants and Auditors                     3.44          3.06   \n",
       "Accountants and Auditors                     3.44          3.06   \n",
       "Accountants and Auditors                     3.44          3.06   \n",
       "Accountants and Auditors                     3.44          3.06   \n",
       "Accountants and Auditors                     3.44          3.06   \n",
       "\n",
       "                          Critical Thinking  Instructing  \\\n",
       "occupation                                                 \n",
       "Accountants and Auditors               3.88         2.88   \n",
       "Accountants and Auditors               3.88         2.88   \n",
       "Accountants and Auditors               3.88         2.88   \n",
       "Accountants and Auditors               3.88         2.88   \n",
       "Accountants and Auditors               3.88         2.88   \n",
       "\n",
       "                          Judgment and Decision Making  Learning Strategies  \\\n",
       "occupation                                                                    \n",
       "Accountants and Auditors                           3.5                 2.94   \n",
       "Accountants and Auditors                           3.5                 2.94   \n",
       "Accountants and Auditors                           3.5                 2.94   \n",
       "Accountants and Auditors                           3.5                 2.94   \n",
       "Accountants and Auditors                           3.5                 2.94   \n",
       "\n",
       "                          Management of Financial Resources  ...  C_SD  C_TN  \\\n",
       "occupation                                                   ...               \n",
       "Accountants and Auditors                               2.56  ...     0     0   \n",
       "Accountants and Auditors                               2.56  ...     0     0   \n",
       "Accountants and Auditors                               2.56  ...     0     0   \n",
       "Accountants and Auditors                               2.56  ...     0     0   \n",
       "Accountants and Auditors                               2.56  ...     0     0   \n",
       "\n",
       "                          C_TX  C_UT  C_VA  C_VT  C_WA  C_WI  C_WV  C_WY  \n",
       "occupation                                                                \n",
       "Accountants and Auditors     0     0     0     0     0     0     0     0  \n",
       "Accountants and Auditors     0     0     0     0     0     0     0     0  \n",
       "Accountants and Auditors     0     0     0     0     0     0     0     0  \n",
       "Accountants and Auditors     0     0     0     0     0     0     0     0  \n",
       "Accountants and Auditors     0     0     0     0     0     0     0     0  \n",
       "\n",
       "[5 rows x 83 columns]"
      ]
     },
     "execution_count": 7,
     "metadata": {},
     "output_type": "execute_result"
    }
   ],
   "source": [
    "# One-hot encode states\n",
    "skills_coded = pd.get_dummies(skills, \n",
    "               columns=['state'], \n",
    "               drop_first=True, \n",
    "               prefix='C')\n",
    "skills_coded.head()"
   ]
  },
  {
   "cell_type": "code",
   "execution_count": 8,
   "metadata": {},
   "outputs": [],
   "source": [
    "# Define X and y\n",
    "X = skills_coded.drop(columns=['salary'])\n",
    "y = skills_coded['salary']"
   ]
  },
  {
   "cell_type": "markdown",
   "metadata": {},
   "source": [
    "# Train/Test Split"
   ]
  },
  {
   "cell_type": "code",
   "execution_count": 9,
   "metadata": {},
   "outputs": [
    {
     "data": {
      "text/plain": [
       "(95228.7, 40812.299999999996)"
      ]
     },
     "execution_count": 9,
     "metadata": {},
     "output_type": "execute_result"
    }
   ],
   "source": [
    "len(X) * .7, len(X) * .3"
   ]
  },
  {
   "cell_type": "code",
   "execution_count": 10,
   "metadata": {},
   "outputs": [],
   "source": [
    "X_train, X_test, y_train, y_test = train_test_split(X, y, test_size=0.3, random_state=47)"
   ]
  },
  {
   "cell_type": "code",
   "execution_count": 11,
   "metadata": {},
   "outputs": [
    {
     "data": {
      "text/plain": [
       "((95228, 82), (40813, 82))"
      ]
     },
     "execution_count": 11,
     "metadata": {},
     "output_type": "execute_result"
    }
   ],
   "source": [
    "X_train.shape, X_test.shape"
   ]
  },
  {
   "cell_type": "code",
   "execution_count": 12,
   "metadata": {},
   "outputs": [
    {
     "data": {
      "text/plain": [
       "((95228,), (40813,))"
      ]
     },
     "execution_count": 12,
     "metadata": {},
     "output_type": "execute_result"
    }
   ],
   "source": [
    "y_train.shape, y_test.shape"
   ]
  },
  {
   "cell_type": "code",
   "execution_count": 13,
   "metadata": {},
   "outputs": [
    {
     "data": {
      "text/plain": [
       "Active Learning            float64\n",
       "Active Listening           float64\n",
       "Complex Problem Solving    float64\n",
       "Coordination               float64\n",
       "Critical Thinking          float64\n",
       "                            ...   \n",
       "C_VT                         uint8\n",
       "C_WA                         uint8\n",
       "C_WI                         uint8\n",
       "C_WV                         uint8\n",
       "C_WY                         uint8\n",
       "Length: 82, dtype: object"
      ]
     },
     "execution_count": 13,
     "metadata": {},
     "output_type": "execute_result"
    }
   ],
   "source": [
    "X_train.dtypes"
   ]
  },
  {
   "cell_type": "code",
   "execution_count": 14,
   "metadata": {},
   "outputs": [
    {
     "data": {
      "text/plain": [
       "Active Learning            float64\n",
       "Active Listening           float64\n",
       "Complex Problem Solving    float64\n",
       "Coordination               float64\n",
       "Critical Thinking          float64\n",
       "                            ...   \n",
       "C_VT                         uint8\n",
       "C_WA                         uint8\n",
       "C_WI                         uint8\n",
       "C_WV                         uint8\n",
       "C_WY                         uint8\n",
       "Length: 82, dtype: object"
      ]
     },
     "execution_count": 14,
     "metadata": {},
     "output_type": "execute_result"
    }
   ],
   "source": [
    "X_test.dtypes"
   ]
  },
  {
   "cell_type": "code",
   "execution_count": 15,
   "metadata": {},
   "outputs": [],
   "source": [
    "# Standardize features\n",
    "scaler = MinMaxScaler()\n",
    "scaler.fit(X_train)\n",
    "X_tr_scaled = scaler.transform(X_train)\n",
    "X_te_scaled = scaler.transform(X_test)"
   ]
  },
  {
   "cell_type": "markdown",
   "metadata": {},
   "source": [
    "# Baseline Model"
   ]
  },
  {
   "cell_type": "code",
   "execution_count": 16,
   "metadata": {},
   "outputs": [
    {
     "data": {
      "text/plain": [
       "array([[61044.17954803]])"
      ]
     },
     "execution_count": 16,
     "metadata": {},
     "output_type": "execute_result"
    }
   ],
   "source": [
    "# Use the mean as a baseline model\n",
    "dumb_reg = DummyRegressor(strategy='mean')\n",
    "dumb_reg.fit(X_tr_scaled, y_train)\n",
    "dumb_reg.constant_"
   ]
  },
  {
   "cell_type": "code",
   "execution_count": 17,
   "metadata": {},
   "outputs": [],
   "source": [
    "# Predictions, train and test\n",
    "y_tr_pred = dumb_reg.predict(X_tr_scaled)\n",
    "y_te_pred = dumb_reg.predict(X_te_scaled)"
   ]
  },
  {
   "cell_type": "code",
   "execution_count": 18,
   "metadata": {},
   "outputs": [
    {
     "data": {
      "text/plain": [
       "(0.0, -1.7130880713978058e-06)"
      ]
     },
     "execution_count": 18,
     "metadata": {},
     "output_type": "execute_result"
    }
   ],
   "source": [
    "# R_squared error\n",
    "r2_score(y_train, y_tr_pred), r2_score(y_test, y_te_pred)"
   ]
  },
  {
   "cell_type": "code",
   "execution_count": 19,
   "metadata": {},
   "outputs": [
    {
     "data": {
      "text/plain": [
       "(24540.85650772087, 24323.158925754055)"
      ]
     },
     "execution_count": 19,
     "metadata": {},
     "output_type": "execute_result"
    }
   ],
   "source": [
    "# MAE, train and test\n",
    "mean_absolute_error(y_train, y_tr_pred), mean_absolute_error(y_test, y_te_pred)"
   ]
  },
  {
   "cell_type": "code",
   "execution_count": 20,
   "metadata": {},
   "outputs": [
    {
     "data": {
      "text/plain": [
       "(1074915663.9517589, 1054016656.7855808)"
      ]
     },
     "execution_count": 20,
     "metadata": {},
     "output_type": "execute_result"
    }
   ],
   "source": [
    "# MSE, train and test\n",
    "mean_squared_error(y_train, y_tr_pred), mean_squared_error(y_test, y_te_pred)"
   ]
  },
  {
   "cell_type": "markdown",
   "metadata": {},
   "source": [
    "# Linear Model "
   ]
  },
  {
   "cell_type": "code",
   "execution_count": 21,
   "metadata": {},
   "outputs": [],
   "source": [
    "# Linear Regression\n",
    "lm = LinearRegression().fit(X_tr_scaled, y_train)"
   ]
  },
  {
   "cell_type": "code",
   "execution_count": 22,
   "metadata": {},
   "outputs": [],
   "source": [
    "# Predictions, train and test\n",
    "y_tr_pred = lm.predict(X_tr_scaled)\n",
    "y_te_pred = lm.predict(X_te_scaled)"
   ]
  },
  {
   "cell_type": "code",
   "execution_count": 23,
   "metadata": {},
   "outputs": [
    {
     "data": {
      "text/plain": [
       "(0.6070916246133975, 0.6037890333780656)"
      ]
     },
     "execution_count": 23,
     "metadata": {},
     "output_type": "execute_result"
    }
   ],
   "source": [
    "# R_squared error\n",
    "r2_score(y_train, y_tr_pred), r2_score(y_test, y_te_pred)"
   ]
  },
  {
   "cell_type": "code",
   "execution_count": 24,
   "metadata": {},
   "outputs": [
    {
     "data": {
      "text/plain": [
       "(14256.847093961414, 14250.643105413412)"
      ]
     },
     "execution_count": 24,
     "metadata": {},
     "output_type": "execute_result"
    }
   ],
   "source": [
    "# MAE, train and test\n",
    "mean_absolute_error(y_train, y_tr_pred), mean_absolute_error(y_test, y_te_pred)"
   ]
  },
  {
   "cell_type": "code",
   "execution_count": 25,
   "metadata": {},
   "outputs": [
    {
     "data": {
      "text/plain": [
       "(422343367.20089674, 417612243.01408273)"
      ]
     },
     "execution_count": 25,
     "metadata": {},
     "output_type": "execute_result"
    }
   ],
   "source": [
    "# MSE, train and test\n",
    "mean_squared_error(y_train, y_tr_pred), mean_squared_error(y_test, y_te_pred)"
   ]
  },
  {
   "cell_type": "markdown",
   "metadata": {},
   "source": [
    "# Linear Regression (pipeline)"
   ]
  },
  {
   "cell_type": "code",
   "execution_count": 26,
   "metadata": {},
   "outputs": [],
   "source": [
    "# Define pipeline (linear regression)\n",
    "pipeline = make_pipeline(\n",
    "    MinMaxScaler(),\n",
    "    SelectKBest(f_regression),\n",
    "    LinearRegression()\n",
    ")"
   ]
  },
  {
   "cell_type": "code",
   "execution_count": 27,
   "metadata": {},
   "outputs": [
    {
     "data": {
      "text/plain": [
       "Pipeline(steps=[('minmaxscaler', MinMaxScaler()),\n",
       "                ('selectkbest',\n",
       "                 SelectKBest(score_func=<function f_regression at 0x000001FE8C1075E0>)),\n",
       "                ('linearregression', LinearRegression())])"
      ]
     },
     "execution_count": 27,
     "metadata": {},
     "output_type": "execute_result"
    }
   ],
   "source": [
    "# Fit pipeline\n",
    "pipeline.fit(X_train, y_train)"
   ]
  },
  {
   "cell_type": "code",
   "execution_count": 28,
   "metadata": {},
   "outputs": [],
   "source": [
    "# Predictions, train and test\n",
    "y_tr_pred = pipeline.predict(X_train)\n",
    "y_te_pred = pipeline.predict(X_test)"
   ]
  },
  {
   "cell_type": "code",
   "execution_count": 29,
   "metadata": {},
   "outputs": [
    {
     "data": {
      "text/plain": [
       "(0.5096029816332991, 0.5078183573774487)"
      ]
     },
     "execution_count": 29,
     "metadata": {},
     "output_type": "execute_result"
    }
   ],
   "source": [
    "# R_squared error\n",
    "r2_score(y_train, y_tr_pred), r2_score(y_test, y_te_pred)"
   ]
  },
  {
   "cell_type": "code",
   "execution_count": 30,
   "metadata": {},
   "outputs": [
    {
     "data": {
      "text/plain": [
       "(15749.839639383224, 15712.334057097087)"
      ]
     },
     "execution_count": 30,
     "metadata": {},
     "output_type": "execute_result"
    }
   ],
   "source": [
    "# MAE, train and test\n",
    "mean_absolute_error(y_train, y_tr_pred), mean_absolute_error(y_test, y_te_pred)"
   ]
  },
  {
   "cell_type": "code",
   "execution_count": 31,
   "metadata": {},
   "outputs": [
    {
     "data": {
      "text/plain": [
       "(527135436.5976052, 518766760.79510725)"
      ]
     },
     "execution_count": 31,
     "metadata": {},
     "output_type": "execute_result"
    }
   ],
   "source": [
    "# MSE, train and test\n",
    "mean_squared_error(y_train, y_tr_pred), mean_squared_error(y_test, y_te_pred)"
   ]
  },
  {
   "cell_type": "code",
   "execution_count": 32,
   "metadata": {},
   "outputs": [
    {
     "data": {
      "text/plain": [
       "dict_keys(['memory', 'steps', 'verbose', 'minmaxscaler', 'selectkbest', 'linearregression', 'minmaxscaler__copy', 'minmaxscaler__feature_range', 'selectkbest__k', 'selectkbest__score_func', 'linearregression__copy_X', 'linearregression__fit_intercept', 'linearregression__n_jobs', 'linearregression__normalize'])"
      ]
     },
     "execution_count": 32,
     "metadata": {},
     "output_type": "execute_result"
    }
   ],
   "source": [
    "pipeline.get_params().keys()"
   ]
  },
  {
   "cell_type": "markdown",
   "metadata": {},
   "source": [
    "## Cross-validate"
   ]
  },
  {
   "cell_type": "code",
   "execution_count": 33,
   "metadata": {},
   "outputs": [],
   "source": [
    "cv = cross_validate(pipeline, X_train, y_train, cv=5)"
   ]
  },
  {
   "cell_type": "code",
   "execution_count": 34,
   "metadata": {},
   "outputs": [
    {
     "data": {
      "text/plain": [
       "array([0.50477401, 0.51306317, 0.51152779, 0.51006312, 0.50792524])"
      ]
     },
     "execution_count": 34,
     "metadata": {},
     "output_type": "execute_result"
    }
   ],
   "source": [
    "cv_scores = cv['test_score']\n",
    "cv_scores"
   ]
  },
  {
   "cell_type": "code",
   "execution_count": 35,
   "metadata": {},
   "outputs": [
    {
     "data": {
      "text/plain": [
       "(0.5094706663722525, 0.002896058875524491)"
      ]
     },
     "execution_count": 35,
     "metadata": {},
     "output_type": "execute_result"
    }
   ],
   "source": [
    "np.mean(cv_scores), np.std(cv_scores)"
   ]
  },
  {
   "cell_type": "markdown",
   "metadata": {},
   "source": [
    "## Hyperparameter search using GridSearchCV"
   ]
  },
  {
   "cell_type": "code",
   "execution_count": 36,
   "metadata": {},
   "outputs": [],
   "source": [
    "k = [k+1 for k in range(len(X_train.columns))]\n",
    "grid_params = {'selectkbest__k': k}"
   ]
  },
  {
   "cell_type": "code",
   "execution_count": 37,
   "metadata": {},
   "outputs": [],
   "source": [
    "lr_grid_cv = GridSearchCV(pipeline, param_grid=grid_params, cv=5, n_jobs=-1)"
   ]
  },
  {
   "cell_type": "code",
   "execution_count": 38,
   "metadata": {},
   "outputs": [
    {
     "data": {
      "text/plain": [
       "GridSearchCV(cv=5,\n",
       "             estimator=Pipeline(steps=[('minmaxscaler', MinMaxScaler()),\n",
       "                                       ('selectkbest',\n",
       "                                        SelectKBest(score_func=<function f_regression at 0x000001FE8C1075E0>)),\n",
       "                                       ('linearregression',\n",
       "                                        LinearRegression())]),\n",
       "             n_jobs=-1,\n",
       "             param_grid={'selectkbest__k': [1, 2, 3, 4, 5, 6, 7, 8, 9, 10, 11,\n",
       "                                            12, 13, 14, 15, 16, 17, 18, 19, 20,\n",
       "                                            21, 22, 23, 24, 25, 26, 27, 28, 29,\n",
       "                                            30, ...]})"
      ]
     },
     "execution_count": 38,
     "metadata": {},
     "output_type": "execute_result"
    }
   ],
   "source": [
    "lr_grid_cv.fit(X_train, y_train)"
   ]
  },
  {
   "cell_type": "code",
   "execution_count": 39,
   "metadata": {},
   "outputs": [],
   "source": [
    "score_mean = lr_grid_cv.cv_results_['mean_test_score']\n",
    "score_std = lr_grid_cv.cv_results_['std_test_score']\n",
    "cv_k = [k for k in lr_grid_cv.cv_results_['param_selectkbest__k']]"
   ]
  },
  {
   "cell_type": "code",
   "execution_count": 40,
   "metadata": {},
   "outputs": [
    {
     "data": {
      "text/plain": [
       "{'selectkbest__k': 82}"
      ]
     },
     "execution_count": 40,
     "metadata": {},
     "output_type": "execute_result"
    }
   ],
   "source": [
    "lr_grid_cv.best_params_"
   ]
  },
  {
   "cell_type": "code",
   "execution_count": 41,
   "metadata": {},
   "outputs": [
    {
     "data": {
      "image/png": "[encoded data removed]",
      "text/plain": [
       "<Figure size 720x504 with 1 Axes>"
      ]
     },
     "metadata": {
      "needs_background": "light"
     },
     "output_type": "display_data"
    }
   ],
   "source": [
    "best_k = lr_grid_cv.best_params_['selectkbest__k']\n",
    "plt.subplots(figsize=(10, 7))\n",
    "plt.errorbar(cv_k, score_mean, yerr=score_std)\n",
    "plt.axvline(x=best_k, c='r', ls='--', alpha=.3)\n",
    "plt.xlabel('k')\n",
    "plt.ylabel('CV score (r-squared)')\n",
    "plt.title('Pipeline mean CV score (error bars +/- 1sd)');"
   ]
  },
  {
   "cell_type": "code",
   "execution_count": 42,
   "metadata": {},
   "outputs": [],
   "source": [
    "selected = lr_grid_cv.best_estimator_.named_steps.selectkbest.get_support()"
   ]
  },
  {
   "cell_type": "code",
   "execution_count": 43,
   "metadata": {},
   "outputs": [
    {
     "data": {
      "text/plain": [
       "Management of Financial Resources    54338.626480\n",
       "Science                              41192.035716\n",
       "Judgment and Decision Making         36809.624092\n",
       "Persuasion                           35218.222749\n",
       "Critical Thinking                    28431.693271\n",
       "Active Learning                      22685.603616\n",
       "Reading Comprehension                22369.108770\n",
       "Management of Personnel Resources    21606.376076\n",
       "Time Management                      19296.807846\n",
       "Monitoring                           15198.278796\n",
       "Systems Evaluation                   13761.458470\n",
       "Speaking                             11095.404170\n",
       "Complex Problem Solving               5710.209510\n",
       "C_DC                                  4924.494524\n",
       "C_CA                                  2872.364145\n",
       "dtype: float64"
      ]
     },
     "execution_count": 43,
     "metadata": {},
     "output_type": "execute_result"
    }
   ],
   "source": [
    "coefs = lr_grid_cv.best_estimator_.named_steps.linearregression.coef_\n",
    "features = X_train.columns[selected]\n",
    "most_important = pd.Series(coefs, index=features).sort_values(ascending=False)\n",
    "most_important[:15]"
   ]
  },
  {
   "cell_type": "code",
   "execution_count": 44,
   "metadata": {},
   "outputs": [
    {
     "data": {
      "image/png": "[encoded data removed]",
      "text/plain": [
       "<Figure size 1080x504 with 1 Axes>"
      ]
     },
     "metadata": {
      "needs_background": "light"
     },
     "output_type": "display_data"
    }
   ],
   "source": [
    "plt.subplots(figsize=(15, 7))\n",
    "most_important.plot(kind='bar')\n",
    "plt.xlabel('features')\n",
    "plt.ylabel('importance')\n",
    "plt.title('Feature importances');"
   ]
  },
  {
   "cell_type": "markdown",
   "metadata": {},
   "source": [
    "# Random Forest Model"
   ]
  },
  {
   "cell_type": "code",
   "execution_count": 47,
   "metadata": {},
   "outputs": [],
   "source": [
    "# Define pipeline (random forest)\n",
    "rf_pipeline = make_pipeline(\n",
    "    MinMaxScaler(),\n",
    "    RandomForestRegressor(random_state=42)\n",
    ")"
   ]
  },
  {
   "cell_type": "code",
   "execution_count": 48,
   "metadata": {},
   "outputs": [
    {
     "data": {
      "text/plain": [
       "Pipeline(steps=[('minmaxscaler', MinMaxScaler()),\n",
       "                ('randomforestregressor',\n",
       "                 RandomForestRegressor(random_state=42))])"
      ]
     },
     "execution_count": 48,
     "metadata": {},
     "output_type": "execute_result"
    }
   ],
   "source": [
    "# Fit pipeline\n",
    "rf_pipeline.fit(X_train, y_train)"
   ]
  },
  {
   "cell_type": "code",
   "execution_count": 49,
   "metadata": {},
   "outputs": [],
   "source": [
    "# Predictions, train and test\n",
    "y_tr_pred = rf_pipeline.predict(X_train)\n",
    "y_te_pred = rf_pipeline.predict(X_test)"
   ]
  },
  {
   "cell_type": "code",
   "execution_count": 50,
   "metadata": {},
   "outputs": [
    {
     "data": {
      "text/plain": [
       "(0.939683873694745, 0.8876193756269025)"
      ]
     },
     "execution_count": 50,
     "metadata": {},
     "output_type": "execute_result"
    }
   ],
   "source": [
    "# R_squared error\n",
    "r2_score(y_train, y_tr_pred), r2_score(y_test, y_te_pred)"
   ]
  },
  {
   "cell_type": "code",
   "execution_count": 51,
   "metadata": {},
   "outputs": [
    {
     "data": {
      "text/plain": [
       "(5115.563486071196, 7007.167669523709)"
      ]
     },
     "execution_count": 51,
     "metadata": {},
     "output_type": "execute_result"
    }
   ],
   "source": [
    "# MAE, train and test\n",
    "mean_absolute_error(y_train, y_tr_pred), mean_absolute_error(y_test, y_te_pred)"
   ]
  },
  {
   "cell_type": "code",
   "execution_count": 52,
   "metadata": {},
   "outputs": [
    {
     "data": {
      "text/plain": [
       "(64834748.95441122, 118450847.07247521)"
      ]
     },
     "execution_count": 52,
     "metadata": {},
     "output_type": "execute_result"
    }
   ],
   "source": [
    "# MSE, train and test\n",
    "mean_squared_error(y_train, y_tr_pred), mean_squared_error(y_test, y_te_pred)"
   ]
  },
  {
   "cell_type": "code",
   "execution_count": 53,
   "metadata": {},
   "outputs": [
    {
     "data": {
      "text/plain": [
       "dict_keys(['memory', 'steps', 'verbose', 'minmaxscaler', 'randomforestregressor', 'minmaxscaler__copy', 'minmaxscaler__feature_range', 'randomforestregressor__bootstrap', 'randomforestregressor__ccp_alpha', 'randomforestregressor__criterion', 'randomforestregressor__max_depth', 'randomforestregressor__max_features', 'randomforestregressor__max_leaf_nodes', 'randomforestregressor__max_samples', 'randomforestregressor__min_impurity_decrease', 'randomforestregressor__min_impurity_split', 'randomforestregressor__min_samples_leaf', 'randomforestregressor__min_samples_split', 'randomforestregressor__min_weight_fraction_leaf', 'randomforestregressor__n_estimators', 'randomforestregressor__n_jobs', 'randomforestregressor__oob_score', 'randomforestregressor__random_state', 'randomforestregressor__verbose', 'randomforestregressor__warm_start'])"
      ]
     },
     "execution_count": 53,
     "metadata": {},
     "output_type": "execute_result"
    }
   ],
   "source": [
    "rf_pipeline.get_params().keys()"
   ]
  },
  {
   "cell_type": "markdown",
   "metadata": {},
   "source": [
    "## Cross-validate"
   ]
  },
  {
   "cell_type": "code",
   "execution_count": 54,
   "metadata": {},
   "outputs": [],
   "source": [
    "rf_cv = cross_validate(rf_pipeline, X_train, y_train, cv=5)"
   ]
  },
  {
   "cell_type": "code",
   "execution_count": 55,
   "metadata": {},
   "outputs": [
    {
     "data": {
      "text/plain": [
       "array([0.88380804, 0.89273923, 0.88879779, 0.88759428, 0.88469459])"
      ]
     },
     "execution_count": 55,
     "metadata": {},
     "output_type": "execute_result"
    }
   ],
   "source": [
    "rf_cv_scores = rf_cv['test_score']\n",
    "rf_cv_scores"
   ]
  },
  {
   "cell_type": "code",
   "execution_count": 56,
   "metadata": {},
   "outputs": [
    {
     "data": {
      "text/plain": [
       "(0.8875267860497988, 0.0031824517006334503)"
      ]
     },
     "execution_count": 56,
     "metadata": {},
     "output_type": "execute_result"
    }
   ],
   "source": [
    "np.mean(rf_cv_scores), np.std(rf_cv_scores)"
   ]
  },
  {
   "cell_type": "markdown",
   "metadata": {},
   "source": [
    "## Hyperparameter search using GridSearchCV"
   ]
  },
  {
   "cell_type": "code",
   "execution_count": 57,
   "metadata": {},
   "outputs": [
    {
     "data": {
      "text/plain": [
       "{'randomforestregressor__n_estimators': [10,\n",
       "  12,\n",
       "  16,\n",
       "  20,\n",
       "  26,\n",
       "  33,\n",
       "  42,\n",
       "  54,\n",
       "  69,\n",
       "  88,\n",
       "  112,\n",
       "  143,\n",
       "  183,\n",
       "  233,\n",
       "  297,\n",
       "  379,\n",
       "  483,\n",
       "  615,\n",
       "  784,\n",
       "  1000],\n",
       " 'minmaxscaler': [MinMaxScaler(), None]}"
      ]
     },
     "execution_count": 57,
     "metadata": {},
     "output_type": "execute_result"
    }
   ],
   "source": [
    "n_est = [int(n) for n in np.logspace(start=1, stop=3, num=20)]\n",
    "grid_params = {\n",
    "        'randomforestregressor__n_estimators': n_est,\n",
    "        'minmaxscaler': [MinMaxScaler(), None]\n",
    "}\n",
    "grid_params"
   ]
  },
  {
   "cell_type": "code",
   "execution_count": 58,
   "metadata": {},
   "outputs": [],
   "source": [
    "rf_grid_cv = GridSearchCV(rf_pipeline, param_grid=grid_params, cv=5, n_jobs=-1)"
   ]
  },
  {
   "cell_type": "code",
   "execution_count": 59,
   "metadata": {},
   "outputs": [
    {
     "data": {
      "text/plain": [
       "GridSearchCV(cv=5,\n",
       "             estimator=Pipeline(steps=[('minmaxscaler', MinMaxScaler()),\n",
       "                                       ('randomforestregressor',\n",
       "                                        RandomForestRegressor(random_state=42))]),\n",
       "             n_jobs=-1,\n",
       "             param_grid={'minmaxscaler': [MinMaxScaler(), None],\n",
       "                         'randomforestregressor__n_estimators': [10, 12, 16, 20,\n",
       "                                                                 26, 33, 42, 54,\n",
       "                                                                 69, 88, 112,\n",
       "                                                                 143, 183, 233,\n",
       "                                                                 297, 379, 483,\n",
       "                                                                 615, 784,\n",
       "                                                                 1000]})"
      ]
     },
     "execution_count": 59,
     "metadata": {},
     "output_type": "execute_result"
    }
   ],
   "source": [
    "rf_grid_cv.fit(X_train, y_train)"
   ]
  },
  {
   "cell_type": "code",
   "execution_count": 60,
   "metadata": {},
   "outputs": [
    {
     "data": {
      "text/plain": [
       "{'minmaxscaler': MinMaxScaler(), 'randomforestregressor__n_estimators': 784}"
      ]
     },
     "execution_count": 60,
     "metadata": {},
     "output_type": "execute_result"
    }
   ],
   "source": [
    "rf_grid_cv.best_params_"
   ]
  },
  {
   "cell_type": "code",
   "execution_count": 61,
   "metadata": {},
   "outputs": [
    {
     "data": {
      "text/plain": [
       "array([0.88416473, 0.89289263, 0.88928043, 0.88778966, 0.8849542 ])"
      ]
     },
     "execution_count": 61,
     "metadata": {},
     "output_type": "execute_result"
    }
   ],
   "source": [
    "rf_best_cv_results = cross_validate(rf_grid_cv.best_estimator_, X_train, y_train, cv=5)\n",
    "rf_best_scores = rf_best_cv_results['test_score']\n",
    "rf_best_scores"
   ]
  },
  {
   "cell_type": "code",
   "execution_count": 62,
   "metadata": {},
   "outputs": [
    {
     "data": {
      "text/plain": [
       "(0.8878163317960182, 0.0031444912701546045)"
      ]
     },
     "execution_count": 62,
     "metadata": {},
     "output_type": "execute_result"
    }
   ],
   "source": [
    "np.mean(rf_best_scores), np.std(rf_best_scores)"
   ]
  },
  {
   "cell_type": "code",
   "execution_count": 90,
   "metadata": {},
   "outputs": [
    {
     "data": {
      "text/plain": [
       "Complex Problem Solving              0.408544\n",
       "Critical Thinking                    0.127514\n",
       "Management of Financial Resources    0.049370\n",
       "Science                              0.047853\n",
       "Systems Analysis                     0.031737\n",
       "Monitoring                           0.026011\n",
       "Systems Evaluation                   0.020215\n",
       "Operations Analysis                  0.018728\n",
       "Social Perceptiveness                0.015938\n",
       "C_CA                                 0.013655\n",
       "Reading Comprehension                0.012808\n",
       "Mathematics                          0.012798\n",
       "Operations Monitoring                0.011583\n",
       "Service Orientation                  0.010476\n",
       "Coordination                         0.010421\n",
       "dtype: float64"
      ]
     },
     "execution_count": 90,
     "metadata": {},
     "output_type": "execute_result"
    }
   ],
   "source": [
    "coefs = rf_grid_cv.best_estimator_.named_steps.randomforestregressor.feature_importances_\n",
    "features = X_train.columns\n",
    "most_important = pd.Series(coefs, index=features).sort_values(ascending=False)\n",
    "most_important[:15]"
   ]
  },
  {
   "cell_type": "code",
   "execution_count": 91,
   "metadata": {},
   "outputs": [
    {
     "data": {
      "image/png": "[encoded data removed]",
      "text/plain": [
       "<Figure size 1440x504 with 1 Axes>"
      ]
     },
     "metadata": {
      "needs_background": "light"
     },
     "output_type": "display_data"
    }
   ],
   "source": [
    "plt.subplots(figsize=(20, 7))\n",
    "rf_feat_imps = pd.Series(coefs, index=X_train.columns).sort_values(ascending=False)\n",
    "rf_feat_imps.plot(kind='bar')\n",
    "plt.xlabel('features')\n",
    "plt.ylabel('importance')\n",
    "plt.title('Best random forest regressor feature importances');"
   ]
  },
  {
   "cell_type": "code",
   "execution_count": 92,
   "metadata": {},
   "outputs": [],
   "source": [
    "best_model = rf_grid_cv.best_estimator_\n",
    "best_model.version = '1.0'\n",
    "best_model.pandas_version = pd.__version__\n",
    "best_model.numpy_version = np.__version__\n",
    "best_model.sklearn_version = sklearn_version\n",
    "best_model.X_columns = [col for col in X_train.columns]\n",
    "best_model.build_datetime = datetime.datetime.now()"
   ]
  },
  {
   "cell_type": "code",
   "execution_count": 104,
   "metadata": {},
   "outputs": [
    {
     "name": "stdout",
     "output_type": "stream",
     "text": [
      "0.8879258204606786\n"
     ]
    }
   ],
   "source": [
    "filename = '../models/skill_salary_model.sav'\n",
    "pickle.dump(best_model, open(filename, 'wb'))\n",
    "\n",
    "loaded_model = pickle.load(open(filename, 'rb'))\n",
    "result = loaded_model.score(X_test, y_test)\n",
    "print(result)"
   ]
  },
  {
   "cell_type": "code",
   "execution_count": null,
   "metadata": {},
   "outputs": [],
   "source": []
  }
 ],
 "metadata": {
  "kernelspec": {
   "display_name": "Python 3",
   "language": "python",
   "name": "python3"
  },
  "language_info": {
   "codemirror_mode": {
    "name": "ipython",
    "version": 3
   },
   "file_extension": ".py",
   "mimetype": "text/x-python",
   "name": "python",
   "nbconvert_exporter": "python",
   "pygments_lexer": "ipython3",
   "version": "3.8.5"
  }
 },
 "nbformat": 4,
 "nbformat_minor": 4
}
