{
 "cells": [
  {
   "cell_type": "code",
   "execution_count": 1,
   "metadata": {},
   "outputs": [],
   "source": [
    "import pandas as pd\n",
    "import numpy as np\n",
    "import os\n",
    "import matplotlib.pyplot as plt\n",
    "import seaborn as sns\n",
    "\n",
    "from sklearn import __version__ as sklearn_version\n",
    "from sklearn.decomposition import PCA\n",
    "from sklearn.model_selection import train_test_split, cross_validate, GridSearchCV, learning_curve\n",
    "from sklearn.linear_model import LinearRegression\n",
    "from sklearn.dummy import DummyRegressor\n",
    "from sklearn.ensemble import RandomForestRegressor\n",
    "from sklearn.metrics import r2_score, mean_squared_error, mean_absolute_error\n",
    "from sklearn.pipeline import make_pipeline\n",
    "from sklearn.impute import SimpleImputer\n",
    "from sklearn.feature_selection import SelectKBest, f_regression\n",
    "from sklearn.cluster import KMeans\n",
    "\n",
    "import datetime"
   ]
  },
  {
   "cell_type": "code",
   "execution_count": 2,
   "metadata": {},
   "outputs": [
    {
     "data": {
      "text/html": [
       "<div>\n",
       "<style scoped>\n",
       "    .dataframe tbody tr th:only-of-type {\n",
       "        vertical-align: middle;\n",
       "    }\n",
       "\n",
       "    .dataframe tbody tr th {\n",
       "        vertical-align: top;\n",
       "    }\n",
       "\n",
       "    .dataframe thead th {\n",
       "        text-align: right;\n",
       "    }\n",
       "</style>\n",
       "<table border=\"1\" class=\"dataframe\">\n",
       "  <thead>\n",
       "    <tr style=\"text-align: right;\">\n",
       "      <th></th>\n",
       "      <th>Unnamed: 0</th>\n",
       "      <th>occupation</th>\n",
       "      <th>skill</th>\n",
       "      <th>importance</th>\n",
       "      <th>location</th>\n",
       "      <th>state</th>\n",
       "      <th>salary</th>\n",
       "    </tr>\n",
       "  </thead>\n",
       "  <tbody>\n",
       "    <tr>\n",
       "      <th>0</th>\n",
       "      <td>0</td>\n",
       "      <td>Chief Executives</td>\n",
       "      <td>Reading Comprehension</td>\n",
       "      <td>4.12</td>\n",
       "      <td>Aguadilla-Isabela</td>\n",
       "      <td>PR</td>\n",
       "      <td>92200.0</td>\n",
       "    </tr>\n",
       "    <tr>\n",
       "      <th>1</th>\n",
       "      <td>1</td>\n",
       "      <td>Chief Executives</td>\n",
       "      <td>Reading Comprehension</td>\n",
       "      <td>4.12</td>\n",
       "      <td>Akron</td>\n",
       "      <td>OH</td>\n",
       "      <td>204420.0</td>\n",
       "    </tr>\n",
       "    <tr>\n",
       "      <th>2</th>\n",
       "      <td>2</td>\n",
       "      <td>Chief Executives</td>\n",
       "      <td>Reading Comprehension</td>\n",
       "      <td>4.12</td>\n",
       "      <td>Albany</td>\n",
       "      <td>GA</td>\n",
       "      <td>121260.0</td>\n",
       "    </tr>\n",
       "    <tr>\n",
       "      <th>3</th>\n",
       "      <td>3</td>\n",
       "      <td>Chief Executives</td>\n",
       "      <td>Reading Comprehension</td>\n",
       "      <td>4.12</td>\n",
       "      <td>Albany-Schenectady-Troy</td>\n",
       "      <td>NY</td>\n",
       "      <td>155870.0</td>\n",
       "    </tr>\n",
       "    <tr>\n",
       "      <th>4</th>\n",
       "      <td>4</td>\n",
       "      <td>Chief Executives</td>\n",
       "      <td>Reading Comprehension</td>\n",
       "      <td>4.12</td>\n",
       "      <td>Allentown-Bethlehem-Easton</td>\n",
       "      <td>PA</td>\n",
       "      <td>215910.0</td>\n",
       "    </tr>\n",
       "  </tbody>\n",
       "</table>\n",
       "</div>"
      ],
      "text/plain": [
       "   Unnamed: 0        occupation                  skill  importance  \\\n",
       "0           0  Chief Executives  Reading Comprehension        4.12   \n",
       "1           1  Chief Executives  Reading Comprehension        4.12   \n",
       "2           2  Chief Executives  Reading Comprehension        4.12   \n",
       "3           3  Chief Executives  Reading Comprehension        4.12   \n",
       "4           4  Chief Executives  Reading Comprehension        4.12   \n",
       "\n",
       "                     location state    salary  \n",
       "0           Aguadilla-Isabela    PR   92200.0  \n",
       "1                       Akron    OH  204420.0  \n",
       "2                      Albany    GA  121260.0  \n",
       "3     Albany-Schenectady-Troy    NY  155870.0  \n",
       "4  Allentown-Bethlehem-Easton    PA  215910.0  "
      ]
     },
     "execution_count": 2,
     "metadata": {},
     "output_type": "execute_result"
    }
   ],
   "source": [
    "df = pd.read_csv('../data/interim/salary_skill_cleaned.csv')\n",
    "df.head()"
   ]
  },
  {
   "cell_type": "code",
   "execution_count": 3,
   "metadata": {},
   "outputs": [
    {
     "data": {
      "text/html": [
       "<div>\n",
       "<style scoped>\n",
       "    .dataframe tbody tr th:only-of-type {\n",
       "        vertical-align: middle;\n",
       "    }\n",
       "\n",
       "    .dataframe tbody tr th {\n",
       "        vertical-align: top;\n",
       "    }\n",
       "\n",
       "    .dataframe thead th {\n",
       "        text-align: right;\n",
       "    }\n",
       "</style>\n",
       "<table border=\"1\" class=\"dataframe\">\n",
       "  <thead>\n",
       "    <tr style=\"text-align: right;\">\n",
       "      <th>skill</th>\n",
       "      <th>occupation</th>\n",
       "      <th>location</th>\n",
       "      <th>salary</th>\n",
       "      <th>Active Learning</th>\n",
       "      <th>Active Listening</th>\n",
       "      <th>Complex Problem Solving</th>\n",
       "      <th>Coordination</th>\n",
       "      <th>Critical Thinking</th>\n",
       "      <th>Equipment Maintenance</th>\n",
       "      <th>Equipment Selection</th>\n",
       "      <th>...</th>\n",
       "      <th>Science</th>\n",
       "      <th>Service Orientation</th>\n",
       "      <th>Social Perceptiveness</th>\n",
       "      <th>Speaking</th>\n",
       "      <th>Systems Analysis</th>\n",
       "      <th>Systems Evaluation</th>\n",
       "      <th>Technology Design</th>\n",
       "      <th>Time Management</th>\n",
       "      <th>Troubleshooting</th>\n",
       "      <th>Writing</th>\n",
       "    </tr>\n",
       "  </thead>\n",
       "  <tbody>\n",
       "    <tr>\n",
       "      <th>0</th>\n",
       "      <td>Accountants and Auditors</td>\n",
       "      <td>Abilene</td>\n",
       "      <td>70550.0</td>\n",
       "      <td>3.31</td>\n",
       "      <td>3.94</td>\n",
       "      <td>3.44</td>\n",
       "      <td>3.06</td>\n",
       "      <td>3.88</td>\n",
       "      <td>1.0</td>\n",
       "      <td>1.0</td>\n",
       "      <td>...</td>\n",
       "      <td>1.88</td>\n",
       "      <td>3.0</td>\n",
       "      <td>3.06</td>\n",
       "      <td>3.81</td>\n",
       "      <td>3.19</td>\n",
       "      <td>2.94</td>\n",
       "      <td>1.75</td>\n",
       "      <td>3.25</td>\n",
       "      <td>1.12</td>\n",
       "      <td>3.75</td>\n",
       "    </tr>\n",
       "    <tr>\n",
       "      <th>1</th>\n",
       "      <td>Accountants and Auditors</td>\n",
       "      <td>Aguadilla-Isabela</td>\n",
       "      <td>29630.0</td>\n",
       "      <td>3.31</td>\n",
       "      <td>3.94</td>\n",
       "      <td>3.44</td>\n",
       "      <td>3.06</td>\n",
       "      <td>3.88</td>\n",
       "      <td>1.0</td>\n",
       "      <td>1.0</td>\n",
       "      <td>...</td>\n",
       "      <td>1.88</td>\n",
       "      <td>3.0</td>\n",
       "      <td>3.06</td>\n",
       "      <td>3.81</td>\n",
       "      <td>3.19</td>\n",
       "      <td>2.94</td>\n",
       "      <td>1.75</td>\n",
       "      <td>3.25</td>\n",
       "      <td>1.12</td>\n",
       "      <td>3.75</td>\n",
       "    </tr>\n",
       "    <tr>\n",
       "      <th>2</th>\n",
       "      <td>Accountants and Auditors</td>\n",
       "      <td>Akron</td>\n",
       "      <td>75550.0</td>\n",
       "      <td>3.31</td>\n",
       "      <td>3.94</td>\n",
       "      <td>3.44</td>\n",
       "      <td>3.06</td>\n",
       "      <td>3.88</td>\n",
       "      <td>1.0</td>\n",
       "      <td>1.0</td>\n",
       "      <td>...</td>\n",
       "      <td>1.88</td>\n",
       "      <td>3.0</td>\n",
       "      <td>3.06</td>\n",
       "      <td>3.81</td>\n",
       "      <td>3.19</td>\n",
       "      <td>2.94</td>\n",
       "      <td>1.75</td>\n",
       "      <td>3.25</td>\n",
       "      <td>1.12</td>\n",
       "      <td>3.75</td>\n",
       "    </tr>\n",
       "    <tr>\n",
       "      <th>3</th>\n",
       "      <td>Accountants and Auditors</td>\n",
       "      <td>Albany</td>\n",
       "      <td>63940.0</td>\n",
       "      <td>3.31</td>\n",
       "      <td>3.94</td>\n",
       "      <td>3.44</td>\n",
       "      <td>3.06</td>\n",
       "      <td>3.88</td>\n",
       "      <td>1.0</td>\n",
       "      <td>1.0</td>\n",
       "      <td>...</td>\n",
       "      <td>1.88</td>\n",
       "      <td>3.0</td>\n",
       "      <td>3.06</td>\n",
       "      <td>3.81</td>\n",
       "      <td>3.19</td>\n",
       "      <td>2.94</td>\n",
       "      <td>1.75</td>\n",
       "      <td>3.25</td>\n",
       "      <td>1.12</td>\n",
       "      <td>3.75</td>\n",
       "    </tr>\n",
       "    <tr>\n",
       "      <th>4</th>\n",
       "      <td>Accountants and Auditors</td>\n",
       "      <td>Albany</td>\n",
       "      <td>70280.0</td>\n",
       "      <td>3.31</td>\n",
       "      <td>3.94</td>\n",
       "      <td>3.44</td>\n",
       "      <td>3.06</td>\n",
       "      <td>3.88</td>\n",
       "      <td>1.0</td>\n",
       "      <td>1.0</td>\n",
       "      <td>...</td>\n",
       "      <td>1.88</td>\n",
       "      <td>3.0</td>\n",
       "      <td>3.06</td>\n",
       "      <td>3.81</td>\n",
       "      <td>3.19</td>\n",
       "      <td>2.94</td>\n",
       "      <td>1.75</td>\n",
       "      <td>3.25</td>\n",
       "      <td>1.12</td>\n",
       "      <td>3.75</td>\n",
       "    </tr>\n",
       "  </tbody>\n",
       "</table>\n",
       "<p>5 rows × 38 columns</p>\n",
       "</div>"
      ],
      "text/plain": [
       "skill                occupation           location   salary  Active Learning  \\\n",
       "0      Accountants and Auditors            Abilene  70550.0             3.31   \n",
       "1      Accountants and Auditors  Aguadilla-Isabela  29630.0             3.31   \n",
       "2      Accountants and Auditors              Akron  75550.0             3.31   \n",
       "3      Accountants and Auditors             Albany  63940.0             3.31   \n",
       "4      Accountants and Auditors             Albany  70280.0             3.31   \n",
       "\n",
       "skill  Active Listening  Complex Problem Solving  Coordination  \\\n",
       "0                  3.94                     3.44          3.06   \n",
       "1                  3.94                     3.44          3.06   \n",
       "2                  3.94                     3.44          3.06   \n",
       "3                  3.94                     3.44          3.06   \n",
       "4                  3.94                     3.44          3.06   \n",
       "\n",
       "skill  Critical Thinking  Equipment Maintenance  Equipment Selection  ...  \\\n",
       "0                   3.88                    1.0                  1.0  ...   \n",
       "1                   3.88                    1.0                  1.0  ...   \n",
       "2                   3.88                    1.0                  1.0  ...   \n",
       "3                   3.88                    1.0                  1.0  ...   \n",
       "4                   3.88                    1.0                  1.0  ...   \n",
       "\n",
       "skill  Science  Service Orientation  Social Perceptiveness  Speaking  \\\n",
       "0         1.88                  3.0                   3.06      3.81   \n",
       "1         1.88                  3.0                   3.06      3.81   \n",
       "2         1.88                  3.0                   3.06      3.81   \n",
       "3         1.88                  3.0                   3.06      3.81   \n",
       "4         1.88                  3.0                   3.06      3.81   \n",
       "\n",
       "skill  Systems Analysis  Systems Evaluation  Technology Design  \\\n",
       "0                  3.19                2.94               1.75   \n",
       "1                  3.19                2.94               1.75   \n",
       "2                  3.19                2.94               1.75   \n",
       "3                  3.19                2.94               1.75   \n",
       "4                  3.19                2.94               1.75   \n",
       "\n",
       "skill  Time Management  Troubleshooting  Writing  \n",
       "0                 3.25             1.12     3.75  \n",
       "1                 3.25             1.12     3.75  \n",
       "2                 3.25             1.12     3.75  \n",
       "3                 3.25             1.12     3.75  \n",
       "4                 3.25             1.12     3.75  \n",
       "\n",
       "[5 rows x 38 columns]"
      ]
     },
     "execution_count": 3,
     "metadata": {},
     "output_type": "execute_result"
    }
   ],
   "source": [
    "skills = df.pivot_table(values='importance',index=['occupation', 'location', 'salary'],columns='skill').reset_index()\n",
    "skills.head()"
   ]
  },
  {
   "cell_type": "code",
   "execution_count": 4,
   "metadata": {},
   "outputs": [],
   "source": [
    "#skills = skills.groupby('occupation').mean()\n",
    "#skills['salary'] = skills['salary'].round()\n",
    "#skills.head()"
   ]
  },
  {
   "cell_type": "code",
   "execution_count": 5,
   "metadata": {},
   "outputs": [
    {
     "data": {
      "text/plain": [
       "(136400, 38)"
      ]
     },
     "execution_count": 5,
     "metadata": {},
     "output_type": "execute_result"
    }
   ],
   "source": [
    "skills.shape"
   ]
  },
  {
   "cell_type": "code",
   "execution_count": 6,
   "metadata": {},
   "outputs": [
    {
     "data": {
      "text/plain": [
       "Index(['salary', 'Active Learning', 'Active Listening',\n",
       "       'Complex Problem Solving', 'Coordination', 'Critical Thinking',\n",
       "       'Instructing', 'Judgment and Decision Making', 'Learning Strategies',\n",
       "       'Management of Financial Resources', 'Management of Material Resources',\n",
       "       'Management of Personnel Resources', 'Mathematics', 'Monitoring',\n",
       "       'Negotiation', 'Operation and Control', 'Operations Analysis',\n",
       "       'Operations Monitoring', 'Persuasion', 'Programming',\n",
       "       'Quality Control Analysis', 'Reading Comprehension', 'Science',\n",
       "       'Service Orientation', 'Social Perceptiveness', 'Speaking',\n",
       "       'Systems Analysis', 'Systems Evaluation', 'Technology Design',\n",
       "       'Time Management', 'Troubleshooting', 'Writing'],\n",
       "      dtype='object', name='skill')"
      ]
     },
     "execution_count": 6,
     "metadata": {},
     "output_type": "execute_result"
    }
   ],
   "source": [
    "# Drop Installation, Equipment Selection, Equipment Maintenance, and Repairing (from EDA)\n",
    "skills.drop(columns=['location','Installation', 'Equipment Selection', 'Equipment Maintenance', 'Repairing'], inplace=True)\n",
    "skills.set_index('occupation', inplace=True)\n",
    "skills.columns"
   ]
  },
  {
   "cell_type": "code",
   "execution_count": 7,
   "metadata": {},
   "outputs": [
    {
     "data": {
      "text/plain": [
       "(136400, 32)"
      ]
     },
     "execution_count": 7,
     "metadata": {},
     "output_type": "execute_result"
    }
   ],
   "source": [
    "skills.shape"
   ]
  },
  {
   "cell_type": "markdown",
   "metadata": {},
   "source": [
    "# Train/Test Split"
   ]
  },
  {
   "cell_type": "code",
   "execution_count": 8,
   "metadata": {},
   "outputs": [
    {
     "data": {
      "text/plain": [
       "(95480.0, 40920.0)"
      ]
     },
     "execution_count": 8,
     "metadata": {},
     "output_type": "execute_result"
    }
   ],
   "source": [
    "len(skills) * .7, len(skills) * .3"
   ]
  },
  {
   "cell_type": "code",
   "execution_count": 9,
   "metadata": {},
   "outputs": [],
   "source": [
    "X_train, X_test, y_train, y_test = train_test_split(skills.drop(columns='salary'), \n",
    "                                                    skills.salary, test_size=0.3, \n",
    "                                                    random_state=47)"
   ]
  },
  {
   "cell_type": "code",
   "execution_count": 10,
   "metadata": {},
   "outputs": [
    {
     "data": {
      "text/plain": [
       "((95480, 31), (40920, 31))"
      ]
     },
     "execution_count": 10,
     "metadata": {},
     "output_type": "execute_result"
    }
   ],
   "source": [
    "X_train.shape, X_test.shape"
   ]
  },
  {
   "cell_type": "code",
   "execution_count": 11,
   "metadata": {},
   "outputs": [
    {
     "data": {
      "text/plain": [
       "((95480,), (40920,))"
      ]
     },
     "execution_count": 11,
     "metadata": {},
     "output_type": "execute_result"
    }
   ],
   "source": [
    "y_train.shape, y_test.shape"
   ]
  },
  {
   "cell_type": "code",
   "execution_count": 12,
   "metadata": {},
   "outputs": [
    {
     "data": {
      "text/plain": [
       "skill\n",
       "Active Learning                      float64\n",
       "Active Listening                     float64\n",
       "Complex Problem Solving              float64\n",
       "Coordination                         float64\n",
       "Critical Thinking                    float64\n",
       "Instructing                          float64\n",
       "Judgment and Decision Making         float64\n",
       "Learning Strategies                  float64\n",
       "Management of Financial Resources    float64\n",
       "Management of Material Resources     float64\n",
       "Management of Personnel Resources    float64\n",
       "Mathematics                          float64\n",
       "Monitoring                           float64\n",
       "Negotiation                          float64\n",
       "Operation and Control                float64\n",
       "Operations Analysis                  float64\n",
       "Operations Monitoring                float64\n",
       "Persuasion                           float64\n",
       "Programming                          float64\n",
       "Quality Control Analysis             float64\n",
       "Reading Comprehension                float64\n",
       "Science                              float64\n",
       "Service Orientation                  float64\n",
       "Social Perceptiveness                float64\n",
       "Speaking                             float64\n",
       "Systems Analysis                     float64\n",
       "Systems Evaluation                   float64\n",
       "Technology Design                    float64\n",
       "Time Management                      float64\n",
       "Troubleshooting                      float64\n",
       "Writing                              float64\n",
       "dtype: object"
      ]
     },
     "execution_count": 12,
     "metadata": {},
     "output_type": "execute_result"
    }
   ],
   "source": [
    "X_train.dtypes"
   ]
  },
  {
   "cell_type": "code",
   "execution_count": 13,
   "metadata": {},
   "outputs": [
    {
     "data": {
      "text/plain": [
       "skill\n",
       "Active Learning                      float64\n",
       "Active Listening                     float64\n",
       "Complex Problem Solving              float64\n",
       "Coordination                         float64\n",
       "Critical Thinking                    float64\n",
       "Instructing                          float64\n",
       "Judgment and Decision Making         float64\n",
       "Learning Strategies                  float64\n",
       "Management of Financial Resources    float64\n",
       "Management of Material Resources     float64\n",
       "Management of Personnel Resources    float64\n",
       "Mathematics                          float64\n",
       "Monitoring                           float64\n",
       "Negotiation                          float64\n",
       "Operation and Control                float64\n",
       "Operations Analysis                  float64\n",
       "Operations Monitoring                float64\n",
       "Persuasion                           float64\n",
       "Programming                          float64\n",
       "Quality Control Analysis             float64\n",
       "Reading Comprehension                float64\n",
       "Science                              float64\n",
       "Service Orientation                  float64\n",
       "Social Perceptiveness                float64\n",
       "Speaking                             float64\n",
       "Systems Analysis                     float64\n",
       "Systems Evaluation                   float64\n",
       "Technology Design                    float64\n",
       "Time Management                      float64\n",
       "Troubleshooting                      float64\n",
       "Writing                              float64\n",
       "dtype: object"
      ]
     },
     "execution_count": 13,
     "metadata": {},
     "output_type": "execute_result"
    }
   ],
   "source": [
    "X_test.dtypes"
   ]
  },
  {
   "cell_type": "markdown",
   "metadata": {},
   "source": [
    "# Baseline Model"
   ]
  },
  {
   "cell_type": "code",
   "execution_count": 14,
   "metadata": {},
   "outputs": [
    {
     "data": {
      "text/plain": [
       "array([[61026.75408463]])"
      ]
     },
     "execution_count": 14,
     "metadata": {},
     "output_type": "execute_result"
    }
   ],
   "source": [
    "# Use the mean as a baseline model\n",
    "dumb_reg = DummyRegressor(strategy='mean')\n",
    "dumb_reg.fit(X_train, y_train)\n",
    "dumb_reg.constant_"
   ]
  },
  {
   "cell_type": "code",
   "execution_count": 15,
   "metadata": {},
   "outputs": [],
   "source": [
    "# Predictions, train and test\n",
    "y_tr_pred = dumb_reg.predict(X_train)\n",
    "y_te_pred = dumb_reg.predict(X_test)"
   ]
  },
  {
   "cell_type": "code",
   "execution_count": 16,
   "metadata": {},
   "outputs": [
    {
     "data": {
      "text/plain": [
       "(0.0, -3.216802713090772e-08)"
      ]
     },
     "execution_count": 16,
     "metadata": {},
     "output_type": "execute_result"
    }
   ],
   "source": [
    "# R_squared error\n",
    "r2_score(y_train, y_tr_pred), r2_score(y_test, y_te_pred)"
   ]
  },
  {
   "cell_type": "code",
   "execution_count": 17,
   "metadata": {},
   "outputs": [
    {
     "data": {
      "text/plain": [
       "(24533.935816246674, 24364.485698314547)"
      ]
     },
     "execution_count": 17,
     "metadata": {},
     "output_type": "execute_result"
    }
   ],
   "source": [
    "# MAE, train and test\n",
    "mean_absolute_error(y_train, y_tr_pred), mean_absolute_error(y_test, y_te_pred)"
   ]
  },
  {
   "cell_type": "code",
   "execution_count": 18,
   "metadata": {},
   "outputs": [
    {
     "data": {
      "text/plain": [
       "(1072480617.7045026, 1062808234.5288912)"
      ]
     },
     "execution_count": 18,
     "metadata": {},
     "output_type": "execute_result"
    }
   ],
   "source": [
    "# MSE, train and test\n",
    "mean_squared_error(y_train, y_tr_pred), mean_squared_error(y_test, y_te_pred)"
   ]
  },
  {
   "cell_type": "markdown",
   "metadata": {},
   "source": [
    "# Linear Regression"
   ]
  },
  {
   "cell_type": "code",
   "execution_count": 19,
   "metadata": {},
   "outputs": [],
   "source": [
    "# Linear Regression\n",
    "lm = LinearRegression().fit(X_train, y_train)"
   ]
  },
  {
   "cell_type": "code",
   "execution_count": 20,
   "metadata": {},
   "outputs": [],
   "source": [
    "# Predictions, train and test\n",
    "y_tr_pred = lm.predict(X_train)\n",
    "y_te_pred = lm.predict(X_test)"
   ]
  },
  {
   "cell_type": "code",
   "execution_count": 21,
   "metadata": {},
   "outputs": [
    {
     "data": {
      "text/plain": [
       "(0.5768095484135022, 0.5849122676769242)"
      ]
     },
     "execution_count": 21,
     "metadata": {},
     "output_type": "execute_result"
    }
   ],
   "source": [
    "# R_squared error\n",
    "r2_score(y_train, y_tr_pred), r2_score(y_test, y_te_pred)"
   ]
  },
  {
   "cell_type": "code",
   "execution_count": 22,
   "metadata": {},
   "outputs": [
    {
     "data": {
      "text/plain": [
       "(14826.680389162088, 14654.471828288393)"
      ]
     },
     "execution_count": 22,
     "metadata": {},
     "output_type": "execute_result"
    }
   ],
   "source": [
    "# MAE, train and test\n",
    "mean_absolute_error(y_train, y_tr_pred), mean_absolute_error(y_test, y_te_pred)"
   ]
  },
  {
   "cell_type": "code",
   "execution_count": 23,
   "metadata": {},
   "outputs": [
    {
     "data": {
      "text/plain": [
       "(453863556.92413455, 441158645.7736859)"
      ]
     },
     "execution_count": 23,
     "metadata": {},
     "output_type": "execute_result"
    }
   ],
   "source": [
    "# MSE, train and test\n",
    "mean_squared_error(y_train, y_tr_pred), mean_squared_error(y_test, y_te_pred)"
   ]
  },
  {
   "cell_type": "markdown",
   "metadata": {},
   "source": [
    "# Pipeline"
   ]
  },
  {
   "cell_type": "code",
   "execution_count": 24,
   "metadata": {},
   "outputs": [],
   "source": [
    "pipeline = make_pipeline(SelectKBest(f_regression), LinearRegression())"
   ]
  },
  {
   "cell_type": "code",
   "execution_count": 25,
   "metadata": {},
   "outputs": [
    {
     "data": {
      "text/plain": [
       "Pipeline(steps=[('selectkbest',\n",
       "                 SelectKBest(score_func=<function f_regression at 0x0000027DC0679790>)),\n",
       "                ('linearregression', LinearRegression())])"
      ]
     },
     "execution_count": 25,
     "metadata": {},
     "output_type": "execute_result"
    }
   ],
   "source": [
    "pipeline.fit(X_train, y_train)"
   ]
  },
  {
   "cell_type": "code",
   "execution_count": 26,
   "metadata": {},
   "outputs": [],
   "source": [
    "y_tr_pred = pipeline.predict(X_train)\n",
    "y_te_pred = pipeline.predict(X_test)"
   ]
  },
  {
   "cell_type": "code",
   "execution_count": 27,
   "metadata": {},
   "outputs": [
    {
     "data": {
      "text/plain": [
       "(0.5078524287934757, 0.5130195936060382)"
      ]
     },
     "execution_count": 27,
     "metadata": {},
     "output_type": "execute_result"
    }
   ],
   "source": [
    "r2_score(y_train, y_tr_pred), r2_score(y_test, y_te_pred)"
   ]
  },
  {
   "cell_type": "code",
   "execution_count": 28,
   "metadata": {},
   "outputs": [
    {
     "data": {
      "text/plain": [
       "(15764.672502052788, 15600.375368794907)"
      ]
     },
     "execution_count": 28,
     "metadata": {},
     "output_type": "execute_result"
    }
   ],
   "source": [
    "mean_absolute_error(y_train, y_tr_pred), mean_absolute_error(y_test, y_te_pred)"
   ]
  },
  {
   "cell_type": "code",
   "execution_count": 29,
   "metadata": {},
   "outputs": [
    {
     "data": {
      "text/plain": [
       "(527818731.1693439, 517566769.3206267)"
      ]
     },
     "execution_count": 29,
     "metadata": {},
     "output_type": "execute_result"
    }
   ],
   "source": [
    "mean_squared_error(y_train, y_tr_pred), mean_squared_error(y_test, y_te_pred)"
   ]
  },
  {
   "cell_type": "code",
   "execution_count": 30,
   "metadata": {},
   "outputs": [
    {
     "data": {
      "text/plain": [
       "dict_keys(['memory', 'steps', 'verbose', 'selectkbest', 'linearregression', 'selectkbest__k', 'selectkbest__score_func', 'linearregression__copy_X', 'linearregression__fit_intercept', 'linearregression__n_jobs', 'linearregression__normalize'])"
      ]
     },
     "execution_count": 30,
     "metadata": {},
     "output_type": "execute_result"
    }
   ],
   "source": [
    "pipeline.get_params().keys()"
   ]
  },
  {
   "cell_type": "markdown",
   "metadata": {},
   "source": [
    "# Cross Validation"
   ]
  },
  {
   "cell_type": "code",
   "execution_count": 31,
   "metadata": {},
   "outputs": [],
   "source": [
    "k = [k+1 for k in range(len(X_train.columns))]\n",
    "grid_params = {'selectkbest__k': k}"
   ]
  },
  {
   "cell_type": "code",
   "execution_count": 32,
   "metadata": {},
   "outputs": [],
   "source": [
    "lr_grid_cv = GridSearchCV(pipeline, param_grid=grid_params, cv=5, n_jobs=-1)"
   ]
  },
  {
   "cell_type": "code",
   "execution_count": 33,
   "metadata": {},
   "outputs": [
    {
     "data": {
      "text/plain": [
       "GridSearchCV(cv=5,\n",
       "             estimator=Pipeline(steps=[('selectkbest',\n",
       "                                        SelectKBest(score_func=<function f_regression at 0x0000027DC0679790>)),\n",
       "                                       ('linearregression',\n",
       "                                        LinearRegression())]),\n",
       "             n_jobs=-1,\n",
       "             param_grid={'selectkbest__k': [1, 2, 3, 4, 5, 6, 7, 8, 9, 10, 11,\n",
       "                                            12, 13, 14, 15, 16, 17, 18, 19, 20,\n",
       "                                            21, 22, 23, 24, 25, 26, 27, 28, 29,\n",
       "                                            30, ...]})"
      ]
     },
     "execution_count": 33,
     "metadata": {},
     "output_type": "execute_result"
    }
   ],
   "source": [
    "lr_grid_cv.fit(X_train, y_train)"
   ]
  },
  {
   "cell_type": "code",
   "execution_count": 34,
   "metadata": {},
   "outputs": [],
   "source": [
    "score_mean = lr_grid_cv.cv_results_['mean_test_score']\n",
    "score_std = lr_grid_cv.cv_results_['std_test_score']\n",
    "cv_k = [k for k in lr_grid_cv.cv_results_['param_selectkbest__k']]"
   ]
  },
  {
   "cell_type": "code",
   "execution_count": 35,
   "metadata": {},
   "outputs": [
    {
     "data": {
      "text/plain": [
       "{'selectkbest__k': 30}"
      ]
     },
     "execution_count": 35,
     "metadata": {},
     "output_type": "execute_result"
    }
   ],
   "source": [
    "lr_grid_cv.best_params_"
   ]
  },
  {
   "cell_type": "code",
   "execution_count": 36,
   "metadata": {},
   "outputs": [
    {
     "data": {
      "image/png": "[encoded data removed]",
      "text/plain": [
       "<Figure size 720x504 with 1 Axes>"
      ]
     },
     "metadata": {
      "needs_background": "light"
     },
     "output_type": "display_data"
    }
   ],
   "source": [
    "best_k = lr_grid_cv.best_params_['selectkbest__k']\n",
    "plt.subplots(figsize=(10, 7))\n",
    "plt.errorbar(cv_k, score_mean, yerr=score_std)\n",
    "plt.axvline(x=best_k, c='r', ls='--', alpha=.3)\n",
    "plt.xlabel('k')\n",
    "plt.ylabel('CV score (r-squared)')\n",
    "plt.title('Pipeline mean CV score (error bars +/- 1sd)');"
   ]
  },
  {
   "cell_type": "code",
   "execution_count": 37,
   "metadata": {},
   "outputs": [],
   "source": [
    "selected = lr_grid_cv.best_estimator_.named_steps.selectkbest.get_support()"
   ]
  },
  {
   "cell_type": "code",
   "execution_count": 38,
   "metadata": {},
   "outputs": [
    {
     "data": {
      "text/plain": [
       "skill\n",
       "Management of Financial Resources    17435.139942\n",
       "Judgment and Decision Making         14216.754796\n",
       "Persuasion                           13739.202693\n",
       "Critical Thinking                    11138.944552\n",
       "Science                              10948.870211\n",
       "Active Learning                      10331.643605\n",
       "Time Management                       9325.618494\n",
       "Reading Comprehension                 7346.724888\n",
       "Monitoring                            6774.436654\n",
       "Management of Personnel Resources     6226.131138\n",
       "Systems Evaluation                    4356.854234\n",
       "Speaking                              3836.187489\n",
       "Complex Problem Solving               2353.800975\n",
       "Operation and Control                  -89.673808\n",
       "Social Perceptiveness                 -165.499880\n",
       "Programming                           -397.142571\n",
       "Technology Design                     -618.979324\n",
       "Operations Analysis                   -721.649162\n",
       "Troubleshooting                       -903.535289\n",
       "Systems Analysis                     -1273.994167\n",
       "Mathematics                          -3603.334631\n",
       "Quality Control Analysis             -4531.908938\n",
       "Learning Strategies                  -5135.379046\n",
       "Writing                              -5167.256883\n",
       "Instructing                          -5632.302869\n",
       "Negotiation                          -8473.158514\n",
       "Management of Material Resources     -8714.706267\n",
       "Service Orientation                  -8966.468614\n",
       "Coordination                         -9136.069267\n",
       "Active Listening                    -11592.318031\n",
       "dtype: float64"
      ]
     },
     "execution_count": 38,
     "metadata": {},
     "output_type": "execute_result"
    }
   ],
   "source": [
    "coefs = lr_grid_cv.best_estimator_.named_steps.linearregression.coef_\n",
    "features = X_train.columns[selected]\n",
    "most_important = pd.Series(coefs, index=features).sort_values(ascending=False)\n",
    "most_important"
   ]
  },
  {
   "cell_type": "code",
   "execution_count": 39,
   "metadata": {},
   "outputs": [
    {
     "data": {
      "image/png": "[encoded data removed]",
      "text/plain": [
       "<Figure size 720x360 with 1 Axes>"
      ]
     },
     "metadata": {
      "needs_background": "light"
     },
     "output_type": "display_data"
    }
   ],
   "source": [
    "plt.subplots(figsize=(10, 5))\n",
    "most_important.plot(kind='bar')\n",
    "plt.xlabel('features')\n",
    "plt.ylabel('importance')\n",
    "plt.title('Feature importances');"
   ]
  },
  {
   "cell_type": "code",
   "execution_count": 40,
   "metadata": {},
   "outputs": [],
   "source": [
    "best_model = lr_grid_cv.best_estimator_\n",
    "best_model.version = '1.0'\n",
    "best_model.pandas_version = pd.__version__\n",
    "best_model.numpy_version = np.__version__\n",
    "best_model.sklearn_version = sklearn_version\n",
    "best_model.X_columns = [col for col in X_train.columns]\n",
    "best_model.build_datetime = datetime.datetime.now()"
   ]
  },
  {
   "cell_type": "code",
   "execution_count": null,
   "metadata": {},
   "outputs": [],
   "source": []
  }
 ],
 "metadata": {
  "kernelspec": {
   "display_name": "Python 3",
   "language": "python",
   "name": "python3"
  },
  "language_info": {
   "codemirror_mode": {
    "name": "ipython",
    "version": 3
   },
   "file_extension": ".py",
   "mimetype": "text/x-python",
   "name": "python",
   "nbconvert_exporter": "python",
   "pygments_lexer": "ipython3",
   "version": "3.8.5"
  }
 },
 "nbformat": 4,
 "nbformat_minor": 4
}
