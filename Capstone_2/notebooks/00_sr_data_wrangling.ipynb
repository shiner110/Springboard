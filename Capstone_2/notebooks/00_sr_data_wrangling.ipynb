{
 "cells": [
  {
   "cell_type": "code",
   "execution_count": 1,
   "metadata": {},
   "outputs": [],
   "source": [
    "import pandas as pd\n",
    "import numpy as np\n",
    "import matplotlib.pyplot as plt\n",
    "import seaborn as sns\n",
    "\n",
    "import pandas_profiling\n",
    "from pandas_profiling.utils.cache import cache_file"
   ]
  },
  {
   "cell_type": "markdown",
   "metadata": {},
   "source": [
    "# 1. BLS Salary Data"
   ]
  },
  {
   "cell_type": "code",
   "execution_count": 2,
   "metadata": {},
   "outputs": [],
   "source": [
    "# Import salary information for occupations for all areas into a dataframe\n",
    "salary_df = pd.read_excel('../data/raw/MSA_M2020_dl.xlsx', sheet_name = 'MSA_M2020_dl')"
   ]
  },
  {
   "cell_type": "markdown",
   "metadata": {},
   "source": [
    "## 1.1 Explore Salary Data"
   ]
  },
  {
   "cell_type": "code",
   "execution_count": 3,
   "metadata": {},
   "outputs": [
    {
     "data": {
      "text/html": [
       "<div>\n",
       "<style scoped>\n",
       "    .dataframe tbody tr th:only-of-type {\n",
       "        vertical-align: middle;\n",
       "    }\n",
       "\n",
       "    .dataframe tbody tr th {\n",
       "        vertical-align: top;\n",
       "    }\n",
       "\n",
       "    .dataframe thead th {\n",
       "        text-align: right;\n",
       "    }\n",
       "</style>\n",
       "<table border=\"1\" class=\"dataframe\">\n",
       "  <thead>\n",
       "    <tr style=\"text-align: right;\">\n",
       "      <th></th>\n",
       "      <th>AREA</th>\n",
       "      <th>AREA_TITLE</th>\n",
       "      <th>AREA_TYPE</th>\n",
       "      <th>PRIM_STATE</th>\n",
       "      <th>NAICS</th>\n",
       "      <th>NAICS_TITLE</th>\n",
       "      <th>I_GROUP</th>\n",
       "      <th>OWN_CODE</th>\n",
       "      <th>OCC_CODE</th>\n",
       "      <th>OCC_TITLE</th>\n",
       "      <th>...</th>\n",
       "      <th>H_MEDIAN</th>\n",
       "      <th>H_PCT75</th>\n",
       "      <th>H_PCT90</th>\n",
       "      <th>A_PCT10</th>\n",
       "      <th>A_PCT25</th>\n",
       "      <th>A_MEDIAN</th>\n",
       "      <th>A_PCT75</th>\n",
       "      <th>A_PCT90</th>\n",
       "      <th>ANNUAL</th>\n",
       "      <th>HOURLY</th>\n",
       "    </tr>\n",
       "  </thead>\n",
       "  <tbody>\n",
       "    <tr>\n",
       "      <th>0</th>\n",
       "      <td>10180</td>\n",
       "      <td>Abilene, TX</td>\n",
       "      <td>4</td>\n",
       "      <td>TX</td>\n",
       "      <td>0</td>\n",
       "      <td>Cross-industry</td>\n",
       "      <td>cross-industry</td>\n",
       "      <td>1235</td>\n",
       "      <td>00-0000</td>\n",
       "      <td>All Occupations</td>\n",
       "      <td>...</td>\n",
       "      <td>16.41</td>\n",
       "      <td>24.82</td>\n",
       "      <td>36.23</td>\n",
       "      <td>18990</td>\n",
       "      <td>23710</td>\n",
       "      <td>34130</td>\n",
       "      <td>51620</td>\n",
       "      <td>75370</td>\n",
       "      <td>NaN</td>\n",
       "      <td>NaN</td>\n",
       "    </tr>\n",
       "    <tr>\n",
       "      <th>1</th>\n",
       "      <td>10180</td>\n",
       "      <td>Abilene, TX</td>\n",
       "      <td>4</td>\n",
       "      <td>TX</td>\n",
       "      <td>0</td>\n",
       "      <td>Cross-industry</td>\n",
       "      <td>cross-industry</td>\n",
       "      <td>1235</td>\n",
       "      <td>11-0000</td>\n",
       "      <td>Management Occupations</td>\n",
       "      <td>...</td>\n",
       "      <td>36.37</td>\n",
       "      <td>51.68</td>\n",
       "      <td>73.88</td>\n",
       "      <td>36150</td>\n",
       "      <td>55620</td>\n",
       "      <td>75640</td>\n",
       "      <td>107500</td>\n",
       "      <td>153670</td>\n",
       "      <td>NaN</td>\n",
       "      <td>NaN</td>\n",
       "    </tr>\n",
       "    <tr>\n",
       "      <th>2</th>\n",
       "      <td>10180</td>\n",
       "      <td>Abilene, TX</td>\n",
       "      <td>4</td>\n",
       "      <td>TX</td>\n",
       "      <td>0</td>\n",
       "      <td>Cross-industry</td>\n",
       "      <td>cross-industry</td>\n",
       "      <td>1235</td>\n",
       "      <td>11-1021</td>\n",
       "      <td>General and Operations Managers</td>\n",
       "      <td>...</td>\n",
       "      <td>32.96</td>\n",
       "      <td>50.11</td>\n",
       "      <td>72.93</td>\n",
       "      <td>26350</td>\n",
       "      <td>49960</td>\n",
       "      <td>68550</td>\n",
       "      <td>104230</td>\n",
       "      <td>151700</td>\n",
       "      <td>NaN</td>\n",
       "      <td>NaN</td>\n",
       "    </tr>\n",
       "    <tr>\n",
       "      <th>3</th>\n",
       "      <td>10180</td>\n",
       "      <td>Abilene, TX</td>\n",
       "      <td>4</td>\n",
       "      <td>TX</td>\n",
       "      <td>0</td>\n",
       "      <td>Cross-industry</td>\n",
       "      <td>cross-industry</td>\n",
       "      <td>1235</td>\n",
       "      <td>11-2022</td>\n",
       "      <td>Sales Managers</td>\n",
       "      <td>...</td>\n",
       "      <td>52.41</td>\n",
       "      <td>68.01</td>\n",
       "      <td>#</td>\n",
       "      <td>54560</td>\n",
       "      <td>74680</td>\n",
       "      <td>109000</td>\n",
       "      <td>141460</td>\n",
       "      <td>#</td>\n",
       "      <td>NaN</td>\n",
       "      <td>NaN</td>\n",
       "    </tr>\n",
       "    <tr>\n",
       "      <th>4</th>\n",
       "      <td>10180</td>\n",
       "      <td>Abilene, TX</td>\n",
       "      <td>4</td>\n",
       "      <td>TX</td>\n",
       "      <td>0</td>\n",
       "      <td>Cross-industry</td>\n",
       "      <td>cross-industry</td>\n",
       "      <td>1235</td>\n",
       "      <td>11-2030</td>\n",
       "      <td>Public Relations and Fundraising Managers</td>\n",
       "      <td>...</td>\n",
       "      <td>36.24</td>\n",
       "      <td>41.23</td>\n",
       "      <td>83.81</td>\n",
       "      <td>59710</td>\n",
       "      <td>68180</td>\n",
       "      <td>75380</td>\n",
       "      <td>85760</td>\n",
       "      <td>174320</td>\n",
       "      <td>NaN</td>\n",
       "      <td>NaN</td>\n",
       "    </tr>\n",
       "  </tbody>\n",
       "</table>\n",
       "<p>5 rows × 31 columns</p>\n",
       "</div>"
      ],
      "text/plain": [
       "    AREA   AREA_TITLE  AREA_TYPE PRIM_STATE  NAICS     NAICS_TITLE  \\\n",
       "0  10180  Abilene, TX          4         TX      0  Cross-industry   \n",
       "1  10180  Abilene, TX          4         TX      0  Cross-industry   \n",
       "2  10180  Abilene, TX          4         TX      0  Cross-industry   \n",
       "3  10180  Abilene, TX          4         TX      0  Cross-industry   \n",
       "4  10180  Abilene, TX          4         TX      0  Cross-industry   \n",
       "\n",
       "          I_GROUP  OWN_CODE OCC_CODE  \\\n",
       "0  cross-industry      1235  00-0000   \n",
       "1  cross-industry      1235  11-0000   \n",
       "2  cross-industry      1235  11-1021   \n",
       "3  cross-industry      1235  11-2022   \n",
       "4  cross-industry      1235  11-2030   \n",
       "\n",
       "                                   OCC_TITLE  ... H_MEDIAN H_PCT75 H_PCT90  \\\n",
       "0                            All Occupations  ...    16.41   24.82   36.23   \n",
       "1                     Management Occupations  ...    36.37   51.68   73.88   \n",
       "2            General and Operations Managers  ...    32.96   50.11   72.93   \n",
       "3                             Sales Managers  ...    52.41   68.01       #   \n",
       "4  Public Relations and Fundraising Managers  ...    36.24   41.23   83.81   \n",
       "\n",
       "  A_PCT10 A_PCT25  A_MEDIAN A_PCT75 A_PCT90 ANNUAL HOURLY  \n",
       "0   18990   23710     34130   51620   75370    NaN    NaN  \n",
       "1   36150   55620     75640  107500  153670    NaN    NaN  \n",
       "2   26350   49960     68550  104230  151700    NaN    NaN  \n",
       "3   54560   74680    109000  141460       #    NaN    NaN  \n",
       "4   59710   68180     75380   85760  174320    NaN    NaN  \n",
       "\n",
       "[5 rows x 31 columns]"
      ]
     },
     "execution_count": 3,
     "metadata": {},
     "output_type": "execute_result"
    }
   ],
   "source": [
    "salary_df.head()"
   ]
  },
  {
   "cell_type": "code",
   "execution_count": 4,
   "metadata": {},
   "outputs": [
    {
     "name": "stdout",
     "output_type": "stream",
     "text": [
      "<class 'pandas.core.frame.DataFrame'>\n",
      "RangeIndex: 140051 entries, 0 to 140050\n",
      "Data columns (total 31 columns):\n",
      " #   Column        Non-Null Count   Dtype  \n",
      "---  ------        --------------   -----  \n",
      " 0   AREA          140051 non-null  int64  \n",
      " 1   AREA_TITLE    140051 non-null  object \n",
      " 2   AREA_TYPE     140051 non-null  int64  \n",
      " 3   PRIM_STATE    140051 non-null  object \n",
      " 4   NAICS         140051 non-null  int64  \n",
      " 5   NAICS_TITLE   140051 non-null  object \n",
      " 6   I_GROUP       140051 non-null  object \n",
      " 7   OWN_CODE      140051 non-null  int64  \n",
      " 8   OCC_CODE      140051 non-null  object \n",
      " 9   OCC_TITLE     140051 non-null  object \n",
      " 10  O_GROUP       140051 non-null  object \n",
      " 11  TOT_EMP       140051 non-null  object \n",
      " 12  EMP_PRSE      140051 non-null  object \n",
      " 13  JOBS_1000     140051 non-null  object \n",
      " 14  LOC_QUOTIENT  140051 non-null  object \n",
      " 15  PCT_TOTAL     0 non-null       float64\n",
      " 16  H_MEAN        140051 non-null  object \n",
      " 17  A_MEAN        140051 non-null  object \n",
      " 18  MEAN_PRSE     140051 non-null  object \n",
      " 19  H_PCT10       140051 non-null  object \n",
      " 20  H_PCT25       140051 non-null  object \n",
      " 21  H_MEDIAN      140051 non-null  object \n",
      " 22  H_PCT75       140051 non-null  object \n",
      " 23  H_PCT90       140051 non-null  object \n",
      " 24  A_PCT10       140051 non-null  object \n",
      " 25  A_PCT25       140051 non-null  object \n",
      " 26  A_MEDIAN      140051 non-null  object \n",
      " 27  A_PCT75       140051 non-null  object \n",
      " 28  A_PCT90       140051 non-null  object \n",
      " 29  ANNUAL        7199 non-null    object \n",
      " 30  HOURLY        215 non-null     object \n",
      "dtypes: float64(1), int64(4), object(26)\n",
      "memory usage: 33.1+ MB\n"
     ]
    }
   ],
   "source": [
    "salary_df.info()"
   ]
  },
  {
   "cell_type": "markdown",
   "metadata": {},
   "source": [
    "### 1.1.1 Preliminary Cleaning"
   ]
  },
  {
   "cell_type": "markdown",
   "metadata": {},
   "source": [
    "**Missing salary values for some occupations with wage equal to or greater than \\\\$208,000 a year**\n",
    "\n",
    "\\*  = indicates that a wage estimate is not available\t\n",
    "\\**  = indicates that an employment estimate is not available\t\n",
    "\\#  = indicates a wage equal to or greater than \\\\$100 per hour or $208,000 per year \t"
   ]
  },
  {
   "cell_type": "code",
   "execution_count": 5,
   "metadata": {},
   "outputs": [
    {
     "data": {
      "text/plain": [
       "array(['Surgeons, Except Ophthalmologists', 'Anesthesiologists',\n",
       "       'Physicians, All Other; and Ophthalmologists, Except Pediatric',\n",
       "       'Obstetricians and Gynecologists',\n",
       "       'General Internal Medicine Physicians',\n",
       "       'Agents and Business Managers of Artists, Performers, and Athletes',\n",
       "       'Dentists, General', 'Orthodontists', 'Psychiatrists',\n",
       "       'Dentists, All Other Specialists', 'Family Medicine Physicians',\n",
       "       'Oral and Maxillofacial Surgeons'], dtype=object)"
      ]
     },
     "execution_count": 5,
     "metadata": {},
     "output_type": "execute_result"
    }
   ],
   "source": [
    "# Occupations that make more than $208,000 a year/$100 an hour\n",
    "salary_df['OCC_TITLE'][(salary_df['H_MEAN']=='#') | (salary_df['A_MEAN']=='#')].unique()"
   ]
  },
  {
   "cell_type": "code",
   "execution_count": 6,
   "metadata": {},
   "outputs": [],
   "source": [
    "# Replace annual and hourly mean for these occupations with the corresponding value, or should it be min? \n",
    "salary_df.loc[salary_df['A_MEAN'] == '#', 'A_MEAN'] = 208000\n",
    "\n",
    "salary_df.loc[salary_df['H_MEAN'] == '#', 'H_MEAN'] = 100"
   ]
  },
  {
   "cell_type": "markdown",
   "metadata": {},
   "source": [
    "**Incorrect data types**\n",
    "\n",
    "From looking at the data and information about data types, there are several columns that have numerical values yet have non-numerical data types and must be converted to a numerica type."
   ]
  },
  {
   "cell_type": "code",
   "execution_count": 7,
   "metadata": {},
   "outputs": [
    {
     "data": {
      "text/plain": [
       "0         000000\n",
       "1         110000\n",
       "2         111021\n",
       "3         112022\n",
       "4         112030\n",
       "           ...  \n",
       "140046    537063\n",
       "140047    537064\n",
       "140048    537065\n",
       "140049    537081\n",
       "140050    537199\n",
       "Name: OCC_CODE, Length: 140051, dtype: object"
      ]
     },
     "execution_count": 7,
     "metadata": {},
     "output_type": "execute_result"
    }
   ],
   "source": [
    "# Remove dash from OCC_CODE before converting to numeric type\n",
    "salary_df['OCC_CODE'] = salary_df['OCC_CODE'].str.replace('-','')\n",
    "salary_df['OCC_CODE']"
   ]
  },
  {
   "cell_type": "code",
   "execution_count": 8,
   "metadata": {},
   "outputs": [
    {
     "data": {
      "text/plain": [
       "AREA              int64\n",
       "AREA_TITLE       object\n",
       "AREA_TYPE         int64\n",
       "PRIM_STATE       object\n",
       "NAICS             int64\n",
       "NAICS_TITLE      object\n",
       "I_GROUP          object\n",
       "OWN_CODE          int64\n",
       "OCC_CODE          int64\n",
       "OCC_TITLE        object\n",
       "O_GROUP          object\n",
       "TOT_EMP         float64\n",
       "EMP_PRSE        float64\n",
       "JOBS_1000       float64\n",
       "LOC_QUOTIENT    float64\n",
       "PCT_TOTAL       float64\n",
       "H_MEAN          float64\n",
       "A_MEAN          float64\n",
       "MEAN_PRSE       float64\n",
       "H_PCT10         float64\n",
       "H_PCT25         float64\n",
       "H_MEDIAN        float64\n",
       "H_PCT75         float64\n",
       "H_PCT90         float64\n",
       "A_PCT10         float64\n",
       "A_PCT25         float64\n",
       "A_MEDIAN        float64\n",
       "A_PCT75         float64\n",
       "A_PCT90         float64\n",
       "ANNUAL           object\n",
       "HOURLY           object\n",
       "dtype: object"
      ]
     },
     "execution_count": 8,
     "metadata": {},
     "output_type": "execute_result"
    }
   ],
   "source": [
    "# List of fields to convert to numeric type\n",
    "convert_to_float = ['OCC_CODE', 'TOT_EMP', 'EMP_PRSE', 'JOBS_1000', 'LOC_QUOTIENT', 'H_MEAN',\n",
    "        'A_MEAN','MEAN_PRSE', 'H_PCT10', 'H_PCT25', 'H_MEDIAN', 'H_PCT75',\n",
    "        'H_PCT90', 'A_PCT10', 'A_PCT25', 'A_MEDIAN', 'A_PCT75', 'A_PCT90']\n",
    "\n",
    "# Convert to numeric type\n",
    "salary_df[convert_to_float] = salary_df[convert_to_float].apply(pd.to_numeric, errors='coerce')\n",
    "salary_df.dtypes"
   ]
  },
  {
   "cell_type": "markdown",
   "metadata": {},
   "source": [
    "### 1.1.2 Salary data profile report"
   ]
  },
  {
   "cell_type": "code",
   "execution_count": 9,
   "metadata": {
    "scrolled": true
   },
   "outputs": [
    {
     "data": {
      "application/vnd.jupyter.widget-view+json": {
       "model_id": "9eb685fb28a645c193c80af7312afe4e",
       "version_major": 2,
       "version_minor": 0
      },
      "text/plain": [
       "HBox(children=(HTML(value='Summarize dataset'), FloatProgress(value=0.0, max=45.0), HTML(value='')))"
      ]
     },
     "metadata": {},
     "output_type": "display_data"
    },
    {
     "name": "stdout",
     "output_type": "stream",
     "text": [
      "\n"
     ]
    },
    {
     "data": {
      "application/vnd.jupyter.widget-view+json": {
       "model_id": "27f89cf4354f4c479f01d3076dd39629",
       "version_major": 2,
       "version_minor": 0
      },
      "text/plain": [
       "HBox(children=(HTML(value='Generate report structure'), FloatProgress(value=0.0, max=1.0), HTML(value='')))"
      ]
     },
     "metadata": {},
     "output_type": "display_data"
    },
    {
     "name": "stdout",
     "output_type": "stream",
     "text": [
      "\n"
     ]
    },
    {
     "data": {
      "application/vnd.jupyter.widget-view+json": {
       "model_id": "",
       "version_major": 2,
       "version_minor": 0
      },
      "text/plain": [
       "HBox(children=(HTML(value='Render widgets'), FloatProgress(value=0.0, max=1.0), HTML(value='')))"
      ]
     },
     "metadata": {},
     "output_type": "display_data"
    },
    {
     "data": {
      "application/vnd.jupyter.widget-view+json": {
       "model_id": "86a531c428e24d7288339120bc8b6fd7",
       "version_major": 2,
       "version_minor": 0
      },
      "text/plain": [
       "VBox(children=(Tab(children=(Tab(children=(GridBox(children=(VBox(children=(GridspecLayout(children=(HTML(valu…"
      ]
     },
     "metadata": {},
     "output_type": "display_data"
    }
   ],
   "source": [
    "# Run a profile roport\n",
    "profile_report = salary_df.profile_report(html={'style': {'full_width': True}})\n",
    "#profile_report.to_file(\"../reports/bls.html\")\n",
    "\n",
    "profile_report.to_widgets()"
   ]
  },
  {
   "cell_type": "markdown",
   "metadata": {},
   "source": [
    "**Drop columns not relevent to our problem statement**\n",
    "\n",
    "The unsupported column 'PCT_TOTAL' appears to only have null values, we will drop it. AREA_TYPE, NAICS, NAICS_TITLE, I_GROUP, and OWN_CODE each only contain a single value (constant) for all rows and don't give us any information on differenciating between the rows. So I'll drop those as well right away. \n",
    "\n",
    "HOURLY and ANNUAL are missing over 99 and 95 percent respectively.\n",
    "The fields HOURLY and ANNUL are defined as follows:\n",
    "\n",
    "    annual - Contains \"TRUE\" if only annual wages are released. The OEWS program releases only annual wages for some occupations that typically work fewer than 2,080 hours per year, but are paid on an annual basis, such as teachers, pilots, and athletes.\n",
    "\n",
    "    hourly - Contains \"TRUE\" if only hourly wages are released. The OEWS program releases only hourly wages for some occupations that typically work fewer than 2,080 hours per year and are paid on an hourly basis, such as actors, dancers, and musicians and singers.\n",
    "\n",
    "The HOURLY seems relevent to only a few occuptions (only 215, and less than 0.2 percent). ANNUAL has more values (7,199) yet it is still missing nearly 95 percent of it's values. 58 unique occupation titles have a non_null value for ANNUAL. Should we keep these columns for now? Our problem statement is interested in total income of each occupation for cities around the country and the skill base that affects the income. Whether the income is reported only annually or hourly is probably not relevent! Looks like there are only 4 occupation titles this column applies to. I feel safe dropping it. There is a hardly any information here."
   ]
  },
  {
   "cell_type": "code",
   "execution_count": 9,
   "metadata": {},
   "outputs": [
    {
     "data": {
      "text/plain": [
       "OCC_TITLE\n",
       "Actors                                                                   1\n",
       "Dancers                                                                  1\n",
       "Miscellaneous Entertainers and Performers, Sports and Related Workers    1\n",
       "Musicians and Singers                                                    1\n",
       "Name: OCC_TITLE, dtype: int64"
      ]
     },
     "execution_count": 9,
     "metadata": {},
     "output_type": "execute_result"
    }
   ],
   "source": [
    "# Occupations where their HOURLY value IS reported\n",
    "hourly_missing = salary_df[salary_df['HOURLY'].notna()].groupby('OCC_TITLE')\n",
    "hourly_missing['OCC_TITLE'].nunique()"
   ]
  },
  {
   "cell_type": "code",
   "execution_count": 10,
   "metadata": {},
   "outputs": [
    {
     "data": {
      "text/plain": [
       "OCC_TITLE\n",
       "Agricultural Sciences Teachers, Postsecondary                               1\n",
       "Airline Pilots, Copilots, and Flight Engineers                              1\n",
       "Anthropology and Archeology Teachers, Postsecondary                         1\n",
       "Architecture Teachers, Postsecondary                                        1\n",
       "Area, Ethnic, and Cultural Studies Teachers, Postsecondary                  1\n",
       "Art, Drama, and Music Teachers, Postsecondary                               1\n",
       "Athletes and Sports Competitors                                             1\n",
       "Athletic Trainers                                                           1\n",
       "Atmospheric, Earth, Marine, and Space Sciences Teachers, Postsecondary      1\n",
       "Biological Science Teachers, Postsecondary                                  1\n",
       "Business Teachers, Postsecondary                                            1\n",
       "Career/Technical Education Teachers, Middle School                          1\n",
       "Career/Technical Education Teachers, Secondary School                       1\n",
       "Chemistry Teachers, Postsecondary                                           1\n",
       "Coaches and Scouts                                                          1\n",
       "Commercial Pilots                                                           1\n",
       "Communications Teachers, Postsecondary                                      1\n",
       "Computer Science Teachers, Postsecondary                                    1\n",
       "Criminal Justice and Law Enforcement Teachers, Postsecondary                1\n",
       "Economics Teachers, Postsecondary                                           1\n",
       "Education Administrators, Kindergarten through Secondary                    1\n",
       "Education Teachers, Postsecondary                                           1\n",
       "Elementary School Teachers, Except Special Education                        1\n",
       "Engineering Teachers, Postsecondary                                         1\n",
       "English Language and Literature Teachers, Postsecondary                     1\n",
       "Environmental Science Teachers, Postsecondary                               1\n",
       "Family and Consumer Sciences Teachers, Postsecondary                        1\n",
       "Flight Attendants                                                           1\n",
       "Foreign Language and Literature Teachers, Postsecondary                     1\n",
       "Geography Teachers, Postsecondary                                           1\n",
       "Health Specialties Teachers, Postsecondary                                  1\n",
       "History Teachers, Postsecondary                                             1\n",
       "Kindergarten Teachers, Except Special Education                             1\n",
       "Law Teachers, Postsecondary                                                 1\n",
       "Legislators                                                                 1\n",
       "Library Science Teachers, Postsecondary                                     1\n",
       "Mathematical Science Teachers, Postsecondary                                1\n",
       "Middle School Teachers, Except Special and Career/Technical Education       1\n",
       "Nursing Instructors and Teachers, Postsecondary                             1\n",
       "Philosophy and Religion Teachers, Postsecondary                             1\n",
       "Physics Teachers, Postsecondary                                             1\n",
       "Political Science Teachers, Postsecondary                                   1\n",
       "Postsecondary Teachers, All Other                                           1\n",
       "Psychology Teachers, Postsecondary                                          1\n",
       "Recreation and Fitness Studies Teachers, Postsecondary                      1\n",
       "Secondary School Teachers, Except Special and Career/Technical Education    1\n",
       "Social Sciences Teachers, Postsecondary, All Other                          1\n",
       "Social Work Teachers, Postsecondary                                         1\n",
       "Sociology Teachers, Postsecondary                                           1\n",
       "Special Education Teachers, All Other                                       1\n",
       "Special Education Teachers, Kindergarten and Elementary School              1\n",
       "Special Education Teachers, Middle School                                   1\n",
       "Special Education Teachers, Preschool                                       1\n",
       "Special Education Teachers, Secondary School                                1\n",
       "Teaching Assistants, Except Postsecondary                                   1\n",
       "Teaching Assistants, Postsecondary                                          1\n",
       "Tutors and Teachers and Instructors, All Other                              1\n",
       "Umpires, Referees, and Other Sports Officials                               1\n",
       "Name: OCC_TITLE, dtype: int64"
      ]
     },
     "execution_count": 10,
     "metadata": {},
     "output_type": "execute_result"
    }
   ],
   "source": [
    "# Occupations where their ANNUAL value IS reported\n",
    "annual_missing = salary_df[salary_df['ANNUAL'].notna()].groupby('OCC_TITLE')\n",
    "annual_missing['OCC_TITLE'].nunique()"
   ]
  },
  {
   "cell_type": "markdown",
   "metadata": {},
   "source": [
    "These are mostly teaching occupations, with pilots, athletes legislators having most of the remaining occupations."
   ]
  },
  {
   "cell_type": "code",
   "execution_count": 11,
   "metadata": {},
   "outputs": [
    {
     "data": {
      "text/plain": [
       "58"
      ]
     },
     "execution_count": 11,
     "metadata": {},
     "output_type": "execute_result"
    }
   ],
   "source": [
    "# How many distinct occupation titles are not null for ANNUAL? \n",
    "annual_missing['OCC_TITLE'].nunique().sum()"
   ]
  },
  {
   "cell_type": "code",
   "execution_count": 12,
   "metadata": {
    "scrolled": true
   },
   "outputs": [
    {
     "data": {
      "text/plain": [
       "Index(['AREA', 'AREA_TITLE', 'PRIM_STATE', 'OCC_CODE', 'OCC_TITLE', 'O_GROUP',\n",
       "       'TOT_EMP', 'EMP_PRSE', 'JOBS_1000', 'LOC_QUOTIENT', 'H_MEAN', 'A_MEAN',\n",
       "       'MEAN_PRSE', 'H_PCT10', 'H_PCT25', 'H_MEDIAN', 'H_PCT75', 'H_PCT90',\n",
       "       'A_PCT10', 'A_PCT25', 'A_MEDIAN', 'A_PCT75', 'A_PCT90'],\n",
       "      dtype='object')"
      ]
     },
     "execution_count": 12,
     "metadata": {},
     "output_type": "execute_result"
    }
   ],
   "source": [
    "# Drop non-relevent columns\n",
    "salary_df = salary_df.drop(columns=['AREA_TYPE', 'NAICS', 'NAICS_TITLE', 'I_GROUP', 'OWN_CODE', 'PCT_TOTAL', 'ANNUAL', 'HOURLY'])\n",
    "salary_df.columns"
   ]
  },
  {
   "cell_type": "markdown",
   "metadata": {},
   "source": [
    "## 1.2 Categorical Variables"
   ]
  },
  {
   "cell_type": "code",
   "execution_count": 13,
   "metadata": {},
   "outputs": [
    {
     "data": {
      "text/html": [
       "<div>\n",
       "<style scoped>\n",
       "    .dataframe tbody tr th:only-of-type {\n",
       "        vertical-align: middle;\n",
       "    }\n",
       "\n",
       "    .dataframe tbody tr th {\n",
       "        vertical-align: top;\n",
       "    }\n",
       "\n",
       "    .dataframe thead th {\n",
       "        text-align: right;\n",
       "    }\n",
       "</style>\n",
       "<table border=\"1\" class=\"dataframe\">\n",
       "  <thead>\n",
       "    <tr style=\"text-align: right;\">\n",
       "      <th></th>\n",
       "      <th>AREA_TITLE</th>\n",
       "      <th>PRIM_STATE</th>\n",
       "      <th>OCC_TITLE</th>\n",
       "      <th>O_GROUP</th>\n",
       "    </tr>\n",
       "  </thead>\n",
       "  <tbody>\n",
       "    <tr>\n",
       "      <th>0</th>\n",
       "      <td>Abilene, TX</td>\n",
       "      <td>TX</td>\n",
       "      <td>All Occupations</td>\n",
       "      <td>total</td>\n",
       "    </tr>\n",
       "    <tr>\n",
       "      <th>1</th>\n",
       "      <td>Abilene, TX</td>\n",
       "      <td>TX</td>\n",
       "      <td>Management Occupations</td>\n",
       "      <td>major</td>\n",
       "    </tr>\n",
       "    <tr>\n",
       "      <th>2</th>\n",
       "      <td>Abilene, TX</td>\n",
       "      <td>TX</td>\n",
       "      <td>General and Operations Managers</td>\n",
       "      <td>detailed</td>\n",
       "    </tr>\n",
       "    <tr>\n",
       "      <th>3</th>\n",
       "      <td>Abilene, TX</td>\n",
       "      <td>TX</td>\n",
       "      <td>Sales Managers</td>\n",
       "      <td>detailed</td>\n",
       "    </tr>\n",
       "    <tr>\n",
       "      <th>4</th>\n",
       "      <td>Abilene, TX</td>\n",
       "      <td>TX</td>\n",
       "      <td>Public Relations and Fundraising Managers</td>\n",
       "      <td>detailed</td>\n",
       "    </tr>\n",
       "    <tr>\n",
       "      <th>...</th>\n",
       "      <td>...</td>\n",
       "      <td>...</td>\n",
       "      <td>...</td>\n",
       "      <td>...</td>\n",
       "    </tr>\n",
       "    <tr>\n",
       "      <th>140046</th>\n",
       "      <td>Worcester, MA-CT</td>\n",
       "      <td>MA</td>\n",
       "      <td>Machine Feeders and Offbearers</td>\n",
       "      <td>detailed</td>\n",
       "    </tr>\n",
       "    <tr>\n",
       "      <th>140047</th>\n",
       "      <td>Worcester, MA-CT</td>\n",
       "      <td>MA</td>\n",
       "      <td>Packers and Packagers, Hand</td>\n",
       "      <td>detailed</td>\n",
       "    </tr>\n",
       "    <tr>\n",
       "      <th>140048</th>\n",
       "      <td>Worcester, MA-CT</td>\n",
       "      <td>MA</td>\n",
       "      <td>Stockers and Order Fillers</td>\n",
       "      <td>detailed</td>\n",
       "    </tr>\n",
       "    <tr>\n",
       "      <th>140049</th>\n",
       "      <td>Worcester, MA-CT</td>\n",
       "      <td>MA</td>\n",
       "      <td>Refuse and Recyclable Material Collectors</td>\n",
       "      <td>detailed</td>\n",
       "    </tr>\n",
       "    <tr>\n",
       "      <th>140050</th>\n",
       "      <td>Worcester, MA-CT</td>\n",
       "      <td>MA</td>\n",
       "      <td>Material Moving Workers, All Other</td>\n",
       "      <td>detailed</td>\n",
       "    </tr>\n",
       "  </tbody>\n",
       "</table>\n",
       "<p>140051 rows × 4 columns</p>\n",
       "</div>"
      ],
      "text/plain": [
       "              AREA_TITLE PRIM_STATE  \\\n",
       "0            Abilene, TX         TX   \n",
       "1            Abilene, TX         TX   \n",
       "2            Abilene, TX         TX   \n",
       "3            Abilene, TX         TX   \n",
       "4            Abilene, TX         TX   \n",
       "...                  ...        ...   \n",
       "140046  Worcester, MA-CT         MA   \n",
       "140047  Worcester, MA-CT         MA   \n",
       "140048  Worcester, MA-CT         MA   \n",
       "140049  Worcester, MA-CT         MA   \n",
       "140050  Worcester, MA-CT         MA   \n",
       "\n",
       "                                        OCC_TITLE   O_GROUP  \n",
       "0                                 All Occupations     total  \n",
       "1                          Management Occupations     major  \n",
       "2                 General and Operations Managers  detailed  \n",
       "3                                  Sales Managers  detailed  \n",
       "4       Public Relations and Fundraising Managers  detailed  \n",
       "...                                           ...       ...  \n",
       "140046             Machine Feeders and Offbearers  detailed  \n",
       "140047                Packers and Packagers, Hand  detailed  \n",
       "140048                 Stockers and Order Fillers  detailed  \n",
       "140049  Refuse and Recyclable Material Collectors  detailed  \n",
       "140050         Material Moving Workers, All Other  detailed  \n",
       "\n",
       "[140051 rows x 4 columns]"
      ]
     },
     "execution_count": 13,
     "metadata": {},
     "output_type": "execute_result"
    }
   ],
   "source": [
    "# Select categorical variable types\n",
    "salary_df.select_dtypes('object')"
   ]
  },
  {
   "cell_type": "markdown",
   "metadata": {},
   "source": [
    "From the report we can see there are no missing values for our categorical variables."
   ]
  },
  {
   "cell_type": "markdown",
   "metadata": {},
   "source": [
    "### 1.2.1 Area and state"
   ]
  },
  {
   "cell_type": "code",
   "execution_count": 14,
   "metadata": {},
   "outputs": [
    {
     "name": "stdout",
     "output_type": "stream",
     "text": [
      "52\n",
      "['TX' 'PR' 'OH' 'GA' 'OR' 'NY' 'NM' 'LA' 'PA' 'IA' 'AK' 'MI' 'AL' 'WI'\n",
      " 'NC' 'NJ' 'CA' 'MD' 'WV' 'WA' 'MT' 'ND' 'VA' 'IL' 'IN' 'ID' 'CO' 'KY'\n",
      " 'FL' 'MO' 'NV' 'WY' 'SC' 'TN' 'DE' 'MN' 'OK' 'AR' 'AZ' 'NE' 'MS' 'HI'\n",
      " 'KS' 'UT' 'SD' 'DC' 'ME' 'MA' 'CT' 'VT' 'NH' 'RI']\n"
     ]
    },
    {
     "data": {
      "text/plain": [
       "CA    10713\n",
       "TX     9320\n",
       "FL     8318\n",
       "PA     6406\n",
       "NC     5420\n",
       "Name: PRIM_STATE, dtype: int64"
      ]
     },
     "execution_count": 14,
     "metadata": {},
     "output_type": "execute_result"
    }
   ],
   "source": [
    "# Unique states\n",
    "print(salary_df['PRIM_STATE'].nunique()) \n",
    "print(salary_df['PRIM_STATE'].unique()) \n",
    "salary_df['PRIM_STATE'].value_counts().head() "
   ]
  },
  {
   "cell_type": "code",
   "execution_count": 15,
   "metadata": {},
   "outputs": [
    {
     "name": "stdout",
     "output_type": "stream",
     "text": [
      "396\n"
     ]
    },
    {
     "data": {
      "text/plain": [
       "New York-Newark-Jersey City, NY-NJ-PA          756\n",
       "Los Angeles-Long Beach-Anaheim, CA             741\n",
       "Chicago-Naperville-Elgin, IL-IN-WI             741\n",
       "Philadelphia-Camden-Wilmington, PA-NJ-DE-MD    716\n",
       "Boston-Cambridge-Nashua, MA-NH                 715\n",
       "                                              ... \n",
       "Mayaguez, PR                                   147\n",
       "Arecibo, PR                                    140\n",
       "Hinesville, GA                                 115\n",
       "San German, PR                                  98\n",
       "Guayama, PR                                     67\n",
       "Name: AREA_TITLE, Length: 396, dtype: int64"
      ]
     },
     "execution_count": 15,
     "metadata": {},
     "output_type": "execute_result"
    }
   ],
   "source": [
    "# How many unique AREA_TITLES?\n",
    "print(salary_df['AREA_TITLE'].nunique())\n",
    "salary_df['AREA_TITLE'].value_counts()"
   ]
  },
  {
   "cell_type": "markdown",
   "metadata": {},
   "source": [
    "396 unique AREA_TITLE (same as AREA which is code for each AREA_TITLE). But there are state labels included. There are multiple state labels included for metropolitan areas. "
   ]
  },
  {
   "cell_type": "code",
   "execution_count": 16,
   "metadata": {},
   "outputs": [
    {
     "data": {
      "text/plain": [
       "array(['TX', 'PR', 'OH', 'GA', 'OR', 'NY', 'NM', 'LA', 'PA-NJ', 'PA',\n",
       "       'IA', 'AK', 'MI', 'AL', 'WI', 'NC', 'NJ', 'GA-SC', 'CA', 'MD',\n",
       "       'WV', 'WA', 'MT', 'ND', 'VA', 'IL', 'IN', 'ID', 'CO', 'KY', 'FL',\n",
       "       'MO-IL', 'NV', 'WY', 'SC', 'NC-SC', 'TN-GA', 'IL-IN-WI',\n",
       "       'OH-KY-IN', 'TN-KY', 'TN', 'MO', 'GA-AL', 'MD-WV', 'IA-IL', 'DE',\n",
       "       'MN-WI', 'OK', 'IN-KY', 'ND-MN', 'AR-MO', 'AZ', 'AR-OK', 'NE',\n",
       "       'MS', 'AR', 'WV-KY-OH', 'HI', 'MO-KS', 'TN-VA', 'WI-MN', 'KS',\n",
       "       'ID-WA', 'UT-ID', 'KY-IN', 'MN', 'TN-MS-AR', 'SC-NC', 'NY-NJ-PA',\n",
       "       'UT', 'NE-IA', 'PA-NJ-DE-MD', 'OR-WA', 'SD', 'MD-DE', 'IA-NE-SD',\n",
       "       'IN-MI', 'TX-AR', 'VA-NC', 'DC-VA-MD-WV', 'WV-OH', 'VA-WV',\n",
       "       'OH-PA', 'ME', 'MA', 'MA-NH', 'CT', 'VT', 'NH-ME', 'NH', 'CT-RI',\n",
       "       'RI-MA', 'MA-CT'], dtype=object)"
      ]
     },
     "execution_count": 16,
     "metadata": {},
     "output_type": "execute_result"
    }
   ],
   "source": [
    "# AREA_TITLE vs. state lables\n",
    "area_split = salary_df['AREA_TITLE'].str.split(', ', expand=True)\n",
    "area_split[1].unique()"
   ]
  },
  {
   "cell_type": "code",
   "execution_count": 17,
   "metadata": {},
   "outputs": [
    {
     "data": {
      "text/html": [
       "<div>\n",
       "<style scoped>\n",
       "    .dataframe tbody tr th:only-of-type {\n",
       "        vertical-align: middle;\n",
       "    }\n",
       "\n",
       "    .dataframe tbody tr th {\n",
       "        vertical-align: top;\n",
       "    }\n",
       "\n",
       "    .dataframe thead th {\n",
       "        text-align: right;\n",
       "    }\n",
       "</style>\n",
       "<table border=\"1\" class=\"dataframe\">\n",
       "  <thead>\n",
       "    <tr style=\"text-align: right;\">\n",
       "      <th></th>\n",
       "      <th>AREA</th>\n",
       "      <th>AREA_TITLE</th>\n",
       "      <th>PRIM_STATE</th>\n",
       "      <th>OCC_CODE</th>\n",
       "      <th>OCC_TITLE</th>\n",
       "      <th>O_GROUP</th>\n",
       "      <th>TOT_EMP</th>\n",
       "      <th>EMP_PRSE</th>\n",
       "      <th>JOBS_1000</th>\n",
       "      <th>LOC_QUOTIENT</th>\n",
       "      <th>...</th>\n",
       "      <th>H_PCT10</th>\n",
       "      <th>H_PCT25</th>\n",
       "      <th>H_MEDIAN</th>\n",
       "      <th>H_PCT75</th>\n",
       "      <th>H_PCT90</th>\n",
       "      <th>A_PCT10</th>\n",
       "      <th>A_PCT25</th>\n",
       "      <th>A_MEDIAN</th>\n",
       "      <th>A_PCT75</th>\n",
       "      <th>A_PCT90</th>\n",
       "    </tr>\n",
       "  </thead>\n",
       "  <tbody>\n",
       "    <tr>\n",
       "      <th>0</th>\n",
       "      <td>10180</td>\n",
       "      <td>Abilene</td>\n",
       "      <td>TX</td>\n",
       "      <td>0</td>\n",
       "      <td>All Occupations</td>\n",
       "      <td>total</td>\n",
       "      <td>66060.0</td>\n",
       "      <td>1.9</td>\n",
       "      <td>1000.000</td>\n",
       "      <td>1.00</td>\n",
       "      <td>...</td>\n",
       "      <td>9.13</td>\n",
       "      <td>11.40</td>\n",
       "      <td>16.41</td>\n",
       "      <td>24.82</td>\n",
       "      <td>36.23</td>\n",
       "      <td>18990.0</td>\n",
       "      <td>23710.0</td>\n",
       "      <td>34130.0</td>\n",
       "      <td>51620.0</td>\n",
       "      <td>75370.0</td>\n",
       "    </tr>\n",
       "    <tr>\n",
       "      <th>1</th>\n",
       "      <td>10180</td>\n",
       "      <td>Abilene</td>\n",
       "      <td>TX</td>\n",
       "      <td>110000</td>\n",
       "      <td>Management Occupations</td>\n",
       "      <td>major</td>\n",
       "      <td>2910.0</td>\n",
       "      <td>4.5</td>\n",
       "      <td>44.068</td>\n",
       "      <td>0.77</td>\n",
       "      <td>...</td>\n",
       "      <td>17.38</td>\n",
       "      <td>26.74</td>\n",
       "      <td>36.37</td>\n",
       "      <td>51.68</td>\n",
       "      <td>73.88</td>\n",
       "      <td>36150.0</td>\n",
       "      <td>55620.0</td>\n",
       "      <td>75640.0</td>\n",
       "      <td>107500.0</td>\n",
       "      <td>153670.0</td>\n",
       "    </tr>\n",
       "    <tr>\n",
       "      <th>2</th>\n",
       "      <td>10180</td>\n",
       "      <td>Abilene</td>\n",
       "      <td>TX</td>\n",
       "      <td>111021</td>\n",
       "      <td>General and Operations Managers</td>\n",
       "      <td>detailed</td>\n",
       "      <td>1320.0</td>\n",
       "      <td>7.4</td>\n",
       "      <td>20.036</td>\n",
       "      <td>1.19</td>\n",
       "      <td>...</td>\n",
       "      <td>12.67</td>\n",
       "      <td>24.02</td>\n",
       "      <td>32.96</td>\n",
       "      <td>50.11</td>\n",
       "      <td>72.93</td>\n",
       "      <td>26350.0</td>\n",
       "      <td>49960.0</td>\n",
       "      <td>68550.0</td>\n",
       "      <td>104230.0</td>\n",
       "      <td>151700.0</td>\n",
       "    </tr>\n",
       "    <tr>\n",
       "      <th>3</th>\n",
       "      <td>10180</td>\n",
       "      <td>Abilene</td>\n",
       "      <td>TX</td>\n",
       "      <td>112022</td>\n",
       "      <td>Sales Managers</td>\n",
       "      <td>detailed</td>\n",
       "      <td>90.0</td>\n",
       "      <td>18.5</td>\n",
       "      <td>1.317</td>\n",
       "      <td>0.47</td>\n",
       "      <td>...</td>\n",
       "      <td>26.23</td>\n",
       "      <td>35.90</td>\n",
       "      <td>52.41</td>\n",
       "      <td>68.01</td>\n",
       "      <td>NaN</td>\n",
       "      <td>54560.0</td>\n",
       "      <td>74680.0</td>\n",
       "      <td>109000.0</td>\n",
       "      <td>141460.0</td>\n",
       "      <td>NaN</td>\n",
       "    </tr>\n",
       "    <tr>\n",
       "      <th>4</th>\n",
       "      <td>10180</td>\n",
       "      <td>Abilene</td>\n",
       "      <td>TX</td>\n",
       "      <td>112030</td>\n",
       "      <td>Public Relations and Fundraising Managers</td>\n",
       "      <td>detailed</td>\n",
       "      <td>40.0</td>\n",
       "      <td>31.5</td>\n",
       "      <td>0.549</td>\n",
       "      <td>0.94</td>\n",
       "      <td>...</td>\n",
       "      <td>28.71</td>\n",
       "      <td>32.78</td>\n",
       "      <td>36.24</td>\n",
       "      <td>41.23</td>\n",
       "      <td>83.81</td>\n",
       "      <td>59710.0</td>\n",
       "      <td>68180.0</td>\n",
       "      <td>75380.0</td>\n",
       "      <td>85760.0</td>\n",
       "      <td>174320.0</td>\n",
       "    </tr>\n",
       "  </tbody>\n",
       "</table>\n",
       "<p>5 rows × 23 columns</p>\n",
       "</div>"
      ],
      "text/plain": [
       "    AREA AREA_TITLE PRIM_STATE  OCC_CODE  \\\n",
       "0  10180    Abilene         TX         0   \n",
       "1  10180    Abilene         TX    110000   \n",
       "2  10180    Abilene         TX    111021   \n",
       "3  10180    Abilene         TX    112022   \n",
       "4  10180    Abilene         TX    112030   \n",
       "\n",
       "                                   OCC_TITLE   O_GROUP  TOT_EMP  EMP_PRSE  \\\n",
       "0                            All Occupations     total  66060.0       1.9   \n",
       "1                     Management Occupations     major   2910.0       4.5   \n",
       "2            General and Operations Managers  detailed   1320.0       7.4   \n",
       "3                             Sales Managers  detailed     90.0      18.5   \n",
       "4  Public Relations and Fundraising Managers  detailed     40.0      31.5   \n",
       "\n",
       "   JOBS_1000  LOC_QUOTIENT  ...  H_PCT10  H_PCT25  H_MEDIAN  H_PCT75  H_PCT90  \\\n",
       "0   1000.000          1.00  ...     9.13    11.40     16.41    24.82    36.23   \n",
       "1     44.068          0.77  ...    17.38    26.74     36.37    51.68    73.88   \n",
       "2     20.036          1.19  ...    12.67    24.02     32.96    50.11    72.93   \n",
       "3      1.317          0.47  ...    26.23    35.90     52.41    68.01      NaN   \n",
       "4      0.549          0.94  ...    28.71    32.78     36.24    41.23    83.81   \n",
       "\n",
       "   A_PCT10  A_PCT25  A_MEDIAN   A_PCT75   A_PCT90  \n",
       "0  18990.0  23710.0   34130.0   51620.0   75370.0  \n",
       "1  36150.0  55620.0   75640.0  107500.0  153670.0  \n",
       "2  26350.0  49960.0   68550.0  104230.0  151700.0  \n",
       "3  54560.0  74680.0  109000.0  141460.0       NaN  \n",
       "4  59710.0  68180.0   75380.0   85760.0  174320.0  \n",
       "\n",
       "[5 rows x 23 columns]"
      ]
     },
     "execution_count": 17,
     "metadata": {},
     "output_type": "execute_result"
    }
   ],
   "source": [
    "# Separate area title from state labels in salary_df\n",
    "salary_df['AREA_TITLE'] = area_split[0]\n",
    "salary_df.head()"
   ]
  },
  {
   "cell_type": "markdown",
   "metadata": {},
   "source": [
    "Another observation about AREA_TITLE: most common values appear to be for metropolitan areas which makes sense since they are highly concentrated and more jobs are available in these areas. Also the highest value count for occupations per state is from California which should also make senese since it represents the most populous state. "
   ]
  },
  {
   "cell_type": "markdown",
   "metadata": {},
   "source": [
    "### 1.2.2 Occupation Titles and Groups"
   ]
  },
  {
   "cell_type": "code",
   "execution_count": 18,
   "metadata": {},
   "outputs": [
    {
     "name": "stdout",
     "output_type": "stream",
     "text": [
      "808\n"
     ]
    },
    {
     "data": {
      "text/plain": [
       "Janitors and Cleaners, Except Maids and Housekeeping Cleaners    396\n",
       "Installation, Maintenance, and Repair Occupations                396\n",
       "Accountants and Auditors                                         396\n",
       "First-Line Supervisors of Retail Sales Workers                   396\n",
       "Transportation and Material Moving Occupations                   396\n",
       "                                                                ... \n",
       "Refractory Materials Repairers, Except Brickmasons                 1\n",
       "Nuclear Power Reactor Operators                                    1\n",
       "Cooks, Private Household                                           1\n",
       "Timing Device Assemblers and Adjusters                             1\n",
       "Manufactured Building and Mobile Home Installers                   1\n",
       "Name: OCC_TITLE, Length: 808, dtype: int64"
      ]
     },
     "execution_count": 18,
     "metadata": {},
     "output_type": "execute_result"
    }
   ],
   "source": [
    "# Number of unique occupation titles\n",
    "print(salary_df['OCC_TITLE'].nunique())\n",
    "salary_df['OCC_TITLE'].value_counts()"
   ]
  },
  {
   "cell_type": "markdown",
   "metadata": {},
   "source": [
    "There are 808 unique occupation titles the same as OCC_CODE which is good."
   ]
  },
  {
   "cell_type": "code",
   "execution_count": 19,
   "metadata": {},
   "outputs": [
    {
     "data": {
      "text/plain": [
       "detailed    131010\n",
       "major         8645\n",
       "total          396\n",
       "Name: O_GROUP, dtype: int64"
      ]
     },
     "execution_count": 19,
     "metadata": {},
     "output_type": "execute_result"
    }
   ],
   "source": [
    "# O_GROUP \n",
    "\n",
    "salary_df['O_GROUP'].value_counts()"
   ]
  },
  {
   "cell_type": "markdown",
   "metadata": {},
   "source": [
    "O_GROUP - For most occupations, this field indicates the standard SOC major, minor, broad, and detailed levels, in addition to all-occupations totals. "
   ]
  },
  {
   "cell_type": "code",
   "execution_count": 20,
   "metadata": {},
   "outputs": [
    {
     "data": {
      "text/plain": [
       "Index(['AREA', 'AREA_TITLE', 'PRIM_STATE', 'OCC_CODE', 'OCC_TITLE', 'TOT_EMP',\n",
       "       'EMP_PRSE', 'JOBS_1000', 'LOC_QUOTIENT', 'H_MEAN', 'A_MEAN',\n",
       "       'MEAN_PRSE', 'H_PCT10', 'H_PCT25', 'H_MEDIAN', 'H_PCT75', 'H_PCT90',\n",
       "       'A_PCT10', 'A_PCT25', 'A_MEDIAN', 'A_PCT75', 'A_PCT90'],\n",
       "      dtype='object')"
      ]
     },
     "execution_count": 20,
     "metadata": {},
     "output_type": "execute_result"
    }
   ],
   "source": [
    "# Filter for the 'detailed' O_GROUP category to get rid of all values for aggregates of job types, then drop O_GROUP column\n",
    "salary_df = salary_df[salary_df['O_GROUP'] == 'detailed'].reset_index(drop=True)\n",
    "salary_df = salary_df.drop(columns=['O_GROUP'])\n",
    "salary_df.columns"
   ]
  },
  {
   "cell_type": "markdown",
   "metadata": {},
   "source": [
    "## 1.3 Numerical Variables"
   ]
  },
  {
   "cell_type": "markdown",
   "metadata": {},
   "source": [
    "### 1.3.1 Employment "
   ]
  },
  {
   "cell_type": "code",
   "execution_count": 21,
   "metadata": {},
   "outputs": [
    {
     "data": {
      "image/png": "[encoded data removed]",
      "text/plain": [
       "<Figure size 432x288 with 1 Axes>"
      ]
     },
     "metadata": {
      "needs_background": "light"
     },
     "output_type": "display_data"
    }
   ],
   "source": [
    "# TOT_EMP distribution\n",
    "salary_df['TOT_EMP'].hist(bins=50);"
   ]
  },
  {
   "cell_type": "code",
   "execution_count": 22,
   "metadata": {},
   "outputs": [
    {
     "data": {
      "image/png": "[encoded data removed]",
      "text/plain": [
       "<Figure size 432x288 with 1 Axes>"
      ]
     },
     "metadata": {
      "needs_background": "light"
     },
     "output_type": "display_data"
    }
   ],
   "source": [
    "# LOC_QUOTIENT\n",
    "salary_df['LOC_QUOTIENT'].hist(bins=50);"
   ]
  },
  {
   "cell_type": "markdown",
   "metadata": {},
   "source": [
    "The LOC_QUOTIENT - represents the ratio of an occupation’s share of employment in a given area to that occupation’s share of employment in the U.S. as a whole. Only available for the state, metropolitan area, and nonmetropolitan area estimates; otherwise, this column is blank. A location quotient greater than one indicates the occupation has a higher share of employment than average, and a location quotient less than one indicates the occupation is less prevalent in the area than average."
   ]
  },
  {
   "cell_type": "code",
   "execution_count": 23,
   "metadata": {},
   "outputs": [
    {
     "data": {
      "image/png": "[encoded data removed]",
      "text/plain": [
       "<Figure size 432x288 with 1 Axes>"
      ]
     },
     "metadata": {
      "needs_background": "light"
     },
     "output_type": "display_data"
    }
   ],
   "source": [
    "# Looking at location quotient distribution for values less than 40, to see what happens if we exclude really high values\n",
    "salary_df['LOC_QUOTIENT'][salary_df['LOC_QUOTIENT'] < 40].hist(bins=30);"
   ]
  },
  {
   "cell_type": "markdown",
   "metadata": {},
   "source": [
    "Really high, though rare location quotients are possible if the location has a high concentration of that occuption. "
   ]
  },
  {
   "cell_type": "code",
   "execution_count": 24,
   "metadata": {},
   "outputs": [
    {
     "data": {
      "text/html": [
       "<div>\n",
       "<style scoped>\n",
       "    .dataframe tbody tr th:only-of-type {\n",
       "        vertical-align: middle;\n",
       "    }\n",
       "\n",
       "    .dataframe tbody tr th {\n",
       "        vertical-align: top;\n",
       "    }\n",
       "\n",
       "    .dataframe thead th {\n",
       "        text-align: right;\n",
       "    }\n",
       "</style>\n",
       "<table border=\"1\" class=\"dataframe\">\n",
       "  <thead>\n",
       "    <tr style=\"text-align: right;\">\n",
       "      <th></th>\n",
       "      <th>AREA_TITLE</th>\n",
       "      <th>PRIM_STATE</th>\n",
       "      <th>OCC_TITLE</th>\n",
       "      <th>LOC_QUOTIENT</th>\n",
       "    </tr>\n",
       "  </thead>\n",
       "  <tbody>\n",
       "    <tr>\n",
       "      <th>0</th>\n",
       "      <td>Dalton</td>\n",
       "      <td>GA</td>\n",
       "      <td>Textile Winding, Twisting, and Drawing Out Mac...</td>\n",
       "      <td>319.37</td>\n",
       "    </tr>\n",
       "    <tr>\n",
       "      <th>1</th>\n",
       "      <td>Dalton</td>\n",
       "      <td>GA</td>\n",
       "      <td>Textile Knitting and Weaving Machine Setters, ...</td>\n",
       "      <td>218.17</td>\n",
       "    </tr>\n",
       "    <tr>\n",
       "      <th>2</th>\n",
       "      <td>Houma-Thibodaux</td>\n",
       "      <td>LA</td>\n",
       "      <td>Sailors and Marine Oilers</td>\n",
       "      <td>166.24</td>\n",
       "    </tr>\n",
       "    <tr>\n",
       "      <th>3</th>\n",
       "      <td>Wheeling</td>\n",
       "      <td>WV</td>\n",
       "      <td>Roof Bolters, Mining</td>\n",
       "      <td>129.65</td>\n",
       "    </tr>\n",
       "    <tr>\n",
       "      <th>4</th>\n",
       "      <td>Bremerton-Silverdale</td>\n",
       "      <td>WA</td>\n",
       "      <td>Layout Workers, Metal and Plastic</td>\n",
       "      <td>115.51</td>\n",
       "    </tr>\n",
       "    <tr>\n",
       "      <th>5</th>\n",
       "      <td>Dalton</td>\n",
       "      <td>GA</td>\n",
       "      <td>Extruding and Forming Machine Setters, Operato...</td>\n",
       "      <td>113.63</td>\n",
       "    </tr>\n",
       "    <tr>\n",
       "      <th>6</th>\n",
       "      <td>San German</td>\n",
       "      <td>PR</td>\n",
       "      <td>Sewing Machine Operators</td>\n",
       "      <td>103.87</td>\n",
       "    </tr>\n",
       "    <tr>\n",
       "      <th>7</th>\n",
       "      <td>Midland</td>\n",
       "      <td>TX</td>\n",
       "      <td>Service Unit Operators, Oil and Gas</td>\n",
       "      <td>102.66</td>\n",
       "    </tr>\n",
       "    <tr>\n",
       "      <th>8</th>\n",
       "      <td>Hickory-Lenoir-Morganton</td>\n",
       "      <td>NC</td>\n",
       "      <td>Cutters and Trimmers, Hand</td>\n",
       "      <td>100.93</td>\n",
       "    </tr>\n",
       "    <tr>\n",
       "      <th>9</th>\n",
       "      <td>Hickory-Lenoir-Morganton</td>\n",
       "      <td>NC</td>\n",
       "      <td>Upholsterers</td>\n",
       "      <td>100.27</td>\n",
       "    </tr>\n",
       "  </tbody>\n",
       "</table>\n",
       "</div>"
      ],
      "text/plain": [
       "                 AREA_TITLE PRIM_STATE  \\\n",
       "0                    Dalton         GA   \n",
       "1                    Dalton         GA   \n",
       "2           Houma-Thibodaux         LA   \n",
       "3                  Wheeling         WV   \n",
       "4      Bremerton-Silverdale         WA   \n",
       "5                    Dalton         GA   \n",
       "6                San German         PR   \n",
       "7                   Midland         TX   \n",
       "8  Hickory-Lenoir-Morganton         NC   \n",
       "9  Hickory-Lenoir-Morganton         NC   \n",
       "\n",
       "                                           OCC_TITLE  LOC_QUOTIENT  \n",
       "0  Textile Winding, Twisting, and Drawing Out Mac...        319.37  \n",
       "1  Textile Knitting and Weaving Machine Setters, ...        218.17  \n",
       "2                          Sailors and Marine Oilers        166.24  \n",
       "3                               Roof Bolters, Mining        129.65  \n",
       "4                  Layout Workers, Metal and Plastic        115.51  \n",
       "5  Extruding and Forming Machine Setters, Operato...        113.63  \n",
       "6                           Sewing Machine Operators        103.87  \n",
       "7                Service Unit Operators, Oil and Gas        102.66  \n",
       "8                         Cutters and Trimmers, Hand        100.93  \n",
       "9                                       Upholsterers        100.27  "
      ]
     },
     "execution_count": 24,
     "metadata": {},
     "output_type": "execute_result"
    }
   ],
   "source": [
    "# Let's look at the highest LOC_QUOTIENT values to see what occupation and area they represent\n",
    "salary_df[['AREA_TITLE','PRIM_STATE','OCC_TITLE','LOC_QUOTIENT']][salary_df[\n",
    "    'LOC_QUOTIENT'] > 100].sort_values('LOC_QUOTIENT',ascending=False).reset_index(drop=True)"
   ]
  },
  {
   "cell_type": "markdown",
   "metadata": {},
   "source": [
    "The relative standard error (RSE) is a measure of the reliability of a survey statistic. The smaller the relative standard error, the more precise the estimate.\n",
    "\n",
    "Estimates for detailed occupations do not sum to the totals because the totals include occupations not shown separately. Estimates do not include self-employed workers.\n",
    "\n",
    "Annual wages have been calculated by multiplying the hourly mean wage by a \"year-round, full-time\" hours figure of 2,080 hours; for those occupations where there is not an hourly wage published, the annual wage has been directly calculated from the reported survey data."
   ]
  },
  {
   "cell_type": "markdown",
   "metadata": {},
   "source": [
    "### 1.3.2 Target features"
   ]
  },
  {
   "cell_type": "markdown",
   "metadata": {},
   "source": [
    "We are interested in income by occupation for cities and metropolitan areas. Which value are we interested in? For each annual and hourly income estimates, there are columns for mean, median, 10th, 25th, 75th, and 90th percentiles. \n",
    "\n",
    "The percentile wage estimate is the value of a wage below which a certain percent of workers fall. The median wage is the 50th percentile wage estimate—50 percent of workers earn less than the median and 50 percent of workers earn more than the median."
   ]
  },
  {
   "cell_type": "markdown",
   "metadata": {},
   "source": [
    "**Hourly mean and annual mean**\n",
    "\n",
    "*Hourly mean* - Missing 6.6 percent; min = 8.32, max = 315830; IQR = 15.51; median = 22.94; Mean = 27.17\n",
    "\n",
    "*Annual mean* - Missing 2 percent; min = 17300, max = 151.84; IQR = 33040; median = 48560; Mean = 57082\n",
    "\n",
    "Both are skewed to the right which makes sense since the max value is so much larger than the median values. "
   ]
  },
  {
   "cell_type": "code",
   "execution_count": 25,
   "metadata": {},
   "outputs": [
    {
     "data": {
      "text/plain": [
       "AREA               0\n",
       "AREA_TITLE         0\n",
       "PRIM_STATE         0\n",
       "OCC_CODE           0\n",
       "OCC_TITLE          0\n",
       "TOT_EMP            0\n",
       "EMP_PRSE           0\n",
       "JOBS_1000          0\n",
       "LOC_QUOTIENT       0\n",
       "H_MEAN          2477\n",
       "A_MEAN          2477\n",
       "MEAN_PRSE       2477\n",
       "H_PCT10         2477\n",
       "H_PCT25         2477\n",
       "H_MEDIAN        2477\n",
       "H_PCT75         2477\n",
       "H_PCT90         2477\n",
       "A_PCT10         2477\n",
       "A_PCT25         2477\n",
       "A_MEDIAN        2477\n",
       "A_PCT75         2477\n",
       "A_PCT90         2477\n",
       "dtype: int64"
      ]
     },
     "execution_count": 25,
     "metadata": {},
     "output_type": "execute_result"
    }
   ],
   "source": [
    "# When Hourly and annual mean are both null \n",
    "both_missing = salary_df[(salary_df['H_MEAN'].isnull()) & (salary_df['A_MEAN'].isnull())]\n",
    "both_missing.isna().sum()"
   ]
  },
  {
   "cell_type": "code",
   "execution_count": 26,
   "metadata": {},
   "outputs": [
    {
     "data": {
      "text/plain": [
       "(2477, 22)"
      ]
     },
     "execution_count": 26,
     "metadata": {},
     "output_type": "execute_result"
    }
   ],
   "source": [
    "both_missing.shape"
   ]
  },
  {
   "cell_type": "code",
   "execution_count": 27,
   "metadata": {},
   "outputs": [
    {
     "data": {
      "text/html": [
       "<div>\n",
       "<style scoped>\n",
       "    .dataframe tbody tr th:only-of-type {\n",
       "        vertical-align: middle;\n",
       "    }\n",
       "\n",
       "    .dataframe tbody tr th {\n",
       "        vertical-align: top;\n",
       "    }\n",
       "\n",
       "    .dataframe thead th {\n",
       "        text-align: right;\n",
       "    }\n",
       "</style>\n",
       "<table border=\"1\" class=\"dataframe\">\n",
       "  <thead>\n",
       "    <tr style=\"text-align: right;\">\n",
       "      <th></th>\n",
       "      <th>count</th>\n",
       "      <th>%</th>\n",
       "    </tr>\n",
       "  </thead>\n",
       "  <tbody>\n",
       "    <tr>\n",
       "      <th>H_PCT90</th>\n",
       "      <td>12944</td>\n",
       "      <td>9.880162</td>\n",
       "    </tr>\n",
       "    <tr>\n",
       "      <th>TOT_EMP</th>\n",
       "      <td>11582</td>\n",
       "      <td>8.840547</td>\n",
       "    </tr>\n",
       "    <tr>\n",
       "      <th>EMP_PRSE</th>\n",
       "      <td>11582</td>\n",
       "      <td>8.840547</td>\n",
       "    </tr>\n",
       "    <tr>\n",
       "      <th>JOBS_1000</th>\n",
       "      <td>11582</td>\n",
       "      <td>8.840547</td>\n",
       "    </tr>\n",
       "    <tr>\n",
       "      <th>LOC_QUOTIENT</th>\n",
       "      <td>11582</td>\n",
       "      <td>8.840547</td>\n",
       "    </tr>\n",
       "    <tr>\n",
       "      <th>H_PCT75</th>\n",
       "      <td>10841</td>\n",
       "      <td>8.274941</td>\n",
       "    </tr>\n",
       "    <tr>\n",
       "      <th>H_MEDIAN</th>\n",
       "      <td>10067</td>\n",
       "      <td>7.684146</td>\n",
       "    </tr>\n",
       "    <tr>\n",
       "      <th>H_PCT25</th>\n",
       "      <td>9458</td>\n",
       "      <td>7.219296</td>\n",
       "    </tr>\n",
       "    <tr>\n",
       "      <th>H_PCT10</th>\n",
       "      <td>9220</td>\n",
       "      <td>7.037631</td>\n",
       "    </tr>\n",
       "    <tr>\n",
       "      <th>H_MEAN</th>\n",
       "      <td>9087</td>\n",
       "      <td>6.936112</td>\n",
       "    </tr>\n",
       "    <tr>\n",
       "      <th>A_PCT90</th>\n",
       "      <td>6754</td>\n",
       "      <td>5.155332</td>\n",
       "    </tr>\n",
       "    <tr>\n",
       "      <th>A_PCT75</th>\n",
       "      <td>4455</td>\n",
       "      <td>3.400504</td>\n",
       "    </tr>\n",
       "    <tr>\n",
       "      <th>A_MEDIAN</th>\n",
       "      <td>3638</td>\n",
       "      <td>2.776887</td>\n",
       "    </tr>\n",
       "    <tr>\n",
       "      <th>A_PCT25</th>\n",
       "      <td>3023</td>\n",
       "      <td>2.307457</td>\n",
       "    </tr>\n",
       "    <tr>\n",
       "      <th>MEAN_PRSE</th>\n",
       "      <td>2891</td>\n",
       "      <td>2.206702</td>\n",
       "    </tr>\n",
       "    <tr>\n",
       "      <th>A_PCT10</th>\n",
       "      <td>2784</td>\n",
       "      <td>2.125029</td>\n",
       "    </tr>\n",
       "    <tr>\n",
       "      <th>A_MEAN</th>\n",
       "      <td>2651</td>\n",
       "      <td>2.023510</td>\n",
       "    </tr>\n",
       "    <tr>\n",
       "      <th>AREA_TITLE</th>\n",
       "      <td>0</td>\n",
       "      <td>0.000000</td>\n",
       "    </tr>\n",
       "    <tr>\n",
       "      <th>OCC_TITLE</th>\n",
       "      <td>0</td>\n",
       "      <td>0.000000</td>\n",
       "    </tr>\n",
       "    <tr>\n",
       "      <th>OCC_CODE</th>\n",
       "      <td>0</td>\n",
       "      <td>0.000000</td>\n",
       "    </tr>\n",
       "    <tr>\n",
       "      <th>PRIM_STATE</th>\n",
       "      <td>0</td>\n",
       "      <td>0.000000</td>\n",
       "    </tr>\n",
       "    <tr>\n",
       "      <th>AREA</th>\n",
       "      <td>0</td>\n",
       "      <td>0.000000</td>\n",
       "    </tr>\n",
       "  </tbody>\n",
       "</table>\n",
       "</div>"
      ],
      "text/plain": [
       "              count         %\n",
       "H_PCT90       12944  9.880162\n",
       "TOT_EMP       11582  8.840547\n",
       "EMP_PRSE      11582  8.840547\n",
       "JOBS_1000     11582  8.840547\n",
       "LOC_QUOTIENT  11582  8.840547\n",
       "H_PCT75       10841  8.274941\n",
       "H_MEDIAN      10067  7.684146\n",
       "H_PCT25        9458  7.219296\n",
       "H_PCT10        9220  7.037631\n",
       "H_MEAN         9087  6.936112\n",
       "A_PCT90        6754  5.155332\n",
       "A_PCT75        4455  3.400504\n",
       "A_MEDIAN       3638  2.776887\n",
       "A_PCT25        3023  2.307457\n",
       "MEAN_PRSE      2891  2.206702\n",
       "A_PCT10        2784  2.125029\n",
       "A_MEAN         2651  2.023510\n",
       "AREA_TITLE        0  0.000000\n",
       "OCC_TITLE         0  0.000000\n",
       "OCC_CODE          0  0.000000\n",
       "PRIM_STATE        0  0.000000\n",
       "AREA              0  0.000000"
      ]
     },
     "execution_count": 27,
     "metadata": {},
     "output_type": "execute_result"
    }
   ],
   "source": [
    "# Count and percent missing values\n",
    "missing_counts = pd.concat([salary_df.isnull().sum(), 100 * salary_df.isnull().mean()], axis=1)\n",
    "missing_counts.columns=['count', '%']\n",
    "missing_counts.sort_values(by='count', ascending=False)"
   ]
  },
  {
   "cell_type": "markdown",
   "metadata": {},
   "source": [
    "Of all the columns with income information, A_MEAN has the least number of values missing at 2 percent  or 2651 values."
   ]
  },
  {
   "cell_type": "code",
   "execution_count": 28,
   "metadata": {},
   "outputs": [
    {
     "data": {
      "text/plain": [
       "Musicians and Singers                                                    74\n",
       "Miscellaneous Entertainers and Performers, Sports and Related Workers    54\n",
       "Actors                                                                   27\n",
       "Dancers                                                                  19\n",
       "Name: OCC_TITLE, dtype: int64"
      ]
     },
     "execution_count": 28,
     "metadata": {},
     "output_type": "execute_result"
    }
   ],
   "source": [
    "# Do we have hourly information for any missing annual values?\n",
    "annual_missing = salary_df[['OCC_TITLE','A_MEAN','H_MEAN']][(salary_df['A_MEAN'].isna()) & (salary_df['H_MEAN'].notna())]\n",
    "annual_missing['OCC_TITLE'].value_counts()"
   ]
  },
  {
   "cell_type": "markdown",
   "metadata": {},
   "source": [
    "I will keep these for now. These are the occuptions that as mentioned before have hourly wages reported and work less than 2080 hours. May we have some way to deduce these values for the annual ones. But I will drop rows where both annual and hourly mean are missing (these rows are missing every income related information in all other columns as well)."
   ]
  },
  {
   "cell_type": "code",
   "execution_count": 29,
   "metadata": {},
   "outputs": [],
   "source": [
    "# Drop rows where both A_MEAN AND H_MEAN missing\n",
    "salary_df.drop(both_missing.index, inplace=True)"
   ]
  },
  {
   "cell_type": "code",
   "execution_count": 30,
   "metadata": {},
   "outputs": [
    {
     "data": {
      "text/plain": [
       "(128533, 22)"
      ]
     },
     "execution_count": 30,
     "metadata": {},
     "output_type": "execute_result"
    }
   ],
   "source": [
    "salary_df.shape"
   ]
  },
  {
   "cell_type": "markdown",
   "metadata": {},
   "source": [
    "## 1.4 BLS Salary Dataframe"
   ]
  },
  {
   "cell_type": "code",
   "execution_count": 31,
   "metadata": {},
   "outputs": [
    {
     "data": {
      "text/html": [
       "<div>\n",
       "<style scoped>\n",
       "    .dataframe tbody tr th:only-of-type {\n",
       "        vertical-align: middle;\n",
       "    }\n",
       "\n",
       "    .dataframe tbody tr th {\n",
       "        vertical-align: top;\n",
       "    }\n",
       "\n",
       "    .dataframe thead th {\n",
       "        text-align: right;\n",
       "    }\n",
       "</style>\n",
       "<table border=\"1\" class=\"dataframe\">\n",
       "  <thead>\n",
       "    <tr style=\"text-align: right;\">\n",
       "      <th></th>\n",
       "      <th>occupation</th>\n",
       "      <th>location</th>\n",
       "      <th>state</th>\n",
       "      <th>annual</th>\n",
       "      <th>hourly</th>\n",
       "    </tr>\n",
       "    <tr>\n",
       "      <th>occ_code</th>\n",
       "      <th></th>\n",
       "      <th></th>\n",
       "      <th></th>\n",
       "      <th></th>\n",
       "      <th></th>\n",
       "    </tr>\n",
       "  </thead>\n",
       "  <tbody>\n",
       "    <tr>\n",
       "      <th>111021</th>\n",
       "      <td>General and Operations Managers</td>\n",
       "      <td>Abilene</td>\n",
       "      <td>TX</td>\n",
       "      <td>83990.0</td>\n",
       "      <td>40.38</td>\n",
       "    </tr>\n",
       "    <tr>\n",
       "      <th>112022</th>\n",
       "      <td>Sales Managers</td>\n",
       "      <td>Abilene</td>\n",
       "      <td>TX</td>\n",
       "      <td>121020.0</td>\n",
       "      <td>58.18</td>\n",
       "    </tr>\n",
       "    <tr>\n",
       "      <th>112030</th>\n",
       "      <td>Public Relations and Fundraising Managers</td>\n",
       "      <td>Abilene</td>\n",
       "      <td>TX</td>\n",
       "      <td>95540.0</td>\n",
       "      <td>45.93</td>\n",
       "    </tr>\n",
       "    <tr>\n",
       "      <th>113010</th>\n",
       "      <td>Administrative Services and Facilities Managers</td>\n",
       "      <td>Abilene</td>\n",
       "      <td>TX</td>\n",
       "      <td>78600.0</td>\n",
       "      <td>37.79</td>\n",
       "    </tr>\n",
       "    <tr>\n",
       "      <th>113021</th>\n",
       "      <td>Computer and Information Systems Managers</td>\n",
       "      <td>Abilene</td>\n",
       "      <td>TX</td>\n",
       "      <td>123040.0</td>\n",
       "      <td>59.15</td>\n",
       "    </tr>\n",
       "  </tbody>\n",
       "</table>\n",
       "</div>"
      ],
      "text/plain": [
       "                                               occupation location state  \\\n",
       "occ_code                                                                   \n",
       "111021                    General and Operations Managers  Abilene    TX   \n",
       "112022                                     Sales Managers  Abilene    TX   \n",
       "112030          Public Relations and Fundraising Managers  Abilene    TX   \n",
       "113010    Administrative Services and Facilities Managers  Abilene    TX   \n",
       "113021          Computer and Information Systems Managers  Abilene    TX   \n",
       "\n",
       "            annual  hourly  \n",
       "occ_code                    \n",
       "111021     83990.0   40.38  \n",
       "112022    121020.0   58.18  \n",
       "112030     95540.0   45.93  \n",
       "113010     78600.0   37.79  \n",
       "113021    123040.0   59.15  "
      ]
     },
     "execution_count": 31,
     "metadata": {},
     "output_type": "execute_result"
    }
   ],
   "source": [
    "# Build the dataframe we are interested in: Area information and state, occupation code, title and hourly and annual means\n",
    "salary = salary_df[['OCC_CODE', 'OCC_TITLE', 'AREA_TITLE', 'PRIM_STATE', 'A_MEAN', 'H_MEAN']]\n",
    "salary = salary.rename(columns = {'OCC_CODE':'occ_code', 'OCC_TITLE':'occupation', 'AREA_TITLE':'location', \n",
    "                         'PRIM_STATE':'state', 'A_MEAN':'annual', 'H_MEAN':'hourly'})\n",
    "salary = salary.set_index('occ_code')\n",
    "salary.head()"
   ]
  },
  {
   "cell_type": "code",
   "execution_count": 32,
   "metadata": {},
   "outputs": [
    {
     "name": "stdout",
     "output_type": "stream",
     "text": [
      "<class 'pandas.core.frame.DataFrame'>\n",
      "Int64Index: 128533 entries, 111021 to 537199\n",
      "Data columns (total 5 columns):\n",
      " #   Column      Non-Null Count   Dtype  \n",
      "---  ------      --------------   -----  \n",
      " 0   occupation  128533 non-null  object \n",
      " 1   location    128533 non-null  object \n",
      " 2   state       128533 non-null  object \n",
      " 3   annual      128359 non-null  float64\n",
      " 4   hourly      121923 non-null  float64\n",
      "dtypes: float64(2), object(3)\n",
      "memory usage: 5.9+ MB\n"
     ]
    }
   ],
   "source": [
    "salary.info()"
   ]
  },
  {
   "cell_type": "code",
   "execution_count": 33,
   "metadata": {},
   "outputs": [
    {
     "data": {
      "text/plain": [
       "0.13537379505652244"
      ]
     },
     "execution_count": 33,
     "metadata": {},
     "output_type": "execute_result"
    }
   ],
   "source": [
    "# Percent missing annual wage\n",
    "salary['annual'].isna().mean()*100"
   ]
  },
  {
   "cell_type": "code",
   "execution_count": 63,
   "metadata": {},
   "outputs": [
    {
     "data": {
      "image/png": "[encoded data removed]",
      "text/plain": [
       "<Figure size 432x288 with 1 Axes>"
      ]
     },
     "metadata": {
      "needs_background": "light"
     },
     "output_type": "display_data"
    }
   ],
   "source": [
    "# Annual wage distriution\n",
    "salary['annual'].hist(bins=50, color='#d4313c', histtype='step', linewidth = 2)\n",
    "plt.xlabel('Annual Salary')\n",
    "plt.ylabel('Count')\n",
    "plt.title('Distribution of annual salary')\n",
    "plt.grid(False);"
   ]
  },
  {
   "cell_type": "code",
   "execution_count": 36,
   "metadata": {},
   "outputs": [
    {
     "data": {
      "text/plain": [
       "5.142648191515019"
      ]
     },
     "execution_count": 36,
     "metadata": {},
     "output_type": "execute_result"
    }
   ],
   "source": [
    "# Percent missing hourly wage\n",
    "salary['hourly'].isna().mean()*100"
   ]
  },
  {
   "cell_type": "code",
   "execution_count": 67,
   "metadata": {},
   "outputs": [
    {
     "data": {
      "image/png": "[encoded data removed]",
      "text/plain": [
       "<Figure size 432x288 with 1 Axes>"
      ]
     },
     "metadata": {
      "needs_background": "light"
     },
     "output_type": "display_data"
    }
   ],
   "source": [
    "# Hourly wage distribution\n",
    "salary['hourly'].hist(bins=50, color='#d4313c', histtype='step', linewidth = 2)\n",
    "plt.xlabel('Hourly Salary')\n",
    "plt.ylabel('Count')\n",
    "plt.title('Distribution of hourly salary')\n",
    "plt.grid(False);"
   ]
  },
  {
   "cell_type": "code",
   "execution_count": 45,
   "metadata": {},
   "outputs": [
    {
     "data": {
      "text/html": [
       "<div>\n",
       "<style scoped>\n",
       "    .dataframe tbody tr th:only-of-type {\n",
       "        vertical-align: middle;\n",
       "    }\n",
       "\n",
       "    .dataframe tbody tr th {\n",
       "        vertical-align: top;\n",
       "    }\n",
       "\n",
       "    .dataframe thead th {\n",
       "        text-align: right;\n",
       "    }\n",
       "</style>\n",
       "<table border=\"1\" class=\"dataframe\">\n",
       "  <thead>\n",
       "    <tr style=\"text-align: right;\">\n",
       "      <th></th>\n",
       "      <th>count</th>\n",
       "      <th>mean</th>\n",
       "      <th>std</th>\n",
       "      <th>min</th>\n",
       "      <th>25%</th>\n",
       "      <th>50%</th>\n",
       "      <th>75%</th>\n",
       "      <th>max</th>\n",
       "    </tr>\n",
       "  </thead>\n",
       "  <tbody>\n",
       "    <tr>\n",
       "      <th>annual</th>\n",
       "      <td>128359.0</td>\n",
       "      <td>57448.246948</td>\n",
       "      <td>32850.161783</td>\n",
       "      <td>17300.00</td>\n",
       "      <td>35820.00</td>\n",
       "      <td>48690.00</td>\n",
       "      <td>69030.00</td>\n",
       "      <td>315830.00</td>\n",
       "    </tr>\n",
       "    <tr>\n",
       "      <th>hourly</th>\n",
       "      <td>121923.0</td>\n",
       "      <td>27.336384</td>\n",
       "      <td>15.875471</td>\n",
       "      <td>8.32</td>\n",
       "      <td>17.05</td>\n",
       "      <td>22.96</td>\n",
       "      <td>32.61</td>\n",
       "      <td>151.84</td>\n",
       "    </tr>\n",
       "  </tbody>\n",
       "</table>\n",
       "</div>"
      ],
      "text/plain": [
       "           count          mean           std       min       25%       50%  \\\n",
       "annual  128359.0  57448.246948  32850.161783  17300.00  35820.00  48690.00   \n",
       "hourly  121923.0     27.336384     15.875471      8.32     17.05     22.96   \n",
       "\n",
       "             75%        max  \n",
       "annual  69030.00  315830.00  \n",
       "hourly     32.61     151.84  "
      ]
     },
     "execution_count": 45,
     "metadata": {},
     "output_type": "execute_result"
    }
   ],
   "source": [
    "# Salary dataframe summary statistics for annual and hourly wage\n",
    "salary.describe().T"
   ]
  },
  {
   "cell_type": "markdown",
   "metadata": {},
   "source": [
    "# 2. O'NET Skills Data"
   ]
  },
  {
   "cell_type": "code",
   "execution_count": 46,
   "metadata": {},
   "outputs": [],
   "source": [
    "#Read skills information for occupations into a dataframe\n",
    "skills_df = pd.read_excel('../data/raw/Skills.xlsx')"
   ]
  },
  {
   "cell_type": "markdown",
   "metadata": {},
   "source": [
    "## 2.1 Explore O'NET Data"
   ]
  },
  {
   "cell_type": "code",
   "execution_count": 47,
   "metadata": {
    "scrolled": true
   },
   "outputs": [
    {
     "data": {
      "text/html": [
       "<div>\n",
       "<style scoped>\n",
       "    .dataframe tbody tr th:only-of-type {\n",
       "        vertical-align: middle;\n",
       "    }\n",
       "\n",
       "    .dataframe tbody tr th {\n",
       "        vertical-align: top;\n",
       "    }\n",
       "\n",
       "    .dataframe thead th {\n",
       "        text-align: right;\n",
       "    }\n",
       "</style>\n",
       "<table border=\"1\" class=\"dataframe\">\n",
       "  <thead>\n",
       "    <tr style=\"text-align: right;\">\n",
       "      <th></th>\n",
       "      <th>O*NET-SOC Code</th>\n",
       "      <th>Title</th>\n",
       "      <th>Element ID</th>\n",
       "      <th>Element Name</th>\n",
       "      <th>Scale ID</th>\n",
       "      <th>Scale Name</th>\n",
       "      <th>Data Value</th>\n",
       "      <th>N</th>\n",
       "      <th>Standard Error</th>\n",
       "      <th>Lower CI Bound</th>\n",
       "      <th>Upper CI Bound</th>\n",
       "      <th>Recommend Suppress</th>\n",
       "      <th>Not Relevant</th>\n",
       "      <th>Date</th>\n",
       "      <th>Domain Source</th>\n",
       "    </tr>\n",
       "  </thead>\n",
       "  <tbody>\n",
       "    <tr>\n",
       "      <th>0</th>\n",
       "      <td>11-1011.00</td>\n",
       "      <td>Chief Executives</td>\n",
       "      <td>2.A.1.a</td>\n",
       "      <td>Reading Comprehension</td>\n",
       "      <td>IM</td>\n",
       "      <td>Importance</td>\n",
       "      <td>4.12</td>\n",
       "      <td>8.0</td>\n",
       "      <td>0.13</td>\n",
       "      <td>3.88</td>\n",
       "      <td>4.37</td>\n",
       "      <td>N</td>\n",
       "      <td>NaN</td>\n",
       "      <td>07/2014</td>\n",
       "      <td>Analyst</td>\n",
       "    </tr>\n",
       "    <tr>\n",
       "      <th>1</th>\n",
       "      <td>11-1011.00</td>\n",
       "      <td>Chief Executives</td>\n",
       "      <td>2.A.1.a</td>\n",
       "      <td>Reading Comprehension</td>\n",
       "      <td>LV</td>\n",
       "      <td>Level</td>\n",
       "      <td>4.75</td>\n",
       "      <td>8.0</td>\n",
       "      <td>0.16</td>\n",
       "      <td>4.43</td>\n",
       "      <td>5.07</td>\n",
       "      <td>N</td>\n",
       "      <td>N</td>\n",
       "      <td>07/2014</td>\n",
       "      <td>Analyst</td>\n",
       "    </tr>\n",
       "    <tr>\n",
       "      <th>2</th>\n",
       "      <td>11-1011.00</td>\n",
       "      <td>Chief Executives</td>\n",
       "      <td>2.A.1.b</td>\n",
       "      <td>Active Listening</td>\n",
       "      <td>IM</td>\n",
       "      <td>Importance</td>\n",
       "      <td>4.12</td>\n",
       "      <td>8.0</td>\n",
       "      <td>0.13</td>\n",
       "      <td>3.88</td>\n",
       "      <td>4.37</td>\n",
       "      <td>N</td>\n",
       "      <td>NaN</td>\n",
       "      <td>07/2014</td>\n",
       "      <td>Analyst</td>\n",
       "    </tr>\n",
       "    <tr>\n",
       "      <th>3</th>\n",
       "      <td>11-1011.00</td>\n",
       "      <td>Chief Executives</td>\n",
       "      <td>2.A.1.b</td>\n",
       "      <td>Active Listening</td>\n",
       "      <td>LV</td>\n",
       "      <td>Level</td>\n",
       "      <td>4.88</td>\n",
       "      <td>8.0</td>\n",
       "      <td>0.23</td>\n",
       "      <td>4.43</td>\n",
       "      <td>5.32</td>\n",
       "      <td>N</td>\n",
       "      <td>N</td>\n",
       "      <td>07/2014</td>\n",
       "      <td>Analyst</td>\n",
       "    </tr>\n",
       "    <tr>\n",
       "      <th>4</th>\n",
       "      <td>11-1011.00</td>\n",
       "      <td>Chief Executives</td>\n",
       "      <td>2.A.1.c</td>\n",
       "      <td>Writing</td>\n",
       "      <td>IM</td>\n",
       "      <td>Importance</td>\n",
       "      <td>4.00</td>\n",
       "      <td>8.0</td>\n",
       "      <td>0.00</td>\n",
       "      <td>4.00</td>\n",
       "      <td>4.00</td>\n",
       "      <td>N</td>\n",
       "      <td>NaN</td>\n",
       "      <td>07/2014</td>\n",
       "      <td>Analyst</td>\n",
       "    </tr>\n",
       "  </tbody>\n",
       "</table>\n",
       "</div>"
      ],
      "text/plain": [
       "  O*NET-SOC Code             Title Element ID           Element Name Scale ID  \\\n",
       "0     11-1011.00  Chief Executives    2.A.1.a  Reading Comprehension       IM   \n",
       "1     11-1011.00  Chief Executives    2.A.1.a  Reading Comprehension       LV   \n",
       "2     11-1011.00  Chief Executives    2.A.1.b       Active Listening       IM   \n",
       "3     11-1011.00  Chief Executives    2.A.1.b       Active Listening       LV   \n",
       "4     11-1011.00  Chief Executives    2.A.1.c                Writing       IM   \n",
       "\n",
       "   Scale Name  Data Value    N  Standard Error  Lower CI Bound  \\\n",
       "0  Importance        4.12  8.0            0.13            3.88   \n",
       "1       Level        4.75  8.0            0.16            4.43   \n",
       "2  Importance        4.12  8.0            0.13            3.88   \n",
       "3       Level        4.88  8.0            0.23            4.43   \n",
       "4  Importance        4.00  8.0            0.00            4.00   \n",
       "\n",
       "   Upper CI Bound Recommend Suppress Not Relevant     Date Domain Source  \n",
       "0            4.37                  N          NaN  07/2014       Analyst  \n",
       "1            5.07                  N            N  07/2014       Analyst  \n",
       "2            4.37                  N          NaN  07/2014       Analyst  \n",
       "3            5.32                  N            N  07/2014       Analyst  \n",
       "4            4.00                  N          NaN  07/2014       Analyst  "
      ]
     },
     "execution_count": 47,
     "metadata": {},
     "output_type": "execute_result"
    }
   ],
   "source": [
    "skills_df.head()"
   ]
  },
  {
   "cell_type": "code",
   "execution_count": 48,
   "metadata": {},
   "outputs": [
    {
     "data": {
      "text/plain": [
       "Index(['O*NET-SOC Code', 'Title', 'Element ID', 'Element Name', 'Scale ID',\n",
       "       'Scale Name', 'Data Value', 'N', 'Standard Error', 'Lower CI Bound',\n",
       "       'Upper CI Bound', 'Recommend Suppress', 'Not Relevant', 'Date',\n",
       "       'Domain Source'],\n",
       "      dtype='object')"
      ]
     },
     "execution_count": 48,
     "metadata": {},
     "output_type": "execute_result"
    }
   ],
   "source": [
    "skills_df.columns"
   ]
  },
  {
   "cell_type": "code",
   "execution_count": 49,
   "metadata": {},
   "outputs": [
    {
     "name": "stdout",
     "output_type": "stream",
     "text": [
      "<class 'pandas.core.frame.DataFrame'>\n",
      "RangeIndex: 61110 entries, 0 to 61109\n",
      "Data columns (total 15 columns):\n",
      " #   Column              Non-Null Count  Dtype  \n",
      "---  ------              --------------  -----  \n",
      " 0   O*NET-SOC Code      61110 non-null  object \n",
      " 1   Title               61110 non-null  object \n",
      " 2   Element ID          61110 non-null  object \n",
      " 3   Element Name        61110 non-null  object \n",
      " 4   Scale ID            61110 non-null  object \n",
      " 5   Scale Name          61110 non-null  object \n",
      " 6   Data Value          61110 non-null  float64\n",
      " 7   N                   57400 non-null  float64\n",
      " 8   Standard Error      57400 non-null  float64\n",
      " 9   Lower CI Bound      57400 non-null  float64\n",
      " 10  Upper CI Bound      57400 non-null  float64\n",
      " 11  Recommend Suppress  61110 non-null  object \n",
      " 12  Not Relevant        30555 non-null  object \n",
      " 13  Date                61110 non-null  object \n",
      " 14  Domain Source       61110 non-null  object \n",
      "dtypes: float64(5), object(10)\n",
      "memory usage: 7.0+ MB\n"
     ]
    }
   ],
   "source": [
    "skills_df.info()"
   ]
  },
  {
   "cell_type": "markdown",
   "metadata": {},
   "source": [
    "### 2.1.1 Column definitions"
   ]
  },
  {
   "cell_type": "markdown",
   "metadata": {},
   "source": [
    "I'll be using the O\\*Net code to join with the salary dataframe from BLS data above. According to their website: \n",
    "\n",
    "   \"The O\\*NET Database is in compliance with the current federal mandate to follow the Standard Occupational Classification (SOC). The O\\*NET Database is the result of efforts by the U.S. Department of Labor to provide the nation with a new system of occupational information which is relevant to the ever-changing world of work. The O\\*NET Database uses the basic 6-digit numerical coding structure of the SOC as its framework, adding a 2-digit extension (sequentially numbered beginning with \".01\") to differentiate unique O\\*NET occupations within the SOC system.\"\n",
    "\n",
    "The level, importance and frequency scales each have a different range of possible scores. Ratings on Level were collected on a 0-7 scale, ratings on Importance were collected on a 1-5 scale, and ratings on Frequency were collected on a 1-4 scale. To make reports generated by O*NET OnLine more intuitively understandable to users, descriptor average ratings were standardized to a scale ranging from 0 to 100. The equation for conversion of original ratings to standardized scores is:\n",
    "\n",
    "S = ( (O - L) / (H - L) ) * 100\n",
    "\n",
    "where S is the standardized score, O is the original rating score on one of the three scales, L is the lowest possible score on the rating scale used, and H is the highest possible score on the rating scale used. For example, an original Importance rating score of 3 is converted to a standardized score of 50 (50 = [ [3 - 1] / [5 - 1] ] * 100). For another example, an original Level rating score of 5 is converted to a standardized score of 71 (71 = [ [5 - 0] / [7 - 0] ] * 100).\n",
    "\n",
    "Element ID and Scale ID don't give us any more information than the Element Name and Scale Name columns so there is no need to keep them."
   ]
  },
  {
   "cell_type": "markdown",
   "metadata": {},
   "source": [
    "### 2.1.2 Rating Level Statistics"
   ]
  },
  {
   "cell_type": "markdown",
   "metadata": {},
   "source": [
    "For each of the Ability domain and Skills domain elements, additional rating level statistics, such as Standard Error and data flags are included to help provide a description of the quality of the data values. The file has columns to represent these additional values.\n",
    "\n",
    "* ***N*** is the sample size.\n",
    "\n",
    "* ***Standard Error*** - Standard errors were calculated to provide an indication of each estimate’s precision. The standard error of the mean (SEM) is the standard deviation of the ratings across analysts divided by the square root of the number of analysts (i.e., eight). Statistics with large standard errors are generally considered less precise than those with small standard errors.\n",
    "\n",
    "* ***Upper CI Bound and Lower CI Bound*** - The standard error of the mean (SEM) was used to define a range (confidence interval) around the estimate. The upper and lower bounds of the 95% confidence interval establish this range such that over a large number of sample estimates the probability is .95 that the population mean will be included in a confidence interval of this size. The upper bound of the confidence interval is calculated by taking the SEM and multiplying it by 1.96 and adding that number to the observed mean. The lower bound of the confidence interval is calculated by taking the SEM and multiplying it by 1.96 and subtracting that number from the observed mean.\n",
    "\n",
    "* ***Recommend Suppress*** - Users are encouraged to use estimates exhibiting “low precision” with caution and for many applications users are advised to consider suppressing these estimates. Abilities and Skills estimates are considered to have low precision if the standard error is greater than .51. The value of .51 was selected as a suppression criterion because 1.0/1.96 = .5102. An SEM of >.51 means that the upper and lower bounds of the confidence interval are more than 1 scale point away from the observed mean.\n",
    "\n",
    "* ***Not Relevant*** –The ability or skill level rating is identified as “not relevant” if 0, 1, or 2 analysts rated importance for that ability ≥ 2 (i.e., six or more analysts rated importance a 1). A value of “Y” indicates 0, 1, or 2 analysts rated importance ≥ 2. A value of “N” indicates more than 2 analysts rated importance ≥ 2. Users are encouraged to provide their end-users with an indication that the item level rating is “not relevant” rather than displaying the level value or displaying no level information.\n",
    "\n",
    "I won't be working with these columns (at least not just yet?) so I am going to drop them in the final dataframe. Date and Domain Source will not be included either. "
   ]
  },
  {
   "cell_type": "markdown",
   "metadata": {},
   "source": [
    "## 2.2 Skills Dataframe"
   ]
  },
  {
   "cell_type": "code",
   "execution_count": 50,
   "metadata": {},
   "outputs": [
    {
     "data": {
      "text/html": [
       "<div>\n",
       "<style scoped>\n",
       "    .dataframe tbody tr th:only-of-type {\n",
       "        vertical-align: middle;\n",
       "    }\n",
       "\n",
       "    .dataframe tbody tr th {\n",
       "        vertical-align: top;\n",
       "    }\n",
       "\n",
       "    .dataframe thead th {\n",
       "        text-align: right;\n",
       "    }\n",
       "</style>\n",
       "<table border=\"1\" class=\"dataframe\">\n",
       "  <thead>\n",
       "    <tr style=\"text-align: right;\">\n",
       "      <th></th>\n",
       "      <th>occupation</th>\n",
       "      <th>skill</th>\n",
       "      <th>scale_name</th>\n",
       "      <th>scale_value</th>\n",
       "    </tr>\n",
       "    <tr>\n",
       "      <th>code</th>\n",
       "      <th></th>\n",
       "      <th></th>\n",
       "      <th></th>\n",
       "      <th></th>\n",
       "    </tr>\n",
       "  </thead>\n",
       "  <tbody>\n",
       "    <tr>\n",
       "      <th>11-1011.00</th>\n",
       "      <td>Chief Executives</td>\n",
       "      <td>Reading Comprehension</td>\n",
       "      <td>Importance</td>\n",
       "      <td>4.12</td>\n",
       "    </tr>\n",
       "    <tr>\n",
       "      <th>11-1011.00</th>\n",
       "      <td>Chief Executives</td>\n",
       "      <td>Reading Comprehension</td>\n",
       "      <td>Level</td>\n",
       "      <td>4.75</td>\n",
       "    </tr>\n",
       "    <tr>\n",
       "      <th>11-1011.00</th>\n",
       "      <td>Chief Executives</td>\n",
       "      <td>Active Listening</td>\n",
       "      <td>Importance</td>\n",
       "      <td>4.12</td>\n",
       "    </tr>\n",
       "    <tr>\n",
       "      <th>11-1011.00</th>\n",
       "      <td>Chief Executives</td>\n",
       "      <td>Active Listening</td>\n",
       "      <td>Level</td>\n",
       "      <td>4.88</td>\n",
       "    </tr>\n",
       "    <tr>\n",
       "      <th>11-1011.00</th>\n",
       "      <td>Chief Executives</td>\n",
       "      <td>Writing</td>\n",
       "      <td>Importance</td>\n",
       "      <td>4.00</td>\n",
       "    </tr>\n",
       "    <tr>\n",
       "      <th>...</th>\n",
       "      <td>...</td>\n",
       "      <td>...</td>\n",
       "      <td>...</td>\n",
       "      <td>...</td>\n",
       "    </tr>\n",
       "    <tr>\n",
       "      <th>53-7121.00</th>\n",
       "      <td>Tank Car, Truck, and Ship Loaders</td>\n",
       "      <td>Management of Financial Resources</td>\n",
       "      <td>Level</td>\n",
       "      <td>1.12</td>\n",
       "    </tr>\n",
       "    <tr>\n",
       "      <th>53-7121.00</th>\n",
       "      <td>Tank Car, Truck, and Ship Loaders</td>\n",
       "      <td>Management of Material Resources</td>\n",
       "      <td>Importance</td>\n",
       "      <td>2.00</td>\n",
       "    </tr>\n",
       "    <tr>\n",
       "      <th>53-7121.00</th>\n",
       "      <td>Tank Car, Truck, and Ship Loaders</td>\n",
       "      <td>Management of Material Resources</td>\n",
       "      <td>Level</td>\n",
       "      <td>1.88</td>\n",
       "    </tr>\n",
       "    <tr>\n",
       "      <th>53-7121.00</th>\n",
       "      <td>Tank Car, Truck, and Ship Loaders</td>\n",
       "      <td>Management of Personnel Resources</td>\n",
       "      <td>Importance</td>\n",
       "      <td>2.88</td>\n",
       "    </tr>\n",
       "    <tr>\n",
       "      <th>53-7121.00</th>\n",
       "      <td>Tank Car, Truck, and Ship Loaders</td>\n",
       "      <td>Management of Personnel Resources</td>\n",
       "      <td>Level</td>\n",
       "      <td>2.75</td>\n",
       "    </tr>\n",
       "  </tbody>\n",
       "</table>\n",
       "<p>61110 rows × 4 columns</p>\n",
       "</div>"
      ],
      "text/plain": [
       "                                   occupation  \\\n",
       "code                                            \n",
       "11-1011.00                   Chief Executives   \n",
       "11-1011.00                   Chief Executives   \n",
       "11-1011.00                   Chief Executives   \n",
       "11-1011.00                   Chief Executives   \n",
       "11-1011.00                   Chief Executives   \n",
       "...                                       ...   \n",
       "53-7121.00  Tank Car, Truck, and Ship Loaders   \n",
       "53-7121.00  Tank Car, Truck, and Ship Loaders   \n",
       "53-7121.00  Tank Car, Truck, and Ship Loaders   \n",
       "53-7121.00  Tank Car, Truck, and Ship Loaders   \n",
       "53-7121.00  Tank Car, Truck, and Ship Loaders   \n",
       "\n",
       "                                        skill  scale_name  scale_value  \n",
       "code                                                                    \n",
       "11-1011.00              Reading Comprehension  Importance         4.12  \n",
       "11-1011.00              Reading Comprehension       Level         4.75  \n",
       "11-1011.00                   Active Listening  Importance         4.12  \n",
       "11-1011.00                   Active Listening       Level         4.88  \n",
       "11-1011.00                            Writing  Importance         4.00  \n",
       "...                                       ...         ...          ...  \n",
       "53-7121.00  Management of Financial Resources       Level         1.12  \n",
       "53-7121.00   Management of Material Resources  Importance         2.00  \n",
       "53-7121.00   Management of Material Resources       Level         1.88  \n",
       "53-7121.00  Management of Personnel Resources  Importance         2.88  \n",
       "53-7121.00  Management of Personnel Resources       Level         2.75  \n",
       "\n",
       "[61110 rows x 4 columns]"
      ]
     },
     "execution_count": 50,
     "metadata": {},
     "output_type": "execute_result"
    }
   ],
   "source": [
    "# Construct skills datafram from relevent columns, rename columns and set the O*Net code as the index\n",
    "skills = skills_df[['O*NET-SOC Code', 'Title', 'Element Name', 'Scale Name', 'Data Value']]\n",
    "skills = skills.rename(columns={'O*NET-SOC Code':'code', 'Title':'occupation', 'Element Name':'skill', 'Scale Name':\n",
    "                                     'scale_name', 'Data Value':'scale_value'})\n",
    "skills.set_index('code')"
   ]
  },
  {
   "cell_type": "code",
   "execution_count": 51,
   "metadata": {},
   "outputs": [
    {
     "data": {
      "text/html": [
       "<div>\n",
       "<style scoped>\n",
       "    .dataframe tbody tr th:only-of-type {\n",
       "        vertical-align: middle;\n",
       "    }\n",
       "\n",
       "    .dataframe tbody tr th {\n",
       "        vertical-align: top;\n",
       "    }\n",
       "\n",
       "    .dataframe thead th {\n",
       "        text-align: right;\n",
       "    }\n",
       "</style>\n",
       "<table border=\"1\" class=\"dataframe\">\n",
       "  <thead>\n",
       "    <tr style=\"text-align: right;\">\n",
       "      <th></th>\n",
       "      <th>occupation</th>\n",
       "      <th>skill</th>\n",
       "      <th>scale_name</th>\n",
       "      <th>scale_value</th>\n",
       "    </tr>\n",
       "    <tr>\n",
       "      <th>code</th>\n",
       "      <th></th>\n",
       "      <th></th>\n",
       "      <th></th>\n",
       "      <th></th>\n",
       "    </tr>\n",
       "  </thead>\n",
       "  <tbody>\n",
       "    <tr>\n",
       "      <th>111011</th>\n",
       "      <td>Chief Executives</td>\n",
       "      <td>Reading Comprehension</td>\n",
       "      <td>Importance</td>\n",
       "      <td>4.12</td>\n",
       "    </tr>\n",
       "    <tr>\n",
       "      <th>111011</th>\n",
       "      <td>Chief Executives</td>\n",
       "      <td>Reading Comprehension</td>\n",
       "      <td>Level</td>\n",
       "      <td>4.75</td>\n",
       "    </tr>\n",
       "    <tr>\n",
       "      <th>111011</th>\n",
       "      <td>Chief Executives</td>\n",
       "      <td>Active Listening</td>\n",
       "      <td>Importance</td>\n",
       "      <td>4.12</td>\n",
       "    </tr>\n",
       "    <tr>\n",
       "      <th>111011</th>\n",
       "      <td>Chief Executives</td>\n",
       "      <td>Active Listening</td>\n",
       "      <td>Level</td>\n",
       "      <td>4.88</td>\n",
       "    </tr>\n",
       "    <tr>\n",
       "      <th>111011</th>\n",
       "      <td>Chief Executives</td>\n",
       "      <td>Writing</td>\n",
       "      <td>Importance</td>\n",
       "      <td>4.00</td>\n",
       "    </tr>\n",
       "  </tbody>\n",
       "</table>\n",
       "</div>"
      ],
      "text/plain": [
       "              occupation                  skill  scale_name  scale_value\n",
       "code                                                                    \n",
       "111011  Chief Executives  Reading Comprehension  Importance         4.12\n",
       "111011  Chief Executives  Reading Comprehension       Level         4.75\n",
       "111011  Chief Executives       Active Listening  Importance         4.12\n",
       "111011  Chief Executives       Active Listening       Level         4.88\n",
       "111011  Chief Executives                Writing  Importance         4.00"
      ]
     },
     "execution_count": 51,
     "metadata": {},
     "output_type": "execute_result"
    }
   ],
   "source": [
    "# Clean O*NET-SOC Code column and convert to integer index so we can joing with the bls data\n",
    "skills['code'] = skills['code'].str.replace('-','')\n",
    "skills['code'] = skills['code'].str.split('.', expand=True)\n",
    "skills['code'] = skills['code'].apply(pd.to_numeric)\n",
    "\n",
    "skills = skills.set_index('code')\n",
    "skills.head()"
   ]
  },
  {
   "cell_type": "code",
   "execution_count": 52,
   "metadata": {},
   "outputs": [
    {
     "data": {
      "text/plain": [
       "array(['Importance', 'Level'], dtype=object)"
      ]
     },
     "execution_count": 52,
     "metadata": {},
     "output_type": "execute_result"
    }
   ],
   "source": [
    "# Unique scale_name values\n",
    "skills['scale_name'].unique()"
   ]
  },
  {
   "cell_type": "code",
   "execution_count": 53,
   "metadata": {},
   "outputs": [
    {
     "data": {
      "text/html": [
       "<div>\n",
       "<style scoped>\n",
       "    .dataframe tbody tr th:only-of-type {\n",
       "        vertical-align: middle;\n",
       "    }\n",
       "\n",
       "    .dataframe tbody tr th {\n",
       "        vertical-align: top;\n",
       "    }\n",
       "\n",
       "    .dataframe thead th {\n",
       "        text-align: right;\n",
       "    }\n",
       "</style>\n",
       "<table border=\"1\" class=\"dataframe\">\n",
       "  <thead>\n",
       "    <tr style=\"text-align: right;\">\n",
       "      <th></th>\n",
       "      <th>occupation</th>\n",
       "      <th>skill</th>\n",
       "      <th>importance</th>\n",
       "    </tr>\n",
       "    <tr>\n",
       "      <th>code</th>\n",
       "      <th></th>\n",
       "      <th></th>\n",
       "      <th></th>\n",
       "    </tr>\n",
       "  </thead>\n",
       "  <tbody>\n",
       "    <tr>\n",
       "      <th>111011</th>\n",
       "      <td>Chief Executives</td>\n",
       "      <td>Reading Comprehension</td>\n",
       "      <td>4.12</td>\n",
       "    </tr>\n",
       "    <tr>\n",
       "      <th>111011</th>\n",
       "      <td>Chief Executives</td>\n",
       "      <td>Active Listening</td>\n",
       "      <td>4.12</td>\n",
       "    </tr>\n",
       "    <tr>\n",
       "      <th>111011</th>\n",
       "      <td>Chief Executives</td>\n",
       "      <td>Writing</td>\n",
       "      <td>4.00</td>\n",
       "    </tr>\n",
       "    <tr>\n",
       "      <th>111011</th>\n",
       "      <td>Chief Executives</td>\n",
       "      <td>Speaking</td>\n",
       "      <td>4.38</td>\n",
       "    </tr>\n",
       "    <tr>\n",
       "      <th>111011</th>\n",
       "      <td>Chief Executives</td>\n",
       "      <td>Mathematics</td>\n",
       "      <td>3.25</td>\n",
       "    </tr>\n",
       "  </tbody>\n",
       "</table>\n",
       "</div>"
      ],
      "text/plain": [
       "              occupation                  skill  importance\n",
       "code                                                       \n",
       "111011  Chief Executives  Reading Comprehension        4.12\n",
       "111011  Chief Executives       Active Listening        4.12\n",
       "111011  Chief Executives                Writing        4.00\n",
       "111011  Chief Executives               Speaking        4.38\n",
       "111011  Chief Executives            Mathematics        3.25"
      ]
     },
     "execution_count": 53,
     "metadata": {},
     "output_type": "execute_result"
    }
   ],
   "source": [
    "# For now just get a df with only importance scale values and drop scale_name column and rename value column\n",
    "skills = skills[skills['scale_name'] == 'Importance']\n",
    "skills.drop(columns='scale_name', inplace=True)\n",
    "skills.rename(columns={'scale_value':'importance'}, inplace=True)\n",
    "skills.head()"
   ]
  },
  {
   "cell_type": "markdown",
   "metadata": {},
   "source": [
    "# 3. Join Salary and Skills Dataframes"
   ]
  },
  {
   "cell_type": "code",
   "execution_count": 54,
   "metadata": {},
   "outputs": [
    {
     "data": {
      "text/plain": [
       "occupation_onet         0\n",
       "skill                   0\n",
       "importance              0\n",
       "occupation_bls          0\n",
       "location                0\n",
       "state                   0\n",
       "annual               4200\n",
       "hourly             186585\n",
       "dtype: int64"
      ]
     },
     "execution_count": 54,
     "metadata": {},
     "output_type": "execute_result"
    }
   ],
   "source": [
    "# Inner join\n",
    "inner_join = skills.join(salary, lsuffix='_onet', rsuffix='_bls', how='inner')\n",
    "inner_join.isna().sum()"
   ]
  },
  {
   "cell_type": "code",
   "execution_count": 55,
   "metadata": {},
   "outputs": [
    {
     "data": {
      "text/plain": [
       "(4778200, 8)"
      ]
     },
     "execution_count": 55,
     "metadata": {},
     "output_type": "execute_result"
    }
   ],
   "source": [
    "inner_join.shape"
   ]
  },
  {
   "cell_type": "code",
   "execution_count": 56,
   "metadata": {},
   "outputs": [
    {
     "data": {
      "text/html": [
       "<div>\n",
       "<style scoped>\n",
       "    .dataframe tbody tr th:only-of-type {\n",
       "        vertical-align: middle;\n",
       "    }\n",
       "\n",
       "    .dataframe tbody tr th {\n",
       "        vertical-align: top;\n",
       "    }\n",
       "\n",
       "    .dataframe thead th {\n",
       "        text-align: right;\n",
       "    }\n",
       "</style>\n",
       "<table border=\"1\" class=\"dataframe\">\n",
       "  <thead>\n",
       "    <tr style=\"text-align: right;\">\n",
       "      <th></th>\n",
       "      <th>occupation_onet</th>\n",
       "      <th>occupation_bls</th>\n",
       "      <th>0</th>\n",
       "    </tr>\n",
       "  </thead>\n",
       "  <tbody>\n",
       "    <tr>\n",
       "      <th>0</th>\n",
       "      <td>Baristas</td>\n",
       "      <td>Fast Food and Counter Workers</td>\n",
       "      <td>13860</td>\n",
       "    </tr>\n",
       "    <tr>\n",
       "      <th>1</th>\n",
       "      <td>Recycling and Reclamation Workers</td>\n",
       "      <td>Laborers and Freight, Stock, and Material Move...</td>\n",
       "      <td>13790</td>\n",
       "    </tr>\n",
       "    <tr>\n",
       "      <th>2</th>\n",
       "      <td>Solar Energy Installation Managers</td>\n",
       "      <td>First-Line Supervisors of Construction Trades ...</td>\n",
       "      <td>13755</td>\n",
       "    </tr>\n",
       "    <tr>\n",
       "      <th>3</th>\n",
       "      <td>Investment Fund Managers</td>\n",
       "      <td>Financial Managers</td>\n",
       "      <td>13720</td>\n",
       "    </tr>\n",
       "    <tr>\n",
       "      <th>4</th>\n",
       "      <td>Treasurers and Controllers</td>\n",
       "      <td>Financial Managers</td>\n",
       "      <td>13720</td>\n",
       "    </tr>\n",
       "    <tr>\n",
       "      <th>...</th>\n",
       "      <td>...</td>\n",
       "      <td>...</td>\n",
       "      <td>...</td>\n",
       "    </tr>\n",
       "    <tr>\n",
       "      <th>96</th>\n",
       "      <td>Music Therapists</td>\n",
       "      <td>Therapists, All Other</td>\n",
       "      <td>2030</td>\n",
       "    </tr>\n",
       "    <tr>\n",
       "      <th>97</th>\n",
       "      <td>Biofuels Processing Technicians</td>\n",
       "      <td>Plant and System Operators, All Other</td>\n",
       "      <td>1855</td>\n",
       "    </tr>\n",
       "    <tr>\n",
       "      <th>98</th>\n",
       "      <td>Environmental Economists</td>\n",
       "      <td>Economists</td>\n",
       "      <td>1820</td>\n",
       "    </tr>\n",
       "    <tr>\n",
       "      <th>99</th>\n",
       "      <td>Robotics Technicians</td>\n",
       "      <td>Electro-Mechanical and Mechatronics Technologi...</td>\n",
       "      <td>1680</td>\n",
       "    </tr>\n",
       "    <tr>\n",
       "      <th>100</th>\n",
       "      <td>Nuclear Monitoring Technicians</td>\n",
       "      <td>Nuclear Technicians</td>\n",
       "      <td>245</td>\n",
       "    </tr>\n",
       "  </tbody>\n",
       "</table>\n",
       "<p>101 rows × 3 columns</p>\n",
       "</div>"
      ],
      "text/plain": [
       "                        occupation_onet  \\\n",
       "0                              Baristas   \n",
       "1     Recycling and Reclamation Workers   \n",
       "2    Solar Energy Installation Managers   \n",
       "3              Investment Fund Managers   \n",
       "4            Treasurers and Controllers   \n",
       "..                                  ...   \n",
       "96                     Music Therapists   \n",
       "97      Biofuels Processing Technicians   \n",
       "98             Environmental Economists   \n",
       "99                 Robotics Technicians   \n",
       "100      Nuclear Monitoring Technicians   \n",
       "\n",
       "                                        occupation_bls      0  \n",
       "0                        Fast Food and Counter Workers  13860  \n",
       "1    Laborers and Freight, Stock, and Material Move...  13790  \n",
       "2    First-Line Supervisors of Construction Trades ...  13755  \n",
       "3                                   Financial Managers  13720  \n",
       "4                                   Financial Managers  13720  \n",
       "..                                                 ...    ...  \n",
       "96                               Therapists, All Other   2030  \n",
       "97               Plant and System Operators, All Other   1855  \n",
       "98                                          Economists   1820  \n",
       "99   Electro-Mechanical and Mechatronics Technologi...   1680  \n",
       "100                                Nuclear Technicians    245  \n",
       "\n",
       "[101 rows x 3 columns]"
      ]
     },
     "execution_count": 56,
     "metadata": {},
     "output_type": "execute_result"
    }
   ],
   "source": [
    "# Instances where joined occupations (based on SOC code) have different titles from each source\n",
    "map_occupation = inner_join[['occupation_onet','occupation_bls']][inner_join['occupation_bls'] != inner_join['occupation_onet']].value_counts().reset_index()\n",
    "map_occupation"
   ]
  },
  {
   "cell_type": "code",
   "execution_count": 57,
   "metadata": {},
   "outputs": [
    {
     "data": {
      "text/html": [
       "<div>\n",
       "<style scoped>\n",
       "    .dataframe tbody tr th:only-of-type {\n",
       "        vertical-align: middle;\n",
       "    }\n",
       "\n",
       "    .dataframe tbody tr th {\n",
       "        vertical-align: top;\n",
       "    }\n",
       "\n",
       "    .dataframe thead th {\n",
       "        text-align: right;\n",
       "    }\n",
       "</style>\n",
       "<table border=\"1\" class=\"dataframe\">\n",
       "  <thead>\n",
       "    <tr style=\"text-align: right;\">\n",
       "      <th></th>\n",
       "      <th>occupation_onet</th>\n",
       "      <th>skill</th>\n",
       "      <th>importance</th>\n",
       "      <th>location</th>\n",
       "      <th>state</th>\n",
       "      <th>annual</th>\n",
       "      <th>hourly</th>\n",
       "    </tr>\n",
       "  </thead>\n",
       "  <tbody>\n",
       "    <tr>\n",
       "      <th>111011</th>\n",
       "      <td>Chief Executives</td>\n",
       "      <td>Reading Comprehension</td>\n",
       "      <td>4.12</td>\n",
       "      <td>Aguadilla-Isabela</td>\n",
       "      <td>PR</td>\n",
       "      <td>92200.0</td>\n",
       "      <td>44.33</td>\n",
       "    </tr>\n",
       "    <tr>\n",
       "      <th>111011</th>\n",
       "      <td>Chief Executives</td>\n",
       "      <td>Reading Comprehension</td>\n",
       "      <td>4.12</td>\n",
       "      <td>Akron</td>\n",
       "      <td>OH</td>\n",
       "      <td>204420.0</td>\n",
       "      <td>98.28</td>\n",
       "    </tr>\n",
       "    <tr>\n",
       "      <th>111011</th>\n",
       "      <td>Chief Executives</td>\n",
       "      <td>Reading Comprehension</td>\n",
       "      <td>4.12</td>\n",
       "      <td>Albany</td>\n",
       "      <td>GA</td>\n",
       "      <td>121260.0</td>\n",
       "      <td>58.30</td>\n",
       "    </tr>\n",
       "    <tr>\n",
       "      <th>111011</th>\n",
       "      <td>Chief Executives</td>\n",
       "      <td>Reading Comprehension</td>\n",
       "      <td>4.12</td>\n",
       "      <td>Albany-Schenectady-Troy</td>\n",
       "      <td>NY</td>\n",
       "      <td>155870.0</td>\n",
       "      <td>74.94</td>\n",
       "    </tr>\n",
       "    <tr>\n",
       "      <th>111011</th>\n",
       "      <td>Chief Executives</td>\n",
       "      <td>Reading Comprehension</td>\n",
       "      <td>4.12</td>\n",
       "      <td>Allentown-Bethlehem-Easton</td>\n",
       "      <td>PA</td>\n",
       "      <td>215910.0</td>\n",
       "      <td>103.80</td>\n",
       "    </tr>\n",
       "  </tbody>\n",
       "</table>\n",
       "</div>"
      ],
      "text/plain": [
       "         occupation_onet                  skill  importance  \\\n",
       "111011  Chief Executives  Reading Comprehension        4.12   \n",
       "111011  Chief Executives  Reading Comprehension        4.12   \n",
       "111011  Chief Executives  Reading Comprehension        4.12   \n",
       "111011  Chief Executives  Reading Comprehension        4.12   \n",
       "111011  Chief Executives  Reading Comprehension        4.12   \n",
       "\n",
       "                          location state    annual  hourly  \n",
       "111011           Aguadilla-Isabela    PR   92200.0   44.33  \n",
       "111011                       Akron    OH  204420.0   98.28  \n",
       "111011                      Albany    GA  121260.0   58.30  \n",
       "111011     Albany-Schenectady-Troy    NY  155870.0   74.94  \n",
       "111011  Allentown-Bethlehem-Easton    PA  215910.0  103.80  "
      ]
     },
     "execution_count": 57,
     "metadata": {},
     "output_type": "execute_result"
    }
   ],
   "source": [
    "# Drop occupation_bls and keep the onet (more detailed) titles\n",
    "salary_skill = inner_join[['occupation_onet', 'skill', 'importance', 'location', 'state', 'annual', 'hourly']]\n",
    "salary_skill.head()"
   ]
  },
  {
   "cell_type": "code",
   "execution_count": 58,
   "metadata": {},
   "outputs": [
    {
     "data": {
      "text/html": [
       "<div>\n",
       "<style scoped>\n",
       "    .dataframe tbody tr th:only-of-type {\n",
       "        vertical-align: middle;\n",
       "    }\n",
       "\n",
       "    .dataframe tbody tr th {\n",
       "        vertical-align: top;\n",
       "    }\n",
       "\n",
       "    .dataframe thead th {\n",
       "        text-align: right;\n",
       "    }\n",
       "</style>\n",
       "<table border=\"1\" class=\"dataframe\">\n",
       "  <thead>\n",
       "    <tr style=\"text-align: right;\">\n",
       "      <th></th>\n",
       "      <th>occupation_onet</th>\n",
       "      <th>skill</th>\n",
       "      <th>importance</th>\n",
       "      <th>location</th>\n",
       "      <th>state</th>\n",
       "      <th>annual</th>\n",
       "      <th>hourly</th>\n",
       "    </tr>\n",
       "  </thead>\n",
       "  <tbody>\n",
       "    <tr>\n",
       "      <th>0</th>\n",
       "      <td>Chief Executives</td>\n",
       "      <td>Reading Comprehension</td>\n",
       "      <td>4.12</td>\n",
       "      <td>Aguadilla-Isabela</td>\n",
       "      <td>PR</td>\n",
       "      <td>92200.0</td>\n",
       "      <td>44.33</td>\n",
       "    </tr>\n",
       "    <tr>\n",
       "      <th>1</th>\n",
       "      <td>Chief Executives</td>\n",
       "      <td>Reading Comprehension</td>\n",
       "      <td>4.12</td>\n",
       "      <td>Akron</td>\n",
       "      <td>OH</td>\n",
       "      <td>204420.0</td>\n",
       "      <td>98.28</td>\n",
       "    </tr>\n",
       "    <tr>\n",
       "      <th>2</th>\n",
       "      <td>Chief Executives</td>\n",
       "      <td>Reading Comprehension</td>\n",
       "      <td>4.12</td>\n",
       "      <td>Albany</td>\n",
       "      <td>GA</td>\n",
       "      <td>121260.0</td>\n",
       "      <td>58.30</td>\n",
       "    </tr>\n",
       "    <tr>\n",
       "      <th>3</th>\n",
       "      <td>Chief Executives</td>\n",
       "      <td>Reading Comprehension</td>\n",
       "      <td>4.12</td>\n",
       "      <td>Albany-Schenectady-Troy</td>\n",
       "      <td>NY</td>\n",
       "      <td>155870.0</td>\n",
       "      <td>74.94</td>\n",
       "    </tr>\n",
       "    <tr>\n",
       "      <th>4</th>\n",
       "      <td>Chief Executives</td>\n",
       "      <td>Reading Comprehension</td>\n",
       "      <td>4.12</td>\n",
       "      <td>Allentown-Bethlehem-Easton</td>\n",
       "      <td>PA</td>\n",
       "      <td>215910.0</td>\n",
       "      <td>103.80</td>\n",
       "    </tr>\n",
       "  </tbody>\n",
       "</table>\n",
       "</div>"
      ],
      "text/plain": [
       "    occupation_onet                  skill  importance  \\\n",
       "0  Chief Executives  Reading Comprehension        4.12   \n",
       "1  Chief Executives  Reading Comprehension        4.12   \n",
       "2  Chief Executives  Reading Comprehension        4.12   \n",
       "3  Chief Executives  Reading Comprehension        4.12   \n",
       "4  Chief Executives  Reading Comprehension        4.12   \n",
       "\n",
       "                     location state    annual  hourly  \n",
       "0           Aguadilla-Isabela    PR   92200.0   44.33  \n",
       "1                       Akron    OH  204420.0   98.28  \n",
       "2                      Albany    GA  121260.0   58.30  \n",
       "3     Albany-Schenectady-Troy    NY  155870.0   74.94  \n",
       "4  Allentown-Bethlehem-Easton    PA  215910.0  103.80  "
      ]
     },
     "execution_count": 58,
     "metadata": {},
     "output_type": "execute_result"
    }
   ],
   "source": [
    "# Drop rows missing annual values. Occupation codes can be dropped as well since we needed it for joining our data\n",
    "df = salary_skill[salary_skill['annual'].notna()].reset_index(drop=True)\n",
    "df.head()"
   ]
  },
  {
   "cell_type": "code",
   "execution_count": 59,
   "metadata": {},
   "outputs": [
    {
     "data": {
      "text/html": [
       "<div>\n",
       "<style scoped>\n",
       "    .dataframe tbody tr th:only-of-type {\n",
       "        vertical-align: middle;\n",
       "    }\n",
       "\n",
       "    .dataframe tbody tr th {\n",
       "        vertical-align: top;\n",
       "    }\n",
       "\n",
       "    .dataframe thead th {\n",
       "        text-align: right;\n",
       "    }\n",
       "</style>\n",
       "<table border=\"1\" class=\"dataframe\">\n",
       "  <thead>\n",
       "    <tr style=\"text-align: right;\">\n",
       "      <th></th>\n",
       "      <th>occupation</th>\n",
       "      <th>skill</th>\n",
       "      <th>importance</th>\n",
       "      <th>location</th>\n",
       "      <th>state</th>\n",
       "      <th>salary</th>\n",
       "    </tr>\n",
       "  </thead>\n",
       "  <tbody>\n",
       "    <tr>\n",
       "      <th>0</th>\n",
       "      <td>Chief Executives</td>\n",
       "      <td>Reading Comprehension</td>\n",
       "      <td>4.12</td>\n",
       "      <td>Aguadilla-Isabela</td>\n",
       "      <td>PR</td>\n",
       "      <td>92200.0</td>\n",
       "    </tr>\n",
       "    <tr>\n",
       "      <th>1</th>\n",
       "      <td>Chief Executives</td>\n",
       "      <td>Reading Comprehension</td>\n",
       "      <td>4.12</td>\n",
       "      <td>Akron</td>\n",
       "      <td>OH</td>\n",
       "      <td>204420.0</td>\n",
       "    </tr>\n",
       "    <tr>\n",
       "      <th>2</th>\n",
       "      <td>Chief Executives</td>\n",
       "      <td>Reading Comprehension</td>\n",
       "      <td>4.12</td>\n",
       "      <td>Albany</td>\n",
       "      <td>GA</td>\n",
       "      <td>121260.0</td>\n",
       "    </tr>\n",
       "    <tr>\n",
       "      <th>3</th>\n",
       "      <td>Chief Executives</td>\n",
       "      <td>Reading Comprehension</td>\n",
       "      <td>4.12</td>\n",
       "      <td>Albany-Schenectady-Troy</td>\n",
       "      <td>NY</td>\n",
       "      <td>155870.0</td>\n",
       "    </tr>\n",
       "    <tr>\n",
       "      <th>4</th>\n",
       "      <td>Chief Executives</td>\n",
       "      <td>Reading Comprehension</td>\n",
       "      <td>4.12</td>\n",
       "      <td>Allentown-Bethlehem-Easton</td>\n",
       "      <td>PA</td>\n",
       "      <td>215910.0</td>\n",
       "    </tr>\n",
       "  </tbody>\n",
       "</table>\n",
       "</div>"
      ],
      "text/plain": [
       "         occupation                  skill  importance  \\\n",
       "0  Chief Executives  Reading Comprehension        4.12   \n",
       "1  Chief Executives  Reading Comprehension        4.12   \n",
       "2  Chief Executives  Reading Comprehension        4.12   \n",
       "3  Chief Executives  Reading Comprehension        4.12   \n",
       "4  Chief Executives  Reading Comprehension        4.12   \n",
       "\n",
       "                     location state    salary  \n",
       "0           Aguadilla-Isabela    PR   92200.0  \n",
       "1                       Akron    OH  204420.0  \n",
       "2                      Albany    GA  121260.0  \n",
       "3     Albany-Schenectady-Troy    NY  155870.0  \n",
       "4  Allentown-Bethlehem-Easton    PA  215910.0  "
      ]
     },
     "execution_count": 59,
     "metadata": {},
     "output_type": "execute_result"
    }
   ],
   "source": [
    "# Drop the hourly column since there less missing values for annual income\n",
    "df.drop(columns='hourly', inplace=True)\n",
    "df.rename(columns={'occupation_onet':'occupation', 'annual':'salary'}, inplace=True)\n",
    "df.head()"
   ]
  },
  {
   "cell_type": "code",
   "execution_count": 60,
   "metadata": {},
   "outputs": [
    {
     "data": {
      "image/png": "[encoded data removed]",
      "text/plain": [
       "<Figure size 1800x720 with 1 Axes>"
      ]
     },
     "metadata": {
      "needs_background": "light"
     },
     "output_type": "display_data"
    }
   ],
   "source": [
    "plt.subplots(figsize=(25,10))\n",
    "sns.boxplot(x='skill', y='importance', data=df)\n",
    "plt.xticks(rotation=90);"
   ]
  },
  {
   "cell_type": "code",
   "execution_count": 54,
   "metadata": {},
   "outputs": [
    {
     "data": {
      "application/vnd.jupyter.widget-view+json": {
       "model_id": "66d2c495b9834b40826f22b79a7f5d58",
       "version_major": 2,
       "version_minor": 0
      },
      "text/plain": [
       "HBox(children=(HTML(value='Summarize dataset'), FloatProgress(value=0.0, max=20.0), HTML(value='')))"
      ]
     },
     "metadata": {},
     "output_type": "display_data"
    },
    {
     "name": "stdout",
     "output_type": "stream",
     "text": [
      "\n"
     ]
    },
    {
     "data": {
      "application/vnd.jupyter.widget-view+json": {
       "model_id": "fce6469d0ff948d19bde9a409d3a399d",
       "version_major": 2,
       "version_minor": 0
      },
      "text/plain": [
       "HBox(children=(HTML(value='Generate report structure'), FloatProgress(value=0.0, max=1.0), HTML(value='')))"
      ]
     },
     "metadata": {},
     "output_type": "display_data"
    },
    {
     "name": "stdout",
     "output_type": "stream",
     "text": [
      "\n"
     ]
    },
    {
     "data": {
      "application/vnd.jupyter.widget-view+json": {
       "model_id": "",
       "version_major": 2,
       "version_minor": 0
      },
      "text/plain": [
       "HBox(children=(HTML(value='Render widgets'), FloatProgress(value=0.0, max=1.0), HTML(value='')))"
      ]
     },
     "metadata": {},
     "output_type": "display_data"
    },
    {
     "data": {
      "application/vnd.jupyter.widget-view+json": {
       "model_id": "746d262f50644a608d67d23f4afa7cbb",
       "version_major": 2,
       "version_minor": 0
      },
      "text/plain": [
       "VBox(children=(Tab(children=(Tab(children=(GridBox(children=(VBox(children=(GridspecLayout(children=(HTML(valu…"
      ]
     },
     "metadata": {},
     "output_type": "display_data"
    }
   ],
   "source": [
    "# Run a profile roport on final dataframe\n",
    "final_profile = df.profile_report(html={'style': {'full_width': True}})\n",
    "final_profile.to_widgets()"
   ]
  },
  {
   "cell_type": "markdown",
   "metadata": {},
   "source": [
    "3 is the most common value for importance followed by 1. Whole values such as 3, 1, 2, and 4 are among the top 10 most frequent values which makes sense, given the tendacy to use whole numbers. The highest value, 5 is rare.\n",
    "\n",
    "California, Texas and Florida have the highest number of jobs. These have more centers with high population density.\n",
    "\n",
    "The annual salary skewed to the right indicating very few occupations earn above $150,000."
   ]
  },
  {
   "cell_type": "code",
   "execution_count": 55,
   "metadata": {},
   "outputs": [],
   "source": [
    "df.to_csv('../data/interim/salary_skill_cleaned.csv')"
   ]
  },
  {
   "cell_type": "code",
   "execution_count": null,
   "metadata": {},
   "outputs": [],
   "source": []
  }
 ],
 "metadata": {
  "kernelspec": {
   "display_name": "Python 3 (ipykernel)",
   "language": "python",
   "name": "python3"
  },
  "language_info": {
   "codemirror_mode": {
    "name": "ipython",
    "version": 3
   },
   "file_extension": ".py",
   "mimetype": "text/x-python",
   "name": "python",
   "nbconvert_exporter": "python",
   "pygments_lexer": "ipython3",
   "version": "3.9.7"
  }
 },
 "nbformat": 4,
 "nbformat_minor": 4
}
