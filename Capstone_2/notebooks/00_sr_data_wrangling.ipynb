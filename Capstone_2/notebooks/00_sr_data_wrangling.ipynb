{
 "cells": [
  {
   "cell_type": "code",
   "execution_count": 54,
   "metadata": {},
   "outputs": [],
   "source": [
    "import pandas as pd\n",
    "import numpy as np\n",
    "import matplotlib.pyplot as plt\n",
    "import seaborn as sns\n",
    "\n",
    "import pandas_profiling\n",
    "from pandas_profiling.utils.cache import cache_file\n",
    "%matplotlib inline"
   ]
  },
  {
   "cell_type": "markdown",
   "metadata": {},
   "source": [
    "# 1. BLS Salary Data"
   ]
  },
  {
   "cell_type": "code",
   "execution_count": 2,
   "metadata": {},
   "outputs": [],
   "source": [
    "# Import salary information for occupations for all areas into a dataframe\n",
    "salary_df = pd.read_excel('../data/raw/MSA_M2020_dl.xlsx', sheet_name = 'MSA_M2020_dl')"
   ]
  },
  {
   "cell_type": "markdown",
   "metadata": {},
   "source": [
    "## Explore Salary Data"
   ]
  },
  {
   "cell_type": "code",
   "execution_count": 3,
   "metadata": {},
   "outputs": [
    {
     "data": {
      "text/html": [
       "<div>\n",
       "<style scoped>\n",
       "    .dataframe tbody tr th:only-of-type {\n",
       "        vertical-align: middle;\n",
       "    }\n",
       "\n",
       "    .dataframe tbody tr th {\n",
       "        vertical-align: top;\n",
       "    }\n",
       "\n",
       "    .dataframe thead th {\n",
       "        text-align: right;\n",
       "    }\n",
       "</style>\n",
       "<table border=\"1\" class=\"dataframe\">\n",
       "  <thead>\n",
       "    <tr style=\"text-align: right;\">\n",
       "      <th></th>\n",
       "      <th>AREA</th>\n",
       "      <th>AREA_TITLE</th>\n",
       "      <th>AREA_TYPE</th>\n",
       "      <th>PRIM_STATE</th>\n",
       "      <th>NAICS</th>\n",
       "      <th>NAICS_TITLE</th>\n",
       "      <th>I_GROUP</th>\n",
       "      <th>OWN_CODE</th>\n",
       "      <th>OCC_CODE</th>\n",
       "      <th>OCC_TITLE</th>\n",
       "      <th>...</th>\n",
       "      <th>H_MEDIAN</th>\n",
       "      <th>H_PCT75</th>\n",
       "      <th>H_PCT90</th>\n",
       "      <th>A_PCT10</th>\n",
       "      <th>A_PCT25</th>\n",
       "      <th>A_MEDIAN</th>\n",
       "      <th>A_PCT75</th>\n",
       "      <th>A_PCT90</th>\n",
       "      <th>ANNUAL</th>\n",
       "      <th>HOURLY</th>\n",
       "    </tr>\n",
       "  </thead>\n",
       "  <tbody>\n",
       "    <tr>\n",
       "      <th>0</th>\n",
       "      <td>10180</td>\n",
       "      <td>Abilene, TX</td>\n",
       "      <td>4</td>\n",
       "      <td>TX</td>\n",
       "      <td>0</td>\n",
       "      <td>Cross-industry</td>\n",
       "      <td>cross-industry</td>\n",
       "      <td>1235</td>\n",
       "      <td>00-0000</td>\n",
       "      <td>All Occupations</td>\n",
       "      <td>...</td>\n",
       "      <td>16.41</td>\n",
       "      <td>24.82</td>\n",
       "      <td>36.23</td>\n",
       "      <td>18990</td>\n",
       "      <td>23710</td>\n",
       "      <td>34130</td>\n",
       "      <td>51620</td>\n",
       "      <td>75370</td>\n",
       "      <td>NaN</td>\n",
       "      <td>NaN</td>\n",
       "    </tr>\n",
       "    <tr>\n",
       "      <th>1</th>\n",
       "      <td>10180</td>\n",
       "      <td>Abilene, TX</td>\n",
       "      <td>4</td>\n",
       "      <td>TX</td>\n",
       "      <td>0</td>\n",
       "      <td>Cross-industry</td>\n",
       "      <td>cross-industry</td>\n",
       "      <td>1235</td>\n",
       "      <td>11-0000</td>\n",
       "      <td>Management Occupations</td>\n",
       "      <td>...</td>\n",
       "      <td>36.37</td>\n",
       "      <td>51.68</td>\n",
       "      <td>73.88</td>\n",
       "      <td>36150</td>\n",
       "      <td>55620</td>\n",
       "      <td>75640</td>\n",
       "      <td>107500</td>\n",
       "      <td>153670</td>\n",
       "      <td>NaN</td>\n",
       "      <td>NaN</td>\n",
       "    </tr>\n",
       "    <tr>\n",
       "      <th>2</th>\n",
       "      <td>10180</td>\n",
       "      <td>Abilene, TX</td>\n",
       "      <td>4</td>\n",
       "      <td>TX</td>\n",
       "      <td>0</td>\n",
       "      <td>Cross-industry</td>\n",
       "      <td>cross-industry</td>\n",
       "      <td>1235</td>\n",
       "      <td>11-1021</td>\n",
       "      <td>General and Operations Managers</td>\n",
       "      <td>...</td>\n",
       "      <td>32.96</td>\n",
       "      <td>50.11</td>\n",
       "      <td>72.93</td>\n",
       "      <td>26350</td>\n",
       "      <td>49960</td>\n",
       "      <td>68550</td>\n",
       "      <td>104230</td>\n",
       "      <td>151700</td>\n",
       "      <td>NaN</td>\n",
       "      <td>NaN</td>\n",
       "    </tr>\n",
       "    <tr>\n",
       "      <th>3</th>\n",
       "      <td>10180</td>\n",
       "      <td>Abilene, TX</td>\n",
       "      <td>4</td>\n",
       "      <td>TX</td>\n",
       "      <td>0</td>\n",
       "      <td>Cross-industry</td>\n",
       "      <td>cross-industry</td>\n",
       "      <td>1235</td>\n",
       "      <td>11-2022</td>\n",
       "      <td>Sales Managers</td>\n",
       "      <td>...</td>\n",
       "      <td>52.41</td>\n",
       "      <td>68.01</td>\n",
       "      <td>#</td>\n",
       "      <td>54560</td>\n",
       "      <td>74680</td>\n",
       "      <td>109000</td>\n",
       "      <td>141460</td>\n",
       "      <td>#</td>\n",
       "      <td>NaN</td>\n",
       "      <td>NaN</td>\n",
       "    </tr>\n",
       "    <tr>\n",
       "      <th>4</th>\n",
       "      <td>10180</td>\n",
       "      <td>Abilene, TX</td>\n",
       "      <td>4</td>\n",
       "      <td>TX</td>\n",
       "      <td>0</td>\n",
       "      <td>Cross-industry</td>\n",
       "      <td>cross-industry</td>\n",
       "      <td>1235</td>\n",
       "      <td>11-2030</td>\n",
       "      <td>Public Relations and Fundraising Managers</td>\n",
       "      <td>...</td>\n",
       "      <td>36.24</td>\n",
       "      <td>41.23</td>\n",
       "      <td>83.81</td>\n",
       "      <td>59710</td>\n",
       "      <td>68180</td>\n",
       "      <td>75380</td>\n",
       "      <td>85760</td>\n",
       "      <td>174320</td>\n",
       "      <td>NaN</td>\n",
       "      <td>NaN</td>\n",
       "    </tr>\n",
       "  </tbody>\n",
       "</table>\n",
       "<p>5 rows × 31 columns</p>\n",
       "</div>"
      ],
      "text/plain": [
       "    AREA   AREA_TITLE  AREA_TYPE PRIM_STATE  NAICS     NAICS_TITLE  \\\n",
       "0  10180  Abilene, TX          4         TX      0  Cross-industry   \n",
       "1  10180  Abilene, TX          4         TX      0  Cross-industry   \n",
       "2  10180  Abilene, TX          4         TX      0  Cross-industry   \n",
       "3  10180  Abilene, TX          4         TX      0  Cross-industry   \n",
       "4  10180  Abilene, TX          4         TX      0  Cross-industry   \n",
       "\n",
       "          I_GROUP  OWN_CODE OCC_CODE  \\\n",
       "0  cross-industry      1235  00-0000   \n",
       "1  cross-industry      1235  11-0000   \n",
       "2  cross-industry      1235  11-1021   \n",
       "3  cross-industry      1235  11-2022   \n",
       "4  cross-industry      1235  11-2030   \n",
       "\n",
       "                                   OCC_TITLE  ... H_MEDIAN H_PCT75 H_PCT90  \\\n",
       "0                            All Occupations  ...    16.41   24.82   36.23   \n",
       "1                     Management Occupations  ...    36.37   51.68   73.88   \n",
       "2            General and Operations Managers  ...    32.96   50.11   72.93   \n",
       "3                             Sales Managers  ...    52.41   68.01       #   \n",
       "4  Public Relations and Fundraising Managers  ...    36.24   41.23   83.81   \n",
       "\n",
       "  A_PCT10 A_PCT25  A_MEDIAN A_PCT75 A_PCT90 ANNUAL HOURLY  \n",
       "0   18990   23710     34130   51620   75370    NaN    NaN  \n",
       "1   36150   55620     75640  107500  153670    NaN    NaN  \n",
       "2   26350   49960     68550  104230  151700    NaN    NaN  \n",
       "3   54560   74680    109000  141460       #    NaN    NaN  \n",
       "4   59710   68180     75380   85760  174320    NaN    NaN  \n",
       "\n",
       "[5 rows x 31 columns]"
      ]
     },
     "execution_count": 3,
     "metadata": {},
     "output_type": "execute_result"
    }
   ],
   "source": [
    "salary_df.head()"
   ]
  },
  {
   "cell_type": "code",
   "execution_count": 4,
   "metadata": {},
   "outputs": [
    {
     "data": {
      "text/plain": [
       "(140051, 31)"
      ]
     },
     "execution_count": 4,
     "metadata": {},
     "output_type": "execute_result"
    }
   ],
   "source": [
    "salary_df.shape"
   ]
  },
  {
   "cell_type": "code",
   "execution_count": 5,
   "metadata": {},
   "outputs": [
    {
     "name": "stdout",
     "output_type": "stream",
     "text": [
      "<class 'pandas.core.frame.DataFrame'>\n",
      "RangeIndex: 140051 entries, 0 to 140050\n",
      "Data columns (total 31 columns):\n",
      " #   Column        Non-Null Count   Dtype  \n",
      "---  ------        --------------   -----  \n",
      " 0   AREA          140051 non-null  int64  \n",
      " 1   AREA_TITLE    140051 non-null  object \n",
      " 2   AREA_TYPE     140051 non-null  int64  \n",
      " 3   PRIM_STATE    140051 non-null  object \n",
      " 4   NAICS         140051 non-null  int64  \n",
      " 5   NAICS_TITLE   140051 non-null  object \n",
      " 6   I_GROUP       140051 non-null  object \n",
      " 7   OWN_CODE      140051 non-null  int64  \n",
      " 8   OCC_CODE      140051 non-null  object \n",
      " 9   OCC_TITLE     140051 non-null  object \n",
      " 10  O_GROUP       140051 non-null  object \n",
      " 11  TOT_EMP       140051 non-null  object \n",
      " 12  EMP_PRSE      140051 non-null  object \n",
      " 13  JOBS_1000     140051 non-null  object \n",
      " 14  LOC_QUOTIENT  140051 non-null  object \n",
      " 15  PCT_TOTAL     0 non-null       float64\n",
      " 16  H_MEAN        140051 non-null  object \n",
      " 17  A_MEAN        140051 non-null  object \n",
      " 18  MEAN_PRSE     140051 non-null  object \n",
      " 19  H_PCT10       140051 non-null  object \n",
      " 20  H_PCT25       140051 non-null  object \n",
      " 21  H_MEDIAN      140051 non-null  object \n",
      " 22  H_PCT75       140051 non-null  object \n",
      " 23  H_PCT90       140051 non-null  object \n",
      " 24  A_PCT10       140051 non-null  object \n",
      " 25  A_PCT25       140051 non-null  object \n",
      " 26  A_MEDIAN      140051 non-null  object \n",
      " 27  A_PCT75       140051 non-null  object \n",
      " 28  A_PCT90       140051 non-null  object \n",
      " 29  ANNUAL        7199 non-null    object \n",
      " 30  HOURLY        215 non-null     object \n",
      "dtypes: float64(1), int64(4), object(26)\n",
      "memory usage: 33.1+ MB\n"
     ]
    }
   ],
   "source": [
    "salary_df.info()"
   ]
  },
  {
   "cell_type": "markdown",
   "metadata": {},
   "source": [
    "## Preliminary Cleaning"
   ]
  },
  {
   "cell_type": "markdown",
   "metadata": {},
   "source": [
    "According to the dataset:\n",
    "\n",
    "\\*  = indicates that a wage estimate is not available\t\n",
    "\\#  = indicates a wage equal to or greater than \\\\$100 per hour or $208,000 per year. \n",
    "\n",
    "These wages are very high and rare. They are outliers. So I'll replace the annual mean and hourly mean with these values."
   ]
  },
  {
   "cell_type": "code",
   "execution_count": 6,
   "metadata": {},
   "outputs": [
    {
     "data": {
      "text/plain": [
       "array(['Surgeons, Except Ophthalmologists', 'Anesthesiologists',\n",
       "       'Physicians, All Other; and Ophthalmologists, Except Pediatric',\n",
       "       'Obstetricians and Gynecologists',\n",
       "       'General Internal Medicine Physicians',\n",
       "       'Agents and Business Managers of Artists, Performers, and Athletes',\n",
       "       'Dentists, General', 'Orthodontists', 'Psychiatrists',\n",
       "       'Dentists, All Other Specialists', 'Family Medicine Physicians',\n",
       "       'Oral and Maxillofacial Surgeons'], dtype=object)"
      ]
     },
     "execution_count": 6,
     "metadata": {},
     "output_type": "execute_result"
    }
   ],
   "source": [
    "# Occupations with \"#\" in place of their mean earnings using the lowest value available to us, the 10th percentile\n",
    "salary_df['OCC_TITLE'][(salary_df['H_MEAN']=='#') | (salary_df['A_MEAN']=='#')].unique()"
   ]
  },
  {
   "cell_type": "code",
   "execution_count": 7,
   "metadata": {},
   "outputs": [
    {
     "name": "stdout",
     "output_type": "stream",
     "text": [
      "Series([], dtype: int64)\n",
      "Series([], dtype: int64)\n"
     ]
    }
   ],
   "source": [
    "# Replace '#' for annual and hourly mean\n",
    "salary_df['H_MEAN'].str.replace('#','100')\n",
    "salary_df['A_MEAN'].str.replace('#','208000')\n",
    "\n",
    "print(salary_df[salary_df['H_MEAN']=='#'].value_counts())\n",
    "print(salary_df[salary_df['A_MEAN']=='#'].value_counts())"
   ]
  },
  {
   "cell_type": "markdown",
   "metadata": {},
   "source": [
    "### Drop columns and rows"
   ]
  },
  {
   "cell_type": "markdown",
   "metadata": {},
   "source": [
    "I'm only interested in mean income values so the only income columns we keep are those two. Fields such as AREA, AREA_TYPE, NAICS, NAICS_TITLE, I_GROUP, OWN_CODE, TOT_EMP, EMP_PRSE, JOBS_1000, LOC_QUOTIENT, PCT_TOTAL, HOURLY and ANNUAL add no value to our analysis or help aid with cleaning further. I do keep O_GROUP because it will help filter rows that correspond to aggregate value for all occupations. After doing so we can get rid of that column as well and we remain with location, state, code, occupation, annual and hourly salaries."
   ]
  },
  {
   "cell_type": "code",
   "execution_count": 8,
   "metadata": {},
   "outputs": [
    {
     "data": {
      "text/plain": [
       "array(['total', 'major', 'detailed'], dtype=object)"
      ]
     },
     "execution_count": 8,
     "metadata": {},
     "output_type": "execute_result"
    }
   ],
   "source": [
    "# Unique values of O_group\n",
    "salary_df['O_GROUP'].unique()"
   ]
  },
  {
   "cell_type": "code",
   "execution_count": 9,
   "metadata": {},
   "outputs": [
    {
     "data": {
      "text/html": [
       "<div>\n",
       "<style scoped>\n",
       "    .dataframe tbody tr th:only-of-type {\n",
       "        vertical-align: middle;\n",
       "    }\n",
       "\n",
       "    .dataframe tbody tr th {\n",
       "        vertical-align: top;\n",
       "    }\n",
       "\n",
       "    .dataframe thead th {\n",
       "        text-align: right;\n",
       "    }\n",
       "</style>\n",
       "<table border=\"1\" class=\"dataframe\">\n",
       "  <thead>\n",
       "    <tr style=\"text-align: right;\">\n",
       "      <th></th>\n",
       "      <th>AREA</th>\n",
       "      <th>AREA_TITLE</th>\n",
       "      <th>AREA_TYPE</th>\n",
       "      <th>PRIM_STATE</th>\n",
       "      <th>NAICS</th>\n",
       "      <th>NAICS_TITLE</th>\n",
       "      <th>I_GROUP</th>\n",
       "      <th>OWN_CODE</th>\n",
       "      <th>OCC_CODE</th>\n",
       "      <th>OCC_TITLE</th>\n",
       "      <th>...</th>\n",
       "      <th>H_MEDIAN</th>\n",
       "      <th>H_PCT75</th>\n",
       "      <th>H_PCT90</th>\n",
       "      <th>A_PCT10</th>\n",
       "      <th>A_PCT25</th>\n",
       "      <th>A_MEDIAN</th>\n",
       "      <th>A_PCT75</th>\n",
       "      <th>A_PCT90</th>\n",
       "      <th>ANNUAL</th>\n",
       "      <th>HOURLY</th>\n",
       "    </tr>\n",
       "  </thead>\n",
       "  <tbody>\n",
       "    <tr>\n",
       "      <th>0</th>\n",
       "      <td>10180</td>\n",
       "      <td>Abilene, TX</td>\n",
       "      <td>4</td>\n",
       "      <td>TX</td>\n",
       "      <td>0</td>\n",
       "      <td>Cross-industry</td>\n",
       "      <td>cross-industry</td>\n",
       "      <td>1235</td>\n",
       "      <td>00-0000</td>\n",
       "      <td>All Occupations</td>\n",
       "      <td>...</td>\n",
       "      <td>16.41</td>\n",
       "      <td>24.82</td>\n",
       "      <td>36.23</td>\n",
       "      <td>18990</td>\n",
       "      <td>23710</td>\n",
       "      <td>34130</td>\n",
       "      <td>51620</td>\n",
       "      <td>75370</td>\n",
       "      <td>NaN</td>\n",
       "      <td>NaN</td>\n",
       "    </tr>\n",
       "    <tr>\n",
       "      <th>281</th>\n",
       "      <td>10380</td>\n",
       "      <td>Aguadilla-Isabela, PR</td>\n",
       "      <td>4</td>\n",
       "      <td>PR</td>\n",
       "      <td>0</td>\n",
       "      <td>Cross-industry</td>\n",
       "      <td>cross-industry</td>\n",
       "      <td>1235</td>\n",
       "      <td>00-0000</td>\n",
       "      <td>All Occupations</td>\n",
       "      <td>...</td>\n",
       "      <td>9.37</td>\n",
       "      <td>14.13</td>\n",
       "      <td>22.35</td>\n",
       "      <td>16470</td>\n",
       "      <td>17600</td>\n",
       "      <td>19490</td>\n",
       "      <td>29400</td>\n",
       "      <td>46480</td>\n",
       "      <td>NaN</td>\n",
       "      <td>NaN</td>\n",
       "    </tr>\n",
       "    <tr>\n",
       "      <th>457</th>\n",
       "      <td>10420</td>\n",
       "      <td>Akron, OH</td>\n",
       "      <td>4</td>\n",
       "      <td>OH</td>\n",
       "      <td>0</td>\n",
       "      <td>Cross-industry</td>\n",
       "      <td>cross-industry</td>\n",
       "      <td>1235</td>\n",
       "      <td>00-0000</td>\n",
       "      <td>All Occupations</td>\n",
       "      <td>...</td>\n",
       "      <td>19.44</td>\n",
       "      <td>30.53</td>\n",
       "      <td>43.8</td>\n",
       "      <td>20500</td>\n",
       "      <td>27230</td>\n",
       "      <td>40440</td>\n",
       "      <td>63500</td>\n",
       "      <td>91100</td>\n",
       "      <td>NaN</td>\n",
       "      <td>NaN</td>\n",
       "    </tr>\n",
       "    <tr>\n",
       "      <th>953</th>\n",
       "      <td>10500</td>\n",
       "      <td>Albany, GA</td>\n",
       "      <td>4</td>\n",
       "      <td>GA</td>\n",
       "      <td>0</td>\n",
       "      <td>Cross-industry</td>\n",
       "      <td>cross-industry</td>\n",
       "      <td>1235</td>\n",
       "      <td>00-0000</td>\n",
       "      <td>All Occupations</td>\n",
       "      <td>...</td>\n",
       "      <td>15.77</td>\n",
       "      <td>26.32</td>\n",
       "      <td>38.33</td>\n",
       "      <td>17930</td>\n",
       "      <td>21810</td>\n",
       "      <td>32810</td>\n",
       "      <td>54740</td>\n",
       "      <td>79730</td>\n",
       "      <td>NaN</td>\n",
       "      <td>NaN</td>\n",
       "    </tr>\n",
       "    <tr>\n",
       "      <th>1186</th>\n",
       "      <td>10540</td>\n",
       "      <td>Albany, OR</td>\n",
       "      <td>4</td>\n",
       "      <td>OR</td>\n",
       "      <td>0</td>\n",
       "      <td>Cross-industry</td>\n",
       "      <td>cross-industry</td>\n",
       "      <td>1235</td>\n",
       "      <td>00-0000</td>\n",
       "      <td>All Occupations</td>\n",
       "      <td>...</td>\n",
       "      <td>19.13</td>\n",
       "      <td>28.68</td>\n",
       "      <td>41.45</td>\n",
       "      <td>25020</td>\n",
       "      <td>29560</td>\n",
       "      <td>39780</td>\n",
       "      <td>59650</td>\n",
       "      <td>86220</td>\n",
       "      <td>NaN</td>\n",
       "      <td>NaN</td>\n",
       "    </tr>\n",
       "  </tbody>\n",
       "</table>\n",
       "<p>5 rows × 31 columns</p>\n",
       "</div>"
      ],
      "text/plain": [
       "       AREA             AREA_TITLE  AREA_TYPE PRIM_STATE  NAICS  \\\n",
       "0     10180            Abilene, TX          4         TX      0   \n",
       "281   10380  Aguadilla-Isabela, PR          4         PR      0   \n",
       "457   10420              Akron, OH          4         OH      0   \n",
       "953   10500             Albany, GA          4         GA      0   \n",
       "1186  10540             Albany, OR          4         OR      0   \n",
       "\n",
       "         NAICS_TITLE         I_GROUP  OWN_CODE OCC_CODE        OCC_TITLE  ...  \\\n",
       "0     Cross-industry  cross-industry      1235  00-0000  All Occupations  ...   \n",
       "281   Cross-industry  cross-industry      1235  00-0000  All Occupations  ...   \n",
       "457   Cross-industry  cross-industry      1235  00-0000  All Occupations  ...   \n",
       "953   Cross-industry  cross-industry      1235  00-0000  All Occupations  ...   \n",
       "1186  Cross-industry  cross-industry      1235  00-0000  All Occupations  ...   \n",
       "\n",
       "     H_MEDIAN H_PCT75 H_PCT90 A_PCT10 A_PCT25  A_MEDIAN A_PCT75 A_PCT90  \\\n",
       "0       16.41   24.82   36.23   18990   23710     34130   51620   75370   \n",
       "281      9.37   14.13   22.35   16470   17600     19490   29400   46480   \n",
       "457     19.44   30.53    43.8   20500   27230     40440   63500   91100   \n",
       "953     15.77   26.32   38.33   17930   21810     32810   54740   79730   \n",
       "1186    19.13   28.68   41.45   25020   29560     39780   59650   86220   \n",
       "\n",
       "     ANNUAL HOURLY  \n",
       "0       NaN    NaN  \n",
       "281     NaN    NaN  \n",
       "457     NaN    NaN  \n",
       "953     NaN    NaN  \n",
       "1186    NaN    NaN  \n",
       "\n",
       "[5 rows x 31 columns]"
      ]
     },
     "execution_count": 9,
     "metadata": {},
     "output_type": "execute_result"
    }
   ],
   "source": [
    "# Aggregate values for all occuptions for a given location\n",
    "salary_df[salary_df['O_GROUP']=='total'].head()"
   ]
  },
  {
   "cell_type": "code",
   "execution_count": 10,
   "metadata": {},
   "outputs": [
    {
     "data": {
      "text/html": [
       "<div>\n",
       "<style scoped>\n",
       "    .dataframe tbody tr th:only-of-type {\n",
       "        vertical-align: middle;\n",
       "    }\n",
       "\n",
       "    .dataframe tbody tr th {\n",
       "        vertical-align: top;\n",
       "    }\n",
       "\n",
       "    .dataframe thead th {\n",
       "        text-align: right;\n",
       "    }\n",
       "</style>\n",
       "<table border=\"1\" class=\"dataframe\">\n",
       "  <thead>\n",
       "    <tr style=\"text-align: right;\">\n",
       "      <th></th>\n",
       "      <th>AREA</th>\n",
       "      <th>AREA_TITLE</th>\n",
       "      <th>AREA_TYPE</th>\n",
       "      <th>PRIM_STATE</th>\n",
       "      <th>NAICS</th>\n",
       "      <th>NAICS_TITLE</th>\n",
       "      <th>I_GROUP</th>\n",
       "      <th>OWN_CODE</th>\n",
       "      <th>OCC_CODE</th>\n",
       "      <th>OCC_TITLE</th>\n",
       "      <th>...</th>\n",
       "      <th>H_MEDIAN</th>\n",
       "      <th>H_PCT75</th>\n",
       "      <th>H_PCT90</th>\n",
       "      <th>A_PCT10</th>\n",
       "      <th>A_PCT25</th>\n",
       "      <th>A_MEDIAN</th>\n",
       "      <th>A_PCT75</th>\n",
       "      <th>A_PCT90</th>\n",
       "      <th>ANNUAL</th>\n",
       "      <th>HOURLY</th>\n",
       "    </tr>\n",
       "  </thead>\n",
       "  <tbody>\n",
       "  </tbody>\n",
       "</table>\n",
       "<p>0 rows × 31 columns</p>\n",
       "</div>"
      ],
      "text/plain": [
       "Empty DataFrame\n",
       "Columns: [AREA, AREA_TITLE, AREA_TYPE, PRIM_STATE, NAICS, NAICS_TITLE, I_GROUP, OWN_CODE, OCC_CODE, OCC_TITLE, O_GROUP, TOT_EMP, EMP_PRSE, JOBS_1000, LOC_QUOTIENT, PCT_TOTAL, H_MEAN, A_MEAN, MEAN_PRSE, H_PCT10, H_PCT25, H_MEDIAN, H_PCT75, H_PCT90, A_PCT10, A_PCT25, A_MEDIAN, A_PCT75, A_PCT90, ANNUAL, HOURLY]\n",
       "Index: []\n",
       "\n",
       "[0 rows x 31 columns]"
      ]
     },
     "execution_count": 10,
     "metadata": {},
     "output_type": "execute_result"
    }
   ],
   "source": [
    "# Filter rows to get rid of aggregate values for all occupations\n",
    "salary_df = salary_df.loc[salary_df['O_GROUP']!='total']\n",
    "salary_df[salary_df['O_GROUP']=='total'].head()"
   ]
  },
  {
   "cell_type": "code",
   "execution_count": 11,
   "metadata": {},
   "outputs": [
    {
     "data": {
      "text/html": [
       "<div>\n",
       "<style scoped>\n",
       "    .dataframe tbody tr th:only-of-type {\n",
       "        vertical-align: middle;\n",
       "    }\n",
       "\n",
       "    .dataframe tbody tr th {\n",
       "        vertical-align: top;\n",
       "    }\n",
       "\n",
       "    .dataframe thead th {\n",
       "        text-align: right;\n",
       "    }\n",
       "</style>\n",
       "<table border=\"1\" class=\"dataframe\">\n",
       "  <thead>\n",
       "    <tr style=\"text-align: right;\">\n",
       "      <th></th>\n",
       "      <th>AREA</th>\n",
       "      <th>AREA_TITLE</th>\n",
       "      <th>AREA_TYPE</th>\n",
       "      <th>PRIM_STATE</th>\n",
       "      <th>NAICS</th>\n",
       "      <th>NAICS_TITLE</th>\n",
       "      <th>I_GROUP</th>\n",
       "      <th>OWN_CODE</th>\n",
       "      <th>OCC_CODE</th>\n",
       "      <th>OCC_TITLE</th>\n",
       "      <th>...</th>\n",
       "      <th>H_MEDIAN</th>\n",
       "      <th>H_PCT75</th>\n",
       "      <th>H_PCT90</th>\n",
       "      <th>A_PCT10</th>\n",
       "      <th>A_PCT25</th>\n",
       "      <th>A_MEDIAN</th>\n",
       "      <th>A_PCT75</th>\n",
       "      <th>A_PCT90</th>\n",
       "      <th>ANNUAL</th>\n",
       "      <th>HOURLY</th>\n",
       "    </tr>\n",
       "  </thead>\n",
       "  <tbody>\n",
       "    <tr>\n",
       "      <th>1</th>\n",
       "      <td>10180</td>\n",
       "      <td>Abilene, TX</td>\n",
       "      <td>4</td>\n",
       "      <td>TX</td>\n",
       "      <td>0</td>\n",
       "      <td>Cross-industry</td>\n",
       "      <td>cross-industry</td>\n",
       "      <td>1235</td>\n",
       "      <td>11-0000</td>\n",
       "      <td>Management Occupations</td>\n",
       "      <td>...</td>\n",
       "      <td>36.37</td>\n",
       "      <td>51.68</td>\n",
       "      <td>73.88</td>\n",
       "      <td>36150</td>\n",
       "      <td>55620</td>\n",
       "      <td>75640</td>\n",
       "      <td>107500</td>\n",
       "      <td>153670</td>\n",
       "      <td>NaN</td>\n",
       "      <td>NaN</td>\n",
       "    </tr>\n",
       "    <tr>\n",
       "      <th>18</th>\n",
       "      <td>10180</td>\n",
       "      <td>Abilene, TX</td>\n",
       "      <td>4</td>\n",
       "      <td>TX</td>\n",
       "      <td>0</td>\n",
       "      <td>Cross-industry</td>\n",
       "      <td>cross-industry</td>\n",
       "      <td>1235</td>\n",
       "      <td>13-0000</td>\n",
       "      <td>Business and Financial Operations Occupations</td>\n",
       "      <td>...</td>\n",
       "      <td>29.35</td>\n",
       "      <td>38.69</td>\n",
       "      <td>50.26</td>\n",
       "      <td>34280</td>\n",
       "      <td>45530</td>\n",
       "      <td>61040</td>\n",
       "      <td>80470</td>\n",
       "      <td>104530</td>\n",
       "      <td>NaN</td>\n",
       "      <td>NaN</td>\n",
       "    </tr>\n",
       "    <tr>\n",
       "      <th>34</th>\n",
       "      <td>10180</td>\n",
       "      <td>Abilene, TX</td>\n",
       "      <td>4</td>\n",
       "      <td>TX</td>\n",
       "      <td>0</td>\n",
       "      <td>Cross-industry</td>\n",
       "      <td>cross-industry</td>\n",
       "      <td>1235</td>\n",
       "      <td>15-0000</td>\n",
       "      <td>Computer and Mathematical Occupations</td>\n",
       "      <td>...</td>\n",
       "      <td>26.51</td>\n",
       "      <td>37.25</td>\n",
       "      <td>48.61</td>\n",
       "      <td>34250</td>\n",
       "      <td>43720</td>\n",
       "      <td>55130</td>\n",
       "      <td>77490</td>\n",
       "      <td>101120</td>\n",
       "      <td>NaN</td>\n",
       "      <td>NaN</td>\n",
       "    </tr>\n",
       "    <tr>\n",
       "      <th>41</th>\n",
       "      <td>10180</td>\n",
       "      <td>Abilene, TX</td>\n",
       "      <td>4</td>\n",
       "      <td>TX</td>\n",
       "      <td>0</td>\n",
       "      <td>Cross-industry</td>\n",
       "      <td>cross-industry</td>\n",
       "      <td>1235</td>\n",
       "      <td>17-0000</td>\n",
       "      <td>Architecture and Engineering Occupations</td>\n",
       "      <td>...</td>\n",
       "      <td>32.65</td>\n",
       "      <td>43.04</td>\n",
       "      <td>55.23</td>\n",
       "      <td>38740</td>\n",
       "      <td>50660</td>\n",
       "      <td>67900</td>\n",
       "      <td>89520</td>\n",
       "      <td>114880</td>\n",
       "      <td>NaN</td>\n",
       "      <td>NaN</td>\n",
       "    </tr>\n",
       "    <tr>\n",
       "      <th>51</th>\n",
       "      <td>10180</td>\n",
       "      <td>Abilene, TX</td>\n",
       "      <td>4</td>\n",
       "      <td>TX</td>\n",
       "      <td>0</td>\n",
       "      <td>Cross-industry</td>\n",
       "      <td>cross-industry</td>\n",
       "      <td>1235</td>\n",
       "      <td>19-0000</td>\n",
       "      <td>Life, Physical, and Social Science Occupations</td>\n",
       "      <td>...</td>\n",
       "      <td>27.85</td>\n",
       "      <td>35.83</td>\n",
       "      <td>43.04</td>\n",
       "      <td>34870</td>\n",
       "      <td>43070</td>\n",
       "      <td>57940</td>\n",
       "      <td>74520</td>\n",
       "      <td>89520</td>\n",
       "      <td>NaN</td>\n",
       "      <td>NaN</td>\n",
       "    </tr>\n",
       "    <tr>\n",
       "      <th>...</th>\n",
       "      <td>...</td>\n",
       "      <td>...</td>\n",
       "      <td>...</td>\n",
       "      <td>...</td>\n",
       "      <td>...</td>\n",
       "      <td>...</td>\n",
       "      <td>...</td>\n",
       "      <td>...</td>\n",
       "      <td>...</td>\n",
       "      <td>...</td>\n",
       "      <td>...</td>\n",
       "      <td>...</td>\n",
       "      <td>...</td>\n",
       "      <td>...</td>\n",
       "      <td>...</td>\n",
       "      <td>...</td>\n",
       "      <td>...</td>\n",
       "      <td>...</td>\n",
       "      <td>...</td>\n",
       "      <td>...</td>\n",
       "      <td>...</td>\n",
       "    </tr>\n",
       "    <tr>\n",
       "      <th>139927</th>\n",
       "      <td>79600</td>\n",
       "      <td>Worcester, MA-CT</td>\n",
       "      <td>4</td>\n",
       "      <td>MA</td>\n",
       "      <td>0</td>\n",
       "      <td>Cross-industry</td>\n",
       "      <td>cross-industry</td>\n",
       "      <td>1235</td>\n",
       "      <td>45-0000</td>\n",
       "      <td>Farming, Fishing, and Forestry Occupations</td>\n",
       "      <td>...</td>\n",
       "      <td>16.17</td>\n",
       "      <td>19.44</td>\n",
       "      <td>26.73</td>\n",
       "      <td>27700</td>\n",
       "      <td>29540</td>\n",
       "      <td>33640</td>\n",
       "      <td>40440</td>\n",
       "      <td>55600</td>\n",
       "      <td>NaN</td>\n",
       "      <td>NaN</td>\n",
       "    </tr>\n",
       "    <tr>\n",
       "      <th>139930</th>\n",
       "      <td>79600</td>\n",
       "      <td>Worcester, MA-CT</td>\n",
       "      <td>4</td>\n",
       "      <td>MA</td>\n",
       "      <td>0</td>\n",
       "      <td>Cross-industry</td>\n",
       "      <td>cross-industry</td>\n",
       "      <td>1235</td>\n",
       "      <td>47-0000</td>\n",
       "      <td>Construction and Extraction Occupations</td>\n",
       "      <td>...</td>\n",
       "      <td>26.65</td>\n",
       "      <td>36.25</td>\n",
       "      <td>47.75</td>\n",
       "      <td>34280</td>\n",
       "      <td>42030</td>\n",
       "      <td>55420</td>\n",
       "      <td>75400</td>\n",
       "      <td>99320</td>\n",
       "      <td>NaN</td>\n",
       "      <td>NaN</td>\n",
       "    </tr>\n",
       "    <tr>\n",
       "      <th>139955</th>\n",
       "      <td>79600</td>\n",
       "      <td>Worcester, MA-CT</td>\n",
       "      <td>4</td>\n",
       "      <td>MA</td>\n",
       "      <td>0</td>\n",
       "      <td>Cross-industry</td>\n",
       "      <td>cross-industry</td>\n",
       "      <td>1235</td>\n",
       "      <td>49-0000</td>\n",
       "      <td>Installation, Maintenance, and Repair Occupations</td>\n",
       "      <td>...</td>\n",
       "      <td>24.95</td>\n",
       "      <td>32.07</td>\n",
       "      <td>40.87</td>\n",
       "      <td>32840</td>\n",
       "      <td>41550</td>\n",
       "      <td>51890</td>\n",
       "      <td>66710</td>\n",
       "      <td>85010</td>\n",
       "      <td>NaN</td>\n",
       "      <td>NaN</td>\n",
       "    </tr>\n",
       "    <tr>\n",
       "      <th>139980</th>\n",
       "      <td>79600</td>\n",
       "      <td>Worcester, MA-CT</td>\n",
       "      <td>4</td>\n",
       "      <td>MA</td>\n",
       "      <td>0</td>\n",
       "      <td>Cross-industry</td>\n",
       "      <td>cross-industry</td>\n",
       "      <td>1235</td>\n",
       "      <td>51-0000</td>\n",
       "      <td>Production Occupations</td>\n",
       "      <td>...</td>\n",
       "      <td>19.3</td>\n",
       "      <td>25.13</td>\n",
       "      <td>31.87</td>\n",
       "      <td>27770</td>\n",
       "      <td>31530</td>\n",
       "      <td>40150</td>\n",
       "      <td>52270</td>\n",
       "      <td>66280</td>\n",
       "      <td>NaN</td>\n",
       "      <td>NaN</td>\n",
       "    </tr>\n",
       "    <tr>\n",
       "      <th>140032</th>\n",
       "      <td>79600</td>\n",
       "      <td>Worcester, MA-CT</td>\n",
       "      <td>4</td>\n",
       "      <td>MA</td>\n",
       "      <td>0</td>\n",
       "      <td>Cross-industry</td>\n",
       "      <td>cross-industry</td>\n",
       "      <td>1235</td>\n",
       "      <td>53-0000</td>\n",
       "      <td>Transportation and Material Moving Occupations</td>\n",
       "      <td>...</td>\n",
       "      <td>17.11</td>\n",
       "      <td>23.05</td>\n",
       "      <td>29.88</td>\n",
       "      <td>26980</td>\n",
       "      <td>29450</td>\n",
       "      <td>35590</td>\n",
       "      <td>47940</td>\n",
       "      <td>62140</td>\n",
       "      <td>NaN</td>\n",
       "      <td>NaN</td>\n",
       "    </tr>\n",
       "  </tbody>\n",
       "</table>\n",
       "<p>8645 rows × 31 columns</p>\n",
       "</div>"
      ],
      "text/plain": [
       "         AREA        AREA_TITLE  AREA_TYPE PRIM_STATE  NAICS     NAICS_TITLE  \\\n",
       "1       10180       Abilene, TX          4         TX      0  Cross-industry   \n",
       "18      10180       Abilene, TX          4         TX      0  Cross-industry   \n",
       "34      10180       Abilene, TX          4         TX      0  Cross-industry   \n",
       "41      10180       Abilene, TX          4         TX      0  Cross-industry   \n",
       "51      10180       Abilene, TX          4         TX      0  Cross-industry   \n",
       "...       ...               ...        ...        ...    ...             ...   \n",
       "139927  79600  Worcester, MA-CT          4         MA      0  Cross-industry   \n",
       "139930  79600  Worcester, MA-CT          4         MA      0  Cross-industry   \n",
       "139955  79600  Worcester, MA-CT          4         MA      0  Cross-industry   \n",
       "139980  79600  Worcester, MA-CT          4         MA      0  Cross-industry   \n",
       "140032  79600  Worcester, MA-CT          4         MA      0  Cross-industry   \n",
       "\n",
       "               I_GROUP  OWN_CODE OCC_CODE  \\\n",
       "1       cross-industry      1235  11-0000   \n",
       "18      cross-industry      1235  13-0000   \n",
       "34      cross-industry      1235  15-0000   \n",
       "41      cross-industry      1235  17-0000   \n",
       "51      cross-industry      1235  19-0000   \n",
       "...                ...       ...      ...   \n",
       "139927  cross-industry      1235  45-0000   \n",
       "139930  cross-industry      1235  47-0000   \n",
       "139955  cross-industry      1235  49-0000   \n",
       "139980  cross-industry      1235  51-0000   \n",
       "140032  cross-industry      1235  53-0000   \n",
       "\n",
       "                                                OCC_TITLE  ... H_MEDIAN  \\\n",
       "1                                  Management Occupations  ...    36.37   \n",
       "18          Business and Financial Operations Occupations  ...    29.35   \n",
       "34                  Computer and Mathematical Occupations  ...    26.51   \n",
       "41               Architecture and Engineering Occupations  ...    32.65   \n",
       "51         Life, Physical, and Social Science Occupations  ...    27.85   \n",
       "...                                                   ...  ...      ...   \n",
       "139927         Farming, Fishing, and Forestry Occupations  ...    16.17   \n",
       "139930            Construction and Extraction Occupations  ...    26.65   \n",
       "139955  Installation, Maintenance, and Repair Occupations  ...    24.95   \n",
       "139980                             Production Occupations  ...     19.3   \n",
       "140032     Transportation and Material Moving Occupations  ...    17.11   \n",
       "\n",
       "       H_PCT75 H_PCT90 A_PCT10 A_PCT25  A_MEDIAN A_PCT75 A_PCT90 ANNUAL HOURLY  \n",
       "1        51.68   73.88   36150   55620     75640  107500  153670    NaN    NaN  \n",
       "18       38.69   50.26   34280   45530     61040   80470  104530    NaN    NaN  \n",
       "34       37.25   48.61   34250   43720     55130   77490  101120    NaN    NaN  \n",
       "41       43.04   55.23   38740   50660     67900   89520  114880    NaN    NaN  \n",
       "51       35.83   43.04   34870   43070     57940   74520   89520    NaN    NaN  \n",
       "...        ...     ...     ...     ...       ...     ...     ...    ...    ...  \n",
       "139927   19.44   26.73   27700   29540     33640   40440   55600    NaN    NaN  \n",
       "139930   36.25   47.75   34280   42030     55420   75400   99320    NaN    NaN  \n",
       "139955   32.07   40.87   32840   41550     51890   66710   85010    NaN    NaN  \n",
       "139980   25.13   31.87   27770   31530     40150   52270   66280    NaN    NaN  \n",
       "140032   23.05   29.88   26980   29450     35590   47940   62140    NaN    NaN  \n",
       "\n",
       "[8645 rows x 31 columns]"
      ]
     },
     "execution_count": 11,
     "metadata": {},
     "output_type": "execute_result"
    }
   ],
   "source": [
    "# Let's look at O_Group = 'major'\n",
    "salary_df[salary_df['O_GROUP']=='major']"
   ]
  },
  {
   "cell_type": "code",
   "execution_count": 12,
   "metadata": {},
   "outputs": [
    {
     "data": {
      "text/plain": [
       "Index(['code', 'occupation', 'location', 'state', 'hourly', 'annual'], dtype='object')"
      ]
     },
     "execution_count": 12,
     "metadata": {},
     "output_type": "execute_result"
    }
   ],
   "source": [
    "# Drop some columns right away since they won't be relevent to our problem and rename the columns\n",
    "col_to_keep = ['OCC_CODE', 'OCC_TITLE','AREA_TITLE', 'PRIM_STATE', 'H_MEAN', 'A_MEAN']\n",
    "salary_df = salary_df[col_to_keep]\n",
    "\n",
    "# Rename columns\n",
    "column_names = {'OCC_CODE':'code', 'OCC_TITLE':'occupation', 'PRIM_STATE':'state', 'AREA_TITLE':'location',\n",
    "                'H_MEAN': 'hourly', 'A_MEAN':'annual'}\n",
    "salary_df=salary_df.rename(columns=column_names)\n",
    "salary_df.columns"
   ]
  },
  {
   "cell_type": "code",
   "execution_count": 13,
   "metadata": {},
   "outputs": [
    {
     "data": {
      "text/html": [
       "<div>\n",
       "<style scoped>\n",
       "    .dataframe tbody tr th:only-of-type {\n",
       "        vertical-align: middle;\n",
       "    }\n",
       "\n",
       "    .dataframe tbody tr th {\n",
       "        vertical-align: top;\n",
       "    }\n",
       "\n",
       "    .dataframe thead th {\n",
       "        text-align: right;\n",
       "    }\n",
       "</style>\n",
       "<table border=\"1\" class=\"dataframe\">\n",
       "  <thead>\n",
       "    <tr style=\"text-align: right;\">\n",
       "      <th></th>\n",
       "      <th>code</th>\n",
       "      <th>occupation</th>\n",
       "      <th>location</th>\n",
       "      <th>state</th>\n",
       "      <th>hourly</th>\n",
       "      <th>annual</th>\n",
       "    </tr>\n",
       "  </thead>\n",
       "  <tbody>\n",
       "    <tr>\n",
       "      <th>1</th>\n",
       "      <td>11-0000</td>\n",
       "      <td>Management Occupations</td>\n",
       "      <td>Abilene, TX</td>\n",
       "      <td>TX</td>\n",
       "      <td>42.87</td>\n",
       "      <td>89160</td>\n",
       "    </tr>\n",
       "    <tr>\n",
       "      <th>2</th>\n",
       "      <td>11-1021</td>\n",
       "      <td>General and Operations Managers</td>\n",
       "      <td>Abilene, TX</td>\n",
       "      <td>TX</td>\n",
       "      <td>40.38</td>\n",
       "      <td>83990</td>\n",
       "    </tr>\n",
       "    <tr>\n",
       "      <th>3</th>\n",
       "      <td>11-2022</td>\n",
       "      <td>Sales Managers</td>\n",
       "      <td>Abilene, TX</td>\n",
       "      <td>TX</td>\n",
       "      <td>58.18</td>\n",
       "      <td>121020</td>\n",
       "    </tr>\n",
       "    <tr>\n",
       "      <th>4</th>\n",
       "      <td>11-2030</td>\n",
       "      <td>Public Relations and Fundraising Managers</td>\n",
       "      <td>Abilene, TX</td>\n",
       "      <td>TX</td>\n",
       "      <td>45.93</td>\n",
       "      <td>95540</td>\n",
       "    </tr>\n",
       "    <tr>\n",
       "      <th>5</th>\n",
       "      <td>11-3010</td>\n",
       "      <td>Administrative Services and Facilities Managers</td>\n",
       "      <td>Abilene, TX</td>\n",
       "      <td>TX</td>\n",
       "      <td>37.79</td>\n",
       "      <td>78600</td>\n",
       "    </tr>\n",
       "  </tbody>\n",
       "</table>\n",
       "</div>"
      ],
      "text/plain": [
       "      code                                       occupation     location  \\\n",
       "1  11-0000                           Management Occupations  Abilene, TX   \n",
       "2  11-1021                  General and Operations Managers  Abilene, TX   \n",
       "3  11-2022                                   Sales Managers  Abilene, TX   \n",
       "4  11-2030        Public Relations and Fundraising Managers  Abilene, TX   \n",
       "5  11-3010  Administrative Services and Facilities Managers  Abilene, TX   \n",
       "\n",
       "  state hourly  annual  \n",
       "1    TX  42.87   89160  \n",
       "2    TX  40.38   83990  \n",
       "3    TX  58.18  121020  \n",
       "4    TX  45.93   95540  \n",
       "5    TX  37.79   78600  "
      ]
     },
     "execution_count": 13,
     "metadata": {},
     "output_type": "execute_result"
    }
   ],
   "source": [
    "salary_df.head()"
   ]
  },
  {
   "cell_type": "markdown",
   "metadata": {},
   "source": [
    "### Duplicates"
   ]
  },
  {
   "cell_type": "code",
   "execution_count": 14,
   "metadata": {},
   "outputs": [
    {
     "data": {
      "text/plain": [
       "False"
      ]
     },
     "execution_count": 14,
     "metadata": {},
     "output_type": "execute_result"
    }
   ],
   "source": [
    "# Check for duplicates\n",
    "salary_df.duplicated().any()"
   ]
  },
  {
   "cell_type": "markdown",
   "metadata": {},
   "source": [
    "### Data types"
   ]
  },
  {
   "cell_type": "code",
   "execution_count": 15,
   "metadata": {},
   "outputs": [
    {
     "data": {
      "text/plain": [
       "1         110000\n",
       "2         111021\n",
       "3         112022\n",
       "4         112030\n",
       "5         113010\n",
       "           ...  \n",
       "140046    537063\n",
       "140047    537064\n",
       "140048    537065\n",
       "140049    537081\n",
       "140050    537199\n",
       "Name: code, Length: 139655, dtype: object"
      ]
     },
     "execution_count": 15,
     "metadata": {},
     "output_type": "execute_result"
    }
   ],
   "source": [
    "# Remove dash from code before converting to numeric type\n",
    "salary_df['code'] = salary_df['code'].str.replace('-','')\n",
    "salary_df['code']"
   ]
  },
  {
   "cell_type": "code",
   "execution_count": 16,
   "metadata": {},
   "outputs": [
    {
     "data": {
      "text/plain": [
       "code            int64\n",
       "occupation     object\n",
       "location       object\n",
       "state          object\n",
       "hourly        float64\n",
       "annual        float64\n",
       "dtype: object"
      ]
     },
     "execution_count": 16,
     "metadata": {},
     "output_type": "execute_result"
    }
   ],
   "source": [
    "# List of fields to convert to numeric type\n",
    "convert_to_float = ['code','hourly', 'annual']\n",
    "\n",
    "# Convert to numeric type\n",
    "salary_df[convert_to_float] = salary_df[convert_to_float].apply(pd.to_numeric, errors='coerce')\n",
    "salary_df.dtypes"
   ]
  },
  {
   "cell_type": "markdown",
   "metadata": {},
   "source": [
    "### Seperate location and state"
   ]
  },
  {
   "cell_type": "code",
   "execution_count": 17,
   "metadata": {},
   "outputs": [],
   "source": [
    "# AREA_TITLE vs. state lables\n",
    "area_split = salary_df['location'].str.split(', ', expand=True)\n",
    "salary_df['location']=area_split[0]"
   ]
  },
  {
   "cell_type": "code",
   "execution_count": 18,
   "metadata": {},
   "outputs": [
    {
     "data": {
      "text/html": [
       "<div>\n",
       "<style scoped>\n",
       "    .dataframe tbody tr th:only-of-type {\n",
       "        vertical-align: middle;\n",
       "    }\n",
       "\n",
       "    .dataframe tbody tr th {\n",
       "        vertical-align: top;\n",
       "    }\n",
       "\n",
       "    .dataframe thead th {\n",
       "        text-align: right;\n",
       "    }\n",
       "</style>\n",
       "<table border=\"1\" class=\"dataframe\">\n",
       "  <thead>\n",
       "    <tr style=\"text-align: right;\">\n",
       "      <th></th>\n",
       "      <th>occupation</th>\n",
       "      <th>location</th>\n",
       "      <th>state</th>\n",
       "      <th>hourly</th>\n",
       "      <th>annual</th>\n",
       "    </tr>\n",
       "    <tr>\n",
       "      <th>code</th>\n",
       "      <th></th>\n",
       "      <th></th>\n",
       "      <th></th>\n",
       "      <th></th>\n",
       "      <th></th>\n",
       "    </tr>\n",
       "  </thead>\n",
       "  <tbody>\n",
       "    <tr>\n",
       "      <th>110000</th>\n",
       "      <td>Management Occupations</td>\n",
       "      <td>Abilene</td>\n",
       "      <td>TX</td>\n",
       "      <td>42.87</td>\n",
       "      <td>89160.0</td>\n",
       "    </tr>\n",
       "    <tr>\n",
       "      <th>111021</th>\n",
       "      <td>General and Operations Managers</td>\n",
       "      <td>Abilene</td>\n",
       "      <td>TX</td>\n",
       "      <td>40.38</td>\n",
       "      <td>83990.0</td>\n",
       "    </tr>\n",
       "    <tr>\n",
       "      <th>112022</th>\n",
       "      <td>Sales Managers</td>\n",
       "      <td>Abilene</td>\n",
       "      <td>TX</td>\n",
       "      <td>58.18</td>\n",
       "      <td>121020.0</td>\n",
       "    </tr>\n",
       "    <tr>\n",
       "      <th>112030</th>\n",
       "      <td>Public Relations and Fundraising Managers</td>\n",
       "      <td>Abilene</td>\n",
       "      <td>TX</td>\n",
       "      <td>45.93</td>\n",
       "      <td>95540.0</td>\n",
       "    </tr>\n",
       "    <tr>\n",
       "      <th>113010</th>\n",
       "      <td>Administrative Services and Facilities Managers</td>\n",
       "      <td>Abilene</td>\n",
       "      <td>TX</td>\n",
       "      <td>37.79</td>\n",
       "      <td>78600.0</td>\n",
       "    </tr>\n",
       "  </tbody>\n",
       "</table>\n",
       "</div>"
      ],
      "text/plain": [
       "                                             occupation location state  \\\n",
       "code                                                                     \n",
       "110000                           Management Occupations  Abilene    TX   \n",
       "111021                  General and Operations Managers  Abilene    TX   \n",
       "112022                                   Sales Managers  Abilene    TX   \n",
       "112030        Public Relations and Fundraising Managers  Abilene    TX   \n",
       "113010  Administrative Services and Facilities Managers  Abilene    TX   \n",
       "\n",
       "        hourly    annual  \n",
       "code                      \n",
       "110000   42.87   89160.0  \n",
       "111021   40.38   83990.0  \n",
       "112022   58.18  121020.0  \n",
       "112030   45.93   95540.0  \n",
       "113010   37.79   78600.0  "
      ]
     },
     "execution_count": 18,
     "metadata": {},
     "output_type": "execute_result"
    }
   ],
   "source": [
    "# Let's also set our index to be the code column\n",
    "salary_df.set_index('code', inplace=True)\n",
    "salary_df.head()"
   ]
  },
  {
   "cell_type": "markdown",
   "metadata": {},
   "source": [
    "## Categorical Variables"
   ]
  },
  {
   "cell_type": "code",
   "execution_count": 19,
   "metadata": {},
   "outputs": [
    {
     "data": {
      "text/html": [
       "<div>\n",
       "<style scoped>\n",
       "    .dataframe tbody tr th:only-of-type {\n",
       "        vertical-align: middle;\n",
       "    }\n",
       "\n",
       "    .dataframe tbody tr th {\n",
       "        vertical-align: top;\n",
       "    }\n",
       "\n",
       "    .dataframe thead th {\n",
       "        text-align: right;\n",
       "    }\n",
       "</style>\n",
       "<table border=\"1\" class=\"dataframe\">\n",
       "  <thead>\n",
       "    <tr style=\"text-align: right;\">\n",
       "      <th></th>\n",
       "      <th>occupation</th>\n",
       "      <th>location</th>\n",
       "      <th>state</th>\n",
       "    </tr>\n",
       "    <tr>\n",
       "      <th>code</th>\n",
       "      <th></th>\n",
       "      <th></th>\n",
       "      <th></th>\n",
       "    </tr>\n",
       "  </thead>\n",
       "  <tbody>\n",
       "    <tr>\n",
       "      <th>110000</th>\n",
       "      <td>Management Occupations</td>\n",
       "      <td>Abilene</td>\n",
       "      <td>TX</td>\n",
       "    </tr>\n",
       "    <tr>\n",
       "      <th>111021</th>\n",
       "      <td>General and Operations Managers</td>\n",
       "      <td>Abilene</td>\n",
       "      <td>TX</td>\n",
       "    </tr>\n",
       "    <tr>\n",
       "      <th>112022</th>\n",
       "      <td>Sales Managers</td>\n",
       "      <td>Abilene</td>\n",
       "      <td>TX</td>\n",
       "    </tr>\n",
       "    <tr>\n",
       "      <th>112030</th>\n",
       "      <td>Public Relations and Fundraising Managers</td>\n",
       "      <td>Abilene</td>\n",
       "      <td>TX</td>\n",
       "    </tr>\n",
       "    <tr>\n",
       "      <th>113010</th>\n",
       "      <td>Administrative Services and Facilities Managers</td>\n",
       "      <td>Abilene</td>\n",
       "      <td>TX</td>\n",
       "    </tr>\n",
       "  </tbody>\n",
       "</table>\n",
       "</div>"
      ],
      "text/plain": [
       "                                             occupation location state\n",
       "code                                                                  \n",
       "110000                           Management Occupations  Abilene    TX\n",
       "111021                  General and Operations Managers  Abilene    TX\n",
       "112022                                   Sales Managers  Abilene    TX\n",
       "112030        Public Relations and Fundraising Managers  Abilene    TX\n",
       "113010  Administrative Services and Facilities Managers  Abilene    TX"
      ]
     },
     "execution_count": 19,
     "metadata": {},
     "output_type": "execute_result"
    }
   ],
   "source": [
    "# Select categorical variable types\n",
    "salary_df.select_dtypes('object').head()"
   ]
  },
  {
   "cell_type": "markdown",
   "metadata": {},
   "source": [
    "### Area and state"
   ]
  },
  {
   "cell_type": "code",
   "execution_count": 20,
   "metadata": {},
   "outputs": [
    {
     "name": "stdout",
     "output_type": "stream",
     "text": [
      "52\n",
      "['TX' 'PR' 'OH' 'GA' 'OR' 'NY' 'NM' 'LA' 'PA' 'IA' 'AK' 'MI' 'AL' 'WI'\n",
      " 'NC' 'NJ' 'CA' 'MD' 'WV' 'WA' 'MT' 'ND' 'VA' 'IL' 'IN' 'ID' 'CO' 'KY'\n",
      " 'FL' 'MO' 'NV' 'WY' 'SC' 'TN' 'DE' 'MN' 'OK' 'AR' 'AZ' 'NE' 'MS' 'HI'\n",
      " 'KS' 'UT' 'SD' 'DC' 'ME' 'MA' 'CT' 'VT' 'NH' 'RI']\n"
     ]
    },
    {
     "data": {
      "text/plain": [
       "CA    10687\n",
       "TX     9295\n",
       "FL     8296\n",
       "PA     6388\n",
       "NC     5405\n",
       "Name: state, dtype: int64"
      ]
     },
     "execution_count": 20,
     "metadata": {},
     "output_type": "execute_result"
    }
   ],
   "source": [
    "# Unique states\n",
    "print(salary_df['state'].nunique()) \n",
    "print(salary_df['state'].unique()) \n",
    "salary_df['state'].value_counts().head() "
   ]
  },
  {
   "cell_type": "code",
   "execution_count": 21,
   "metadata": {},
   "outputs": [
    {
     "name": "stdout",
     "output_type": "stream",
     "text": [
      "379\n"
     ]
    },
    {
     "data": {
      "text/plain": [
       "Springfield     1467\n",
       "Columbus        1166\n",
       "Jackson          960\n",
       "Rochester        873\n",
       "Jacksonville     767\n",
       "Name: location, dtype: int64"
      ]
     },
     "execution_count": 21,
     "metadata": {},
     "output_type": "execute_result"
    }
   ],
   "source": [
    "# How many unique AREA_TITLES?\n",
    "print(salary_df['location'].nunique())\n",
    "salary_df['location'].value_counts().head()"
   ]
  },
  {
   "cell_type": "markdown",
   "metadata": {},
   "source": [
    "The most common values appear to be for metropolitan areas which makes sense since they are highly concentrated and more jobs are available in these areas. \n",
    "\n",
    "There are 52 states (inclduing DC PR). California, Texas and Florida have the most jobs, consistent with being the most populated states. "
   ]
  },
  {
   "cell_type": "markdown",
   "metadata": {},
   "source": [
    "### Occupations"
   ]
  },
  {
   "cell_type": "code",
   "execution_count": 22,
   "metadata": {},
   "outputs": [
    {
     "name": "stdout",
     "output_type": "stream",
     "text": [
      "807\n"
     ]
    },
    {
     "data": {
      "text/plain": [
       "Management Occupations                                                 396\n",
       "Sales and Related Occupations                                          396\n",
       "Bookkeeping, Accounting, and Auditing Clerks                           396\n",
       "First-Line Supervisors of Office and Administrative Support Workers    396\n",
       "Office and Administrative Support Occupations                          396\n",
       "Name: occupation, dtype: int64"
      ]
     },
     "execution_count": 22,
     "metadata": {},
     "output_type": "execute_result"
    }
   ],
   "source": [
    "# Number of unique occupation titles\n",
    "print(salary_df['occupation'].nunique())\n",
    "salary_df['occupation'].value_counts().head()"
   ]
  },
  {
   "cell_type": "markdown",
   "metadata": {},
   "source": [
    "## Numerical Variables"
   ]
  },
  {
   "cell_type": "markdown",
   "metadata": {},
   "source": [
    "### Missing Values"
   ]
  },
  {
   "cell_type": "code",
   "execution_count": 23,
   "metadata": {},
   "outputs": [
    {
     "data": {
      "text/html": [
       "<div>\n",
       "<style scoped>\n",
       "    .dataframe tbody tr th:only-of-type {\n",
       "        vertical-align: middle;\n",
       "    }\n",
       "\n",
       "    .dataframe tbody tr th {\n",
       "        vertical-align: top;\n",
       "    }\n",
       "\n",
       "    .dataframe thead th {\n",
       "        text-align: right;\n",
       "    }\n",
       "</style>\n",
       "<table border=\"1\" class=\"dataframe\">\n",
       "  <thead>\n",
       "    <tr style=\"text-align: right;\">\n",
       "      <th></th>\n",
       "      <th>count</th>\n",
       "      <th>mean</th>\n",
       "      <th>std</th>\n",
       "      <th>min</th>\n",
       "      <th>25%</th>\n",
       "      <th>50%</th>\n",
       "      <th>75%</th>\n",
       "      <th>max</th>\n",
       "    </tr>\n",
       "  </thead>\n",
       "  <tbody>\n",
       "    <tr>\n",
       "      <th>hourly</th>\n",
       "      <td>130371.0</td>\n",
       "      <td>27.180272</td>\n",
       "      <td>15.478112</td>\n",
       "      <td>8.32</td>\n",
       "      <td>17.07</td>\n",
       "      <td>22.93</td>\n",
       "      <td>32.62</td>\n",
       "      <td>151.84</td>\n",
       "    </tr>\n",
       "    <tr>\n",
       "      <th>annual</th>\n",
       "      <td>136807.0</td>\n",
       "      <td>57102.424291</td>\n",
       "      <td>32075.371957</td>\n",
       "      <td>17300.00</td>\n",
       "      <td>35830.00</td>\n",
       "      <td>48560.00</td>\n",
       "      <td>68970.00</td>\n",
       "      <td>315830.00</td>\n",
       "    </tr>\n",
       "  </tbody>\n",
       "</table>\n",
       "</div>"
      ],
      "text/plain": [
       "           count          mean           std       min       25%       50%  \\\n",
       "hourly  130371.0     27.180272     15.478112      8.32     17.07     22.93   \n",
       "annual  136807.0  57102.424291  32075.371957  17300.00  35830.00  48560.00   \n",
       "\n",
       "             75%        max  \n",
       "hourly     32.62     151.84  \n",
       "annual  68970.00  315830.00  "
      ]
     },
     "execution_count": 23,
     "metadata": {},
     "output_type": "execute_result"
    }
   ],
   "source": [
    "# Summary statistics for hourly and annual income\n",
    "salary_df.describe().T"
   ]
  },
  {
   "cell_type": "code",
   "execution_count": 24,
   "metadata": {},
   "outputs": [
    {
     "data": {
      "text/html": [
       "<div>\n",
       "<style scoped>\n",
       "    .dataframe tbody tr th:only-of-type {\n",
       "        vertical-align: middle;\n",
       "    }\n",
       "\n",
       "    .dataframe tbody tr th {\n",
       "        vertical-align: top;\n",
       "    }\n",
       "\n",
       "    .dataframe thead th {\n",
       "        text-align: right;\n",
       "    }\n",
       "</style>\n",
       "<table border=\"1\" class=\"dataframe\">\n",
       "  <thead>\n",
       "    <tr style=\"text-align: right;\">\n",
       "      <th></th>\n",
       "      <th>count</th>\n",
       "      <th>%</th>\n",
       "    </tr>\n",
       "  </thead>\n",
       "  <tbody>\n",
       "    <tr>\n",
       "      <th>hourly</th>\n",
       "      <td>9284</td>\n",
       "      <td>7.0</td>\n",
       "    </tr>\n",
       "    <tr>\n",
       "      <th>annual</th>\n",
       "      <td>2848</td>\n",
       "      <td>2.0</td>\n",
       "    </tr>\n",
       "    <tr>\n",
       "      <th>occupation</th>\n",
       "      <td>0</td>\n",
       "      <td>0.0</td>\n",
       "    </tr>\n",
       "    <tr>\n",
       "      <th>location</th>\n",
       "      <td>0</td>\n",
       "      <td>0.0</td>\n",
       "    </tr>\n",
       "    <tr>\n",
       "      <th>state</th>\n",
       "      <td>0</td>\n",
       "      <td>0.0</td>\n",
       "    </tr>\n",
       "  </tbody>\n",
       "</table>\n",
       "</div>"
      ],
      "text/plain": [
       "            count    %\n",
       "hourly       9284  7.0\n",
       "annual       2848  2.0\n",
       "occupation      0  0.0\n",
       "location        0  0.0\n",
       "state           0  0.0"
      ]
     },
     "execution_count": 24,
     "metadata": {},
     "output_type": "execute_result"
    }
   ],
   "source": [
    "# Count and percent missing values\n",
    "missing_counts = pd.concat([salary_df.isnull().sum(), round(100 * salary_df.isnull().mean())], axis=1)\n",
    "missing_counts.columns=['count', '%']\n",
    "missing_counts.sort_values(by='count', ascending=False)"
   ]
  },
  {
   "cell_type": "markdown",
   "metadata": {},
   "source": [
    "There are no missing values for the categorical values occupation, location and state.\n",
    "\n",
    "Annual salary is only missing 2 percent of its values, compared to 7 percent for hourly income."
   ]
  },
  {
   "cell_type": "markdown",
   "metadata": {},
   "source": [
    "### Target feature"
   ]
  },
  {
   "cell_type": "markdown",
   "metadata": {},
   "source": [
    "The annual income was calcalted by multiplying the hourly income by the full-time hours of 2080. There were some cases where hourly was not available but annual income was reported. Artists, teachers, actors and other fall in that category. Since annual income is missing fewer values, I can drop the hourly column then delete rows that are missing the annual income."
   ]
  },
  {
   "cell_type": "code",
   "execution_count": 25,
   "metadata": {},
   "outputs": [
    {
     "data": {
      "text/plain": [
       "Index(['occupation', 'location', 'state', 'annual'], dtype='object')"
      ]
     },
     "execution_count": 25,
     "metadata": {},
     "output_type": "execute_result"
    }
   ],
   "source": [
    "# Drop the hourly column\n",
    "salary_df = salary_df.drop(columns=['hourly'])\n",
    "salary_df.columns"
   ]
  },
  {
   "cell_type": "code",
   "execution_count": 26,
   "metadata": {},
   "outputs": [
    {
     "data": {
      "text/plain": [
       "occupation    0\n",
       "location      0\n",
       "state         0\n",
       "annual        0\n",
       "dtype: int64"
      ]
     },
     "execution_count": 26,
     "metadata": {},
     "output_type": "execute_result"
    }
   ],
   "source": [
    "# Drop rows with null values\n",
    "salary_df = salary_df.dropna()\n",
    "salary_df.isna().sum()"
   ]
  },
  {
   "cell_type": "code",
   "execution_count": 27,
   "metadata": {},
   "outputs": [
    {
     "data": {
      "text/html": [
       "<div>\n",
       "<style scoped>\n",
       "    .dataframe tbody tr th:only-of-type {\n",
       "        vertical-align: middle;\n",
       "    }\n",
       "\n",
       "    .dataframe tbody tr th {\n",
       "        vertical-align: top;\n",
       "    }\n",
       "\n",
       "    .dataframe thead th {\n",
       "        text-align: right;\n",
       "    }\n",
       "</style>\n",
       "<table border=\"1\" class=\"dataframe\">\n",
       "  <thead>\n",
       "    <tr style=\"text-align: right;\">\n",
       "      <th></th>\n",
       "      <th>occupation</th>\n",
       "      <th>location</th>\n",
       "      <th>state</th>\n",
       "      <th>annual</th>\n",
       "    </tr>\n",
       "    <tr>\n",
       "      <th>code</th>\n",
       "      <th></th>\n",
       "      <th></th>\n",
       "      <th></th>\n",
       "      <th></th>\n",
       "    </tr>\n",
       "  </thead>\n",
       "  <tbody>\n",
       "    <tr>\n",
       "      <th>110000</th>\n",
       "      <td>Management Occupations</td>\n",
       "      <td>Abilene</td>\n",
       "      <td>TX</td>\n",
       "      <td>89160.0</td>\n",
       "    </tr>\n",
       "    <tr>\n",
       "      <th>111021</th>\n",
       "      <td>General and Operations Managers</td>\n",
       "      <td>Abilene</td>\n",
       "      <td>TX</td>\n",
       "      <td>83990.0</td>\n",
       "    </tr>\n",
       "    <tr>\n",
       "      <th>112022</th>\n",
       "      <td>Sales Managers</td>\n",
       "      <td>Abilene</td>\n",
       "      <td>TX</td>\n",
       "      <td>121020.0</td>\n",
       "    </tr>\n",
       "    <tr>\n",
       "      <th>112030</th>\n",
       "      <td>Public Relations and Fundraising Managers</td>\n",
       "      <td>Abilene</td>\n",
       "      <td>TX</td>\n",
       "      <td>95540.0</td>\n",
       "    </tr>\n",
       "    <tr>\n",
       "      <th>113010</th>\n",
       "      <td>Administrative Services and Facilities Managers</td>\n",
       "      <td>Abilene</td>\n",
       "      <td>TX</td>\n",
       "      <td>78600.0</td>\n",
       "    </tr>\n",
       "  </tbody>\n",
       "</table>\n",
       "</div>"
      ],
      "text/plain": [
       "                                             occupation location state  \\\n",
       "code                                                                     \n",
       "110000                           Management Occupations  Abilene    TX   \n",
       "111021                  General and Operations Managers  Abilene    TX   \n",
       "112022                                   Sales Managers  Abilene    TX   \n",
       "112030        Public Relations and Fundraising Managers  Abilene    TX   \n",
       "113010  Administrative Services and Facilities Managers  Abilene    TX   \n",
       "\n",
       "          annual  \n",
       "code              \n",
       "110000   89160.0  \n",
       "111021   83990.0  \n",
       "112022  121020.0  \n",
       "112030   95540.0  \n",
       "113010   78600.0  "
      ]
     },
     "execution_count": 27,
     "metadata": {},
     "output_type": "execute_result"
    }
   ],
   "source": [
    "salary_df.head()"
   ]
  },
  {
   "cell_type": "code",
   "execution_count": 28,
   "metadata": {},
   "outputs": [
    {
     "data": {
      "image/png": "[encoded data removed]",
      "text/plain": [
       "<Figure size 432x288 with 1 Axes>"
      ]
     },
     "metadata": {
      "needs_background": "light"
     },
     "output_type": "display_data"
    }
   ],
   "source": [
    "# Annual wage distriution\n",
    "salary_df['annual'].hist(bins=50, color='#d4313c', histtype='step', linewidth = 2)\n",
    "plt.xlabel('Annual Salary')\n",
    "plt.ylabel('Count')\n",
    "plt.title('Distribution of annual salary')\n",
    "plt.grid(False);"
   ]
  },
  {
   "cell_type": "code",
   "execution_count": 29,
   "metadata": {},
   "outputs": [
    {
     "data": {
      "text/html": [
       "<div>\n",
       "<style scoped>\n",
       "    .dataframe tbody tr th:only-of-type {\n",
       "        vertical-align: middle;\n",
       "    }\n",
       "\n",
       "    .dataframe tbody tr th {\n",
       "        vertical-align: top;\n",
       "    }\n",
       "\n",
       "    .dataframe thead th {\n",
       "        text-align: right;\n",
       "    }\n",
       "</style>\n",
       "<table border=\"1\" class=\"dataframe\">\n",
       "  <thead>\n",
       "    <tr style=\"text-align: right;\">\n",
       "      <th></th>\n",
       "      <th>count</th>\n",
       "      <th>mean</th>\n",
       "      <th>std</th>\n",
       "      <th>min</th>\n",
       "      <th>25%</th>\n",
       "      <th>50%</th>\n",
       "      <th>75%</th>\n",
       "      <th>max</th>\n",
       "    </tr>\n",
       "  </thead>\n",
       "  <tbody>\n",
       "    <tr>\n",
       "      <th>annual</th>\n",
       "      <td>136807.0</td>\n",
       "      <td>57102.424291</td>\n",
       "      <td>32075.371957</td>\n",
       "      <td>17300.0</td>\n",
       "      <td>35830.0</td>\n",
       "      <td>48560.0</td>\n",
       "      <td>68970.0</td>\n",
       "      <td>315830.0</td>\n",
       "    </tr>\n",
       "  </tbody>\n",
       "</table>\n",
       "</div>"
      ],
      "text/plain": [
       "           count          mean           std      min      25%      50%  \\\n",
       "annual  136807.0  57102.424291  32075.371957  17300.0  35830.0  48560.0   \n",
       "\n",
       "            75%       max  \n",
       "annual  68970.0  315830.0  "
      ]
     },
     "execution_count": 29,
     "metadata": {},
     "output_type": "execute_result"
    }
   ],
   "source": [
    "# Salary dataframe summary statistics for annual and hourly wage\n",
    "salary_df.describe().T"
   ]
  },
  {
   "cell_type": "markdown",
   "metadata": {},
   "source": [
    "Median annual income is 48,560 dollars. Maximum values is 315,830 dollars but the high values are relatively few."
   ]
  },
  {
   "cell_type": "code",
   "execution_count": 30,
   "metadata": {},
   "outputs": [],
   "source": [
    "# Save cleaned salary data\n",
    "salary_df.to_csv('../data/interim/salary_clean.csv')"
   ]
  },
  {
   "cell_type": "markdown",
   "metadata": {},
   "source": [
    "# 2. O'NET Skills Data"
   ]
  },
  {
   "cell_type": "code",
   "execution_count": 31,
   "metadata": {},
   "outputs": [],
   "source": [
    "#Read skills information for occupations into a dataframe\n",
    "skills_df = pd.read_excel('../data/raw/Skills.xlsx')"
   ]
  },
  {
   "cell_type": "markdown",
   "metadata": {},
   "source": [
    "## Explore O'NET Data"
   ]
  },
  {
   "cell_type": "code",
   "execution_count": 32,
   "metadata": {
    "scrolled": true
   },
   "outputs": [
    {
     "data": {
      "text/html": [
       "<div>\n",
       "<style scoped>\n",
       "    .dataframe tbody tr th:only-of-type {\n",
       "        vertical-align: middle;\n",
       "    }\n",
       "\n",
       "    .dataframe tbody tr th {\n",
       "        vertical-align: top;\n",
       "    }\n",
       "\n",
       "    .dataframe thead th {\n",
       "        text-align: right;\n",
       "    }\n",
       "</style>\n",
       "<table border=\"1\" class=\"dataframe\">\n",
       "  <thead>\n",
       "    <tr style=\"text-align: right;\">\n",
       "      <th></th>\n",
       "      <th>O*NET-SOC Code</th>\n",
       "      <th>Title</th>\n",
       "      <th>Element ID</th>\n",
       "      <th>Element Name</th>\n",
       "      <th>Scale ID</th>\n",
       "      <th>Scale Name</th>\n",
       "      <th>Data Value</th>\n",
       "      <th>N</th>\n",
       "      <th>Standard Error</th>\n",
       "      <th>Lower CI Bound</th>\n",
       "      <th>Upper CI Bound</th>\n",
       "      <th>Recommend Suppress</th>\n",
       "      <th>Not Relevant</th>\n",
       "      <th>Date</th>\n",
       "      <th>Domain Source</th>\n",
       "    </tr>\n",
       "  </thead>\n",
       "  <tbody>\n",
       "    <tr>\n",
       "      <th>0</th>\n",
       "      <td>11-1011.00</td>\n",
       "      <td>Chief Executives</td>\n",
       "      <td>2.A.1.a</td>\n",
       "      <td>Reading Comprehension</td>\n",
       "      <td>IM</td>\n",
       "      <td>Importance</td>\n",
       "      <td>4.12</td>\n",
       "      <td>8.0</td>\n",
       "      <td>0.13</td>\n",
       "      <td>3.88</td>\n",
       "      <td>4.37</td>\n",
       "      <td>N</td>\n",
       "      <td>NaN</td>\n",
       "      <td>07/2014</td>\n",
       "      <td>Analyst</td>\n",
       "    </tr>\n",
       "    <tr>\n",
       "      <th>1</th>\n",
       "      <td>11-1011.00</td>\n",
       "      <td>Chief Executives</td>\n",
       "      <td>2.A.1.a</td>\n",
       "      <td>Reading Comprehension</td>\n",
       "      <td>LV</td>\n",
       "      <td>Level</td>\n",
       "      <td>4.75</td>\n",
       "      <td>8.0</td>\n",
       "      <td>0.16</td>\n",
       "      <td>4.43</td>\n",
       "      <td>5.07</td>\n",
       "      <td>N</td>\n",
       "      <td>N</td>\n",
       "      <td>07/2014</td>\n",
       "      <td>Analyst</td>\n",
       "    </tr>\n",
       "    <tr>\n",
       "      <th>2</th>\n",
       "      <td>11-1011.00</td>\n",
       "      <td>Chief Executives</td>\n",
       "      <td>2.A.1.b</td>\n",
       "      <td>Active Listening</td>\n",
       "      <td>IM</td>\n",
       "      <td>Importance</td>\n",
       "      <td>4.12</td>\n",
       "      <td>8.0</td>\n",
       "      <td>0.13</td>\n",
       "      <td>3.88</td>\n",
       "      <td>4.37</td>\n",
       "      <td>N</td>\n",
       "      <td>NaN</td>\n",
       "      <td>07/2014</td>\n",
       "      <td>Analyst</td>\n",
       "    </tr>\n",
       "    <tr>\n",
       "      <th>3</th>\n",
       "      <td>11-1011.00</td>\n",
       "      <td>Chief Executives</td>\n",
       "      <td>2.A.1.b</td>\n",
       "      <td>Active Listening</td>\n",
       "      <td>LV</td>\n",
       "      <td>Level</td>\n",
       "      <td>4.88</td>\n",
       "      <td>8.0</td>\n",
       "      <td>0.23</td>\n",
       "      <td>4.43</td>\n",
       "      <td>5.32</td>\n",
       "      <td>N</td>\n",
       "      <td>N</td>\n",
       "      <td>07/2014</td>\n",
       "      <td>Analyst</td>\n",
       "    </tr>\n",
       "    <tr>\n",
       "      <th>4</th>\n",
       "      <td>11-1011.00</td>\n",
       "      <td>Chief Executives</td>\n",
       "      <td>2.A.1.c</td>\n",
       "      <td>Writing</td>\n",
       "      <td>IM</td>\n",
       "      <td>Importance</td>\n",
       "      <td>4.00</td>\n",
       "      <td>8.0</td>\n",
       "      <td>0.00</td>\n",
       "      <td>4.00</td>\n",
       "      <td>4.00</td>\n",
       "      <td>N</td>\n",
       "      <td>NaN</td>\n",
       "      <td>07/2014</td>\n",
       "      <td>Analyst</td>\n",
       "    </tr>\n",
       "  </tbody>\n",
       "</table>\n",
       "</div>"
      ],
      "text/plain": [
       "  O*NET-SOC Code             Title Element ID           Element Name Scale ID  \\\n",
       "0     11-1011.00  Chief Executives    2.A.1.a  Reading Comprehension       IM   \n",
       "1     11-1011.00  Chief Executives    2.A.1.a  Reading Comprehension       LV   \n",
       "2     11-1011.00  Chief Executives    2.A.1.b       Active Listening       IM   \n",
       "3     11-1011.00  Chief Executives    2.A.1.b       Active Listening       LV   \n",
       "4     11-1011.00  Chief Executives    2.A.1.c                Writing       IM   \n",
       "\n",
       "   Scale Name  Data Value    N  Standard Error  Lower CI Bound  \\\n",
       "0  Importance        4.12  8.0            0.13            3.88   \n",
       "1       Level        4.75  8.0            0.16            4.43   \n",
       "2  Importance        4.12  8.0            0.13            3.88   \n",
       "3       Level        4.88  8.0            0.23            4.43   \n",
       "4  Importance        4.00  8.0            0.00            4.00   \n",
       "\n",
       "   Upper CI Bound Recommend Suppress Not Relevant     Date Domain Source  \n",
       "0            4.37                  N          NaN  07/2014       Analyst  \n",
       "1            5.07                  N            N  07/2014       Analyst  \n",
       "2            4.37                  N          NaN  07/2014       Analyst  \n",
       "3            5.32                  N            N  07/2014       Analyst  \n",
       "4            4.00                  N          NaN  07/2014       Analyst  "
      ]
     },
     "execution_count": 32,
     "metadata": {},
     "output_type": "execute_result"
    }
   ],
   "source": [
    "skills_df.head()"
   ]
  },
  {
   "cell_type": "code",
   "execution_count": 33,
   "metadata": {},
   "outputs": [
    {
     "data": {
      "text/plain": [
       "Index(['O*NET-SOC Code', 'Title', 'Element ID', 'Element Name', 'Scale ID',\n",
       "       'Scale Name', 'Data Value', 'N', 'Standard Error', 'Lower CI Bound',\n",
       "       'Upper CI Bound', 'Recommend Suppress', 'Not Relevant', 'Date',\n",
       "       'Domain Source'],\n",
       "      dtype='object')"
      ]
     },
     "execution_count": 33,
     "metadata": {},
     "output_type": "execute_result"
    }
   ],
   "source": [
    "skills_df.columns"
   ]
  },
  {
   "cell_type": "code",
   "execution_count": 34,
   "metadata": {},
   "outputs": [
    {
     "name": "stdout",
     "output_type": "stream",
     "text": [
      "<class 'pandas.core.frame.DataFrame'>\n",
      "RangeIndex: 61110 entries, 0 to 61109\n",
      "Data columns (total 15 columns):\n",
      " #   Column              Non-Null Count  Dtype  \n",
      "---  ------              --------------  -----  \n",
      " 0   O*NET-SOC Code      61110 non-null  object \n",
      " 1   Title               61110 non-null  object \n",
      " 2   Element ID          61110 non-null  object \n",
      " 3   Element Name        61110 non-null  object \n",
      " 4   Scale ID            61110 non-null  object \n",
      " 5   Scale Name          61110 non-null  object \n",
      " 6   Data Value          61110 non-null  float64\n",
      " 7   N                   57400 non-null  float64\n",
      " 8   Standard Error      57400 non-null  float64\n",
      " 9   Lower CI Bound      57400 non-null  float64\n",
      " 10  Upper CI Bound      57400 non-null  float64\n",
      " 11  Recommend Suppress  61110 non-null  object \n",
      " 12  Not Relevant        30555 non-null  object \n",
      " 13  Date                61110 non-null  object \n",
      " 14  Domain Source       61110 non-null  object \n",
      "dtypes: float64(5), object(10)\n",
      "memory usage: 7.0+ MB\n"
     ]
    }
   ],
   "source": [
    "skills_df.info()"
   ]
  },
  {
   "cell_type": "markdown",
   "metadata": {},
   "source": [
    "### Column definitions"
   ]
  },
  {
   "cell_type": "markdown",
   "metadata": {},
   "source": [
    "I'll be using the O\\*Net code to join with the salary dataframe from BLS data above. According to their website: \n",
    "\n",
    "   \"The O\\*NET Database is in compliance with the current federal mandate to follow the Standard Occupational Classification (SOC). The O\\*NET Database uses the basic 6-digit numerical coding structure of the SOC as its framework, adding a 2-digit extension (sequentially numbered beginning with \".01\") to differentiate unique O\\*NET occupations within the SOC system.\"\n",
    "\n",
    "The level, importance and frequency scales each have a different range of possible scores. Ratings on Level were collected on a 0-7 scale, ratings on Importance were collected on a 1-5 scale, and ratings on Frequency were collected on a 1-4 scale. To make reports generated by O*NET OnLine more intuitively understandable to users, descriptor average ratings were standardized to a scale ranging from 0 to 100. The equation for conversion of original ratings to standardized scores is:\n",
    "\n",
    "S = ( (O - L) / (H - L) ) * 100\n",
    "\n",
    "where S is the standardized score, O is the original rating score on one of the three scales, L is the lowest possible score on the rating scale used, and H is the highest possible score on the rating scale used. For example, an original Importance rating score of 3 is converted to a standardized score of 50 (50 = [ [3 - 1] / [5 - 1] ] * 100). For another example, an original Level rating score of 5 is converted to a standardized score of 71 (71 = [ [5 - 0] / [7 - 0] ] * 100).\n",
    "\n",
    "Element ID and Scale ID don't give us any more information than the Element Name and Scale Name columns so there is no need to keep them.\n",
    "\n",
    "We can also drop the the rating level statistics columns: N, Standard Error, Upper and Lower CI Bound, Recommend Suppress and Not Relevant."
   ]
  },
  {
   "cell_type": "markdown",
   "metadata": {},
   "source": [
    "## Initial Cleaning"
   ]
  },
  {
   "cell_type": "code",
   "execution_count": 35,
   "metadata": {},
   "outputs": [
    {
     "data": {
      "text/html": [
       "<div>\n",
       "<style scoped>\n",
       "    .dataframe tbody tr th:only-of-type {\n",
       "        vertical-align: middle;\n",
       "    }\n",
       "\n",
       "    .dataframe tbody tr th {\n",
       "        vertical-align: top;\n",
       "    }\n",
       "\n",
       "    .dataframe thead th {\n",
       "        text-align: right;\n",
       "    }\n",
       "</style>\n",
       "<table border=\"1\" class=\"dataframe\">\n",
       "  <thead>\n",
       "    <tr style=\"text-align: right;\">\n",
       "      <th></th>\n",
       "      <th>code</th>\n",
       "      <th>occupation</th>\n",
       "      <th>skill</th>\n",
       "      <th>scale_name</th>\n",
       "      <th>scale_value</th>\n",
       "    </tr>\n",
       "  </thead>\n",
       "  <tbody>\n",
       "    <tr>\n",
       "      <th>0</th>\n",
       "      <td>11-1011.00</td>\n",
       "      <td>Chief Executives</td>\n",
       "      <td>Reading Comprehension</td>\n",
       "      <td>Importance</td>\n",
       "      <td>4.12</td>\n",
       "    </tr>\n",
       "    <tr>\n",
       "      <th>1</th>\n",
       "      <td>11-1011.00</td>\n",
       "      <td>Chief Executives</td>\n",
       "      <td>Reading Comprehension</td>\n",
       "      <td>Level</td>\n",
       "      <td>4.75</td>\n",
       "    </tr>\n",
       "    <tr>\n",
       "      <th>2</th>\n",
       "      <td>11-1011.00</td>\n",
       "      <td>Chief Executives</td>\n",
       "      <td>Active Listening</td>\n",
       "      <td>Importance</td>\n",
       "      <td>4.12</td>\n",
       "    </tr>\n",
       "    <tr>\n",
       "      <th>3</th>\n",
       "      <td>11-1011.00</td>\n",
       "      <td>Chief Executives</td>\n",
       "      <td>Active Listening</td>\n",
       "      <td>Level</td>\n",
       "      <td>4.88</td>\n",
       "    </tr>\n",
       "    <tr>\n",
       "      <th>4</th>\n",
       "      <td>11-1011.00</td>\n",
       "      <td>Chief Executives</td>\n",
       "      <td>Writing</td>\n",
       "      <td>Importance</td>\n",
       "      <td>4.00</td>\n",
       "    </tr>\n",
       "  </tbody>\n",
       "</table>\n",
       "</div>"
      ],
      "text/plain": [
       "         code        occupation                  skill  scale_name  \\\n",
       "0  11-1011.00  Chief Executives  Reading Comprehension  Importance   \n",
       "1  11-1011.00  Chief Executives  Reading Comprehension       Level   \n",
       "2  11-1011.00  Chief Executives       Active Listening  Importance   \n",
       "3  11-1011.00  Chief Executives       Active Listening       Level   \n",
       "4  11-1011.00  Chief Executives                Writing  Importance   \n",
       "\n",
       "   scale_value  \n",
       "0         4.12  \n",
       "1         4.75  \n",
       "2         4.12  \n",
       "3         4.88  \n",
       "4         4.00  "
      ]
     },
     "execution_count": 35,
     "metadata": {},
     "output_type": "execute_result"
    }
   ],
   "source": [
    "# Construct skills datafram from relevent columns, rename columns and set the O*Net code as the index\n",
    "skills_df = skills_df[['O*NET-SOC Code', 'Title', 'Element Name', 'Scale Name', 'Data Value']]\n",
    "skills_df = skills_df.rename(columns={'O*NET-SOC Code':'code', 'Title':'occupation', 'Element Name':'skill', 'Scale Name':\n",
    "                                     'scale_name', 'Data Value':'scale_value'})\n",
    "skills_df.head()"
   ]
  },
  {
   "cell_type": "code",
   "execution_count": 36,
   "metadata": {},
   "outputs": [
    {
     "data": {
      "text/html": [
       "<div>\n",
       "<style scoped>\n",
       "    .dataframe tbody tr th:only-of-type {\n",
       "        vertical-align: middle;\n",
       "    }\n",
       "\n",
       "    .dataframe tbody tr th {\n",
       "        vertical-align: top;\n",
       "    }\n",
       "\n",
       "    .dataframe thead th {\n",
       "        text-align: right;\n",
       "    }\n",
       "</style>\n",
       "<table border=\"1\" class=\"dataframe\">\n",
       "  <thead>\n",
       "    <tr style=\"text-align: right;\">\n",
       "      <th></th>\n",
       "      <th>occupation</th>\n",
       "      <th>skill</th>\n",
       "      <th>scale_name</th>\n",
       "      <th>scale_value</th>\n",
       "    </tr>\n",
       "    <tr>\n",
       "      <th>code</th>\n",
       "      <th></th>\n",
       "      <th></th>\n",
       "      <th></th>\n",
       "      <th></th>\n",
       "    </tr>\n",
       "  </thead>\n",
       "  <tbody>\n",
       "    <tr>\n",
       "      <th>111011</th>\n",
       "      <td>Chief Executives</td>\n",
       "      <td>Reading Comprehension</td>\n",
       "      <td>Importance</td>\n",
       "      <td>4.12</td>\n",
       "    </tr>\n",
       "    <tr>\n",
       "      <th>111011</th>\n",
       "      <td>Chief Executives</td>\n",
       "      <td>Reading Comprehension</td>\n",
       "      <td>Level</td>\n",
       "      <td>4.75</td>\n",
       "    </tr>\n",
       "    <tr>\n",
       "      <th>111011</th>\n",
       "      <td>Chief Executives</td>\n",
       "      <td>Active Listening</td>\n",
       "      <td>Importance</td>\n",
       "      <td>4.12</td>\n",
       "    </tr>\n",
       "    <tr>\n",
       "      <th>111011</th>\n",
       "      <td>Chief Executives</td>\n",
       "      <td>Active Listening</td>\n",
       "      <td>Level</td>\n",
       "      <td>4.88</td>\n",
       "    </tr>\n",
       "    <tr>\n",
       "      <th>111011</th>\n",
       "      <td>Chief Executives</td>\n",
       "      <td>Writing</td>\n",
       "      <td>Importance</td>\n",
       "      <td>4.00</td>\n",
       "    </tr>\n",
       "  </tbody>\n",
       "</table>\n",
       "</div>"
      ],
      "text/plain": [
       "              occupation                  skill  scale_name  scale_value\n",
       "code                                                                    \n",
       "111011  Chief Executives  Reading Comprehension  Importance         4.12\n",
       "111011  Chief Executives  Reading Comprehension       Level         4.75\n",
       "111011  Chief Executives       Active Listening  Importance         4.12\n",
       "111011  Chief Executives       Active Listening       Level         4.88\n",
       "111011  Chief Executives                Writing  Importance         4.00"
      ]
     },
     "execution_count": 36,
     "metadata": {},
     "output_type": "execute_result"
    }
   ],
   "source": [
    "# Remove '-' and '.' from the code column\n",
    "skills_df['code'] = skills_df['code'].str.replace('-','')\n",
    "skills_df['code'] = skills_df['code'].str.split('.').str[0]\n",
    "\n",
    "# Convert code to numeric type\n",
    "skills_df['code'] = skills_df['code'].apply(pd.to_numeric)\n",
    "\n",
    "# Set code as index\n",
    "skills_df = skills_df.set_index('code')\n",
    "skills_df.head()"
   ]
  },
  {
   "cell_type": "code",
   "execution_count": 37,
   "metadata": {},
   "outputs": [
    {
     "name": "stdout",
     "output_type": "stream",
     "text": [
      "<class 'pandas.core.frame.DataFrame'>\n",
      "Int64Index: 61110 entries, 111011 to 537121\n",
      "Data columns (total 4 columns):\n",
      " #   Column       Non-Null Count  Dtype  \n",
      "---  ------       --------------  -----  \n",
      " 0   occupation   61110 non-null  object \n",
      " 1   skill        61110 non-null  object \n",
      " 2   scale_name   61110 non-null  object \n",
      " 3   scale_value  61110 non-null  float64\n",
      "dtypes: float64(1), object(3)\n",
      "memory usage: 2.3+ MB\n"
     ]
    }
   ],
   "source": [
    "skills_df.info()"
   ]
  },
  {
   "cell_type": "markdown",
   "metadata": {},
   "source": [
    "### Duplicates"
   ]
  },
  {
   "cell_type": "code",
   "execution_count": 38,
   "metadata": {},
   "outputs": [
    {
     "data": {
      "text/plain": [
       "False"
      ]
     },
     "execution_count": 38,
     "metadata": {},
     "output_type": "execute_result"
    }
   ],
   "source": [
    "# Find duplicates\n",
    "skills_df.duplicated().any()"
   ]
  },
  {
   "cell_type": "markdown",
   "metadata": {},
   "source": [
    "We don't have any missing values in our columns of interest and they are all of correct data type."
   ]
  },
  {
   "cell_type": "code",
   "execution_count": 39,
   "metadata": {},
   "outputs": [
    {
     "data": {
      "text/plain": [
       "(61110, 4)"
      ]
     },
     "execution_count": 39,
     "metadata": {},
     "output_type": "execute_result"
    }
   ],
   "source": [
    "skills_df.shape"
   ]
  },
  {
   "cell_type": "markdown",
   "metadata": {},
   "source": [
    "There must have been no duplicates so we get the same number of rows back. "
   ]
  },
  {
   "cell_type": "markdown",
   "metadata": {},
   "source": [
    "### Occupation"
   ]
  },
  {
   "cell_type": "code",
   "execution_count": 40,
   "metadata": {},
   "outputs": [
    {
     "data": {
      "text/plain": [
       "873"
      ]
     },
     "execution_count": 40,
     "metadata": {},
     "output_type": "execute_result"
    }
   ],
   "source": [
    "skills_df['occupation'].nunique()"
   ]
  },
  {
   "cell_type": "markdown",
   "metadata": {},
   "source": [
    "### Scales"
   ]
  },
  {
   "cell_type": "code",
   "execution_count": 41,
   "metadata": {},
   "outputs": [
    {
     "data": {
      "text/plain": [
       "array(['Importance', 'Level'], dtype=object)"
      ]
     },
     "execution_count": 41,
     "metadata": {},
     "output_type": "execute_result"
    }
   ],
   "source": [
    "# Unique scale_name values\n",
    "skills_df['scale_name'].unique()"
   ]
  },
  {
   "cell_type": "code",
   "execution_count": 42,
   "metadata": {},
   "outputs": [
    {
     "data": {
      "text/html": [
       "<div>\n",
       "<style scoped>\n",
       "    .dataframe tbody tr th:only-of-type {\n",
       "        vertical-align: middle;\n",
       "    }\n",
       "\n",
       "    .dataframe tbody tr th {\n",
       "        vertical-align: top;\n",
       "    }\n",
       "\n",
       "    .dataframe thead th {\n",
       "        text-align: right;\n",
       "    }\n",
       "</style>\n",
       "<table border=\"1\" class=\"dataframe\">\n",
       "  <thead>\n",
       "    <tr style=\"text-align: right;\">\n",
       "      <th></th>\n",
       "      <th>occupation</th>\n",
       "      <th>skill</th>\n",
       "      <th>importance</th>\n",
       "    </tr>\n",
       "    <tr>\n",
       "      <th>code</th>\n",
       "      <th></th>\n",
       "      <th></th>\n",
       "      <th></th>\n",
       "    </tr>\n",
       "  </thead>\n",
       "  <tbody>\n",
       "    <tr>\n",
       "      <th>111011</th>\n",
       "      <td>Chief Executives</td>\n",
       "      <td>Reading Comprehension</td>\n",
       "      <td>4.12</td>\n",
       "    </tr>\n",
       "    <tr>\n",
       "      <th>111011</th>\n",
       "      <td>Chief Executives</td>\n",
       "      <td>Active Listening</td>\n",
       "      <td>4.12</td>\n",
       "    </tr>\n",
       "    <tr>\n",
       "      <th>111011</th>\n",
       "      <td>Chief Executives</td>\n",
       "      <td>Writing</td>\n",
       "      <td>4.00</td>\n",
       "    </tr>\n",
       "    <tr>\n",
       "      <th>111011</th>\n",
       "      <td>Chief Executives</td>\n",
       "      <td>Speaking</td>\n",
       "      <td>4.38</td>\n",
       "    </tr>\n",
       "    <tr>\n",
       "      <th>111011</th>\n",
       "      <td>Chief Executives</td>\n",
       "      <td>Mathematics</td>\n",
       "      <td>3.25</td>\n",
       "    </tr>\n",
       "  </tbody>\n",
       "</table>\n",
       "</div>"
      ],
      "text/plain": [
       "              occupation                  skill  importance\n",
       "code                                                       \n",
       "111011  Chief Executives  Reading Comprehension        4.12\n",
       "111011  Chief Executives       Active Listening        4.12\n",
       "111011  Chief Executives                Writing        4.00\n",
       "111011  Chief Executives               Speaking        4.38\n",
       "111011  Chief Executives            Mathematics        3.25"
      ]
     },
     "execution_count": 42,
     "metadata": {},
     "output_type": "execute_result"
    }
   ],
   "source": [
    "# For now just get a df with only importance scale values and drop scale_name column and rename value column\n",
    "skills_df = skills_df.loc[skills_df['scale_name'] == 'Importance']\n",
    "skills_df.drop(columns='scale_name', inplace=True)\n",
    "skills_df.rename(columns={'scale_value':'importance'}, inplace=True)\n",
    "skills_df.head()"
   ]
  },
  {
   "cell_type": "markdown",
   "metadata": {},
   "source": [
    "### Skills"
   ]
  },
  {
   "cell_type": "code",
   "execution_count": 43,
   "metadata": {},
   "outputs": [
    {
     "name": "stdout",
     "output_type": "stream",
     "text": [
      "35\n",
      "['Reading Comprehension' 'Active Listening' 'Writing' 'Speaking'\n",
      " 'Mathematics' 'Science' 'Critical Thinking' 'Active Learning'\n",
      " 'Learning Strategies' 'Monitoring' 'Social Perceptiveness' 'Coordination'\n",
      " 'Persuasion' 'Negotiation' 'Instructing' 'Service Orientation'\n",
      " 'Complex Problem Solving' 'Operations Analysis' 'Technology Design'\n",
      " 'Equipment Selection' 'Installation' 'Programming'\n",
      " 'Operations Monitoring' 'Operation and Control' 'Equipment Maintenance'\n",
      " 'Troubleshooting' 'Repairing' 'Quality Control Analysis'\n",
      " 'Judgment and Decision Making' 'Systems Analysis' 'Systems Evaluation'\n",
      " 'Time Management' 'Management of Financial Resources'\n",
      " 'Management of Material Resources' 'Management of Personnel Resources']\n"
     ]
    }
   ],
   "source": [
    "print(skills_df.skill.nunique())\n",
    "print(skills_df.skill.unique())"
   ]
  },
  {
   "cell_type": "code",
   "execution_count": 44,
   "metadata": {},
   "outputs": [
    {
     "data": {
      "image/png": "[encoded data removed]",
      "text/plain": [
       "<Figure size 432x288 with 1 Axes>"
      ]
     },
     "metadata": {
      "needs_background": "light"
     },
     "output_type": "display_data"
    }
   ],
   "source": [
    "# Distribution of skill values\n",
    "skills_df.hist(histtype='step', linewidth=4)\n",
    "plt.grid(False);"
   ]
  },
  {
   "cell_type": "code",
   "execution_count": 45,
   "metadata": {},
   "outputs": [],
   "source": [
    "# Save clean skills data\n",
    "skills_df.to_csv('../data/interim/skills_clean.csv')"
   ]
  },
  {
   "cell_type": "markdown",
   "metadata": {},
   "source": [
    "# 3. Join Salary and Skills Dataframes"
   ]
  },
  {
   "cell_type": "code",
   "execution_count": 46,
   "metadata": {},
   "outputs": [
    {
     "data": {
      "text/html": [
       "<div>\n",
       "<style scoped>\n",
       "    .dataframe tbody tr th:only-of-type {\n",
       "        vertical-align: middle;\n",
       "    }\n",
       "\n",
       "    .dataframe tbody tr th {\n",
       "        vertical-align: top;\n",
       "    }\n",
       "\n",
       "    .dataframe thead th {\n",
       "        text-align: right;\n",
       "    }\n",
       "</style>\n",
       "<table border=\"1\" class=\"dataframe\">\n",
       "  <thead>\n",
       "    <tr style=\"text-align: right;\">\n",
       "      <th></th>\n",
       "      <th>occupation_onet</th>\n",
       "      <th>skill</th>\n",
       "      <th>importance</th>\n",
       "      <th>occupation_bls</th>\n",
       "      <th>location</th>\n",
       "      <th>state</th>\n",
       "      <th>annual</th>\n",
       "    </tr>\n",
       "    <tr>\n",
       "      <th>code</th>\n",
       "      <th></th>\n",
       "      <th></th>\n",
       "      <th></th>\n",
       "      <th></th>\n",
       "      <th></th>\n",
       "      <th></th>\n",
       "      <th></th>\n",
       "    </tr>\n",
       "  </thead>\n",
       "  <tbody>\n",
       "    <tr>\n",
       "      <th>111011</th>\n",
       "      <td>Chief Executives</td>\n",
       "      <td>Reading Comprehension</td>\n",
       "      <td>4.12</td>\n",
       "      <td>Chief Executives</td>\n",
       "      <td>Aguadilla-Isabela</td>\n",
       "      <td>PR</td>\n",
       "      <td>92200.0</td>\n",
       "    </tr>\n",
       "    <tr>\n",
       "      <th>111011</th>\n",
       "      <td>Chief Executives</td>\n",
       "      <td>Reading Comprehension</td>\n",
       "      <td>4.12</td>\n",
       "      <td>Chief Executives</td>\n",
       "      <td>Akron</td>\n",
       "      <td>OH</td>\n",
       "      <td>204420.0</td>\n",
       "    </tr>\n",
       "    <tr>\n",
       "      <th>111011</th>\n",
       "      <td>Chief Executives</td>\n",
       "      <td>Reading Comprehension</td>\n",
       "      <td>4.12</td>\n",
       "      <td>Chief Executives</td>\n",
       "      <td>Albany</td>\n",
       "      <td>GA</td>\n",
       "      <td>121260.0</td>\n",
       "    </tr>\n",
       "    <tr>\n",
       "      <th>111011</th>\n",
       "      <td>Chief Executives</td>\n",
       "      <td>Reading Comprehension</td>\n",
       "      <td>4.12</td>\n",
       "      <td>Chief Executives</td>\n",
       "      <td>Albany-Schenectady-Troy</td>\n",
       "      <td>NY</td>\n",
       "      <td>155870.0</td>\n",
       "    </tr>\n",
       "    <tr>\n",
       "      <th>111011</th>\n",
       "      <td>Chief Executives</td>\n",
       "      <td>Reading Comprehension</td>\n",
       "      <td>4.12</td>\n",
       "      <td>Chief Executives</td>\n",
       "      <td>Allentown-Bethlehem-Easton</td>\n",
       "      <td>PA</td>\n",
       "      <td>215910.0</td>\n",
       "    </tr>\n",
       "  </tbody>\n",
       "</table>\n",
       "</div>"
      ],
      "text/plain": [
       "         occupation_onet                  skill  importance    occupation_bls  \\\n",
       "code                                                                            \n",
       "111011  Chief Executives  Reading Comprehension        4.12  Chief Executives   \n",
       "111011  Chief Executives  Reading Comprehension        4.12  Chief Executives   \n",
       "111011  Chief Executives  Reading Comprehension        4.12  Chief Executives   \n",
       "111011  Chief Executives  Reading Comprehension        4.12  Chief Executives   \n",
       "111011  Chief Executives  Reading Comprehension        4.12  Chief Executives   \n",
       "\n",
       "                          location state    annual  \n",
       "code                                                \n",
       "111011           Aguadilla-Isabela    PR   92200.0  \n",
       "111011                       Akron    OH  204420.0  \n",
       "111011                      Albany    GA  121260.0  \n",
       "111011     Albany-Schenectady-Troy    NY  155870.0  \n",
       "111011  Allentown-Bethlehem-Easton    PA  215910.0  "
      ]
     },
     "execution_count": 46,
     "metadata": {},
     "output_type": "execute_result"
    }
   ],
   "source": [
    "# Inner join skills and salary dataframes using using index\n",
    "skill_salary = skills_df.join(salary_df, lsuffix='_onet', rsuffix='_bls', how='inner')\n",
    "skill_salary.head()"
   ]
  },
  {
   "cell_type": "markdown",
   "metadata": {},
   "source": [
    "## Explore joined datasets"
   ]
  },
  {
   "cell_type": "code",
   "execution_count": 47,
   "metadata": {},
   "outputs": [
    {
     "data": {
      "text/plain": [
       "(4771830, 7)"
      ]
     },
     "execution_count": 47,
     "metadata": {},
     "output_type": "execute_result"
    }
   ],
   "source": [
    "skill_salary.shape"
   ]
  },
  {
   "cell_type": "code",
   "execution_count": 48,
   "metadata": {},
   "outputs": [
    {
     "data": {
      "text/plain": [
       "occupation_onet    0\n",
       "skill              0\n",
       "importance         0\n",
       "occupation_bls     0\n",
       "location           0\n",
       "state              0\n",
       "annual             0\n",
       "dtype: int64"
      ]
     },
     "execution_count": 48,
     "metadata": {},
     "output_type": "execute_result"
    }
   ],
   "source": [
    "# Any null values?\n",
    "skill_salary.isna().sum()"
   ]
  },
  {
   "cell_type": "code",
   "execution_count": 49,
   "metadata": {},
   "outputs": [
    {
     "data": {
      "text/html": [
       "<div>\n",
       "<style scoped>\n",
       "    .dataframe tbody tr th:only-of-type {\n",
       "        vertical-align: middle;\n",
       "    }\n",
       "\n",
       "    .dataframe tbody tr th {\n",
       "        vertical-align: top;\n",
       "    }\n",
       "\n",
       "    .dataframe thead th {\n",
       "        text-align: right;\n",
       "    }\n",
       "</style>\n",
       "<table border=\"1\" class=\"dataframe\">\n",
       "  <thead>\n",
       "    <tr style=\"text-align: right;\">\n",
       "      <th></th>\n",
       "      <th>occupation_onet</th>\n",
       "      <th>occupation_bls</th>\n",
       "      <th>0</th>\n",
       "    </tr>\n",
       "  </thead>\n",
       "  <tbody>\n",
       "    <tr>\n",
       "      <th>0</th>\n",
       "      <td>Baristas</td>\n",
       "      <td>Fast Food and Counter Workers</td>\n",
       "      <td>13860</td>\n",
       "    </tr>\n",
       "    <tr>\n",
       "      <th>1</th>\n",
       "      <td>Recycling and Reclamation Workers</td>\n",
       "      <td>Laborers and Freight, Stock, and Material Move...</td>\n",
       "      <td>13790</td>\n",
       "    </tr>\n",
       "    <tr>\n",
       "      <th>2</th>\n",
       "      <td>Solar Energy Installation Managers</td>\n",
       "      <td>First-Line Supervisors of Construction Trades ...</td>\n",
       "      <td>13755</td>\n",
       "    </tr>\n",
       "    <tr>\n",
       "      <th>3</th>\n",
       "      <td>Investment Fund Managers</td>\n",
       "      <td>Financial Managers</td>\n",
       "      <td>13720</td>\n",
       "    </tr>\n",
       "    <tr>\n",
       "      <th>4</th>\n",
       "      <td>Treasurers and Controllers</td>\n",
       "      <td>Financial Managers</td>\n",
       "      <td>13720</td>\n",
       "    </tr>\n",
       "    <tr>\n",
       "      <th>...</th>\n",
       "      <td>...</td>\n",
       "      <td>...</td>\n",
       "      <td>...</td>\n",
       "    </tr>\n",
       "    <tr>\n",
       "      <th>96</th>\n",
       "      <td>Art Therapists</td>\n",
       "      <td>Therapists, All Other</td>\n",
       "      <td>2030</td>\n",
       "    </tr>\n",
       "    <tr>\n",
       "      <th>97</th>\n",
       "      <td>Biofuels Processing Technicians</td>\n",
       "      <td>Plant and System Operators, All Other</td>\n",
       "      <td>1855</td>\n",
       "    </tr>\n",
       "    <tr>\n",
       "      <th>98</th>\n",
       "      <td>Environmental Economists</td>\n",
       "      <td>Economists</td>\n",
       "      <td>1820</td>\n",
       "    </tr>\n",
       "    <tr>\n",
       "      <th>99</th>\n",
       "      <td>Robotics Technicians</td>\n",
       "      <td>Electro-Mechanical and Mechatronics Technologi...</td>\n",
       "      <td>1680</td>\n",
       "    </tr>\n",
       "    <tr>\n",
       "      <th>100</th>\n",
       "      <td>Nuclear Monitoring Technicians</td>\n",
       "      <td>Nuclear Technicians</td>\n",
       "      <td>245</td>\n",
       "    </tr>\n",
       "  </tbody>\n",
       "</table>\n",
       "<p>101 rows × 3 columns</p>\n",
       "</div>"
      ],
      "text/plain": [
       "                        occupation_onet  \\\n",
       "0                              Baristas   \n",
       "1     Recycling and Reclamation Workers   \n",
       "2    Solar Energy Installation Managers   \n",
       "3              Investment Fund Managers   \n",
       "4            Treasurers and Controllers   \n",
       "..                                  ...   \n",
       "96                       Art Therapists   \n",
       "97      Biofuels Processing Technicians   \n",
       "98             Environmental Economists   \n",
       "99                 Robotics Technicians   \n",
       "100      Nuclear Monitoring Technicians   \n",
       "\n",
       "                                        occupation_bls      0  \n",
       "0                        Fast Food and Counter Workers  13860  \n",
       "1    Laborers and Freight, Stock, and Material Move...  13790  \n",
       "2    First-Line Supervisors of Construction Trades ...  13755  \n",
       "3                                   Financial Managers  13720  \n",
       "4                                   Financial Managers  13720  \n",
       "..                                                 ...    ...  \n",
       "96                               Therapists, All Other   2030  \n",
       "97               Plant and System Operators, All Other   1855  \n",
       "98                                          Economists   1820  \n",
       "99   Electro-Mechanical and Mechatronics Technologi...   1680  \n",
       "100                                Nuclear Technicians    245  \n",
       "\n",
       "[101 rows x 3 columns]"
      ]
     },
     "execution_count": 49,
     "metadata": {},
     "output_type": "execute_result"
    }
   ],
   "source": [
    "# Instances where joined occupations (based on SOC code) have different titles from each source\n",
    "map_occupation = skill_salary[['occupation_onet','occupation_bls']][skill_salary['occupation_bls'] != skill_salary['occupation_onet']].value_counts().reset_index()\n",
    "map_occupation"
   ]
  },
  {
   "cell_type": "markdown",
   "metadata": {},
   "source": [
    "### Clean skill_salary dataframe"
   ]
  },
  {
   "cell_type": "code",
   "execution_count": 50,
   "metadata": {},
   "outputs": [
    {
     "data": {
      "text/html": [
       "<div>\n",
       "<style scoped>\n",
       "    .dataframe tbody tr th:only-of-type {\n",
       "        vertical-align: middle;\n",
       "    }\n",
       "\n",
       "    .dataframe tbody tr th {\n",
       "        vertical-align: top;\n",
       "    }\n",
       "\n",
       "    .dataframe thead th {\n",
       "        text-align: right;\n",
       "    }\n",
       "</style>\n",
       "<table border=\"1\" class=\"dataframe\">\n",
       "  <thead>\n",
       "    <tr style=\"text-align: right;\">\n",
       "      <th></th>\n",
       "      <th>occupation_onet</th>\n",
       "      <th>skill</th>\n",
       "      <th>importance</th>\n",
       "      <th>location</th>\n",
       "      <th>state</th>\n",
       "      <th>annual</th>\n",
       "    </tr>\n",
       "    <tr>\n",
       "      <th>code</th>\n",
       "      <th></th>\n",
       "      <th></th>\n",
       "      <th></th>\n",
       "      <th></th>\n",
       "      <th></th>\n",
       "      <th></th>\n",
       "    </tr>\n",
       "  </thead>\n",
       "  <tbody>\n",
       "    <tr>\n",
       "      <th>111011</th>\n",
       "      <td>Chief Executives</td>\n",
       "      <td>Reading Comprehension</td>\n",
       "      <td>4.12</td>\n",
       "      <td>Aguadilla-Isabela</td>\n",
       "      <td>PR</td>\n",
       "      <td>92200.0</td>\n",
       "    </tr>\n",
       "    <tr>\n",
       "      <th>111011</th>\n",
       "      <td>Chief Executives</td>\n",
       "      <td>Reading Comprehension</td>\n",
       "      <td>4.12</td>\n",
       "      <td>Akron</td>\n",
       "      <td>OH</td>\n",
       "      <td>204420.0</td>\n",
       "    </tr>\n",
       "    <tr>\n",
       "      <th>111011</th>\n",
       "      <td>Chief Executives</td>\n",
       "      <td>Reading Comprehension</td>\n",
       "      <td>4.12</td>\n",
       "      <td>Albany</td>\n",
       "      <td>GA</td>\n",
       "      <td>121260.0</td>\n",
       "    </tr>\n",
       "    <tr>\n",
       "      <th>111011</th>\n",
       "      <td>Chief Executives</td>\n",
       "      <td>Reading Comprehension</td>\n",
       "      <td>4.12</td>\n",
       "      <td>Albany-Schenectady-Troy</td>\n",
       "      <td>NY</td>\n",
       "      <td>155870.0</td>\n",
       "    </tr>\n",
       "    <tr>\n",
       "      <th>111011</th>\n",
       "      <td>Chief Executives</td>\n",
       "      <td>Reading Comprehension</td>\n",
       "      <td>4.12</td>\n",
       "      <td>Allentown-Bethlehem-Easton</td>\n",
       "      <td>PA</td>\n",
       "      <td>215910.0</td>\n",
       "    </tr>\n",
       "  </tbody>\n",
       "</table>\n",
       "</div>"
      ],
      "text/plain": [
       "         occupation_onet                  skill  importance  \\\n",
       "code                                                          \n",
       "111011  Chief Executives  Reading Comprehension        4.12   \n",
       "111011  Chief Executives  Reading Comprehension        4.12   \n",
       "111011  Chief Executives  Reading Comprehension        4.12   \n",
       "111011  Chief Executives  Reading Comprehension        4.12   \n",
       "111011  Chief Executives  Reading Comprehension        4.12   \n",
       "\n",
       "                          location state    annual  \n",
       "code                                                \n",
       "111011           Aguadilla-Isabela    PR   92200.0  \n",
       "111011                       Akron    OH  204420.0  \n",
       "111011                      Albany    GA  121260.0  \n",
       "111011     Albany-Schenectady-Troy    NY  155870.0  \n",
       "111011  Allentown-Bethlehem-Easton    PA  215910.0  "
      ]
     },
     "execution_count": 50,
     "metadata": {},
     "output_type": "execute_result"
    }
   ],
   "source": [
    "# Drop occupation_bls and keep the onet (more detailed) titles\n",
    "skill_salary = skill_salary[['occupation_onet', 'skill', 'importance', 'location', 'state', 'annual']]\n",
    "skill_salary.head()"
   ]
  },
  {
   "cell_type": "code",
   "execution_count": 51,
   "metadata": {},
   "outputs": [
    {
     "data": {
      "text/html": [
       "<div>\n",
       "<style scoped>\n",
       "    .dataframe tbody tr th:only-of-type {\n",
       "        vertical-align: middle;\n",
       "    }\n",
       "\n",
       "    .dataframe tbody tr th {\n",
       "        vertical-align: top;\n",
       "    }\n",
       "\n",
       "    .dataframe thead th {\n",
       "        text-align: right;\n",
       "    }\n",
       "</style>\n",
       "<table border=\"1\" class=\"dataframe\">\n",
       "  <thead>\n",
       "    <tr style=\"text-align: right;\">\n",
       "      <th></th>\n",
       "      <th>occupation</th>\n",
       "      <th>skill</th>\n",
       "      <th>importance</th>\n",
       "      <th>location</th>\n",
       "      <th>state</th>\n",
       "      <th>annual</th>\n",
       "    </tr>\n",
       "    <tr>\n",
       "      <th>code</th>\n",
       "      <th></th>\n",
       "      <th></th>\n",
       "      <th></th>\n",
       "      <th></th>\n",
       "      <th></th>\n",
       "      <th></th>\n",
       "    </tr>\n",
       "  </thead>\n",
       "  <tbody>\n",
       "    <tr>\n",
       "      <th>111011</th>\n",
       "      <td>Chief Executives</td>\n",
       "      <td>Reading Comprehension</td>\n",
       "      <td>4.12</td>\n",
       "      <td>Aguadilla-Isabela</td>\n",
       "      <td>PR</td>\n",
       "      <td>92200.0</td>\n",
       "    </tr>\n",
       "    <tr>\n",
       "      <th>111011</th>\n",
       "      <td>Chief Executives</td>\n",
       "      <td>Reading Comprehension</td>\n",
       "      <td>4.12</td>\n",
       "      <td>Akron</td>\n",
       "      <td>OH</td>\n",
       "      <td>204420.0</td>\n",
       "    </tr>\n",
       "    <tr>\n",
       "      <th>111011</th>\n",
       "      <td>Chief Executives</td>\n",
       "      <td>Reading Comprehension</td>\n",
       "      <td>4.12</td>\n",
       "      <td>Albany</td>\n",
       "      <td>GA</td>\n",
       "      <td>121260.0</td>\n",
       "    </tr>\n",
       "    <tr>\n",
       "      <th>111011</th>\n",
       "      <td>Chief Executives</td>\n",
       "      <td>Reading Comprehension</td>\n",
       "      <td>4.12</td>\n",
       "      <td>Albany-Schenectady-Troy</td>\n",
       "      <td>NY</td>\n",
       "      <td>155870.0</td>\n",
       "    </tr>\n",
       "    <tr>\n",
       "      <th>111011</th>\n",
       "      <td>Chief Executives</td>\n",
       "      <td>Reading Comprehension</td>\n",
       "      <td>4.12</td>\n",
       "      <td>Allentown-Bethlehem-Easton</td>\n",
       "      <td>PA</td>\n",
       "      <td>215910.0</td>\n",
       "    </tr>\n",
       "  </tbody>\n",
       "</table>\n",
       "</div>"
      ],
      "text/plain": [
       "              occupation                  skill  importance  \\\n",
       "code                                                          \n",
       "111011  Chief Executives  Reading Comprehension        4.12   \n",
       "111011  Chief Executives  Reading Comprehension        4.12   \n",
       "111011  Chief Executives  Reading Comprehension        4.12   \n",
       "111011  Chief Executives  Reading Comprehension        4.12   \n",
       "111011  Chief Executives  Reading Comprehension        4.12   \n",
       "\n",
       "                          location state    annual  \n",
       "code                                                \n",
       "111011           Aguadilla-Isabela    PR   92200.0  \n",
       "111011                       Akron    OH  204420.0  \n",
       "111011                      Albany    GA  121260.0  \n",
       "111011     Albany-Schenectady-Troy    NY  155870.0  \n",
       "111011  Allentown-Bethlehem-Easton    PA  215910.0  "
      ]
     },
     "execution_count": 51,
     "metadata": {},
     "output_type": "execute_result"
    }
   ],
   "source": [
    "# Rename occupation_onet \n",
    "skill_salary = skill_salary.rename(columns={'occupation_onet':'occupation'})\n",
    "skill_salary.head()"
   ]
  },
  {
   "cell_type": "code",
   "execution_count": 52,
   "metadata": {},
   "outputs": [
    {
     "data": {
      "image/png": "[encoded data removed]",
      "text/plain": [
       "<Figure size 1800x720 with 1 Axes>"
      ]
     },
     "metadata": {
      "needs_background": "light"
     },
     "output_type": "display_data"
    }
   ],
   "source": [
    "# Plot the distrubution of values for each skill using boxplots\n",
    "plt.subplots(figsize=(25,10))\n",
    "sns.boxplot(x='skill', y='importance', data=skill_salary)\n",
    "plt.xticks(rotation=90);"
   ]
  },
  {
   "cell_type": "markdown",
   "metadata": {},
   "source": [
    "## Report and Summary"
   ]
  },
  {
   "cell_type": "code",
   "execution_count": 55,
   "metadata": {},
   "outputs": [
    {
     "data": {
      "application/vnd.jupyter.widget-view+json": {
       "model_id": "b19174c367204944800294406f09a06b",
       "version_major": 2,
       "version_minor": 0
      },
      "text/plain": [
       "Summarize dataset:   0%|          | 0/5 [00:00<?, ?it/s]"
      ]
     },
     "metadata": {},
     "output_type": "display_data"
    },
    {
     "name": "stderr",
     "output_type": "stream",
     "text": [
      "/Users/shaghayeghroshan/opt/anaconda3/lib/python3.9/site-packages/scipy/stats/stats.py:4812: RuntimeWarning: overflow encountered in long_scalars\n",
      "  (2 * xtie * ytie) / m + x0 * y0 / (9 * m * (size - 2)))\n"
     ]
    },
    {
     "data": {
      "application/vnd.jupyter.widget-view+json": {
       "model_id": "12dcd6f4189c4ee795c73169ee13e473",
       "version_major": 2,
       "version_minor": 0
      },
      "text/plain": [
       "Generate report structure:   0%|          | 0/1 [00:00<?, ?it/s]"
      ]
     },
     "metadata": {},
     "output_type": "display_data"
    },
    {
     "data": {
      "application/vnd.jupyter.widget-view+json": {
       "model_id": "3ff5e769637447828490839bbc96e520",
       "version_major": 2,
       "version_minor": 0
      },
      "text/plain": [
       "Render HTML:   0%|          | 0/1 [00:00<?, ?it/s]"
      ]
     },
     "metadata": {},
     "output_type": "display_data"
    },
    {
     "data": {
      "application/vnd.jupyter.widget-view+json": {
       "model_id": "6dee4ab107f54d39afe7d2cf18ec817c",
       "version_major": 2,
       "version_minor": 0
      },
      "text/plain": [
       "Export report to file:   0%|          | 0/1 [00:00<?, ?it/s]"
      ]
     },
     "metadata": {},
     "output_type": "display_data"
    }
   ],
   "source": [
    "# Run a profile roport on final dataframe\n",
    "profile = skill_salary.profile_report(html={'style': {'full_width': True}})\n",
    "profile.to_file('../reports/skill_salary_profile_report.html')"
   ]
  },
  {
   "cell_type": "markdown",
   "metadata": {},
   "source": [
    "3 is the most common value for importance followed by 1. Whole values such as 3, 1, 2, and 4 are among the top 10 most frequent values which makes sense, given the tendacy to use whole numbers. The highest value, 5 is rare.\n",
    "\n",
    "California, Texas and Florida have the highest number of jobs. These have more centers with high population density.\n",
    "\n",
    "The annual salary skewed to the right indicating very few occupations earn above $150,000."
   ]
  },
  {
   "cell_type": "code",
   "execution_count": 56,
   "metadata": {},
   "outputs": [],
   "source": [
    "skill_salary.to_csv('../data/interim/skill_salary_clean.csv')"
   ]
  },
  {
   "cell_type": "code",
   "execution_count": null,
   "metadata": {},
   "outputs": [],
   "source": []
  }
 ],
 "metadata": {
  "kernelspec": {
   "display_name": "Python 3 (ipykernel)",
   "language": "python",
   "name": "python3"
  },
  "language_info": {
   "codemirror_mode": {
    "name": "ipython",
    "version": 3
   },
   "file_extension": ".py",
   "mimetype": "text/x-python",
   "name": "python",
   "nbconvert_exporter": "python",
   "pygments_lexer": "ipython3",
   "version": "3.9.7"
  }
 },
 "nbformat": 4,
 "nbformat_minor": 4
}
