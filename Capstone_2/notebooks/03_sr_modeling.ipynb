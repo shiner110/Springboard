{
 "cells": [
  {
   "cell_type": "code",
   "execution_count": 1,
   "metadata": {},
   "outputs": [],
   "source": [
    "import pandas as pd\n",
    "import numpy as np\n",
    "import os\n",
    "import matplotlib.pyplot as plt\n",
    "import seaborn as sns\n",
    "import pickle\n",
    "\n",
    "from sklearn import __version__ as sklearn_version\n",
    "from sklearn.model_selection import cross_validate, GridSearchCV, learning_curve, RandomizedSearchCV, cross_val_score\n",
    "from sklearn.preprocessing import MinMaxScaler, StandardScaler\n",
    "from sklearn.linear_model import LinearRegression, Ridge, LassoCV\n",
    "from sklearn.dummy import DummyRegressor\n",
    "from sklearn.ensemble import RandomForestRegressor, RandomForestClassifier\n",
    "from sklearn.metrics import r2_score, mean_squared_error, mean_absolute_error\n",
    "from sklearn.pipeline import make_pipeline\n",
    "from sklearn.feature_selection import SelectKBest, f_regression\n",
    "from sklearn.neighbors import KNeighborsClassifier\n",
    "from sklearn import svm\n",
    "\n",
    "import datetime"
   ]
  },
  {
   "cell_type": "markdown",
   "metadata": {},
   "source": [
    "# 0. Import train and test data"
   ]
  },
  {
   "cell_type": "code",
   "execution_count": 2,
   "metadata": {},
   "outputs": [],
   "source": [
    "X_train = pd.read_csv('../data/processed/X_train.csv', index_col='occupation')\n",
    "y_train = pd.read_csv('../data/processed/y_train.csv', index_col='occupation')\n",
    "X_test = pd.read_csv('../data/processed/X_test.csv', index_col='occupation')\n",
    "y_test = pd.read_csv('../data/processed/y_test.csv', index_col='occupation')"
   ]
  },
  {
   "cell_type": "code",
   "execution_count": 3,
   "metadata": {},
   "outputs": [
    {
     "data": {
      "text/plain": [
       "((95228, 82), (40813, 82))"
      ]
     },
     "execution_count": 3,
     "metadata": {},
     "output_type": "execute_result"
    }
   ],
   "source": [
    "X_train.shape, X_test.shape"
   ]
  },
  {
   "cell_type": "code",
   "execution_count": 4,
   "metadata": {},
   "outputs": [
    {
     "data": {
      "text/plain": [
       "((95228, 1), (40813, 1))"
      ]
     },
     "execution_count": 4,
     "metadata": {},
     "output_type": "execute_result"
    }
   ],
   "source": [
    "y_train.shape, y_test.shape"
   ]
  },
  {
   "cell_type": "markdown",
   "metadata": {},
   "source": [
    "# 1. Baseline Model"
   ]
  },
  {
   "cell_type": "code",
   "execution_count": 5,
   "metadata": {},
   "outputs": [],
   "source": [
    "# Pipeline: Standardize and mean as the estimate\n",
    "pipe_mean = make_pipeline(MinMaxScaler(), \n",
    "                         DummyRegressor(strategy='mean'))"
   ]
  },
  {
   "cell_type": "markdown",
   "metadata": {},
   "source": [
    "## 1.a Cross-validate"
   ]
  },
  {
   "cell_type": "code",
   "execution_count": 6,
   "metadata": {},
   "outputs": [
    {
     "data": {
      "text/plain": [
       "array([-2.82847634e-06, -6.42477611e-05, -8.64583284e-05, -6.29658705e-05,\n",
       "       -5.56993366e-05])"
      ]
     },
     "execution_count": 6,
     "metadata": {},
     "output_type": "execute_result"
    }
   ],
   "source": [
    "# Cross-validate\n",
    "cv_mean = cross_validate(pipe_mean, X_train, y_train, cv=5)\n",
    "\n",
    "cv_mean_scores = cv_mean['test_score']\n",
    "cv_mean_scores"
   ]
  },
  {
   "cell_type": "code",
   "execution_count": 7,
   "metadata": {},
   "outputs": [
    {
     "name": "stdout",
     "output_type": "stream",
     "text": [
      "Mean CV score: -5e-05\n",
      "Standard Deviation: 3e-05\n"
     ]
    }
   ],
   "source": [
    "# Mean and standard deviation of cv scores\n",
    "print('Mean CV score: {}\\nStandard Deviation: {}'.format(round(np.mean(cv_mean_scores), 5), \n",
    "                                                         round(np.std(cv_mean_scores), 5)))"
   ]
  },
  {
   "cell_type": "code",
   "execution_count": 8,
   "metadata": {},
   "outputs": [
    {
     "data": {
      "text/plain": [
       "array([-0.,  0.])"
      ]
     },
     "execution_count": 8,
     "metadata": {},
     "output_type": "execute_result"
    }
   ],
   "source": [
    "# +- 2 standard deviations\n",
    "np.round((np.mean(cv_mean_scores) - 2 * np.std(cv_mean_scores), np.mean(cv_mean_scores) + 2 * np.std(cv_mean_scores)), 1)"
   ]
  },
  {
   "cell_type": "code",
   "execution_count": 9,
   "metadata": {},
   "outputs": [
    {
     "name": "stdout",
     "output_type": "stream",
     "text": [
      "Fit time: 0.0682\n",
      "Score time: 0.005\n"
     ]
    }
   ],
   "source": [
    "# Fit time and scoring time\n",
    "cv_mean_fit_time = cv_mean['fit_time']\n",
    "cv_mean_score_time = cv_mean['score_time']\n",
    "\n",
    "print('Fit time: {}\\nScore time: {}'.format(round(cv_mean_fit_time.mean(), 4), round(cv_mean_score_time.mean(), 4)))"
   ]
  },
  {
   "cell_type": "markdown",
   "metadata": {},
   "source": [
    "## 1.b Model performance"
   ]
  },
  {
   "cell_type": "code",
   "execution_count": 10,
   "metadata": {},
   "outputs": [],
   "source": [
    "# Fit pipeline. Train and test predictions.\n",
    "pipe_mean.fit(X_train, y_train)\n",
    "y_tr_mean_pred = pipe_mean.predict(X_train)\n",
    "y_te_mean_pred = pipe_mean.predict(X_test)"
   ]
  },
  {
   "cell_type": "code",
   "execution_count": 11,
   "metadata": {},
   "outputs": [
    {
     "name": "stdout",
     "output_type": "stream",
     "text": [
      "R^2 train: 0.0\n",
      "R^2 test: -1.7130880713978058e-06\n"
     ]
    }
   ],
   "source": [
    "# R-squared error\n",
    "print('R^2 train: {}\\nR^2 test: {}'.format(r2_score(y_train, y_tr_mean_pred), r2_score(y_test, y_te_mean_pred)))"
   ]
  },
  {
   "cell_type": "code",
   "execution_count": 12,
   "metadata": {},
   "outputs": [
    {
     "name": "stdout",
     "output_type": "stream",
     "text": [
      "MSE train: 24541\n",
      "MSE test: 24323\n"
     ]
    }
   ],
   "source": [
    "# Mean Squared Error (MAE)\n",
    "print('MSE train: {}\\nMSE test: {}'.format(round(mean_absolute_error(y_train, y_tr_mean_pred)),\n",
    "                                           round( mean_absolute_error(y_test, y_te_mean_pred))))"
   ]
  },
  {
   "cell_type": "code",
   "execution_count": 13,
   "metadata": {},
   "outputs": [
    {
     "name": "stdout",
     "output_type": "stream",
     "text": [
      "MAE train: 1074915664\n",
      "MAE test: 1054016657\n"
     ]
    }
   ],
   "source": [
    "# Mean absolute Error (MSE)\n",
    "print('MAE train: {}\\nMAE test: {}'.format(round(mean_squared_error(y_train, y_tr_mean_pred)), \n",
    "                                           round(mean_squared_error(y_test, y_te_mean_pred))))"
   ]
  },
  {
   "cell_type": "markdown",
   "metadata": {},
   "source": [
    "# 2. Basic Linear Regression "
   ]
  },
  {
   "cell_type": "code",
   "execution_count": 14,
   "metadata": {},
   "outputs": [],
   "source": [
    "# Pipeline: Standardize, Linear Regression\n",
    "pipe_lm = make_pipeline(MinMaxScaler(),\n",
    "                       LinearRegression())"
   ]
  },
  {
   "cell_type": "markdown",
   "metadata": {},
   "source": [
    "## 2.a Cross-validate"
   ]
  },
  {
   "cell_type": "code",
   "execution_count": 15,
   "metadata": {},
   "outputs": [
    {
     "data": {
      "text/plain": [
       "array([0.60365132, 0.60699329, 0.60608191, 0.60564679, 0.60923612])"
      ]
     },
     "execution_count": 15,
     "metadata": {},
     "output_type": "execute_result"
    }
   ],
   "source": [
    "# Cross-validate\n",
    "cv_lm = cross_validate(pipe_lm, X_train, y_train, cv=5)\n",
    "\n",
    "cv_lm_scores = cv_lm['test_score']\n",
    "cv_lm_scores"
   ]
  },
  {
   "cell_type": "code",
   "execution_count": 16,
   "metadata": {},
   "outputs": [
    {
     "name": "stdout",
     "output_type": "stream",
     "text": [
      "Mean CV score: 0.60632\n",
      "Standard Deviation: 0.00182\n"
     ]
    }
   ],
   "source": [
    "# Mean and standard deviation of cv scores\n",
    "print('Mean CV score: {}\\nStandard Deviation: {}'.format(round(np.mean(cv_lm_scores), 5),\n",
    "                                                         round(np.std(cv_lm_scores), 5)))"
   ]
  },
  {
   "cell_type": "code",
   "execution_count": 17,
   "metadata": {},
   "outputs": [
    {
     "data": {
      "text/plain": [
       "array([0.6 , 0.61])"
      ]
     },
     "execution_count": 17,
     "metadata": {},
     "output_type": "execute_result"
    }
   ],
   "source": [
    "# +- 2 standard deviations\n",
    "np.round((np.mean(cv_lm_scores) - 2 * np.std(cv_lm_scores), np.mean(cv_lm_scores) + 2 * np.std(cv_lm_scores)), 2)"
   ]
  },
  {
   "cell_type": "code",
   "execution_count": 18,
   "metadata": {},
   "outputs": [
    {
     "name": "stdout",
     "output_type": "stream",
     "text": [
      "Fit time: 0.1315\n",
      "Score time: 0.0057\n"
     ]
    }
   ],
   "source": [
    "# Fit time and scoring time\n",
    "cv_lm_fit_time = cv_lm['fit_time']\n",
    "cv_lm_score_time = cv_lm['score_time']\n",
    "\n",
    "print('Fit time: {}\\nScore time: {}'.format(round(cv_lm_fit_time.mean(), 4), round(cv_lm_score_time.mean(), 4)))"
   ]
  },
  {
   "cell_type": "markdown",
   "metadata": {},
   "source": [
    "## 2.b Model performance"
   ]
  },
  {
   "cell_type": "code",
   "execution_count": 19,
   "metadata": {},
   "outputs": [],
   "source": [
    "# Fit pipeline. Train and test predictions.\n",
    "pipe_lm.fit(X_train, y_train)\n",
    "y_tr_lm_pred = pipe_lm.predict(X_train)\n",
    "y_te_lm_pred = pipe_lm.predict(X_test)"
   ]
  },
  {
   "cell_type": "code",
   "execution_count": 20,
   "metadata": {},
   "outputs": [
    {
     "name": "stdout",
     "output_type": "stream",
     "text": [
      "R^2 train: 0.607\n",
      "R^2 test: 0.604\n"
     ]
    }
   ],
   "source": [
    "# R_squared error\n",
    "print('R^2 train: {}\\nR^2 test: {}'.format(round(r2_score(y_train, y_tr_lm_pred), 3),\n",
    "                                           round(r2_score(y_test, y_te_lm_pred), 3)))"
   ]
  },
  {
   "cell_type": "code",
   "execution_count": 21,
   "metadata": {},
   "outputs": [
    {
     "name": "stdout",
     "output_type": "stream",
     "text": [
      "MAE train: 14257\n",
      "MSE test: 14251\n"
     ]
    }
   ],
   "source": [
    "# MAE of training data\n",
    "print('MAE train: {}\\nMSE test: {}'.format(round(mean_absolute_error(y_train, y_tr_lm_pred)), \n",
    "                                           round(mean_absolute_error(y_test, y_te_lm_pred))))"
   ]
  },
  {
   "cell_type": "code",
   "execution_count": 22,
   "metadata": {},
   "outputs": [
    {
     "name": "stdout",
     "output_type": "stream",
     "text": [
      "MSE train: 422343367\n",
      "MSE test: 417612243\n"
     ]
    }
   ],
   "source": [
    "# MSE of training data\n",
    "print('MSE train: {}\\nMSE test: {}'.format(round(mean_squared_error(y_train, y_tr_lm_pred)), \n",
    "                                           round(mean_squared_error(y_test, y_te_lm_pred))))"
   ]
  },
  {
   "cell_type": "markdown",
   "metadata": {},
   "source": [
    "# 3. Find best K and Linear Regression"
   ]
  },
  {
   "cell_type": "code",
   "execution_count": 23,
   "metadata": {},
   "outputs": [],
   "source": [
    "# Pipeline: Standardize, Select best K, and Linear Regression\n",
    "pipe_reg = make_pipeline(\n",
    "    MinMaxScaler(),\n",
    "    SelectKBest(f_regression),\n",
    "    LinearRegression()\n",
    ")"
   ]
  },
  {
   "cell_type": "markdown",
   "metadata": {},
   "source": [
    "## 3.a Cross-validate"
   ]
  },
  {
   "cell_type": "code",
   "execution_count": 24,
   "metadata": {},
   "outputs": [
    {
     "data": {
      "text/plain": [
       "array([0.50477401, 0.51306317, 0.51152779, 0.51006312, 0.50792524])"
      ]
     },
     "execution_count": 24,
     "metadata": {},
     "output_type": "execute_result"
    }
   ],
   "source": [
    "# Cross-validate\n",
    "cv_reg = cross_validate(pipe_reg, X_train, y_train.values.ravel(), cv=5)\n",
    "\n",
    "cv_reg_scores = cv_reg['test_score']\n",
    "cv_reg_scores"
   ]
  },
  {
   "cell_type": "code",
   "execution_count": 25,
   "metadata": {},
   "outputs": [
    {
     "name": "stdout",
     "output_type": "stream",
     "text": [
      "Mean CV score: 0.50947\n",
      "Standard Deviation: 0.0029\n"
     ]
    }
   ],
   "source": [
    "# Mean and standard deviation of cv scores\n",
    "print('Mean CV score: {}\\nStandard Deviation: {}'.format(round(np.mean(cv_reg_scores), 5), \n",
    "                                                         round(np.std(cv_reg_scores), 5)))"
   ]
  },
  {
   "cell_type": "code",
   "execution_count": 26,
   "metadata": {},
   "outputs": [
    {
     "data": {
      "text/plain": [
       "array([0.5 , 0.52])"
      ]
     },
     "execution_count": 26,
     "metadata": {},
     "output_type": "execute_result"
    }
   ],
   "source": [
    "# +- 2 standard deviations\n",
    "np.round((np.mean(cv_reg_scores) - 2 * np.std(cv_reg_scores), np.mean(cv_reg_scores) + 2 * np.std(cv_reg_scores)), 2)"
   ]
  },
  {
   "cell_type": "code",
   "execution_count": 27,
   "metadata": {},
   "outputs": [
    {
     "name": "stdout",
     "output_type": "stream",
     "text": [
      "Fit time: 0.0816\n",
      "Score time: 0.0047\n"
     ]
    }
   ],
   "source": [
    "# Fit time and scoring time\n",
    "cv_reg_fit_time = cv_reg['fit_time']\n",
    "cv_reg_score_time = cv_reg['score_time']\n",
    "\n",
    "print('Fit time: {}\\nScore time: {}'.format(round(cv_reg_fit_time.mean(), 4), round(cv_reg_score_time.mean(), 4)))"
   ]
  },
  {
   "cell_type": "markdown",
   "metadata": {},
   "source": [
    "## 3.b Hyperparameter search using GridSearchCV"
   ]
  },
  {
   "cell_type": "code",
   "execution_count": 28,
   "metadata": {},
   "outputs": [],
   "source": [
    "# Grid for possible k's\n",
    "k = [k+1 for k in range(len(X_train.columns))]\n",
    "grid_params = {'selectkbest__k': k}"
   ]
  },
  {
   "cell_type": "code",
   "execution_count": 29,
   "metadata": {},
   "outputs": [
    {
     "data": {
      "text/plain": [
       "GridSearchCV(cv=5,\n",
       "             estimator=Pipeline(steps=[('minmaxscaler', MinMaxScaler()),\n",
       "                                       ('selectkbest',\n",
       "                                        SelectKBest(score_func=<function f_regression at 0x7fb88ac2e670>)),\n",
       "                                       ('linearregression',\n",
       "                                        LinearRegression())]),\n",
       "             n_jobs=-1,\n",
       "             param_grid={'selectkbest__k': [1, 2, 3, 4, 5, 6, 7, 8, 9, 10, 11,\n",
       "                                            12, 13, 14, 15, 16, 17, 18, 19, 20,\n",
       "                                            21, 22, 23, 24, 25, 26, 27, 28, 29,\n",
       "                                            30, ...]})"
      ]
     },
     "execution_count": 29,
     "metadata": {},
     "output_type": "execute_result"
    }
   ],
   "source": [
    "# Grid search\n",
    "reg_grid_cv = GridSearchCV(pipe_reg, param_grid=grid_params, cv=5, n_jobs=-1)\n",
    "reg_grid_cv.fit(X_train, y_train.values.ravel())"
   ]
  },
  {
   "cell_type": "code",
   "execution_count": 30,
   "metadata": {},
   "outputs": [
    {
     "data": {
      "text/plain": [
       "{'selectkbest__k': 82}"
      ]
     },
     "execution_count": 30,
     "metadata": {},
     "output_type": "execute_result"
    }
   ],
   "source": [
    "# Best k\n",
    "score_mean = reg_grid_cv.cv_results_['mean_test_score']\n",
    "score_std = reg_grid_cv.cv_results_['std_test_score']\n",
    "cv_k = [k for k in reg_grid_cv.cv_results_['param_selectkbest__k']]\n",
    "\n",
    "reg_grid_cv.best_params_"
   ]
  },
  {
   "cell_type": "code",
   "execution_count": 31,
   "metadata": {},
   "outputs": [
    {
     "data": {
      "text/plain": [
       "array([0.60365132, 0.60699329, 0.60608191, 0.60564679, 0.60923612])"
      ]
     },
     "execution_count": 31,
     "metadata": {},
     "output_type": "execute_result"
    }
   ],
   "source": [
    "# Cross-validate with best parameter\n",
    "reg_best_cv_results = cross_validate(reg_grid_cv.best_estimator_, X_train, y_train.values.ravel(), cv=5)\n",
    "reg_best_scores = reg_best_cv_results['test_score']\n",
    "reg_best_scores"
   ]
  },
  {
   "cell_type": "code",
   "execution_count": 32,
   "metadata": {},
   "outputs": [
    {
     "name": "stdout",
     "output_type": "stream",
     "text": [
      "Mean CV score: 0.60632\n",
      "Standard Deviation: 0.00182\n"
     ]
    }
   ],
   "source": [
    "# Mean and standard deviation of cv scores of model with best parameter\n",
    "print('Mean CV score: {}\\nStandard Deviation: {}'.format(round(np.mean(reg_best_scores), 5), \n",
    "                                                         round(np.std(reg_best_scores), 5)))"
   ]
  },
  {
   "cell_type": "code",
   "execution_count": 33,
   "metadata": {},
   "outputs": [
    {
     "name": "stdout",
     "output_type": "stream",
     "text": [
      "Fit time: 0.1841\n",
      "Score time: 0.0115\n"
     ]
    }
   ],
   "source": [
    "# Fit time and scoring time\n",
    "cv_reg_fit_time = reg_best_cv_results['fit_time']\n",
    "cv_reg_score_time = reg_best_cv_results['score_time']\n",
    "\n",
    "print('Fit time: {}\\nScore time: {}'.format(round(cv_reg_fit_time.mean(), 4), round(cv_reg_score_time.mean(), 4)))"
   ]
  },
  {
   "cell_type": "code",
   "execution_count": 34,
   "metadata": {},
   "outputs": [
    {
     "data": {
      "image/png": "[encoded data removed]",
      "text/plain": [
       "<Figure size 720x504 with 1 Axes>"
      ]
     },
     "metadata": {
      "needs_background": "light"
     },
     "output_type": "display_data"
    }
   ],
   "source": [
    "# Visualize selecting the best k\n",
    "best_k = reg_grid_cv.best_params_['selectkbest__k']\n",
    "plt.subplots(figsize=(10, 7))\n",
    "plt.errorbar(cv_k, score_mean, yerr=score_std)\n",
    "plt.axvline(x=best_k, c='r', ls='--', alpha=.3)\n",
    "plt.xlabel('k')\n",
    "plt.ylabel('CV score (r-squared)')\n",
    "plt.title('Pipeline mean CV score (error bars +/- 1sd)');"
   ]
  },
  {
   "cell_type": "code",
   "execution_count": 35,
   "metadata": {},
   "outputs": [
    {
     "data": {
      "text/plain": [
       "Management of Financial Resources    54338.626480\n",
       "Science                              41192.035716\n",
       "Judgment and Decision Making         36809.624092\n",
       "Persuasion                           35218.222749\n",
       "Critical Thinking                    28431.693271\n",
       "Active Learning                      22685.603616\n",
       "Reading Comprehension                22369.108770\n",
       "Management of Personnel Resources    21606.376076\n",
       "Time Management                      19296.807846\n",
       "Monitoring                           15198.278796\n",
       "Systems Evaluation                   13761.458470\n",
       "Speaking                             11095.404170\n",
       "Complex Problem Solving               5710.209510\n",
       "C_DC                                  4924.494524\n",
       "C_CA                                  2872.364145\n",
       "dtype: float64"
      ]
     },
     "execution_count": 35,
     "metadata": {},
     "output_type": "execute_result"
    }
   ],
   "source": [
    "# Most important features\n",
    "coefs = reg_grid_cv.best_estimator_.named_steps.linearregression.coef_\n",
    "features = X_train.columns\n",
    "most_important = pd.Series(coefs, index=features).sort_values(ascending=False)\n",
    "most_important[:15]"
   ]
  },
  {
   "cell_type": "code",
   "execution_count": 36,
   "metadata": {},
   "outputs": [
    {
     "data": {
      "image/png": "[encoded data removed]",
      "text/plain": [
       "<Figure size 1440x504 with 1 Axes>"
      ]
     },
     "metadata": {
      "needs_background": "light"
     },
     "output_type": "display_data"
    }
   ],
   "source": [
    "# Visualizing feature importance\n",
    "plt.subplots(figsize=(20, 7))\n",
    "most_important.plot(kind='bar')\n",
    "plt.xlabel('features')\n",
    "plt.ylabel('importance')\n",
    "plt.title('Feature importances');"
   ]
  },
  {
   "cell_type": "code",
   "execution_count": 37,
   "metadata": {},
   "outputs": [],
   "source": [
    "# Pipeline: Standardize, Select best K with k=82, and Linear Regression\n",
    "pipe_reg_82 = make_pipeline(\n",
    "    MinMaxScaler(),\n",
    "    SelectKBest(k=82),\n",
    "    LinearRegression()\n",
    ")"
   ]
  },
  {
   "cell_type": "code",
   "execution_count": 38,
   "metadata": {},
   "outputs": [],
   "source": [
    "# Fit pipeline. Train and test predictions.\n",
    "pipe_reg_82.fit(X_train, y_train.values.ravel())\n",
    "y_tr_82_pred = pipe_reg_82.predict(X_train)\n",
    "y_te_82_pred = pipe_reg_82.predict(X_test)"
   ]
  },
  {
   "cell_type": "code",
   "execution_count": 39,
   "metadata": {},
   "outputs": [
    {
     "name": "stdout",
     "output_type": "stream",
     "text": [
      "R^2 train: 0.607\n",
      "R^2 test: 0.604\n"
     ]
    }
   ],
   "source": [
    "# R_squared error\n",
    "print('R^2 train: {}\\nR^2 test: {}'.format(round(r2_score(y_train, y_tr_82_pred), 3),\n",
    "                                           round(r2_score(y_test, y_te_82_pred), 3)))"
   ]
  },
  {
   "cell_type": "code",
   "execution_count": 40,
   "metadata": {},
   "outputs": [
    {
     "name": "stdout",
     "output_type": "stream",
     "text": [
      "MAE train: 14257\n",
      "MSE test: 14251\n"
     ]
    }
   ],
   "source": [
    "# MAE of training data\n",
    "print('MAE train: {}\\nMSE test: {}'.format(round(mean_absolute_error(y_train, y_tr_82_pred)), \n",
    "                                           round(mean_absolute_error(y_test, y_te_82_pred))))"
   ]
  },
  {
   "cell_type": "markdown",
   "metadata": {},
   "source": [
    "# 4. Ridge Regression"
   ]
  },
  {
   "cell_type": "code",
   "execution_count": 41,
   "metadata": {},
   "outputs": [],
   "source": [
    "# Pipeline: Normalize, Ridge Regression\n",
    "pipe_ridge = make_pipeline(StandardScaler(),\n",
    "                          Ridge())"
   ]
  },
  {
   "cell_type": "markdown",
   "metadata": {},
   "source": [
    "## 4.a Cross-validate"
   ]
  },
  {
   "cell_type": "code",
   "execution_count": 42,
   "metadata": {},
   "outputs": [
    {
     "data": {
      "text/plain": [
       "array([0.60365086, 0.60699412, 0.60608314, 0.60564742, 0.60923439])"
      ]
     },
     "execution_count": 42,
     "metadata": {},
     "output_type": "execute_result"
    }
   ],
   "source": [
    "# Cross-validate\n",
    "cv_ridge = cross_validate(pipe_ridge, X_train, y_train.values.ravel(), cv=5)\n",
    "\n",
    "cv_ridge_scores = cv_ridge['test_score']\n",
    "cv_ridge_scores"
   ]
  },
  {
   "cell_type": "code",
   "execution_count": 43,
   "metadata": {},
   "outputs": [
    {
     "name": "stdout",
     "output_type": "stream",
     "text": [
      "Mean CV score: 0.60632\n",
      "Standard Deviation: 0.00182\n"
     ]
    }
   ],
   "source": [
    "# Mean and standard deviation of cv scores\n",
    "print('Mean CV score: {}\\nStandard Deviation: {}'.format(round(np.mean(cv_ridge_scores), 5), \n",
    "                                                         round(np.std(cv_ridge_scores), 5)))"
   ]
  },
  {
   "cell_type": "code",
   "execution_count": 44,
   "metadata": {},
   "outputs": [
    {
     "data": {
      "text/plain": [
       "array([0.6 , 0.61])"
      ]
     },
     "execution_count": 44,
     "metadata": {},
     "output_type": "execute_result"
    }
   ],
   "source": [
    "# +- 2 standard deviations\n",
    "np.round((np.mean(cv_ridge_scores) - 2 * np.std(cv_ridge_scores), np.mean(cv_ridge_scores) + 2 * np.std(cv_ridge_scores)), 2)"
   ]
  },
  {
   "cell_type": "code",
   "execution_count": 45,
   "metadata": {},
   "outputs": [
    {
     "name": "stdout",
     "output_type": "stream",
     "text": [
      "Fit time: 0.0736\n",
      "Score time: 0.0047\n"
     ]
    }
   ],
   "source": [
    "# Fit time and scoring time\n",
    "cv_ridge_fit_time = cv_ridge['fit_time']\n",
    "cv_ridge_score_time = cv_ridge['score_time']\n",
    "\n",
    "print('Fit time: {}\\nScore time: {}'.format(round(cv_ridge_fit_time.mean(), 4), round(cv_ridge_score_time.mean(), 4)))"
   ]
  },
  {
   "cell_type": "markdown",
   "metadata": {},
   "source": [
    "## 4.b Hyperparameter search using GridSearchCV"
   ]
  },
  {
   "cell_type": "code",
   "execution_count": 46,
   "metadata": {},
   "outputs": [],
   "source": [
    "# Grid for possible alpha's\n",
    "alphas=np.logspace(-6, 6, 13)\n",
    "grid_params = {'ridge__alpha': alphas}"
   ]
  },
  {
   "cell_type": "code",
   "execution_count": 47,
   "metadata": {},
   "outputs": [
    {
     "data": {
      "text/plain": [
       "GridSearchCV(cv=5,\n",
       "             estimator=Pipeline(steps=[('standardscaler', StandardScaler()),\n",
       "                                       ('ridge', Ridge())]),\n",
       "             n_jobs=-1,\n",
       "             param_grid={'ridge__alpha': array([1.e-06, 1.e-05, 1.e-04, 1.e-03, 1.e-02, 1.e-01, 1.e+00, 1.e+01,\n",
       "       1.e+02, 1.e+03, 1.e+04, 1.e+05, 1.e+06])})"
      ]
     },
     "execution_count": 47,
     "metadata": {},
     "output_type": "execute_result"
    }
   ],
   "source": [
    "# Grid search\n",
    "ridge_grid_cv = GridSearchCV(pipe_ridge, param_grid=grid_params, cv=5, n_jobs=-1)\n",
    "ridge_grid_cv.fit(X_train, y_train.values.ravel())"
   ]
  },
  {
   "cell_type": "code",
   "execution_count": 48,
   "metadata": {},
   "outputs": [
    {
     "data": {
      "text/plain": [
       "{'ridge__alpha': 10.0}"
      ]
     },
     "execution_count": 48,
     "metadata": {},
     "output_type": "execute_result"
    }
   ],
   "source": [
    "# Best alpha\n",
    "score_mean = ridge_grid_cv.cv_results_['mean_test_score']\n",
    "score_std = ridge_grid_cv.cv_results_['std_test_score']\n",
    "cv_alpha = [alpha for alpha in ridge_grid_cv.cv_results_['param_ridge__alpha']]\n",
    "\n",
    "ridge_grid_cv.best_params_"
   ]
  },
  {
   "cell_type": "code",
   "execution_count": 49,
   "metadata": {},
   "outputs": [
    {
     "data": {
      "text/plain": [
       "array([0.6036466 , 0.60700122, 0.60609369, 0.60565255, 0.60921896])"
      ]
     },
     "execution_count": 49,
     "metadata": {},
     "output_type": "execute_result"
    }
   ],
   "source": [
    "# Cross-validate with best parameter\n",
    "ridge_best_cv_results = cross_validate(ridge_grid_cv.best_estimator_, X_train, y_train.values.ravel(), cv=5)\n",
    "ridge_best_scores = ridge_best_cv_results['test_score']\n",
    "ridge_best_scores"
   ]
  },
  {
   "cell_type": "code",
   "execution_count": 50,
   "metadata": {},
   "outputs": [
    {
     "name": "stdout",
     "output_type": "stream",
     "text": [
      "Mean CV score: 0.60632\n",
      "Standard Deviation: 0.00182\n"
     ]
    }
   ],
   "source": [
    "# Mean and standard deviation of cv scores of model with best parameter\n",
    "print('Mean CV score: {}\\nStandard Deviation: {}'.format(round(np.mean(ridge_best_scores), 5), \n",
    "                                                         round(np.std(ridge_best_scores), 5)))"
   ]
  },
  {
   "cell_type": "code",
   "execution_count": 51,
   "metadata": {},
   "outputs": [
    {
     "data": {
      "image/png": "[encoded data removed]",
      "text/plain": [
       "<Figure size 720x504 with 1 Axes>"
      ]
     },
     "metadata": {
      "needs_background": "light"
     },
     "output_type": "display_data"
    }
   ],
   "source": [
    "# Visualize selecting the best alpha\n",
    "best_alpha = ridge_grid_cv.best_params_['ridge__alpha']\n",
    "plt.subplots(figsize=(10, 7))\n",
    "plt.errorbar(cv_alpha, score_mean, yerr=score_std)\n",
    "plt.axvline(x=best_alpha, c='r', ls='--', alpha=.3)\n",
    "plt.xlabel('alpha')\n",
    "plt.ylabel('CV score (r-squared)')\n",
    "plt.title('Pipeline mean CV score (error bars +/- 1sd)');"
   ]
  },
  {
   "cell_type": "code",
   "execution_count": 52,
   "metadata": {},
   "outputs": [
    {
     "data": {
      "text/plain": [
       "Management of Financial Resources    9257.736841\n",
       "Science                              9105.958538\n",
       "Persuasion                           6751.666478\n",
       "Judgment and Decision Making         6647.733798\n",
       "Active Learning                      4942.198916\n",
       "Critical Thinking                    4822.555914\n",
       "Reading Comprehension                3940.263759\n",
       "Management of Personnel Resources    3556.424230\n",
       "Time Management                      3393.064568\n",
       "Monitoring                           2667.939789\n",
       "Systems Evaluation                   2633.155713\n",
       "Speaking                             1976.190587\n",
       "Complex Problem Solving              1153.638386\n",
       "C_CA                                  811.113810\n",
       "Operations Monitoring                 416.262775\n",
       "dtype: float64"
      ]
     },
     "execution_count": 52,
     "metadata": {},
     "output_type": "execute_result"
    }
   ],
   "source": [
    "# Most important features\n",
    "coefs = ridge_grid_cv.best_estimator_.named_steps.ridge.coef_\n",
    "features = X_train.columns\n",
    "most_important = pd.Series(coefs, index=features).sort_values(ascending=False)\n",
    "most_important[:15]"
   ]
  },
  {
   "cell_type": "code",
   "execution_count": 53,
   "metadata": {},
   "outputs": [
    {
     "data": {
      "image/png": "[encoded data removed]",
      "text/plain": [
       "<Figure size 1440x504 with 1 Axes>"
      ]
     },
     "metadata": {
      "needs_background": "light"
     },
     "output_type": "display_data"
    }
   ],
   "source": [
    "# Visualizing feature importance\n",
    "plt.subplots(figsize=(20, 7))\n",
    "most_important.plot(kind='bar')\n",
    "plt.xlabel('features')\n",
    "plt.ylabel('importance')\n",
    "plt.title('Feature importances');"
   ]
  },
  {
   "cell_type": "code",
   "execution_count": 54,
   "metadata": {},
   "outputs": [],
   "source": [
    "# Pipeline: Normalize, Ridge Regression (alpha=10)\n",
    "pipe_ridge10 = make_pipeline(StandardScaler(),\n",
    "                          Ridge(alpha=10))"
   ]
  },
  {
   "cell_type": "code",
   "execution_count": 55,
   "metadata": {},
   "outputs": [],
   "source": [
    "# Fit pipeline. Train and test predictions.\n",
    "pipe_ridge10.fit(X_train, y_train.values.ravel())\n",
    "y_tr_10_pred = pipe_ridge10.predict(X_train)\n",
    "y_te_10_pred = pipe_ridge10.predict(X_test)"
   ]
  },
  {
   "cell_type": "code",
   "execution_count": 56,
   "metadata": {},
   "outputs": [
    {
     "name": "stdout",
     "output_type": "stream",
     "text": [
      "R^2 train: 0.607\n",
      "R^2 test: 0.604\n"
     ]
    }
   ],
   "source": [
    "# R_squared error\n",
    "print('R^2 train: {}\\nR^2 test: {}'.format(round(r2_score(y_train, y_tr_10_pred), 3),\n",
    "                                           round(r2_score(y_test, y_te_10_pred), 3)))"
   ]
  },
  {
   "cell_type": "code",
   "execution_count": 57,
   "metadata": {},
   "outputs": [
    {
     "name": "stdout",
     "output_type": "stream",
     "text": [
      "MAE train: 14256\n",
      "MSE test: 14250\n"
     ]
    }
   ],
   "source": [
    "# MAE of training data\n",
    "print('MAE train: {}\\nMSE test: {}'.format(round(mean_absolute_error(y_train, y_tr_10_pred)), \n",
    "                                           round(mean_absolute_error(y_test, y_te_10_pred))))"
   ]
  },
  {
   "cell_type": "markdown",
   "metadata": {},
   "source": [
    "# 5. Support Vector Regression"
   ]
  },
  {
   "cell_type": "code",
   "execution_count": 58,
   "metadata": {},
   "outputs": [],
   "source": [
    "# Pipeline: Standardize, Linear Support Vector Regression\n",
    "pipe_lsvr = make_pipeline(MinMaxScaler(),\n",
    "                        svm.LinearSVR(max_iter=100000))"
   ]
  },
  {
   "cell_type": "markdown",
   "metadata": {},
   "source": [
    "## 5.a Cross-validate"
   ]
  },
  {
   "cell_type": "code",
   "execution_count": 59,
   "metadata": {},
   "outputs": [
    {
     "data": {
      "text/plain": [
       "array([0.37859212, 0.38745579, 0.38952578, 0.37744504, 0.38221104])"
      ]
     },
     "execution_count": 59,
     "metadata": {},
     "output_type": "execute_result"
    }
   ],
   "source": [
    "# Cross-validate\n",
    "cv_lsvr = cross_validate(pipe_lsvr, X_train, y_train.values.ravel(), cv=5)\n",
    "\n",
    "cv_lsvr_scores = cv_lsvr['test_score']\n",
    "cv_lsvr_scores"
   ]
  },
  {
   "cell_type": "code",
   "execution_count": 60,
   "metadata": {},
   "outputs": [
    {
     "name": "stdout",
     "output_type": "stream",
     "text": [
      "Mean CV score: 0.38305\n",
      "Standard Deviation: 0.00476\n"
     ]
    }
   ],
   "source": [
    "# Mean and standard deviation of cv scores\n",
    "print('Mean CV score: {}\\nStandard Deviation: {}'.format(round(np.mean(cv_lsvr_scores), 5), \n",
    "                                                         round(np.std(cv_lsvr_scores), 5)))"
   ]
  },
  {
   "cell_type": "code",
   "execution_count": 61,
   "metadata": {},
   "outputs": [
    {
     "data": {
      "text/plain": [
       "array([0.37, 0.39])"
      ]
     },
     "execution_count": 61,
     "metadata": {},
     "output_type": "execute_result"
    }
   ],
   "source": [
    "# +- 2 standard deviations\n",
    "np.round((np.mean(cv_lsvr_scores) - 2 * np.std(cv_lsvr_scores), np.mean(cv_lsvr_scores) + 2 * np.std(cv_lsvr_scores)), 2)"
   ]
  },
  {
   "cell_type": "code",
   "execution_count": 62,
   "metadata": {},
   "outputs": [
    {
     "name": "stdout",
     "output_type": "stream",
     "text": [
      "Fit time: 0.1765\n",
      "Score time: 0.0049\n"
     ]
    }
   ],
   "source": [
    "# Fit time and scoring time\n",
    "cv_lsvr_fit_time = cv_lsvr['fit_time']\n",
    "cv_lsvr_score_time = cv_lsvr['score_time']\n",
    "\n",
    "print('Fit time: {}\\nScore time: {}'.format(round(cv_lsvr_fit_time.mean(), 4), round(cv_lsvr_score_time.mean(), 4)))"
   ]
  },
  {
   "cell_type": "markdown",
   "metadata": {},
   "source": [
    "## 5.b Hyperparameter search using GridSearchCV"
   ]
  },
  {
   "cell_type": "code",
   "execution_count": 63,
   "metadata": {},
   "outputs": [
    {
     "data": {
      "text/plain": [
       "dict_keys(['memory', 'steps', 'verbose', 'minmaxscaler', 'linearsvr', 'minmaxscaler__clip', 'minmaxscaler__copy', 'minmaxscaler__feature_range', 'linearsvr__C', 'linearsvr__dual', 'linearsvr__epsilon', 'linearsvr__fit_intercept', 'linearsvr__intercept_scaling', 'linearsvr__loss', 'linearsvr__max_iter', 'linearsvr__random_state', 'linearsvr__tol', 'linearsvr__verbose'])"
      ]
     },
     "execution_count": 63,
     "metadata": {},
     "output_type": "execute_result"
    }
   ],
   "source": [
    "pipe_lsvr.get_params().keys()"
   ]
  },
  {
   "cell_type": "code",
   "execution_count": 64,
   "metadata": {},
   "outputs": [],
   "source": [
    "# Grids for epsilon and C\n",
    "grid_params = {'linearsvr__C': np.logspace(-6, 6, 13), 'linearsvr__epsilon': np.logspace(-6, 6, 13)}"
   ]
  },
  {
   "cell_type": "code",
   "execution_count": 65,
   "metadata": {},
   "outputs": [
    {
     "name": "stderr",
     "output_type": "stream",
     "text": [
      "/Users/shaghayeghroshan/opt/anaconda3/lib/python3.9/site-packages/sklearn/svm/_base.py:985: ConvergenceWarning: Liblinear failed to converge, increase the number of iterations.\n",
      "  warnings.warn(\"Liblinear failed to converge, increase \"\n",
      "/Users/shaghayeghroshan/opt/anaconda3/lib/python3.9/site-packages/sklearn/svm/_base.py:985: ConvergenceWarning: Liblinear failed to converge, increase the number of iterations.\n",
      "  warnings.warn(\"Liblinear failed to converge, increase \"\n",
      "/Users/shaghayeghroshan/opt/anaconda3/lib/python3.9/site-packages/sklearn/svm/_base.py:985: ConvergenceWarning: Liblinear failed to converge, increase the number of iterations.\n",
      "  warnings.warn(\"Liblinear failed to converge, increase \"\n",
      "/Users/shaghayeghroshan/opt/anaconda3/lib/python3.9/site-packages/sklearn/svm/_base.py:985: ConvergenceWarning: Liblinear failed to converge, increase the number of iterations.\n",
      "  warnings.warn(\"Liblinear failed to converge, increase \"\n",
      "/Users/shaghayeghroshan/opt/anaconda3/lib/python3.9/site-packages/sklearn/svm/_base.py:985: ConvergenceWarning: Liblinear failed to converge, increase the number of iterations.\n",
      "  warnings.warn(\"Liblinear failed to converge, increase \"\n"
     ]
    },
    {
     "data": {
      "text/plain": [
       "GridSearchCV(cv=5,\n",
       "             estimator=Pipeline(steps=[('minmaxscaler', MinMaxScaler()),\n",
       "                                       ('linearsvr',\n",
       "                                        LinearSVR(max_iter=100000))]),\n",
       "             n_jobs=-1,\n",
       "             param_grid={'linearsvr__C': array([1.e-06, 1.e-05, 1.e-04, 1.e-03, 1.e-02, 1.e-01, 1.e+00, 1.e+01,\n",
       "       1.e+02, 1.e+03, 1.e+04, 1.e+05, 1.e+06]),\n",
       "                         'linearsvr__epsilon': array([1.e-06, 1.e-05, 1.e-04, 1.e-03, 1.e-02, 1.e-01, 1.e+00, 1.e+01,\n",
       "       1.e+02, 1.e+03, 1.e+04, 1.e+05, 1.e+06])})"
      ]
     },
     "execution_count": 65,
     "metadata": {},
     "output_type": "execute_result"
    }
   ],
   "source": [
    "# Grid search\n",
    "lsvr_grid_cv = GridSearchCV(pipe_lsvr, param_grid=grid_params, cv=5, n_jobs=-1)\n",
    "lsvr_grid_cv.fit(X_train, y_train.values.ravel())"
   ]
  },
  {
   "cell_type": "code",
   "execution_count": 66,
   "metadata": {},
   "outputs": [
    {
     "data": {
      "text/plain": [
       "{'linearsvr__C': 1000000.0, 'linearsvr__epsilon': 10000.0}"
      ]
     },
     "execution_count": 66,
     "metadata": {},
     "output_type": "execute_result"
    }
   ],
   "source": [
    "# Best parameters\n",
    "\n",
    "# C\n",
    "score_mean_C = lsvr_grid_cv.cv_results_['mean_test_score']\n",
    "score_std_C = lsvr_grid_cv.cv_results_['std_test_score']\n",
    "cv_C = [c for c in lsvr_grid_cv.cv_results_['param_linearsvr__C']]\n",
    "\n",
    "# epsilon\n",
    "score_mean_epsilon = lsvr_grid_cv.cv_results_['mean_test_score']\n",
    "score_std_epsilon = lsvr_grid_cv.cv_results_['std_test_score']\n",
    "cv_epsilon = [epsilon for epsilon in lsvr_grid_cv.cv_results_['param_linearsvr__epsilon']]\n",
    "\n",
    "lsvr_grid_cv.best_params_"
   ]
  },
  {
   "cell_type": "code",
   "execution_count": 67,
   "metadata": {},
   "outputs": [
    {
     "data": {
      "text/plain": [
       "array([0.58348156, 0.5895082 , 0.59025015, 0.58401102, 0.58820231])"
      ]
     },
     "execution_count": 67,
     "metadata": {},
     "output_type": "execute_result"
    }
   ],
   "source": [
    "# Cross-validate with best parameter\n",
    "lsvr_best_cv_results = cross_validate(lsvr_grid_cv.best_estimator_, X_train, y_train.values.ravel(), cv=5)\n",
    "lsvr_best_scores = lsvr_best_cv_results['test_score']\n",
    "lsvr_best_scores"
   ]
  },
  {
   "cell_type": "code",
   "execution_count": 68,
   "metadata": {},
   "outputs": [
    {
     "name": "stdout",
     "output_type": "stream",
     "text": [
      "Mean CV score: 0.58709\n",
      "Standard Deviation: 0.00281\n"
     ]
    }
   ],
   "source": [
    "# Mean and standard deviation of cv scores of model with best parameter\n",
    "print('Mean CV score: {}\\nStandard Deviation: {}'.format(round(np.mean(lsvr_best_scores), 5), \n",
    "                                                         round(np.std(lsvr_best_scores), 5)))"
   ]
  },
  {
   "cell_type": "code",
   "execution_count": 69,
   "metadata": {},
   "outputs": [
    {
     "name": "stdout",
     "output_type": "stream",
     "text": [
      "Fit time: 78.1262\n",
      "Score time: 0.0084\n"
     ]
    }
   ],
   "source": [
    "# Fit time and scoring time\n",
    "cv_lsvr_fit_time = lsvr_best_cv_results['fit_time']\n",
    "cv_lsvr_score_time = lsvr_best_cv_results['score_time']\n",
    "\n",
    "print('Fit time: {}\\nScore time: {}'.format(round(cv_lsvr_fit_time.mean(), 4), round(cv_lsvr_score_time.mean(), 4)))"
   ]
  },
  {
   "cell_type": "code",
   "execution_count": 70,
   "metadata": {},
   "outputs": [
    {
     "data": {
      "text/plain": [
       "Management of Financial Resources    44059.417794\n",
       "Judgment and Decision Making         30587.630662\n",
       "Science                              29098.619952\n",
       "Reading Comprehension                24744.525145\n",
       "Persuasion                           21635.071391\n",
       "Critical Thinking                    21566.727888\n",
       "Management of Personnel Resources    16676.086224\n",
       "Speaking                             14776.320183\n",
       "Systems Evaluation                   13525.419917\n",
       "Active Learning                      13290.017957\n",
       "Time Management                      13052.518188\n",
       "Monitoring                            7845.884936\n",
       "Programming                           5123.262153\n",
       "C_DC                                  3703.552604\n",
       "Technology Design                     3309.871884\n",
       "dtype: float64"
      ]
     },
     "execution_count": 70,
     "metadata": {},
     "output_type": "execute_result"
    }
   ],
   "source": [
    "# Most important features\n",
    "coefs = lsvr_grid_cv.best_estimator_.named_steps.linearsvr.coef_\n",
    "features = X_train.columns\n",
    "most_important = pd.Series(coefs, index=features).sort_values(ascending=False)\n",
    "most_important[:15]"
   ]
  },
  {
   "cell_type": "code",
   "execution_count": 71,
   "metadata": {},
   "outputs": [
    {
     "data": {
      "image/png": "[encoded data removed]",
      "text/plain": [
       "<Figure size 1440x504 with 1 Axes>"
      ]
     },
     "metadata": {
      "needs_background": "light"
     },
     "output_type": "display_data"
    }
   ],
   "source": [
    "# Visualizing feature importance\n",
    "plt.subplots(figsize=(20, 7))\n",
    "most_important.plot(kind='bar')\n",
    "plt.xlabel('features')\n",
    "plt.ylabel('importance')\n",
    "plt.title('Feature importances');"
   ]
  },
  {
   "cell_type": "code",
   "execution_count": 72,
   "metadata": {},
   "outputs": [],
   "source": [
    "# Pipeline: Standardize, Linear Support Vector Regression\n",
    "pipe_lsvr0 = make_pipeline(MinMaxScaler(),\n",
    "                        svm.LinearSVR(C=1000000, epsilon=10000, random_state=43, max_iter=100000))"
   ]
  },
  {
   "cell_type": "code",
   "execution_count": 73,
   "metadata": {},
   "outputs": [],
   "source": [
    "# Fit pipeline. Train and test predictions.\n",
    "pipe_lsvr0.fit(X_train, y_train.values.ravel())\n",
    "y_tr_0_pred = pipe_lsvr0.predict(X_train)\n",
    "y_te_0_pred = pipe_lsvr0.predict(X_test)"
   ]
  },
  {
   "cell_type": "code",
   "execution_count": 74,
   "metadata": {},
   "outputs": [
    {
     "name": "stdout",
     "output_type": "stream",
     "text": [
      "R^2 train: 0.587\n",
      "R^2 test: 0.585\n"
     ]
    }
   ],
   "source": [
    "# R_squared error\n",
    "print('R^2 train: {}\\nR^2 test: {}'.format(round(r2_score(y_train, y_tr_0_pred), 3),\n",
    "                                           round(r2_score(y_test, y_te_0_pred), 3)))"
   ]
  },
  {
   "cell_type": "code",
   "execution_count": 75,
   "metadata": {},
   "outputs": [
    {
     "name": "stdout",
     "output_type": "stream",
     "text": [
      "MAE train: 13701\n",
      "MSE test: 13671\n"
     ]
    }
   ],
   "source": [
    "# MAE of training data\n",
    "print('MAE train: {}\\nMSE test: {}'.format(round(mean_absolute_error(y_train, y_tr_0_pred)), \n",
    "                                           round(mean_absolute_error(y_test, y_te_0_pred))))"
   ]
  },
  {
   "cell_type": "markdown",
   "metadata": {},
   "source": [
    "# 6. NuSVR"
   ]
  },
  {
   "cell_type": "code",
   "execution_count": 76,
   "metadata": {},
   "outputs": [],
   "source": [
    "# Pipeline: Standardize, NuSVR\n",
    "pipe_nusvr = make_pipeline(MinMaxScaler(),\n",
    "                        svm.NuSVR())"
   ]
  },
  {
   "cell_type": "markdown",
   "metadata": {},
   "source": [
    "## 6.a Cross-validate"
   ]
  },
  {
   "cell_type": "code",
   "execution_count": 77,
   "metadata": {},
   "outputs": [
    {
     "data": {
      "text/plain": [
       "array([0.0908866 , 0.09440623, 0.09532404, 0.08947235, 0.09047805])"
      ]
     },
     "execution_count": 77,
     "metadata": {},
     "output_type": "execute_result"
    }
   ],
   "source": [
    "# Cross-validate\n",
    "cv_nusvr = cross_validate(pipe_nusvr, X_train, y_train.values.ravel(), cv=5)\n",
    "\n",
    "cv_nusvr_scores = cv_nusvr['test_score']\n",
    "cv_nusvr_scores"
   ]
  },
  {
   "cell_type": "code",
   "execution_count": 78,
   "metadata": {},
   "outputs": [
    {
     "name": "stdout",
     "output_type": "stream",
     "text": [
      "Mean CV score: 0.09211\n",
      "Standard Deviation: 0.00231\n"
     ]
    }
   ],
   "source": [
    "# Mean and standard deviation of cv scores\n",
    "print('Mean CV score: {}\\nStandard Deviation: {}'.format(round(np.mean(cv_nusvr_scores), 5), \n",
    "                                                         round(np.std(cv_nusvr_scores), 5)))"
   ]
  },
  {
   "cell_type": "code",
   "execution_count": 79,
   "metadata": {},
   "outputs": [
    {
     "data": {
      "text/plain": [
       "array([0.09, 0.1 ])"
      ]
     },
     "execution_count": 79,
     "metadata": {},
     "output_type": "execute_result"
    }
   ],
   "source": [
    "# +- 2 standard deviations\n",
    "np.round((np.mean(cv_nusvr_scores) - 2 * np.std(cv_nusvr_scores), np.mean(cv_nusvr_scores) + 2 * np.std(cv_nusvr_scores)), 2)"
   ]
  },
  {
   "cell_type": "code",
   "execution_count": 80,
   "metadata": {},
   "outputs": [
    {
     "name": "stdout",
     "output_type": "stream",
     "text": [
      "Fit time: 722.9083\n",
      "Score time: 119.3734\n"
     ]
    }
   ],
   "source": [
    "# Fit time and scoring time\n",
    "cv_nusvr_fit_time = cv_nusvr['fit_time']\n",
    "cv_nusvr_score_time = cv_nusvr['score_time']\n",
    "\n",
    "print('Fit time: {}\\nScore time: {}'.format(round(cv_nusvr_fit_time.mean(), 4), round(cv_nusvr_score_time.mean(), 4)))"
   ]
  },
  {
   "cell_type": "markdown",
   "metadata": {},
   "source": [
    "# 7. Random Forest Model"
   ]
  },
  {
   "cell_type": "code",
   "execution_count": 81,
   "metadata": {},
   "outputs": [],
   "source": [
    "# Pipeline: Standardize, Random Forest Model\n",
    "pipe_rf = make_pipeline(\n",
    "    MinMaxScaler(),\n",
    "    RandomForestRegressor(random_state=42)\n",
    ")"
   ]
  },
  {
   "cell_type": "markdown",
   "metadata": {},
   "source": [
    "## 6.a Cross-validate"
   ]
  },
  {
   "cell_type": "code",
   "execution_count": 82,
   "metadata": {},
   "outputs": [
    {
     "data": {
      "text/plain": [
       "array([0.88380804, 0.89273923, 0.88879779, 0.88759428, 0.88469459])"
      ]
     },
     "execution_count": 82,
     "metadata": {},
     "output_type": "execute_result"
    }
   ],
   "source": [
    "# Cross-validate\n",
    "cv_rf = cross_validate(pipe_rf, X_train, y_train.values.ravel(), cv=5)\n",
    "\n",
    "cv_rf_scores = cv_rf['test_score']\n",
    "cv_rf_scores"
   ]
  },
  {
   "cell_type": "code",
   "execution_count": 83,
   "metadata": {},
   "outputs": [
    {
     "data": {
      "text/plain": [
       "(0.8875267860497988, 0.0031824517006334503)"
      ]
     },
     "execution_count": 83,
     "metadata": {},
     "output_type": "execute_result"
    }
   ],
   "source": [
    "np.mean(cv_rf_scores), np.std(cv_rf_scores)"
   ]
  },
  {
   "cell_type": "code",
   "execution_count": 84,
   "metadata": {},
   "outputs": [
    {
     "data": {
      "text/plain": [
       "array([0.88, 0.89])"
      ]
     },
     "execution_count": 84,
     "metadata": {},
     "output_type": "execute_result"
    }
   ],
   "source": [
    "np.round((np.mean(cv_rf_scores) - 2 * np.std(cv_rf_scores), np.mean(cv_rf_scores) + 2 * np.std(cv_rf_scores)), 2)"
   ]
  },
  {
   "cell_type": "code",
   "execution_count": 85,
   "metadata": {},
   "outputs": [
    {
     "name": "stdout",
     "output_type": "stream",
     "text": [
      "Fit time: 61.9533\n",
      "Score time: 0.4297\n"
     ]
    }
   ],
   "source": [
    "# Fit time and scoring time\n",
    "cv_rf_fit_time = cv_rf['fit_time']\n",
    "cv_rf_score_time = cv_rf['score_time']\n",
    "\n",
    "print('Fit time: {}\\nScore time: {}'.format(round(cv_rf_fit_time.mean(), 4), round(cv_rf_score_time.mean(), 4)))"
   ]
  },
  {
   "cell_type": "markdown",
   "metadata": {},
   "source": [
    "## 7.b Hyperparameter search using GridSearchCV"
   ]
  },
  {
   "cell_type": "code",
   "execution_count": 86,
   "metadata": {},
   "outputs": [
    {
     "data": {
      "text/plain": [
       "{'randomforestregressor__n_estimators': [10,\n",
       "  12,\n",
       "  16,\n",
       "  20,\n",
       "  26,\n",
       "  33,\n",
       "  42,\n",
       "  54,\n",
       "  69,\n",
       "  88,\n",
       "  112,\n",
       "  143,\n",
       "  183,\n",
       "  233,\n",
       "  297,\n",
       "  379,\n",
       "  483,\n",
       "  615,\n",
       "  784,\n",
       "  1000],\n",
       " 'minmaxscaler': [MinMaxScaler(), None]}"
      ]
     },
     "execution_count": 86,
     "metadata": {},
     "output_type": "execute_result"
    }
   ],
   "source": [
    "n_est = [int(n) for n in np.logspace(start=1, stop=3, num=20)]\n",
    "grid_params = {\n",
    "        'randomforestregressor__n_estimators': n_est,\n",
    "        'minmaxscaler': [MinMaxScaler(), None]\n",
    "}\n",
    "grid_params"
   ]
  },
  {
   "cell_type": "code",
   "execution_count": 98,
   "metadata": {},
   "outputs": [],
   "source": [
    "rf_grid_cv = RandomizedSearchCV(pipe_rf, param_distributions=grid_params, cv=5, n_jobs=1, random_state=42)"
   ]
  },
  {
   "cell_type": "code",
   "execution_count": 99,
   "metadata": {},
   "outputs": [
    {
     "data": {
      "text/plain": [
       "RandomizedSearchCV(cv=5,\n",
       "                   estimator=Pipeline(steps=[('minmaxscaler', MinMaxScaler()),\n",
       "                                             ('randomforestregressor',\n",
       "                                              RandomForestRegressor(random_state=42))]),\n",
       "                   n_jobs=1,\n",
       "                   param_distributions={'minmaxscaler': [MinMaxScaler(), None],\n",
       "                                        'randomforestregressor__n_estimators': [10,\n",
       "                                                                                12,\n",
       "                                                                                16,\n",
       "                                                                                20,\n",
       "                                                                                26,\n",
       "                                                                                33,\n",
       "                                                                                42,\n",
       "                                                                                54,\n",
       "                                                                                69,\n",
       "                                                                                88,\n",
       "                                                                                112,\n",
       "                                                                                143,\n",
       "                                                                                183,\n",
       "                                                                                233,\n",
       "                                                                                297,\n",
       "                                                                                379,\n",
       "                                                                                483,\n",
       "                                                                                615,\n",
       "                                                                                784,\n",
       "                                                                                1000]},\n",
       "                   random_state=42)"
      ]
     },
     "execution_count": 99,
     "metadata": {},
     "output_type": "execute_result"
    }
   ],
   "source": [
    "rf_grid_cv.fit(X_train, y_train.values.ravel())"
   ]
  },
  {
   "cell_type": "code",
   "execution_count": 100,
   "metadata": {},
   "outputs": [
    {
     "data": {
      "text/plain": [
       "{'randomforestregressor__n_estimators': 1000, 'minmaxscaler': MinMaxScaler()}"
      ]
     },
     "execution_count": 100,
     "metadata": {},
     "output_type": "execute_result"
    }
   ],
   "source": [
    "rf_grid_cv.best_params_"
   ]
  },
  {
   "cell_type": "code",
   "execution_count": 101,
   "metadata": {},
   "outputs": [
    {
     "data": {
      "text/plain": [
       "array([0.88414225, 0.89288779, 0.88931372, 0.88775688, 0.88492679])"
      ]
     },
     "execution_count": 101,
     "metadata": {},
     "output_type": "execute_result"
    }
   ],
   "source": [
    "rf_best_cv_results = cross_validate(rf_grid_cv.best_estimator_, X_train, y_train.values.ravel(), cv=5)\n",
    "rf_best_scores = rf_best_cv_results['test_score']\n",
    "rf_best_scores"
   ]
  },
  {
   "cell_type": "code",
   "execution_count": 102,
   "metadata": {},
   "outputs": [
    {
     "data": {
      "text/plain": [
       "(0.8878054864320493, 0.0031563618340609456)"
      ]
     },
     "execution_count": 102,
     "metadata": {},
     "output_type": "execute_result"
    }
   ],
   "source": [
    "np.mean(rf_best_scores), np.std(rf_best_scores)"
   ]
  },
  {
   "cell_type": "code",
   "execution_count": 103,
   "metadata": {},
   "outputs": [
    {
     "data": {
      "text/plain": [
       "Complex Problem Solving              0.408462\n",
       "Critical Thinking                    0.127571\n",
       "Management of Financial Resources    0.049364\n",
       "Science                              0.047979\n",
       "Systems Analysis                     0.031733\n",
       "Monitoring                           0.026065\n",
       "Systems Evaluation                   0.020096\n",
       "Operations Analysis                  0.018722\n",
       "Social Perceptiveness                0.016030\n",
       "C_CA                                 0.013652\n",
       "Reading Comprehension                0.012827\n",
       "Mathematics                          0.012788\n",
       "Operations Monitoring                0.011543\n",
       "Coordination                         0.010442\n",
       "Service Orientation                  0.010439\n",
       "dtype: float64"
      ]
     },
     "execution_count": 103,
     "metadata": {},
     "output_type": "execute_result"
    }
   ],
   "source": [
    "coefs = rf_grid_cv.best_estimator_.named_steps.randomforestregressor.feature_importances_\n",
    "features = X_train.columns\n",
    "most_important = pd.Series(coefs, index=features).sort_values(ascending=False)\n",
    "most_important[:15]"
   ]
  },
  {
   "cell_type": "code",
   "execution_count": 104,
   "metadata": {},
   "outputs": [
    {
     "data": {
      "image/png": "[encoded data removed]",
      "text/plain": [
       "<Figure size 1440x504 with 1 Axes>"
      ]
     },
     "metadata": {
      "needs_background": "light"
     },
     "output_type": "display_data"
    }
   ],
   "source": [
    "plt.subplots(figsize=(20, 7))\n",
    "rf_feat_imps = pd.Series(coefs, index=X_train.columns).sort_values(ascending=False)\n",
    "rf_feat_imps.plot(kind='bar')\n",
    "plt.xlabel('features')\n",
    "plt.ylabel('importance')\n",
    "plt.title('Best random forest regressor feature importances');"
   ]
  },
  {
   "cell_type": "code",
   "execution_count": 105,
   "metadata": {},
   "outputs": [],
   "source": [
    "# Pipeline: Standardize, Random Forest Model\n",
    "pipe_rff = make_pipeline(\n",
    "    MinMaxScaler(),\n",
    "    RandomForestRegressor(n_estimators=1000, random_state=42)\n",
    ")"
   ]
  },
  {
   "cell_type": "code",
   "execution_count": 106,
   "metadata": {},
   "outputs": [],
   "source": [
    "# Fit pipeline. Train and test predictions.\n",
    "pipe_rff.fit(X_train, y_train.values.ravel())\n",
    "y_tr_ff_pred = pipe_rff.predict(X_train)\n",
    "y_te_ff_pred = pipe_rff.predict(X_test)"
   ]
  },
  {
   "cell_type": "code",
   "execution_count": 107,
   "metadata": {},
   "outputs": [
    {
     "name": "stdout",
     "output_type": "stream",
     "text": [
      "R^2 train: 0.94\n",
      "R^2 test: 0.888\n"
     ]
    }
   ],
   "source": [
    "# R_squared error\n",
    "print('R^2 train: {}\\nR^2 test: {}'.format(round(r2_score(y_train, y_tr_ff_pred), 3),\n",
    "                                           round(r2_score(y_test, y_te_ff_pred), 3)))"
   ]
  },
  {
   "cell_type": "code",
   "execution_count": 108,
   "metadata": {},
   "outputs": [
    {
     "name": "stdout",
     "output_type": "stream",
     "text": [
      "MAE train: 5108\n",
      "MSE test: 6995\n"
     ]
    }
   ],
   "source": [
    "# MAE of training data\n",
    "print('MAE train: {}\\nMSE test: {}'.format(round(mean_absolute_error(y_train, y_tr_ff_pred)), \n",
    "                                           round(mean_absolute_error(y_test, y_te_ff_pred))))"
   ]
  },
  {
   "cell_type": "markdown",
   "metadata": {},
   "source": [
    "# Final model"
   ]
  },
  {
   "cell_type": "code",
   "execution_count": 109,
   "metadata": {},
   "outputs": [],
   "source": [
    "best_model = rf_grid_cv.best_estimator_\n",
    "best_model.version = '1.0'\n",
    "best_model.pandas_version = pd.__version__\n",
    "best_model.numpy_version = np.__version__\n",
    "best_model.sklearn_version = sklearn_version\n",
    "best_model.X_columns = [col for col in X_train.columns]\n",
    "best_model.build_datetime = datetime.datetime.now()"
   ]
  },
  {
   "cell_type": "code",
   "execution_count": 110,
   "metadata": {},
   "outputs": [
    {
     "name": "stdout",
     "output_type": "stream",
     "text": [
      "0.8879068135448255\n"
     ]
    }
   ],
   "source": [
    "filename = '../models/skill_salary_model.pkl'\n",
    "pickle.dump(best_model, open(filename, 'wb'))\n",
    "\n",
    "loaded_model = pickle.load(open(filename, 'rb'))\n",
    "result = loaded_model.score(X_test, y_test)\n",
    "print(result)"
   ]
  },
  {
   "cell_type": "code",
   "execution_count": 111,
   "metadata": {},
   "outputs": [
    {
     "data": {
      "text/plain": [
       "Pipeline(steps=[('minmaxscaler', MinMaxScaler()),\n",
       "                ('randomforestregressor',\n",
       "                 RandomForestRegressor(n_estimators=1000, random_state=42))])"
      ]
     },
     "execution_count": 111,
     "metadata": {},
     "output_type": "execute_result"
    }
   ],
   "source": [
    "loaded_model"
   ]
  },
  {
   "cell_type": "code",
   "execution_count": 190,
   "metadata": {},
   "outputs": [],
   "source": [
    "df = pd.read_csv('../data/processed/salary_skill_processed.csv')"
   ]
  },
  {
   "cell_type": "code",
   "execution_count": 229,
   "metadata": {},
   "outputs": [
    {
     "data": {
      "text/plain": [
       "(13218    Cabinetmakers and Bench Carpenters\n",
       " Name: occupation, dtype: object,\n",
       " 13218    2.88\n",
       " Name: Complex Problem Solving, dtype: float64)"
      ]
     },
     "execution_count": 229,
     "metadata": {},
     "output_type": "execute_result"
    }
   ],
   "source": [
    "sample = df.sample(1)\n",
    "occupation = sample['occupation']\n",
    "sample = sample.drop('occupation', axis=1)\n",
    "X=sample1.drop('salary', axis=1)\n",
    "y=sample['salary']\n",
    "occupation, sample['Complex Problem Solving']"
   ]
  },
  {
   "cell_type": "code",
   "execution_count": 230,
   "metadata": {},
   "outputs": [],
   "source": [
    "salary_predicted = loaded_model.predict(X)\n",
    "error = round(y - salary_predicted)"
   ]
  },
  {
   "cell_type": "code",
   "execution_count": 231,
   "metadata": {},
   "outputs": [
    {
     "name": "stdout",
     "output_type": "stream",
     "text": [
      "Occupation: 13218    Cabinetmakers and Bench Carpenters\n",
      "Name: occupation, dtype: object\n",
      "Predicted Salary: 42831\n",
      "Error: 13218   -6741.0\n",
      "Name: salary, dtype: float64\n"
     ]
    }
   ],
   "source": [
    "print(f'Occupation: {occupation}\\nPredicted Salary: {round(salary_predicted[0])}\\nError: {error}')"
   ]
  },
  {
   "cell_type": "code",
   "execution_count": 232,
   "metadata": {},
   "outputs": [
    {
     "data": {
      "text/plain": [
       "13218    5\n",
       "Name: Complex Problem Solving, dtype: int64"
      ]
     },
     "execution_count": 232,
     "metadata": {},
     "output_type": "execute_result"
    }
   ],
   "source": [
    "sample['Complex Problem Solving'] = 5\n",
    "sample['Complex Problem Solving']"
   ]
  },
  {
   "cell_type": "code",
   "execution_count": 233,
   "metadata": {},
   "outputs": [],
   "source": [
    "X2=sample.drop('salary', axis=1)"
   ]
  },
  {
   "cell_type": "code",
   "execution_count": 234,
   "metadata": {},
   "outputs": [
    {
     "name": "stdout",
     "output_type": "stream",
     "text": [
      "Occupation: 13218    Cabinetmakers and Bench Carpenters\n",
      "Name: occupation, dtype: object\n",
      "Predicted Salary: 47438\n",
      "Error: 13218   -11348.0\n",
      "Name: salary, dtype: float64\n"
     ]
    }
   ],
   "source": [
    "salary_predicted2 = loaded_model.predict(X2)\n",
    "error2 = round(y - salary_predicted2)\n",
    "print(f'Occupation: {occupation}\\nPredicted Salary: {round(salary_predicted2[0])}\\nError: {error2}')"
   ]
  },
  {
   "cell_type": "code",
   "execution_count": 235,
   "metadata": {},
   "outputs": [
    {
     "data": {
      "text/plain": [
       "array([4606.96685943])"
      ]
     },
     "execution_count": 235,
     "metadata": {},
     "output_type": "execute_result"
    }
   ],
   "source": [
    "salary_predicted2-salary_predicted"
   ]
  },
  {
   "cell_type": "code",
   "execution_count": null,
   "metadata": {},
   "outputs": [],
   "source": []
  }
 ],
 "metadata": {
  "kernelspec": {
   "display_name": "Python 3 (ipykernel)",
   "language": "python",
   "name": "python3"
  },
  "language_info": {
   "codemirror_mode": {
    "name": "ipython",
    "version": 3
   },
   "file_extension": ".py",
   "mimetype": "text/x-python",
   "name": "python",
   "nbconvert_exporter": "python",
   "pygments_lexer": "ipython3",
   "version": "3.9.7"
  }
 },
 "nbformat": 4,
 "nbformat_minor": 4
}
