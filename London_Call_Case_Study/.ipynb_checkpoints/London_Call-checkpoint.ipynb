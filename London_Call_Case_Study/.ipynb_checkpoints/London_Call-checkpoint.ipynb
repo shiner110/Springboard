{
 "cells": [
  {
   "cell_type": "markdown",
   "metadata": {
    "colab_type": "text",
    "id": "Tia3MP1SJpgj"
   },
   "source": [
    "# Springboard Data Science Career Track Unit 4 Challenge - Tier 3 Complete\n",
    "\n",
    "## Objectives\n",
    "Hey! Great job getting through those challenging DataCamp courses. You're learning a lot in a short span of time. \n",
    "\n",
    "In this notebook, you're going to apply the skills you've been learning, bridging the gap between the controlled environment of DataCamp and the *slightly* messier work that data scientists do with actual datasets!\n",
    "\n",
    "Here’s the mystery we’re going to solve: ***which boroughs of London have seen the greatest increase in housing prices, on average, over the last two decades?***\n",
    "\n",
    "\n",
    "A borough is just a fancy word for district. You may be familiar with the five boroughs of New York… well, there are 32 boroughs within Greater London [(here's some info for the curious)](https://en.wikipedia.org/wiki/London_boroughs). Some of them are more desirable areas to live in, and the data will reflect that with a greater rise in housing prices.\n",
    "\n",
    "***This is the Tier 3 notebook, which means it's not filled in at all: we'll just give you the skeleton of a project, the brief and the data. It's up to you to play around with it and see what you can find out! Good luck! If you struggle, feel free to look at easier tiers for help; but try to dip in and out of them, as the more independent work you do, the better it is for your learning!***\n",
    "\n",
    "This challenge will make use of only what you learned in the following DataCamp courses: \n",
    "- Prework courses (Introduction to Python for Data Science, Intermediate Python for Data Science)\n",
    "- Data Types for Data Science\n",
    "- Python Data Science Toolbox (Part One) \n",
    "- pandas Foundations\n",
    "- Manipulating DataFrames with pandas\n",
    "- Merging DataFrames with pandas\n",
    "\n",
    "Of the tools, techniques and concepts in the above DataCamp courses, this challenge should require the application of the following: \n",
    "- **pandas**\n",
    "    - **data ingestion and inspection** (pandas Foundations, Module One) \n",
    "    - **exploratory data analysis** (pandas Foundations, Module Two)\n",
    "    - **tidying and cleaning** (Manipulating DataFrames with pandas, Module Three) \n",
    "    - **transforming DataFrames** (Manipulating DataFrames with pandas, Module One)\n",
    "    - **subsetting DataFrames with lists** (Manipulating DataFrames with pandas, Module One) \n",
    "    - **filtering DataFrames** (Manipulating DataFrames with pandas, Module One) \n",
    "    - **grouping data** (Manipulating DataFrames with pandas, Module Four) \n",
    "    - **melting data** (Manipulating DataFrames with pandas, Module Three) \n",
    "    - **advanced indexing** (Manipulating DataFrames with pandas, Module Four) \n",
    "- **matplotlib** (Intermediate Python for Data Science, Module One)\n",
    "- **fundamental data types** (Data Types for Data Science, Module One) \n",
    "- **dictionaries** (Intermediate Python for Data Science, Module Two)\n",
    "- **handling dates and times** (Data Types for Data Science, Module Four)\n",
    "- **function definition** (Python Data Science Toolbox - Part One, Module One)\n",
    "- **default arguments, variable length, and scope** (Python Data Science Toolbox - Part One, Module Two) \n",
    "- **lambda functions and error handling** (Python Data Science Toolbox - Part One, Module Four) "
   ]
  },
  {
   "cell_type": "markdown",
   "metadata": {
    "colab_type": "text",
    "id": "Ipgd2nV8Jpgl"
   },
   "source": [
    "## The Data Science Pipeline\n",
    "\n",
    "This is Tier Three, so we'll get you started. But after that, it's all in your hands! When you feel done with your investigations, look back over what you've accomplished, and prepare a quick presentation of your findings for the next mentor meeting. \n",
    "\n",
    "Data Science is magical. In this case study, you'll get to apply some complex machine learning algorithms. But as  [David Spiegelhalter](https://www.youtube.com/watch?v=oUs1uvsz0Ok) reminds us, there is no substitute for simply **taking a really, really good look at the data.** Sometimes, this is all we need to answer our question.\n",
    "\n",
    "Data Science projects generally adhere to the four stages of Data Science Pipeline:\n",
    "1. Sourcing and loading \n",
    "2. Cleaning, transforming, and visualizing \n",
    "3. Modeling \n",
    "4. Evaluating and concluding \n"
   ]
  },
  {
   "cell_type": "markdown",
   "metadata": {
    "colab_type": "text",
    "id": "zswDqbefJpgm"
   },
   "source": [
    "### 1. Sourcing and Loading \n",
    "\n",
    "Any Data Science project kicks off by importing  ***pandas***. The documentation of this wonderful library can be found [here](https://pandas.pydata.org/). As you've seen, pandas is conveniently connected to the [Numpy](http://www.numpy.org/) and [Matplotlib](https://matplotlib.org/) libraries. \n",
    "\n",
    "***Hint:*** This part of the data science pipeline will test those skills you acquired in the pandas Foundations course, Module One. "
   ]
  },
  {
   "cell_type": "markdown",
   "metadata": {
    "colab_type": "text",
    "id": "aEau5nEvJpgm"
   },
   "source": [
    "#### 1.1. Importing Libraries"
   ]
  },
  {
   "cell_type": "code",
   "execution_count": 1,
   "metadata": {
    "colab": {},
    "colab_type": "code",
    "id": "7Bt_Q_oPJpgn"
   },
   "outputs": [],
   "source": [
    "# Let's import the pandas, numpy libraries as pd, and np respectively. \n",
    "import pandas as pd\n",
    "import numpy as np\n",
    "\n",
    "# Load the pyplot collection of functions from matplotlib, as plt \n",
    "import matplotlib.pyplot as plt"
   ]
  },
  {
   "cell_type": "markdown",
   "metadata": {
    "colab_type": "text",
    "id": "koUrawxsJpgq"
   },
   "source": [
    "#### 1.2.  Loading the data\n",
    "Your data comes from the [London Datastore](https://data.london.gov.uk/): a free, open-source data-sharing portal for London-oriented datasets. "
   ]
  },
  {
   "cell_type": "code",
   "execution_count": 2,
   "metadata": {
    "colab": {},
    "colab_type": "code",
    "id": "AiLiD4v3Jpgr"
   },
   "outputs": [],
   "source": [
    "# First, make a variable called url_LondonHousePrices, and assign it the following link, enclosed in quotation-marks as a string:\n",
    "# https://data.london.gov.uk/download/uk-house-price-index/70ac0766-8902-4eb5-aab5-01951aaed773/UK%20House%20price%20index.xls\n",
    "\n",
    "url_LondonHousePrices = \"https://data.london.gov.uk/download/uk-house-price-index/70ac0766-8902-4eb5-aab5-01951aaed773/UK%20House%20price%20index.xls\"\n",
    "\n",
    "# The dataset we're interested in contains the Average prices of the houses, and is actually on a particular sheet of the Excel file. \n",
    "# As a result, we need to specify the sheet name in the read_excel() method.\n",
    "# Put this data into a variable called properties.  \n",
    "properties = pd.read_excel(url_LondonHousePrices, sheet_name='Average price', index_col= None)"
   ]
  },
  {
   "cell_type": "markdown",
   "metadata": {
    "colab_type": "text",
    "id": "POukEJXgJpgu"
   },
   "source": [
    "### 2. Cleaning, transforming, and visualizing\n",
    "This second stage is arguably the most important part of any Data Science project. The first thing to do is take a proper look at the data. Cleaning forms the majority of this stage, and can be done both before or after Transformation.\n",
    "\n",
    "The end goal of data cleaning is to have tidy data. When data is tidy: \n",
    "\n",
    "1. Each variable has a column.\n",
    "2. Each observation forms a row.\n",
    "\n",
    "Keep the end goal in mind as you move through this process, every step will take you closer. \n",
    "\n",
    "\n",
    "\n",
    "***Hint:*** This part of the data science pipeline should test those skills you acquired in: \n",
    "- Intermediate Python for data science, all modules.\n",
    "- pandas Foundations, all modules. \n",
    "- Manipulating DataFrames with pandas, all modules.\n",
    "- Data Types for Data Science, Module Four.\n",
    "- Python Data Science Toolbox - Part One, all modules"
   ]
  },
  {
   "cell_type": "markdown",
   "metadata": {
    "colab_type": "text",
    "id": "Te0Q548tnzZa"
   },
   "source": [
    "**2.1. Exploring your data** \n",
    "\n",
    "Think about your pandas functions for checking out a dataframe. "
   ]
  },
  {
   "cell_type": "code",
   "execution_count": 3,
   "metadata": {
    "colab": {},
    "colab_type": "code",
    "id": "Rxirxw_qoAJa"
   },
   "outputs": [
    {
     "data": {
      "text/html": [
       "<div>\n",
       "<style scoped>\n",
       "    .dataframe tbody tr th:only-of-type {\n",
       "        vertical-align: middle;\n",
       "    }\n",
       "\n",
       "    .dataframe tbody tr th {\n",
       "        vertical-align: top;\n",
       "    }\n",
       "\n",
       "    .dataframe thead th {\n",
       "        text-align: right;\n",
       "    }\n",
       "</style>\n",
       "<table border=\"1\" class=\"dataframe\">\n",
       "  <thead>\n",
       "    <tr style=\"text-align: right;\">\n",
       "      <th></th>\n",
       "      <th>Unnamed: 0</th>\n",
       "      <th>City of London</th>\n",
       "      <th>Barking &amp; Dagenham</th>\n",
       "      <th>Barnet</th>\n",
       "      <th>Bexley</th>\n",
       "      <th>Brent</th>\n",
       "      <th>Bromley</th>\n",
       "      <th>Camden</th>\n",
       "      <th>Croydon</th>\n",
       "      <th>Ealing</th>\n",
       "      <th>...</th>\n",
       "      <th>NORTH WEST</th>\n",
       "      <th>YORKS &amp; THE HUMBER</th>\n",
       "      <th>EAST MIDLANDS</th>\n",
       "      <th>WEST MIDLANDS</th>\n",
       "      <th>EAST OF ENGLAND</th>\n",
       "      <th>LONDON</th>\n",
       "      <th>SOUTH EAST</th>\n",
       "      <th>SOUTH WEST</th>\n",
       "      <th>Unnamed: 47</th>\n",
       "      <th>England</th>\n",
       "    </tr>\n",
       "  </thead>\n",
       "  <tbody>\n",
       "    <tr>\n",
       "      <th>0</th>\n",
       "      <td>NaT</td>\n",
       "      <td>E09000001</td>\n",
       "      <td>E09000002</td>\n",
       "      <td>E09000003</td>\n",
       "      <td>E09000004</td>\n",
       "      <td>E09000005</td>\n",
       "      <td>E09000006</td>\n",
       "      <td>E09000007</td>\n",
       "      <td>E09000008</td>\n",
       "      <td>E09000009</td>\n",
       "      <td>...</td>\n",
       "      <td>E12000002</td>\n",
       "      <td>E12000003</td>\n",
       "      <td>E12000004</td>\n",
       "      <td>E12000005</td>\n",
       "      <td>E12000006</td>\n",
       "      <td>E12000007</td>\n",
       "      <td>E12000008</td>\n",
       "      <td>E12000009</td>\n",
       "      <td>NaN</td>\n",
       "      <td>E92000001</td>\n",
       "    </tr>\n",
       "    <tr>\n",
       "      <th>1</th>\n",
       "      <td>1995-01-01</td>\n",
       "      <td>91449</td>\n",
       "      <td>50460.2</td>\n",
       "      <td>93284.5</td>\n",
       "      <td>64958.1</td>\n",
       "      <td>71306.6</td>\n",
       "      <td>81671.5</td>\n",
       "      <td>120933</td>\n",
       "      <td>69158.2</td>\n",
       "      <td>79885.9</td>\n",
       "      <td>...</td>\n",
       "      <td>43958.5</td>\n",
       "      <td>44803.4</td>\n",
       "      <td>45544.5</td>\n",
       "      <td>48527.5</td>\n",
       "      <td>56701.6</td>\n",
       "      <td>74435.8</td>\n",
       "      <td>64018.9</td>\n",
       "      <td>54705.2</td>\n",
       "      <td>NaN</td>\n",
       "      <td>53202.8</td>\n",
       "    </tr>\n",
       "    <tr>\n",
       "      <th>2</th>\n",
       "      <td>1995-02-01</td>\n",
       "      <td>82202.8</td>\n",
       "      <td>51085.8</td>\n",
       "      <td>93190.2</td>\n",
       "      <td>64787.9</td>\n",
       "      <td>72022.3</td>\n",
       "      <td>81657.6</td>\n",
       "      <td>119509</td>\n",
       "      <td>68951.1</td>\n",
       "      <td>80897.1</td>\n",
       "      <td>...</td>\n",
       "      <td>43925.4</td>\n",
       "      <td>44528.8</td>\n",
       "      <td>46051.6</td>\n",
       "      <td>49341.3</td>\n",
       "      <td>56593.6</td>\n",
       "      <td>72777.9</td>\n",
       "      <td>63715</td>\n",
       "      <td>54356.1</td>\n",
       "      <td>NaN</td>\n",
       "      <td>53096.2</td>\n",
       "    </tr>\n",
       "    <tr>\n",
       "      <th>3</th>\n",
       "      <td>1995-03-01</td>\n",
       "      <td>79120.7</td>\n",
       "      <td>51269</td>\n",
       "      <td>92247.5</td>\n",
       "      <td>64367.5</td>\n",
       "      <td>72015.8</td>\n",
       "      <td>81449.3</td>\n",
       "      <td>120282</td>\n",
       "      <td>68712.4</td>\n",
       "      <td>81379.9</td>\n",
       "      <td>...</td>\n",
       "      <td>44434.9</td>\n",
       "      <td>45200.5</td>\n",
       "      <td>45383.8</td>\n",
       "      <td>49442.2</td>\n",
       "      <td>56171.2</td>\n",
       "      <td>73896.8</td>\n",
       "      <td>64113.6</td>\n",
       "      <td>53583.1</td>\n",
       "      <td>NaN</td>\n",
       "      <td>53201.3</td>\n",
       "    </tr>\n",
       "    <tr>\n",
       "      <th>4</th>\n",
       "      <td>1995-04-01</td>\n",
       "      <td>77101.2</td>\n",
       "      <td>53133.5</td>\n",
       "      <td>90762.9</td>\n",
       "      <td>64277.7</td>\n",
       "      <td>72965.6</td>\n",
       "      <td>81124.4</td>\n",
       "      <td>120098</td>\n",
       "      <td>68610</td>\n",
       "      <td>82188.9</td>\n",
       "      <td>...</td>\n",
       "      <td>44267.8</td>\n",
       "      <td>45614.3</td>\n",
       "      <td>46124.2</td>\n",
       "      <td>49455.9</td>\n",
       "      <td>56567.9</td>\n",
       "      <td>74455.3</td>\n",
       "      <td>64623.2</td>\n",
       "      <td>54786</td>\n",
       "      <td>NaN</td>\n",
       "      <td>53590.9</td>\n",
       "    </tr>\n",
       "  </tbody>\n",
       "</table>\n",
       "<p>5 rows × 49 columns</p>\n",
       "</div>"
      ],
      "text/plain": [
       "  Unnamed: 0 City of London Barking & Dagenham     Barnet     Bexley  \\\n",
       "0        NaT      E09000001          E09000002  E09000003  E09000004   \n",
       "1 1995-01-01          91449            50460.2    93284.5    64958.1   \n",
       "2 1995-02-01        82202.8            51085.8    93190.2    64787.9   \n",
       "3 1995-03-01        79120.7              51269    92247.5    64367.5   \n",
       "4 1995-04-01        77101.2            53133.5    90762.9    64277.7   \n",
       "\n",
       "       Brent    Bromley     Camden    Croydon     Ealing  ... NORTH WEST  \\\n",
       "0  E09000005  E09000006  E09000007  E09000008  E09000009  ...  E12000002   \n",
       "1    71306.6    81671.5     120933    69158.2    79885.9  ...    43958.5   \n",
       "2    72022.3    81657.6     119509    68951.1    80897.1  ...    43925.4   \n",
       "3    72015.8    81449.3     120282    68712.4    81379.9  ...    44434.9   \n",
       "4    72965.6    81124.4     120098      68610    82188.9  ...    44267.8   \n",
       "\n",
       "  YORKS & THE HUMBER EAST MIDLANDS WEST MIDLANDS EAST OF ENGLAND     LONDON  \\\n",
       "0          E12000003     E12000004     E12000005       E12000006  E12000007   \n",
       "1            44803.4       45544.5       48527.5         56701.6    74435.8   \n",
       "2            44528.8       46051.6       49341.3         56593.6    72777.9   \n",
       "3            45200.5       45383.8       49442.2         56171.2    73896.8   \n",
       "4            45614.3       46124.2       49455.9         56567.9    74455.3   \n",
       "\n",
       "  SOUTH EAST SOUTH WEST Unnamed: 47    England  \n",
       "0  E12000008  E12000009         NaN  E92000001  \n",
       "1    64018.9    54705.2         NaN    53202.8  \n",
       "2      63715    54356.1         NaN    53096.2  \n",
       "3    64113.6    53583.1         NaN    53201.3  \n",
       "4    64623.2      54786         NaN    53590.9  \n",
       "\n",
       "[5 rows x 49 columns]"
      ]
     },
     "execution_count": 3,
     "metadata": {},
     "output_type": "execute_result"
    }
   ],
   "source": [
    "properties.head()\n",
    "\n",
    "#Each borough is a column and each row (except the first row) represents a month"
   ]
  },
  {
   "cell_type": "code",
   "execution_count": 4,
   "metadata": {},
   "outputs": [
    {
     "name": "stdout",
     "output_type": "stream",
     "text": [
      "<class 'pandas.core.frame.DataFrame'>\n",
      "RangeIndex: 319 entries, 0 to 318\n",
      "Data columns (total 49 columns):\n",
      " #   Column                Non-Null Count  Dtype         \n",
      "---  ------                --------------  -----         \n",
      " 0   Unnamed: 0            318 non-null    datetime64[ns]\n",
      " 1   City of London        319 non-null    object        \n",
      " 2   Barking & Dagenham    319 non-null    object        \n",
      " 3   Barnet                319 non-null    object        \n",
      " 4   Bexley                319 non-null    object        \n",
      " 5   Brent                 319 non-null    object        \n",
      " 6   Bromley               319 non-null    object        \n",
      " 7   Camden                319 non-null    object        \n",
      " 8   Croydon               319 non-null    object        \n",
      " 9   Ealing                319 non-null    object        \n",
      " 10  Enfield               319 non-null    object        \n",
      " 11  Greenwich             319 non-null    object        \n",
      " 12  Hackney               319 non-null    object        \n",
      " 13  Hammersmith & Fulham  319 non-null    object        \n",
      " 14  Haringey              319 non-null    object        \n",
      " 15  Harrow                319 non-null    object        \n",
      " 16  Havering              319 non-null    object        \n",
      " 17  Hillingdon            319 non-null    object        \n",
      " 18  Hounslow              319 non-null    object        \n",
      " 19  Islington             319 non-null    object        \n",
      " 20  Kensington & Chelsea  319 non-null    object        \n",
      " 21  Kingston upon Thames  319 non-null    object        \n",
      " 22  Lambeth               319 non-null    object        \n",
      " 23  Lewisham              319 non-null    object        \n",
      " 24  Merton                319 non-null    object        \n",
      " 25  Newham                319 non-null    object        \n",
      " 26  Redbridge             319 non-null    object        \n",
      " 27  Richmond upon Thames  319 non-null    object        \n",
      " 28  Southwark             319 non-null    object        \n",
      " 29  Sutton                319 non-null    object        \n",
      " 30  Tower Hamlets         319 non-null    object        \n",
      " 31  Waltham Forest        319 non-null    object        \n",
      " 32  Wandsworth            319 non-null    object        \n",
      " 33  Westminster           319 non-null    object        \n",
      " 34  Unnamed: 34           0 non-null      float64       \n",
      " 35  Inner London          319 non-null    object        \n",
      " 36  Outer London          319 non-null    object        \n",
      " 37  Unnamed: 37           0 non-null      float64       \n",
      " 38  NORTH EAST            319 non-null    object        \n",
      " 39  NORTH WEST            319 non-null    object        \n",
      " 40  YORKS & THE HUMBER    319 non-null    object        \n",
      " 41  EAST MIDLANDS         319 non-null    object        \n",
      " 42  WEST MIDLANDS         319 non-null    object        \n",
      " 43  EAST OF ENGLAND       319 non-null    object        \n",
      " 44  LONDON                319 non-null    object        \n",
      " 45  SOUTH EAST            319 non-null    object        \n",
      " 46  SOUTH WEST            319 non-null    object        \n",
      " 47  Unnamed: 47           0 non-null      float64       \n",
      " 48  England               319 non-null    object        \n",
      "dtypes: datetime64[ns](1), float64(3), object(45)\n",
      "memory usage: 122.2+ KB\n"
     ]
    },
    {
     "data": {
      "text/plain": [
       "RangeIndex(start=0, stop=319, step=1)"
      ]
     },
     "execution_count": 4,
     "metadata": {},
     "output_type": "execute_result"
    }
   ],
   "source": [
    "properties.info()\n",
    "properties.columns\n",
    "properties.index\n",
    "\n",
    "#There are 49 columns and 319 rows\n",
    "#Datetime is the first column\n",
    "#There are three columns with all null values"
   ]
  },
  {
   "cell_type": "markdown",
   "metadata": {
    "colab_type": "text",
    "id": "tE9Sqt9-oAta"
   },
   "source": [
    "**2.2. Cleaning the data**\n",
    "\n",
    "You might find you need to transpose your dataframe, check out what its row indexes are, and reset the index. You  also might find you need to assign the values of the first row to your column headings  . (Hint: recall the .columns feature of DataFrames, as well as the iloc[] method).\n",
    "\n",
    "Don't be afraid to use StackOverflow for help  with this."
   ]
  },
  {
   "cell_type": "code",
   "execution_count": 5,
   "metadata": {
    "colab": {},
    "colab_type": "code",
    "id": "cdAu1A3YoH_r"
   },
   "outputs": [
    {
     "data": {
      "text/html": [
       "<div>\n",
       "<style scoped>\n",
       "    .dataframe tbody tr th:only-of-type {\n",
       "        vertical-align: middle;\n",
       "    }\n",
       "\n",
       "    .dataframe tbody tr th {\n",
       "        vertical-align: top;\n",
       "    }\n",
       "\n",
       "    .dataframe thead th {\n",
       "        text-align: right;\n",
       "    }\n",
       "</style>\n",
       "<table border=\"1\" class=\"dataframe\">\n",
       "  <thead>\n",
       "    <tr style=\"text-align: right;\">\n",
       "      <th></th>\n",
       "      <th>0</th>\n",
       "      <th>1</th>\n",
       "      <th>2</th>\n",
       "      <th>3</th>\n",
       "      <th>4</th>\n",
       "      <th>5</th>\n",
       "      <th>6</th>\n",
       "      <th>7</th>\n",
       "      <th>8</th>\n",
       "      <th>9</th>\n",
       "      <th>...</th>\n",
       "      <th>309</th>\n",
       "      <th>310</th>\n",
       "      <th>311</th>\n",
       "      <th>312</th>\n",
       "      <th>313</th>\n",
       "      <th>314</th>\n",
       "      <th>315</th>\n",
       "      <th>316</th>\n",
       "      <th>317</th>\n",
       "      <th>318</th>\n",
       "    </tr>\n",
       "  </thead>\n",
       "  <tbody>\n",
       "    <tr>\n",
       "      <th>Unnamed: 0</th>\n",
       "      <td>NaT</td>\n",
       "      <td>1995-01-01 00:00:00</td>\n",
       "      <td>1995-02-01 00:00:00</td>\n",
       "      <td>1995-03-01 00:00:00</td>\n",
       "      <td>1995-04-01 00:00:00</td>\n",
       "      <td>1995-05-01 00:00:00</td>\n",
       "      <td>1995-06-01 00:00:00</td>\n",
       "      <td>1995-07-01 00:00:00</td>\n",
       "      <td>1995-08-01 00:00:00</td>\n",
       "      <td>1995-09-01 00:00:00</td>\n",
       "      <td>...</td>\n",
       "      <td>2020-09-01 00:00:00</td>\n",
       "      <td>2020-10-01 00:00:00</td>\n",
       "      <td>2020-11-01 00:00:00</td>\n",
       "      <td>2020-12-01 00:00:00</td>\n",
       "      <td>2021-01-01 00:00:00</td>\n",
       "      <td>2021-02-01 00:00:00</td>\n",
       "      <td>2021-03-01 00:00:00</td>\n",
       "      <td>2021-04-01 00:00:00</td>\n",
       "      <td>2021-05-01 00:00:00</td>\n",
       "      <td>2021-06-01 00:00:00</td>\n",
       "    </tr>\n",
       "    <tr>\n",
       "      <th>City of London</th>\n",
       "      <td>E09000001</td>\n",
       "      <td>91449</td>\n",
       "      <td>82202.8</td>\n",
       "      <td>79120.7</td>\n",
       "      <td>77101.2</td>\n",
       "      <td>84409.1</td>\n",
       "      <td>94900.5</td>\n",
       "      <td>110128</td>\n",
       "      <td>112329</td>\n",
       "      <td>104473</td>\n",
       "      <td>...</td>\n",
       "      <td>798499</td>\n",
       "      <td>836807</td>\n",
       "      <td>769392</td>\n",
       "      <td>801999</td>\n",
       "      <td>760384</td>\n",
       "      <td>730222</td>\n",
       "      <td>726743</td>\n",
       "      <td>739454</td>\n",
       "      <td>767716</td>\n",
       "      <td>756164</td>\n",
       "    </tr>\n",
       "    <tr>\n",
       "      <th>Barking &amp; Dagenham</th>\n",
       "      <td>E09000002</td>\n",
       "      <td>50460.2</td>\n",
       "      <td>51085.8</td>\n",
       "      <td>51269</td>\n",
       "      <td>53133.5</td>\n",
       "      <td>53042.2</td>\n",
       "      <td>53700.3</td>\n",
       "      <td>52113.1</td>\n",
       "      <td>52232.2</td>\n",
       "      <td>51471.6</td>\n",
       "      <td>...</td>\n",
       "      <td>301702</td>\n",
       "      <td>304852</td>\n",
       "      <td>305012</td>\n",
       "      <td>309560</td>\n",
       "      <td>311685</td>\n",
       "      <td>315391</td>\n",
       "      <td>314172</td>\n",
       "      <td>313280</td>\n",
       "      <td>310714</td>\n",
       "      <td>319220</td>\n",
       "    </tr>\n",
       "    <tr>\n",
       "      <th>Barnet</th>\n",
       "      <td>E09000003</td>\n",
       "      <td>93284.5</td>\n",
       "      <td>93190.2</td>\n",
       "      <td>92247.5</td>\n",
       "      <td>90762.9</td>\n",
       "      <td>90258</td>\n",
       "      <td>90107.2</td>\n",
       "      <td>91441.2</td>\n",
       "      <td>92361.3</td>\n",
       "      <td>93273.1</td>\n",
       "      <td>...</td>\n",
       "      <td>533619</td>\n",
       "      <td>530354</td>\n",
       "      <td>528816</td>\n",
       "      <td>532528</td>\n",
       "      <td>538413</td>\n",
       "      <td>538538</td>\n",
       "      <td>542795</td>\n",
       "      <td>538530</td>\n",
       "      <td>540475</td>\n",
       "      <td>548442</td>\n",
       "    </tr>\n",
       "    <tr>\n",
       "      <th>Bexley</th>\n",
       "      <td>E09000004</td>\n",
       "      <td>64958.1</td>\n",
       "      <td>64787.9</td>\n",
       "      <td>64367.5</td>\n",
       "      <td>64277.7</td>\n",
       "      <td>63997.1</td>\n",
       "      <td>64252.3</td>\n",
       "      <td>63722.7</td>\n",
       "      <td>64432.6</td>\n",
       "      <td>64509.5</td>\n",
       "      <td>...</td>\n",
       "      <td>345061</td>\n",
       "      <td>345405</td>\n",
       "      <td>346253</td>\n",
       "      <td>352261</td>\n",
       "      <td>356024</td>\n",
       "      <td>359369</td>\n",
       "      <td>362228</td>\n",
       "      <td>364947</td>\n",
       "      <td>364267</td>\n",
       "      <td>364502</td>\n",
       "    </tr>\n",
       "  </tbody>\n",
       "</table>\n",
       "<p>5 rows × 319 columns</p>\n",
       "</div>"
      ],
      "text/plain": [
       "                          0                    1                    2    \\\n",
       "Unnamed: 0                NaT  1995-01-01 00:00:00  1995-02-01 00:00:00   \n",
       "City of London      E09000001                91449              82202.8   \n",
       "Barking & Dagenham  E09000002              50460.2              51085.8   \n",
       "Barnet              E09000003              93284.5              93190.2   \n",
       "Bexley              E09000004              64958.1              64787.9   \n",
       "\n",
       "                                    3                    4    \\\n",
       "Unnamed: 0          1995-03-01 00:00:00  1995-04-01 00:00:00   \n",
       "City of London                  79120.7              77101.2   \n",
       "Barking & Dagenham                51269              53133.5   \n",
       "Barnet                          92247.5              90762.9   \n",
       "Bexley                          64367.5              64277.7   \n",
       "\n",
       "                                    5                    6    \\\n",
       "Unnamed: 0          1995-05-01 00:00:00  1995-06-01 00:00:00   \n",
       "City of London                  84409.1              94900.5   \n",
       "Barking & Dagenham              53042.2              53700.3   \n",
       "Barnet                            90258              90107.2   \n",
       "Bexley                          63997.1              64252.3   \n",
       "\n",
       "                                    7                    8    \\\n",
       "Unnamed: 0          1995-07-01 00:00:00  1995-08-01 00:00:00   \n",
       "City of London                   110128               112329   \n",
       "Barking & Dagenham              52113.1              52232.2   \n",
       "Barnet                          91441.2              92361.3   \n",
       "Bexley                          63722.7              64432.6   \n",
       "\n",
       "                                    9    ...                  309  \\\n",
       "Unnamed: 0          1995-09-01 00:00:00  ...  2020-09-01 00:00:00   \n",
       "City of London                   104473  ...               798499   \n",
       "Barking & Dagenham              51471.6  ...               301702   \n",
       "Barnet                          93273.1  ...               533619   \n",
       "Bexley                          64509.5  ...               345061   \n",
       "\n",
       "                                    310                  311  \\\n",
       "Unnamed: 0          2020-10-01 00:00:00  2020-11-01 00:00:00   \n",
       "City of London                   836807               769392   \n",
       "Barking & Dagenham               304852               305012   \n",
       "Barnet                           530354               528816   \n",
       "Bexley                           345405               346253   \n",
       "\n",
       "                                    312                  313  \\\n",
       "Unnamed: 0          2020-12-01 00:00:00  2021-01-01 00:00:00   \n",
       "City of London                   801999               760384   \n",
       "Barking & Dagenham               309560               311685   \n",
       "Barnet                           532528               538413   \n",
       "Bexley                           352261               356024   \n",
       "\n",
       "                                    314                  315  \\\n",
       "Unnamed: 0          2021-02-01 00:00:00  2021-03-01 00:00:00   \n",
       "City of London                   730222               726743   \n",
       "Barking & Dagenham               315391               314172   \n",
       "Barnet                           538538               542795   \n",
       "Bexley                           359369               362228   \n",
       "\n",
       "                                    316                  317  \\\n",
       "Unnamed: 0          2021-04-01 00:00:00  2021-05-01 00:00:00   \n",
       "City of London                   739454               767716   \n",
       "Barking & Dagenham               313280               310714   \n",
       "Barnet                           538530               540475   \n",
       "Bexley                           364947               364267   \n",
       "\n",
       "                                    318  \n",
       "Unnamed: 0          2021-06-01 00:00:00  \n",
       "City of London                   756164  \n",
       "Barking & Dagenham               319220  \n",
       "Barnet                           548442  \n",
       "Bexley                           364502  \n",
       "\n",
       "[5 rows x 319 columns]"
      ]
     },
     "execution_count": 5,
     "metadata": {},
     "output_type": "execute_result"
    }
   ],
   "source": [
    "#Transpose dataframe to get boroughs as rows and dates as columns\n",
    "properties_transpose = properties.T\n",
    "\n",
    "properties_transpose.head()"
   ]
  },
  {
   "cell_type": "code",
   "execution_count": 6,
   "metadata": {},
   "outputs": [
    {
     "data": {
      "text/html": [
       "<div>\n",
       "<style scoped>\n",
       "    .dataframe tbody tr th:only-of-type {\n",
       "        vertical-align: middle;\n",
       "    }\n",
       "\n",
       "    .dataframe tbody tr th {\n",
       "        vertical-align: top;\n",
       "    }\n",
       "\n",
       "    .dataframe thead th {\n",
       "        text-align: right;\n",
       "    }\n",
       "</style>\n",
       "<table border=\"1\" class=\"dataframe\">\n",
       "  <thead>\n",
       "    <tr style=\"text-align: right;\">\n",
       "      <th>Unnamed: 0</th>\n",
       "      <th>NaT</th>\n",
       "      <th>1995-01-01</th>\n",
       "      <th>1995-02-01</th>\n",
       "      <th>1995-03-01</th>\n",
       "      <th>1995-04-01</th>\n",
       "      <th>1995-05-01</th>\n",
       "      <th>1995-06-01</th>\n",
       "      <th>1995-07-01</th>\n",
       "      <th>1995-08-01</th>\n",
       "      <th>1995-09-01</th>\n",
       "      <th>...</th>\n",
       "      <th>2020-09-01</th>\n",
       "      <th>2020-10-01</th>\n",
       "      <th>2020-11-01</th>\n",
       "      <th>2020-12-01</th>\n",
       "      <th>2021-01-01</th>\n",
       "      <th>2021-02-01</th>\n",
       "      <th>2021-03-01</th>\n",
       "      <th>2021-04-01</th>\n",
       "      <th>2021-05-01</th>\n",
       "      <th>2021-06-01</th>\n",
       "    </tr>\n",
       "  </thead>\n",
       "  <tbody>\n",
       "    <tr>\n",
       "      <th>City of London</th>\n",
       "      <td>E09000001</td>\n",
       "      <td>91449</td>\n",
       "      <td>82202.8</td>\n",
       "      <td>79120.7</td>\n",
       "      <td>77101.2</td>\n",
       "      <td>84409.1</td>\n",
       "      <td>94900.5</td>\n",
       "      <td>110128</td>\n",
       "      <td>112329</td>\n",
       "      <td>104473</td>\n",
       "      <td>...</td>\n",
       "      <td>798499</td>\n",
       "      <td>836807</td>\n",
       "      <td>769392</td>\n",
       "      <td>801999</td>\n",
       "      <td>760384</td>\n",
       "      <td>730222</td>\n",
       "      <td>726743</td>\n",
       "      <td>739454</td>\n",
       "      <td>767716</td>\n",
       "      <td>756164</td>\n",
       "    </tr>\n",
       "    <tr>\n",
       "      <th>Barking &amp; Dagenham</th>\n",
       "      <td>E09000002</td>\n",
       "      <td>50460.2</td>\n",
       "      <td>51085.8</td>\n",
       "      <td>51269</td>\n",
       "      <td>53133.5</td>\n",
       "      <td>53042.2</td>\n",
       "      <td>53700.3</td>\n",
       "      <td>52113.1</td>\n",
       "      <td>52232.2</td>\n",
       "      <td>51471.6</td>\n",
       "      <td>...</td>\n",
       "      <td>301702</td>\n",
       "      <td>304852</td>\n",
       "      <td>305012</td>\n",
       "      <td>309560</td>\n",
       "      <td>311685</td>\n",
       "      <td>315391</td>\n",
       "      <td>314172</td>\n",
       "      <td>313280</td>\n",
       "      <td>310714</td>\n",
       "      <td>319220</td>\n",
       "    </tr>\n",
       "    <tr>\n",
       "      <th>Barnet</th>\n",
       "      <td>E09000003</td>\n",
       "      <td>93284.5</td>\n",
       "      <td>93190.2</td>\n",
       "      <td>92247.5</td>\n",
       "      <td>90762.9</td>\n",
       "      <td>90258</td>\n",
       "      <td>90107.2</td>\n",
       "      <td>91441.2</td>\n",
       "      <td>92361.3</td>\n",
       "      <td>93273.1</td>\n",
       "      <td>...</td>\n",
       "      <td>533619</td>\n",
       "      <td>530354</td>\n",
       "      <td>528816</td>\n",
       "      <td>532528</td>\n",
       "      <td>538413</td>\n",
       "      <td>538538</td>\n",
       "      <td>542795</td>\n",
       "      <td>538530</td>\n",
       "      <td>540475</td>\n",
       "      <td>548442</td>\n",
       "    </tr>\n",
       "    <tr>\n",
       "      <th>Bexley</th>\n",
       "      <td>E09000004</td>\n",
       "      <td>64958.1</td>\n",
       "      <td>64787.9</td>\n",
       "      <td>64367.5</td>\n",
       "      <td>64277.7</td>\n",
       "      <td>63997.1</td>\n",
       "      <td>64252.3</td>\n",
       "      <td>63722.7</td>\n",
       "      <td>64432.6</td>\n",
       "      <td>64509.5</td>\n",
       "      <td>...</td>\n",
       "      <td>345061</td>\n",
       "      <td>345405</td>\n",
       "      <td>346253</td>\n",
       "      <td>352261</td>\n",
       "      <td>356024</td>\n",
       "      <td>359369</td>\n",
       "      <td>362228</td>\n",
       "      <td>364947</td>\n",
       "      <td>364267</td>\n",
       "      <td>364502</td>\n",
       "    </tr>\n",
       "    <tr>\n",
       "      <th>Brent</th>\n",
       "      <td>E09000005</td>\n",
       "      <td>71306.6</td>\n",
       "      <td>72022.3</td>\n",
       "      <td>72015.8</td>\n",
       "      <td>72965.6</td>\n",
       "      <td>73704</td>\n",
       "      <td>74310.5</td>\n",
       "      <td>74127</td>\n",
       "      <td>73547</td>\n",
       "      <td>73789.5</td>\n",
       "      <td>...</td>\n",
       "      <td>519562</td>\n",
       "      <td>522239</td>\n",
       "      <td>513101</td>\n",
       "      <td>495067</td>\n",
       "      <td>511141</td>\n",
       "      <td>514749</td>\n",
       "      <td>520523</td>\n",
       "      <td>503032</td>\n",
       "      <td>501560</td>\n",
       "      <td>512645</td>\n",
       "    </tr>\n",
       "  </tbody>\n",
       "</table>\n",
       "<p>5 rows × 319 columns</p>\n",
       "</div>"
      ],
      "text/plain": [
       "Unnamed: 0                NaT 1995-01-01 1995-02-01 1995-03-01 1995-04-01  \\\n",
       "City of London      E09000001      91449    82202.8    79120.7    77101.2   \n",
       "Barking & Dagenham  E09000002    50460.2    51085.8      51269    53133.5   \n",
       "Barnet              E09000003    93284.5    93190.2    92247.5    90762.9   \n",
       "Bexley              E09000004    64958.1    64787.9    64367.5    64277.7   \n",
       "Brent               E09000005    71306.6    72022.3    72015.8    72965.6   \n",
       "\n",
       "Unnamed: 0         1995-05-01 1995-06-01 1995-07-01 1995-08-01 1995-09-01  \\\n",
       "City of London        84409.1    94900.5     110128     112329     104473   \n",
       "Barking & Dagenham    53042.2    53700.3    52113.1    52232.2    51471.6   \n",
       "Barnet                  90258    90107.2    91441.2    92361.3    93273.1   \n",
       "Bexley                63997.1    64252.3    63722.7    64432.6    64509.5   \n",
       "Brent                   73704    74310.5      74127      73547    73789.5   \n",
       "\n",
       "Unnamed: 0          ... 2020-09-01 2020-10-01 2020-11-01 2020-12-01  \\\n",
       "City of London      ...     798499     836807     769392     801999   \n",
       "Barking & Dagenham  ...     301702     304852     305012     309560   \n",
       "Barnet              ...     533619     530354     528816     532528   \n",
       "Bexley              ...     345061     345405     346253     352261   \n",
       "Brent               ...     519562     522239     513101     495067   \n",
       "\n",
       "Unnamed: 0         2021-01-01 2021-02-01 2021-03-01 2021-04-01 2021-05-01  \\\n",
       "City of London         760384     730222     726743     739454     767716   \n",
       "Barking & Dagenham     311685     315391     314172     313280     310714   \n",
       "Barnet                 538413     538538     542795     538530     540475   \n",
       "Bexley                 356024     359369     362228     364947     364267   \n",
       "Brent                  511141     514749     520523     503032     501560   \n",
       "\n",
       "Unnamed: 0         2021-06-01  \n",
       "City of London         756164  \n",
       "Barking & Dagenham     319220  \n",
       "Barnet                 548442  \n",
       "Bexley                 364502  \n",
       "Brent                  512645  \n",
       "\n",
       "[5 rows x 319 columns]"
      ]
     },
     "execution_count": 6,
     "metadata": {},
     "output_type": "execute_result"
    }
   ],
   "source": [
    "#Reset 1st row as column heading\n",
    "properties_transpose.columns = properties_transpose.iloc[0]\n",
    "\n",
    "#Subset to remove first row\n",
    "properties_transpose = properties_transpose.iloc[1:,:]\n",
    "\n",
    "properties_transpose.head()"
   ]
  },
  {
   "cell_type": "code",
   "execution_count": 7,
   "metadata": {},
   "outputs": [
    {
     "data": {
      "text/plain": [
       "Index(['City of London', 'Barking & Dagenham', 'Barnet', 'Bexley', 'Brent',\n",
       "       'Bromley', 'Camden', 'Croydon', 'Ealing', 'Enfield', 'Greenwich',\n",
       "       'Hackney', 'Hammersmith & Fulham', 'Haringey', 'Harrow', 'Havering',\n",
       "       'Hillingdon', 'Hounslow', 'Islington', 'Kensington & Chelsea',\n",
       "       'Kingston upon Thames', 'Lambeth', 'Lewisham', 'Merton', 'Newham',\n",
       "       'Redbridge', 'Richmond upon Thames', 'Southwark', 'Sutton',\n",
       "       'Tower Hamlets', 'Waltham Forest', 'Wandsworth', 'Westminster',\n",
       "       'Unnamed: 34', 'Inner London', 'Outer London', 'Unnamed: 37',\n",
       "       'NORTH EAST', 'NORTH WEST', 'YORKS & THE HUMBER', 'EAST MIDLANDS',\n",
       "       'WEST MIDLANDS', 'EAST OF ENGLAND', 'LONDON', 'SOUTH EAST',\n",
       "       'SOUTH WEST', 'Unnamed: 47', 'England'],\n",
       "      dtype='object')"
      ]
     },
     "execution_count": 7,
     "metadata": {},
     "output_type": "execute_result"
    }
   ],
   "source": [
    "properties_transpose.index\n",
    "\n",
    "#The boroughs are set as the index"
   ]
  },
  {
   "cell_type": "code",
   "execution_count": 8,
   "metadata": {},
   "outputs": [
    {
     "data": {
      "text/html": [
       "<div>\n",
       "<style scoped>\n",
       "    .dataframe tbody tr th:only-of-type {\n",
       "        vertical-align: middle;\n",
       "    }\n",
       "\n",
       "    .dataframe tbody tr th {\n",
       "        vertical-align: top;\n",
       "    }\n",
       "\n",
       "    .dataframe thead th {\n",
       "        text-align: right;\n",
       "    }\n",
       "</style>\n",
       "<table border=\"1\" class=\"dataframe\">\n",
       "  <thead>\n",
       "    <tr style=\"text-align: right;\">\n",
       "      <th>Unnamed: 0</th>\n",
       "      <th>index</th>\n",
       "      <th>NaN</th>\n",
       "      <th>1995-01-01 00:00:00</th>\n",
       "      <th>1995-02-01 00:00:00</th>\n",
       "      <th>1995-03-01 00:00:00</th>\n",
       "      <th>1995-04-01 00:00:00</th>\n",
       "      <th>1995-05-01 00:00:00</th>\n",
       "      <th>1995-06-01 00:00:00</th>\n",
       "      <th>1995-07-01 00:00:00</th>\n",
       "      <th>1995-08-01 00:00:00</th>\n",
       "      <th>...</th>\n",
       "      <th>2020-09-01 00:00:00</th>\n",
       "      <th>2020-10-01 00:00:00</th>\n",
       "      <th>2020-11-01 00:00:00</th>\n",
       "      <th>2020-12-01 00:00:00</th>\n",
       "      <th>2021-01-01 00:00:00</th>\n",
       "      <th>2021-02-01 00:00:00</th>\n",
       "      <th>2021-03-01 00:00:00</th>\n",
       "      <th>2021-04-01 00:00:00</th>\n",
       "      <th>2021-05-01 00:00:00</th>\n",
       "      <th>2021-06-01 00:00:00</th>\n",
       "    </tr>\n",
       "  </thead>\n",
       "  <tbody>\n",
       "    <tr>\n",
       "      <th>0</th>\n",
       "      <td>City of London</td>\n",
       "      <td>E09000001</td>\n",
       "      <td>91449</td>\n",
       "      <td>82202.8</td>\n",
       "      <td>79120.7</td>\n",
       "      <td>77101.2</td>\n",
       "      <td>84409.1</td>\n",
       "      <td>94900.5</td>\n",
       "      <td>110128</td>\n",
       "      <td>112329</td>\n",
       "      <td>...</td>\n",
       "      <td>798499</td>\n",
       "      <td>836807</td>\n",
       "      <td>769392</td>\n",
       "      <td>801999</td>\n",
       "      <td>760384</td>\n",
       "      <td>730222</td>\n",
       "      <td>726743</td>\n",
       "      <td>739454</td>\n",
       "      <td>767716</td>\n",
       "      <td>756164</td>\n",
       "    </tr>\n",
       "    <tr>\n",
       "      <th>1</th>\n",
       "      <td>Barking &amp; Dagenham</td>\n",
       "      <td>E09000002</td>\n",
       "      <td>50460.2</td>\n",
       "      <td>51085.8</td>\n",
       "      <td>51269</td>\n",
       "      <td>53133.5</td>\n",
       "      <td>53042.2</td>\n",
       "      <td>53700.3</td>\n",
       "      <td>52113.1</td>\n",
       "      <td>52232.2</td>\n",
       "      <td>...</td>\n",
       "      <td>301702</td>\n",
       "      <td>304852</td>\n",
       "      <td>305012</td>\n",
       "      <td>309560</td>\n",
       "      <td>311685</td>\n",
       "      <td>315391</td>\n",
       "      <td>314172</td>\n",
       "      <td>313280</td>\n",
       "      <td>310714</td>\n",
       "      <td>319220</td>\n",
       "    </tr>\n",
       "    <tr>\n",
       "      <th>2</th>\n",
       "      <td>Barnet</td>\n",
       "      <td>E09000003</td>\n",
       "      <td>93284.5</td>\n",
       "      <td>93190.2</td>\n",
       "      <td>92247.5</td>\n",
       "      <td>90762.9</td>\n",
       "      <td>90258</td>\n",
       "      <td>90107.2</td>\n",
       "      <td>91441.2</td>\n",
       "      <td>92361.3</td>\n",
       "      <td>...</td>\n",
       "      <td>533619</td>\n",
       "      <td>530354</td>\n",
       "      <td>528816</td>\n",
       "      <td>532528</td>\n",
       "      <td>538413</td>\n",
       "      <td>538538</td>\n",
       "      <td>542795</td>\n",
       "      <td>538530</td>\n",
       "      <td>540475</td>\n",
       "      <td>548442</td>\n",
       "    </tr>\n",
       "    <tr>\n",
       "      <th>3</th>\n",
       "      <td>Bexley</td>\n",
       "      <td>E09000004</td>\n",
       "      <td>64958.1</td>\n",
       "      <td>64787.9</td>\n",
       "      <td>64367.5</td>\n",
       "      <td>64277.7</td>\n",
       "      <td>63997.1</td>\n",
       "      <td>64252.3</td>\n",
       "      <td>63722.7</td>\n",
       "      <td>64432.6</td>\n",
       "      <td>...</td>\n",
       "      <td>345061</td>\n",
       "      <td>345405</td>\n",
       "      <td>346253</td>\n",
       "      <td>352261</td>\n",
       "      <td>356024</td>\n",
       "      <td>359369</td>\n",
       "      <td>362228</td>\n",
       "      <td>364947</td>\n",
       "      <td>364267</td>\n",
       "      <td>364502</td>\n",
       "    </tr>\n",
       "    <tr>\n",
       "      <th>4</th>\n",
       "      <td>Brent</td>\n",
       "      <td>E09000005</td>\n",
       "      <td>71306.6</td>\n",
       "      <td>72022.3</td>\n",
       "      <td>72015.8</td>\n",
       "      <td>72965.6</td>\n",
       "      <td>73704</td>\n",
       "      <td>74310.5</td>\n",
       "      <td>74127</td>\n",
       "      <td>73547</td>\n",
       "      <td>...</td>\n",
       "      <td>519562</td>\n",
       "      <td>522239</td>\n",
       "      <td>513101</td>\n",
       "      <td>495067</td>\n",
       "      <td>511141</td>\n",
       "      <td>514749</td>\n",
       "      <td>520523</td>\n",
       "      <td>503032</td>\n",
       "      <td>501560</td>\n",
       "      <td>512645</td>\n",
       "    </tr>\n",
       "  </tbody>\n",
       "</table>\n",
       "<p>5 rows × 320 columns</p>\n",
       "</div>"
      ],
      "text/plain": [
       "Unnamed: 0               index        NaN 1995-01-01 00:00:00  \\\n",
       "0               City of London  E09000001               91449   \n",
       "1           Barking & Dagenham  E09000002             50460.2   \n",
       "2                       Barnet  E09000003             93284.5   \n",
       "3                       Bexley  E09000004             64958.1   \n",
       "4                        Brent  E09000005             71306.6   \n",
       "\n",
       "Unnamed: 0 1995-02-01 00:00:00 1995-03-01 00:00:00 1995-04-01 00:00:00  \\\n",
       "0                      82202.8             79120.7             77101.2   \n",
       "1                      51085.8               51269             53133.5   \n",
       "2                      93190.2             92247.5             90762.9   \n",
       "3                      64787.9             64367.5             64277.7   \n",
       "4                      72022.3             72015.8             72965.6   \n",
       "\n",
       "Unnamed: 0 1995-05-01 00:00:00 1995-06-01 00:00:00 1995-07-01 00:00:00  \\\n",
       "0                      84409.1             94900.5              110128   \n",
       "1                      53042.2             53700.3             52113.1   \n",
       "2                        90258             90107.2             91441.2   \n",
       "3                      63997.1             64252.3             63722.7   \n",
       "4                        73704             74310.5               74127   \n",
       "\n",
       "Unnamed: 0 1995-08-01 00:00:00  ... 2020-09-01 00:00:00 2020-10-01 00:00:00  \\\n",
       "0                       112329  ...              798499              836807   \n",
       "1                      52232.2  ...              301702              304852   \n",
       "2                      92361.3  ...              533619              530354   \n",
       "3                      64432.6  ...              345061              345405   \n",
       "4                        73547  ...              519562              522239   \n",
       "\n",
       "Unnamed: 0 2020-11-01 00:00:00 2020-12-01 00:00:00 2021-01-01 00:00:00  \\\n",
       "0                       769392              801999              760384   \n",
       "1                       305012              309560              311685   \n",
       "2                       528816              532528              538413   \n",
       "3                       346253              352261              356024   \n",
       "4                       513101              495067              511141   \n",
       "\n",
       "Unnamed: 0 2021-02-01 00:00:00 2021-03-01 00:00:00 2021-04-01 00:00:00  \\\n",
       "0                       730222              726743              739454   \n",
       "1                       315391              314172              313280   \n",
       "2                       538538              542795              538530   \n",
       "3                       359369              362228              364947   \n",
       "4                       514749              520523              503032   \n",
       "\n",
       "Unnamed: 0 2021-05-01 00:00:00 2021-06-01 00:00:00  \n",
       "0                       767716              756164  \n",
       "1                       310714              319220  \n",
       "2                       540475              548442  \n",
       "3                       364267              364502  \n",
       "4                       501560              512645  \n",
       "\n",
       "[5 rows x 320 columns]"
      ]
     },
     "execution_count": 8,
     "metadata": {},
     "output_type": "execute_result"
    }
   ],
   "source": [
    "#Reset index so it is a numerical value\n",
    "properties_transpose = properties_transpose.reset_index()\n",
    "properties_transpose.index\n",
    "\n",
    "properties_transpose.head()"
   ]
  },
  {
   "cell_type": "markdown",
   "metadata": {
    "colab_type": "text",
    "id": "o1uLbJAsoIjK"
   },
   "source": [
    "**2.3. Cleaning the data (part 2)**\n",
    "\n",
    "You might we have to **rename** a couple columns. How do you do this? The clue's pretty bold..."
   ]
  },
  {
   "cell_type": "code",
   "execution_count": 9,
   "metadata": {
    "colab": {},
    "colab_type": "code",
    "id": "GKkmn1AnoVZS"
   },
   "outputs": [
    {
     "data": {
      "text/html": [
       "<div>\n",
       "<style scoped>\n",
       "    .dataframe tbody tr th:only-of-type {\n",
       "        vertical-align: middle;\n",
       "    }\n",
       "\n",
       "    .dataframe tbody tr th {\n",
       "        vertical-align: top;\n",
       "    }\n",
       "\n",
       "    .dataframe thead th {\n",
       "        text-align: right;\n",
       "    }\n",
       "</style>\n",
       "<table border=\"1\" class=\"dataframe\">\n",
       "  <thead>\n",
       "    <tr style=\"text-align: right;\">\n",
       "      <th>Unnamed: 0</th>\n",
       "      <th>London_Borough</th>\n",
       "      <th>ID</th>\n",
       "      <th>1995-01-01 00:00:00</th>\n",
       "      <th>1995-02-01 00:00:00</th>\n",
       "      <th>1995-03-01 00:00:00</th>\n",
       "      <th>1995-04-01 00:00:00</th>\n",
       "      <th>1995-05-01 00:00:00</th>\n",
       "      <th>1995-06-01 00:00:00</th>\n",
       "      <th>1995-07-01 00:00:00</th>\n",
       "      <th>1995-08-01 00:00:00</th>\n",
       "      <th>...</th>\n",
       "      <th>2020-09-01 00:00:00</th>\n",
       "      <th>2020-10-01 00:00:00</th>\n",
       "      <th>2020-11-01 00:00:00</th>\n",
       "      <th>2020-12-01 00:00:00</th>\n",
       "      <th>2021-01-01 00:00:00</th>\n",
       "      <th>2021-02-01 00:00:00</th>\n",
       "      <th>2021-03-01 00:00:00</th>\n",
       "      <th>2021-04-01 00:00:00</th>\n",
       "      <th>2021-05-01 00:00:00</th>\n",
       "      <th>2021-06-01 00:00:00</th>\n",
       "    </tr>\n",
       "  </thead>\n",
       "  <tbody>\n",
       "    <tr>\n",
       "      <th>0</th>\n",
       "      <td>City of London</td>\n",
       "      <td>E09000001</td>\n",
       "      <td>91449</td>\n",
       "      <td>82202.8</td>\n",
       "      <td>79120.7</td>\n",
       "      <td>77101.2</td>\n",
       "      <td>84409.1</td>\n",
       "      <td>94900.5</td>\n",
       "      <td>110128</td>\n",
       "      <td>112329</td>\n",
       "      <td>...</td>\n",
       "      <td>798499</td>\n",
       "      <td>836807</td>\n",
       "      <td>769392</td>\n",
       "      <td>801999</td>\n",
       "      <td>760384</td>\n",
       "      <td>730222</td>\n",
       "      <td>726743</td>\n",
       "      <td>739454</td>\n",
       "      <td>767716</td>\n",
       "      <td>756164</td>\n",
       "    </tr>\n",
       "    <tr>\n",
       "      <th>1</th>\n",
       "      <td>Barking &amp; Dagenham</td>\n",
       "      <td>E09000002</td>\n",
       "      <td>50460.2</td>\n",
       "      <td>51085.8</td>\n",
       "      <td>51269</td>\n",
       "      <td>53133.5</td>\n",
       "      <td>53042.2</td>\n",
       "      <td>53700.3</td>\n",
       "      <td>52113.1</td>\n",
       "      <td>52232.2</td>\n",
       "      <td>...</td>\n",
       "      <td>301702</td>\n",
       "      <td>304852</td>\n",
       "      <td>305012</td>\n",
       "      <td>309560</td>\n",
       "      <td>311685</td>\n",
       "      <td>315391</td>\n",
       "      <td>314172</td>\n",
       "      <td>313280</td>\n",
       "      <td>310714</td>\n",
       "      <td>319220</td>\n",
       "    </tr>\n",
       "    <tr>\n",
       "      <th>2</th>\n",
       "      <td>Barnet</td>\n",
       "      <td>E09000003</td>\n",
       "      <td>93284.5</td>\n",
       "      <td>93190.2</td>\n",
       "      <td>92247.5</td>\n",
       "      <td>90762.9</td>\n",
       "      <td>90258</td>\n",
       "      <td>90107.2</td>\n",
       "      <td>91441.2</td>\n",
       "      <td>92361.3</td>\n",
       "      <td>...</td>\n",
       "      <td>533619</td>\n",
       "      <td>530354</td>\n",
       "      <td>528816</td>\n",
       "      <td>532528</td>\n",
       "      <td>538413</td>\n",
       "      <td>538538</td>\n",
       "      <td>542795</td>\n",
       "      <td>538530</td>\n",
       "      <td>540475</td>\n",
       "      <td>548442</td>\n",
       "    </tr>\n",
       "    <tr>\n",
       "      <th>3</th>\n",
       "      <td>Bexley</td>\n",
       "      <td>E09000004</td>\n",
       "      <td>64958.1</td>\n",
       "      <td>64787.9</td>\n",
       "      <td>64367.5</td>\n",
       "      <td>64277.7</td>\n",
       "      <td>63997.1</td>\n",
       "      <td>64252.3</td>\n",
       "      <td>63722.7</td>\n",
       "      <td>64432.6</td>\n",
       "      <td>...</td>\n",
       "      <td>345061</td>\n",
       "      <td>345405</td>\n",
       "      <td>346253</td>\n",
       "      <td>352261</td>\n",
       "      <td>356024</td>\n",
       "      <td>359369</td>\n",
       "      <td>362228</td>\n",
       "      <td>364947</td>\n",
       "      <td>364267</td>\n",
       "      <td>364502</td>\n",
       "    </tr>\n",
       "    <tr>\n",
       "      <th>4</th>\n",
       "      <td>Brent</td>\n",
       "      <td>E09000005</td>\n",
       "      <td>71306.6</td>\n",
       "      <td>72022.3</td>\n",
       "      <td>72015.8</td>\n",
       "      <td>72965.6</td>\n",
       "      <td>73704</td>\n",
       "      <td>74310.5</td>\n",
       "      <td>74127</td>\n",
       "      <td>73547</td>\n",
       "      <td>...</td>\n",
       "      <td>519562</td>\n",
       "      <td>522239</td>\n",
       "      <td>513101</td>\n",
       "      <td>495067</td>\n",
       "      <td>511141</td>\n",
       "      <td>514749</td>\n",
       "      <td>520523</td>\n",
       "      <td>503032</td>\n",
       "      <td>501560</td>\n",
       "      <td>512645</td>\n",
       "    </tr>\n",
       "  </tbody>\n",
       "</table>\n",
       "<p>5 rows × 320 columns</p>\n",
       "</div>"
      ],
      "text/plain": [
       "Unnamed: 0      London_Borough         ID 1995-01-01 00:00:00  \\\n",
       "0               City of London  E09000001               91449   \n",
       "1           Barking & Dagenham  E09000002             50460.2   \n",
       "2                       Barnet  E09000003             93284.5   \n",
       "3                       Bexley  E09000004             64958.1   \n",
       "4                        Brent  E09000005             71306.6   \n",
       "\n",
       "Unnamed: 0 1995-02-01 00:00:00 1995-03-01 00:00:00 1995-04-01 00:00:00  \\\n",
       "0                      82202.8             79120.7             77101.2   \n",
       "1                      51085.8               51269             53133.5   \n",
       "2                      93190.2             92247.5             90762.9   \n",
       "3                      64787.9             64367.5             64277.7   \n",
       "4                      72022.3             72015.8             72965.6   \n",
       "\n",
       "Unnamed: 0 1995-05-01 00:00:00 1995-06-01 00:00:00 1995-07-01 00:00:00  \\\n",
       "0                      84409.1             94900.5              110128   \n",
       "1                      53042.2             53700.3             52113.1   \n",
       "2                        90258             90107.2             91441.2   \n",
       "3                      63997.1             64252.3             63722.7   \n",
       "4                        73704             74310.5               74127   \n",
       "\n",
       "Unnamed: 0 1995-08-01 00:00:00  ... 2020-09-01 00:00:00 2020-10-01 00:00:00  \\\n",
       "0                       112329  ...              798499              836807   \n",
       "1                      52232.2  ...              301702              304852   \n",
       "2                      92361.3  ...              533619              530354   \n",
       "3                      64432.6  ...              345061              345405   \n",
       "4                        73547  ...              519562              522239   \n",
       "\n",
       "Unnamed: 0 2020-11-01 00:00:00 2020-12-01 00:00:00 2021-01-01 00:00:00  \\\n",
       "0                       769392              801999              760384   \n",
       "1                       305012              309560              311685   \n",
       "2                       528816              532528              538413   \n",
       "3                       346253              352261              356024   \n",
       "4                       513101              495067              511141   \n",
       "\n",
       "Unnamed: 0 2021-02-01 00:00:00 2021-03-01 00:00:00 2021-04-01 00:00:00  \\\n",
       "0                       730222              726743              739454   \n",
       "1                       315391              314172              313280   \n",
       "2                       538538              542795              538530   \n",
       "3                       359369              362228              364947   \n",
       "4                       514749              520523              503032   \n",
       "\n",
       "Unnamed: 0 2021-05-01 00:00:00 2021-06-01 00:00:00  \n",
       "0                       767716              756164  \n",
       "1                       310714              319220  \n",
       "2                       540475              548442  \n",
       "3                       364267              364502  \n",
       "4                       501560              512645  \n",
       "\n",
       "[5 rows x 320 columns]"
      ]
     },
     "execution_count": 9,
     "metadata": {},
     "output_type": "execute_result"
    }
   ],
   "source": [
    "#Rename index 'London Boroughs' and the coloumn with NaT in header as 'ID'\n",
    "properties_transpose.rename(columns={'index': 'London_Borough', pd.NaT : 'ID'}, inplace=True)\n",
    "properties_transpose.head()"
   ]
  },
  {
   "cell_type": "markdown",
   "metadata": {
    "colab_type": "text",
    "id": "jy8BzXHmoWEw"
   },
   "source": [
    "**2.4.Transforming the data**\n",
    "\n",
    "Remember what Wes McKinney said about tidy data? \n",
    "\n",
    "You might need to **melt** your DataFrame here. "
   ]
  },
  {
   "cell_type": "code",
   "execution_count": 10,
   "metadata": {
    "colab": {},
    "colab_type": "code",
    "id": "ZcR4IHbcpOaq"
   },
   "outputs": [
    {
     "data": {
      "text/html": [
       "<div>\n",
       "<style scoped>\n",
       "    .dataframe tbody tr th:only-of-type {\n",
       "        vertical-align: middle;\n",
       "    }\n",
       "\n",
       "    .dataframe tbody tr th {\n",
       "        vertical-align: top;\n",
       "    }\n",
       "\n",
       "    .dataframe thead th {\n",
       "        text-align: right;\n",
       "    }\n",
       "</style>\n",
       "<table border=\"1\" class=\"dataframe\">\n",
       "  <thead>\n",
       "    <tr style=\"text-align: right;\">\n",
       "      <th></th>\n",
       "      <th>London_Borough</th>\n",
       "      <th>ID</th>\n",
       "      <th>Month</th>\n",
       "      <th>Average_price</th>\n",
       "    </tr>\n",
       "  </thead>\n",
       "  <tbody>\n",
       "    <tr>\n",
       "      <th>0</th>\n",
       "      <td>City of London</td>\n",
       "      <td>E09000001</td>\n",
       "      <td>1995-01-01</td>\n",
       "      <td>91449</td>\n",
       "    </tr>\n",
       "    <tr>\n",
       "      <th>1</th>\n",
       "      <td>Barking &amp; Dagenham</td>\n",
       "      <td>E09000002</td>\n",
       "      <td>1995-01-01</td>\n",
       "      <td>50460.2</td>\n",
       "    </tr>\n",
       "    <tr>\n",
       "      <th>2</th>\n",
       "      <td>Barnet</td>\n",
       "      <td>E09000003</td>\n",
       "      <td>1995-01-01</td>\n",
       "      <td>93284.5</td>\n",
       "    </tr>\n",
       "    <tr>\n",
       "      <th>3</th>\n",
       "      <td>Bexley</td>\n",
       "      <td>E09000004</td>\n",
       "      <td>1995-01-01</td>\n",
       "      <td>64958.1</td>\n",
       "    </tr>\n",
       "    <tr>\n",
       "      <th>4</th>\n",
       "      <td>Brent</td>\n",
       "      <td>E09000005</td>\n",
       "      <td>1995-01-01</td>\n",
       "      <td>71306.6</td>\n",
       "    </tr>\n",
       "  </tbody>\n",
       "</table>\n",
       "</div>"
      ],
      "text/plain": [
       "       London_Borough         ID      Month Average_price\n",
       "0      City of London  E09000001 1995-01-01         91449\n",
       "1  Barking & Dagenham  E09000002 1995-01-01       50460.2\n",
       "2              Barnet  E09000003 1995-01-01       93284.5\n",
       "3              Bexley  E09000004 1995-01-01       64958.1\n",
       "4               Brent  E09000005 1995-01-01       71306.6"
      ]
     },
     "execution_count": 10,
     "metadata": {},
     "output_type": "execute_result"
    }
   ],
   "source": [
    "#Create a tidy data where each row is an observation and each variable has a column\n",
    "properties_tidy = properties_transpose.melt(id_vars=['London_Borough','ID'], \\\n",
    "                                            var_name = 'Month', value_name = 'Average_price')\n",
    "properties_tidy.head()"
   ]
  },
  {
   "cell_type": "markdown",
   "metadata": {
    "colab_type": "text",
    "id": "7kIsgAo7o3mf"
   },
   "source": [
    "Remember to make sure your column data types are all correct. Average prices, for example, should be floating point numbers... "
   ]
  },
  {
   "cell_type": "code",
   "execution_count": 11,
   "metadata": {},
   "outputs": [
    {
     "data": {
      "text/plain": [
       "London_Borough            object\n",
       "ID                        object\n",
       "Month             datetime64[ns]\n",
       "Average_price             object\n",
       "dtype: object"
      ]
     },
     "execution_count": 11,
     "metadata": {},
     "output_type": "execute_result"
    }
   ],
   "source": [
    "properties_tidy.dtypes"
   ]
  },
  {
   "cell_type": "code",
   "execution_count": 12,
   "metadata": {},
   "outputs": [
    {
     "data": {
      "text/plain": [
       "London_Borough            object\n",
       "ID                        object\n",
       "Month             datetime64[ns]\n",
       "Average_price            float64\n",
       "dtype: object"
      ]
     },
     "execution_count": 12,
     "metadata": {},
     "output_type": "execute_result"
    }
   ],
   "source": [
    "#Convert Average_price column data types to float \n",
    "properties_tidy['Average_price'] = pd.to_numeric(properties_tidy['Average_price'])\n",
    "properties_tidy.dtypes"
   ]
  },
  {
   "cell_type": "markdown",
   "metadata": {
    "colab_type": "text",
    "id": "knLUXHLypOtw"
   },
   "source": [
    "**2.5. Cleaning the data (part 3)**\n",
    "\n",
    "Do we have an equal number of observations in the ID, Average Price, Month, and London Borough columns? Remember that there are only 32 London Boroughs. How many entries do you have in that column? \n",
    "\n",
    "Check out the contents of the London Borough column, and if you find null values, get rid of them however you see fit. "
   ]
  },
  {
   "cell_type": "code",
   "execution_count": 13,
   "metadata": {
    "colab": {},
    "colab_type": "code",
    "id": "BnvTW5a3p0fC"
   },
   "outputs": [
    {
     "data": {
      "text/plain": [
       "London_Borough    15264\n",
       "ID                14310\n",
       "Month             15264\n",
       "Average_price     14310\n",
       "dtype: int64"
      ]
     },
     "execution_count": 13,
     "metadata": {},
     "output_type": "execute_result"
    }
   ],
   "source": [
    "properties_tidy.count() \n",
    "\n",
    "#There are fewer data points in the ID and Average_price columns than there are boroughs and months!  "
   ]
  },
  {
   "cell_type": "code",
   "execution_count": 14,
   "metadata": {},
   "outputs": [
    {
     "data": {
      "text/plain": [
       "array(['City of London', 'Barking & Dagenham', 'Barnet', 'Bexley',\n",
       "       'Brent', 'Bromley', 'Camden', 'Croydon', 'Ealing', 'Enfield',\n",
       "       'Greenwich', 'Hackney', 'Hammersmith & Fulham', 'Haringey',\n",
       "       'Harrow', 'Havering', 'Hillingdon', 'Hounslow', 'Islington',\n",
       "       'Kensington & Chelsea', 'Kingston upon Thames', 'Lambeth',\n",
       "       'Lewisham', 'Merton', 'Newham', 'Redbridge',\n",
       "       'Richmond upon Thames', 'Southwark', 'Sutton', 'Tower Hamlets',\n",
       "       'Waltham Forest', 'Wandsworth', 'Westminster', 'Unnamed: 34',\n",
       "       'Inner London', 'Outer London', 'Unnamed: 37', 'NORTH EAST',\n",
       "       'NORTH WEST', 'YORKS & THE HUMBER', 'EAST MIDLANDS',\n",
       "       'WEST MIDLANDS', 'EAST OF ENGLAND', 'LONDON', 'SOUTH EAST',\n",
       "       'SOUTH WEST', 'Unnamed: 47', 'England'], dtype=object)"
      ]
     },
     "execution_count": 14,
     "metadata": {},
     "output_type": "execute_result"
    }
   ],
   "source": [
    "properties_tidy['London_Borough'].unique()\n",
    "\n",
    "#There are three boroughs with name format : 'Unnamed: #'"
   ]
  },
  {
   "cell_type": "code",
   "execution_count": 15,
   "metadata": {},
   "outputs": [
    {
     "name": "stdout",
     "output_type": "stream",
     "text": [
      "    London_Borough   ID      Month  Average_price\n",
      "33     Unnamed: 34  NaN 1995-01-01            NaN\n",
      "81     Unnamed: 34  NaN 1995-02-01            NaN\n",
      "129    Unnamed: 34  NaN 1995-03-01            NaN\n",
      "177    Unnamed: 34  NaN 1995-04-01            NaN\n",
      "225    Unnamed: 34  NaN 1995-05-01            NaN\n",
      "    London_Borough   ID      Month  Average_price\n",
      "36     Unnamed: 37  NaN 1995-01-01            NaN\n",
      "84     Unnamed: 37  NaN 1995-02-01            NaN\n",
      "132    Unnamed: 37  NaN 1995-03-01            NaN\n",
      "180    Unnamed: 37  NaN 1995-04-01            NaN\n",
      "228    Unnamed: 37  NaN 1995-05-01            NaN\n",
      "    London_Borough   ID      Month  Average_price\n",
      "46     Unnamed: 47  NaN 1995-01-01            NaN\n",
      "94     Unnamed: 47  NaN 1995-02-01            NaN\n",
      "142    Unnamed: 47  NaN 1995-03-01            NaN\n",
      "190    Unnamed: 47  NaN 1995-04-01            NaN\n",
      "238    Unnamed: 47  NaN 1995-05-01            NaN\n"
     ]
    }
   ],
   "source": [
    "print(properties_tidy.loc[properties_tidy['London_Borough'] == 'Unnamed: 34'].head())\n",
    "print(properties_tidy.loc[properties_tidy['London_Borough'] == 'Unnamed: 37'].head())\n",
    "print(properties_tidy.loc[properties_tidy['London_Borough'] == 'Unnamed: 47'].head())\n",
    "\n",
    "#The values in these rows appear to be null"
   ]
  },
  {
   "cell_type": "code",
   "execution_count": 16,
   "metadata": {},
   "outputs": [
    {
     "data": {
      "text/plain": [
       "London_Borough    15264\n",
       "ID                14310\n",
       "Month             15264\n",
       "Average_price     14310\n",
       "dtype: int64"
      ]
     },
     "execution_count": 16,
     "metadata": {},
     "output_type": "execute_result"
    }
   ],
   "source": [
    "properties_tidy.count()"
   ]
  },
  {
   "cell_type": "code",
   "execution_count": 17,
   "metadata": {},
   "outputs": [
    {
     "data": {
      "text/plain": [
       "London_Borough      0\n",
       "ID                954\n",
       "Month               0\n",
       "Average_price     954\n",
       "dtype: int64"
      ]
     },
     "execution_count": 17,
     "metadata": {},
     "output_type": "execute_result"
    }
   ],
   "source": [
    "properties_tidy.isna().sum()\n",
    "\n",
    "#There are 954 null values in the Month and Average_price columns; 318 per row for the \"Unnamed\" rows"
   ]
  },
  {
   "cell_type": "code",
   "execution_count": 18,
   "metadata": {},
   "outputs": [
    {
     "data": {
      "text/plain": [
       "London_Borough    14310\n",
       "ID                14310\n",
       "Month             14310\n",
       "Average_price     14310\n",
       "dtype: int64"
      ]
     },
     "execution_count": 18,
     "metadata": {},
     "output_type": "execute_result"
    }
   ],
   "source": [
    "#Get rid of the null values and save in variable NaNFreeDF1\n",
    "NaNFreeDF1 = properties_tidy.loc[properties_tidy['ID'].notna()]\n",
    "NaNFreeDF1.count()"
   ]
  },
  {
   "cell_type": "code",
   "execution_count": 19,
   "metadata": {},
   "outputs": [
    {
     "data": {
      "text/plain": [
       "London_Borough    False\n",
       "ID                False\n",
       "Month             False\n",
       "Average_price     False\n",
       "dtype: bool"
      ]
     },
     "execution_count": 19,
     "metadata": {},
     "output_type": "execute_result"
    }
   ],
   "source": [
    "NaNFreeDF1.isna().any()"
   ]
  },
  {
   "cell_type": "code",
   "execution_count": 21,
   "metadata": {},
   "outputs": [
    {
     "data": {
      "text/plain": [
       "London_Borough    14310\n",
       "ID                14310\n",
       "Month             14310\n",
       "Average_price     14310\n",
       "dtype: int64"
      ]
     },
     "execution_count": 21,
     "metadata": {},
     "output_type": "execute_result"
    }
   ],
   "source": [
    "#Try different method .dropna() to eliminate null values\n",
    "NaNFreeDF2 = properties_tidy.dropna()\n",
    "NaNFreeDF2.count()"
   ]
  },
  {
   "cell_type": "code",
   "execution_count": 60,
   "metadata": {},
   "outputs": [
    {
     "name": "stdout",
     "output_type": "stream",
     "text": [
      "(15264, 4)\n",
      "(14310, 4)\n",
      "(14310, 4)\n"
     ]
    }
   ],
   "source": [
    "#Compare the three dataframes and confirm the two methoes yeild the same result\n",
    "#NaNFreeDF1 and NaNFreeDF2 should yeild the same result\n",
    "\n",
    "print(properties_tidy.shape)\n",
    "print(NaNFreeDF1.shape)\n",
    "print(NaNFreeDF2.shape)"
   ]
  },
  {
   "cell_type": "code",
   "execution_count": 42,
   "metadata": {},
   "outputs": [
    {
     "data": {
      "text/plain": [
       "array(['City of London', 'Barking & Dagenham', 'Barnet', 'Bexley',\n",
       "       'Brent', 'Bromley', 'Camden', 'Croydon', 'Ealing', 'Enfield',\n",
       "       'Greenwich', 'Hackney', 'Hammersmith & Fulham', 'Haringey',\n",
       "       'Harrow', 'Havering', 'Hillingdon', 'Hounslow', 'Islington',\n",
       "       'Kensington & Chelsea', 'Kingston upon Thames', 'Lambeth',\n",
       "       'Lewisham', 'Merton', 'Newham', 'Redbridge',\n",
       "       'Richmond upon Thames', 'Southwark', 'Sutton', 'Tower Hamlets',\n",
       "       'Waltham Forest', 'Wandsworth', 'Westminster', 'Inner London',\n",
       "       'Outer London', 'NORTH EAST', 'NORTH WEST', 'YORKS & THE HUMBER',\n",
       "       'EAST MIDLANDS', 'WEST MIDLANDS', 'EAST OF ENGLAND', 'LONDON',\n",
       "       'SOUTH EAST', 'SOUTH WEST', 'England'], dtype=object)"
      ]
     },
     "execution_count": 42,
     "metadata": {},
     "output_type": "execute_result"
    }
   ],
   "source": [
    "NaNFreeDF1['London_Borough'].unique()\n",
    "\n",
    "#'City of London', 'Inner London' and everything after do not appear to be London boroughs"
   ]
  },
  {
   "cell_type": "code",
   "execution_count": 43,
   "metadata": {},
   "outputs": [
    {
     "data": {
      "text/plain": [
       "32"
      ]
     },
     "execution_count": 43,
     "metadata": {},
     "output_type": "execute_result"
    }
   ],
   "source": [
    "#Create a list of non boroughs\n",
    "not_boroughs = ['City of London', 'Inner London', 'Outer London', 'NORTH EAST', 'NORTH WEST', 'YORKS & THE HUMBER',\n",
    "       'EAST MIDLANDS', 'WEST MIDLANDS', 'EAST OF ENGLAND', 'LONDON',\n",
    "       'SOUTH EAST', 'SOUTH WEST', 'England']\n",
    "\n",
    "#Create final dataframe of only Lonodon boroughs\n",
    "df = NaNFreeDF2.loc[~NaNFreeDF2['London_Borough'].isin(not_boroughs)]\n",
    "\n",
    "len(df['London_Borough'].unique())\n",
    "#Now there appears to only exist 32 rows for the 32 London Boroughs"
   ]
  },
  {
   "cell_type": "code",
   "execution_count": 44,
   "metadata": {},
   "outputs": [
    {
     "name": "stdout",
     "output_type": "stream",
     "text": [
      "<class 'pandas.core.frame.DataFrame'>\n",
      "Int64Index: 10176 entries, 1 to 15248\n",
      "Data columns (total 4 columns):\n",
      " #   Column          Non-Null Count  Dtype         \n",
      "---  ------          --------------  -----         \n",
      " 0   London_Borough  10176 non-null  object        \n",
      " 1   ID              10176 non-null  object        \n",
      " 2   Month           10176 non-null  datetime64[ns]\n",
      " 3   Average_price   10176 non-null  float64       \n",
      "dtypes: datetime64[ns](1), float64(1), object(2)\n",
      "memory usage: 397.5+ KB\n"
     ]
    }
   ],
   "source": [
    "df.info()\n",
    "\n",
    "#There are an equal number of observations in each column"
   ]
  },
  {
   "cell_type": "code",
   "execution_count": 45,
   "metadata": {},
   "outputs": [
    {
     "data": {
      "text/html": [
       "<div>\n",
       "<style scoped>\n",
       "    .dataframe tbody tr th:only-of-type {\n",
       "        vertical-align: middle;\n",
       "    }\n",
       "\n",
       "    .dataframe tbody tr th {\n",
       "        vertical-align: top;\n",
       "    }\n",
       "\n",
       "    .dataframe thead th {\n",
       "        text-align: right;\n",
       "    }\n",
       "</style>\n",
       "<table border=\"1\" class=\"dataframe\">\n",
       "  <thead>\n",
       "    <tr style=\"text-align: right;\">\n",
       "      <th></th>\n",
       "      <th>London_Borough</th>\n",
       "      <th>ID</th>\n",
       "      <th>Month</th>\n",
       "      <th>Average_price</th>\n",
       "    </tr>\n",
       "  </thead>\n",
       "  <tbody>\n",
       "    <tr>\n",
       "      <th>1</th>\n",
       "      <td>Barking &amp; Dagenham</td>\n",
       "      <td>E09000002</td>\n",
       "      <td>1995-01-01</td>\n",
       "      <td>50460.22660</td>\n",
       "    </tr>\n",
       "    <tr>\n",
       "      <th>2</th>\n",
       "      <td>Barnet</td>\n",
       "      <td>E09000003</td>\n",
       "      <td>1995-01-01</td>\n",
       "      <td>93284.51832</td>\n",
       "    </tr>\n",
       "    <tr>\n",
       "      <th>3</th>\n",
       "      <td>Bexley</td>\n",
       "      <td>E09000004</td>\n",
       "      <td>1995-01-01</td>\n",
       "      <td>64958.09036</td>\n",
       "    </tr>\n",
       "    <tr>\n",
       "      <th>4</th>\n",
       "      <td>Brent</td>\n",
       "      <td>E09000005</td>\n",
       "      <td>1995-01-01</td>\n",
       "      <td>71306.56698</td>\n",
       "    </tr>\n",
       "    <tr>\n",
       "      <th>5</th>\n",
       "      <td>Bromley</td>\n",
       "      <td>E09000006</td>\n",
       "      <td>1995-01-01</td>\n",
       "      <td>81671.47692</td>\n",
       "    </tr>\n",
       "  </tbody>\n",
       "</table>\n",
       "</div>"
      ],
      "text/plain": [
       "       London_Borough         ID      Month  Average_price\n",
       "1  Barking & Dagenham  E09000002 1995-01-01    50460.22660\n",
       "2              Barnet  E09000003 1995-01-01    93284.51832\n",
       "3              Bexley  E09000004 1995-01-01    64958.09036\n",
       "4               Brent  E09000005 1995-01-01    71306.56698\n",
       "5             Bromley  E09000006 1995-01-01    81671.47692"
      ]
     },
     "execution_count": 45,
     "metadata": {},
     "output_type": "execute_result"
    }
   ],
   "source": [
    "df.head()"
   ]
  },
  {
   "cell_type": "markdown",
   "metadata": {
    "colab_type": "text",
    "id": "PGEx6mJsp6dG"
   },
   "source": [
    "**2.6. Visualizing the data**\n",
    "\n",
    "To visualize the data, why not subset on a particular London Borough? Maybe do a line plot of Month against Average Price?"
   ]
  },
  {
   "cell_type": "code",
   "execution_count": 46,
   "metadata": {
    "colab": {},
    "colab_type": "code",
    "id": "e0DF92cyqnu8"
   },
   "outputs": [
    {
     "data": {
      "text/plain": [
       "Text(0, 0.5, 'Price')"
      ]
     },
     "execution_count": 46,
     "metadata": {},
     "output_type": "execute_result"
    },
    {
     "data": {
      "image/png": "[encoded data removed]",
      "text/plain": [
       "<Figure size 432x288 with 1 Axes>"
      ]
     },
     "metadata": {
      "needs_background": "light"
     },
     "output_type": "display_data"
    }
   ],
   "source": [
    "#Plot of average price vs month for the Camden borough\n",
    "camden_bor = df.loc[df['London_Borough']=='Camden']\n",
    "\n",
    "ax = camden_bor.plot(x='Month', y='Average_price')\n",
    "ax.set_ylabel('Price')"
   ]
  },
  {
   "cell_type": "markdown",
   "metadata": {
    "colab_type": "text",
    "id": "aWTPqSJeqHnC"
   },
   "source": [
    "To limit the number of data points you have, you might want to extract the year from every month value your *Month* column. \n",
    "\n",
    "To this end, you *could* apply a ***lambda function***. Your logic could work as follows:\n",
    "1. look through the `Month` column\n",
    "2. extract the year from each individual value in that column \n",
    "3. store that corresponding year as separate column. \n",
    "\n",
    "Whether you go ahead with this is up to you. Just so long as you answer our initial brief: which boroughs of London have seen the greatest house price increase, on average, over the past two decades? "
   ]
  },
  {
   "cell_type": "code",
   "execution_count": 47,
   "metadata": {},
   "outputs": [
    {
     "name": "stderr",
     "output_type": "stream",
     "text": [
      "<ipython-input-47-ee9d7741f63c>:2: SettingWithCopyWarning: \n",
      "A value is trying to be set on a copy of a slice from a DataFrame.\n",
      "Try using .loc[row_indexer,col_indexer] = value instead\n",
      "\n",
      "See the caveats in the documentation: https://pandas.pydata.org/pandas-docs/stable/user_guide/indexing.html#returning-a-view-versus-a-copy\n",
      "  df['Year'] = df.loc[:,'Month'].apply(lambda t: t.year)\n"
     ]
    },
    {
     "data": {
      "text/html": [
       "<div>\n",
       "<style scoped>\n",
       "    .dataframe tbody tr th:only-of-type {\n",
       "        vertical-align: middle;\n",
       "    }\n",
       "\n",
       "    .dataframe tbody tr th {\n",
       "        vertical-align: top;\n",
       "    }\n",
       "\n",
       "    .dataframe thead th {\n",
       "        text-align: right;\n",
       "    }\n",
       "</style>\n",
       "<table border=\"1\" class=\"dataframe\">\n",
       "  <thead>\n",
       "    <tr style=\"text-align: right;\">\n",
       "      <th></th>\n",
       "      <th>London_Borough</th>\n",
       "      <th>ID</th>\n",
       "      <th>Month</th>\n",
       "      <th>Average_price</th>\n",
       "      <th>Year</th>\n",
       "    </tr>\n",
       "  </thead>\n",
       "  <tbody>\n",
       "    <tr>\n",
       "      <th>15244</th>\n",
       "      <td>Sutton</td>\n",
       "      <td>E09000029</td>\n",
       "      <td>2021-06-01</td>\n",
       "      <td>394446.8055</td>\n",
       "      <td>2021</td>\n",
       "    </tr>\n",
       "    <tr>\n",
       "      <th>15245</th>\n",
       "      <td>Tower Hamlets</td>\n",
       "      <td>E09000030</td>\n",
       "      <td>2021-06-01</td>\n",
       "      <td>468116.9350</td>\n",
       "      <td>2021</td>\n",
       "    </tr>\n",
       "    <tr>\n",
       "      <th>15246</th>\n",
       "      <td>Waltham Forest</td>\n",
       "      <td>E09000031</td>\n",
       "      <td>2021-06-01</td>\n",
       "      <td>485019.5045</td>\n",
       "      <td>2021</td>\n",
       "    </tr>\n",
       "    <tr>\n",
       "      <th>15247</th>\n",
       "      <td>Wandsworth</td>\n",
       "      <td>E09000032</td>\n",
       "      <td>2021-06-01</td>\n",
       "      <td>637662.1042</td>\n",
       "      <td>2021</td>\n",
       "    </tr>\n",
       "    <tr>\n",
       "      <th>15248</th>\n",
       "      <td>Westminster</td>\n",
       "      <td>E09000033</td>\n",
       "      <td>2021-06-01</td>\n",
       "      <td>895149.9974</td>\n",
       "      <td>2021</td>\n",
       "    </tr>\n",
       "  </tbody>\n",
       "</table>\n",
       "</div>"
      ],
      "text/plain": [
       "       London_Borough         ID      Month  Average_price  Year\n",
       "15244          Sutton  E09000029 2021-06-01    394446.8055  2021\n",
       "15245   Tower Hamlets  E09000030 2021-06-01    468116.9350  2021\n",
       "15246  Waltham Forest  E09000031 2021-06-01    485019.5045  2021\n",
       "15247      Wandsworth  E09000032 2021-06-01    637662.1042  2021\n",
       "15248     Westminster  E09000033 2021-06-01    895149.9974  2021"
      ]
     },
     "execution_count": 47,
     "metadata": {},
     "output_type": "execute_result"
    }
   ],
   "source": [
    "#Extract the year from datetime and store in the Year column\n",
    "df['Year'] = df.loc[:,'Month'].apply(lambda t: t.year)\n",
    "df.tail()"
   ]
  },
  {
   "cell_type": "code",
   "execution_count": 48,
   "metadata": {},
   "outputs": [
    {
     "data": {
      "text/html": [
       "<div>\n",
       "<style scoped>\n",
       "    .dataframe tbody tr th:only-of-type {\n",
       "        vertical-align: middle;\n",
       "    }\n",
       "\n",
       "    .dataframe tbody tr th {\n",
       "        vertical-align: top;\n",
       "    }\n",
       "\n",
       "    .dataframe thead th {\n",
       "        text-align: right;\n",
       "    }\n",
       "</style>\n",
       "<table border=\"1\" class=\"dataframe\">\n",
       "  <thead>\n",
       "    <tr style=\"text-align: right;\">\n",
       "      <th></th>\n",
       "      <th></th>\n",
       "      <th>Average_price</th>\n",
       "    </tr>\n",
       "    <tr>\n",
       "      <th>London_Borough</th>\n",
       "      <th>Year</th>\n",
       "      <th></th>\n",
       "    </tr>\n",
       "  </thead>\n",
       "  <tbody>\n",
       "    <tr>\n",
       "      <th>Wandsworth</th>\n",
       "      <th>1996</th>\n",
       "      <td>92270.037989</td>\n",
       "    </tr>\n",
       "    <tr>\n",
       "      <th>Bexley</th>\n",
       "      <th>2020</th>\n",
       "      <td>343044.845675</td>\n",
       "    </tr>\n",
       "    <tr>\n",
       "      <th>Newham</th>\n",
       "      <th>1996</th>\n",
       "      <td>55747.012583</td>\n",
       "    </tr>\n",
       "    <tr>\n",
       "      <th>Hammersmith &amp; Fulham</th>\n",
       "      <th>2010</th>\n",
       "      <td>502256.960300</td>\n",
       "    </tr>\n",
       "    <tr>\n",
       "      <th>Harrow</th>\n",
       "      <th>2018</th>\n",
       "      <td>465907.463252</td>\n",
       "    </tr>\n",
       "    <tr>\n",
       "      <th>Haringey</th>\n",
       "      <th>2006</th>\n",
       "      <td>263920.937508</td>\n",
       "    </tr>\n",
       "    <tr>\n",
       "      <th>Enfield</th>\n",
       "      <th>1997</th>\n",
       "      <td>83609.439219</td>\n",
       "    </tr>\n",
       "    <tr>\n",
       "      <th>Croydon</th>\n",
       "      <th>2017</th>\n",
       "      <td>372554.484167</td>\n",
       "    </tr>\n",
       "    <tr>\n",
       "      <th>Ealing</th>\n",
       "      <th>1998</th>\n",
       "      <td>111343.154650</td>\n",
       "    </tr>\n",
       "    <tr>\n",
       "      <th>Greenwich</th>\n",
       "      <th>2021</th>\n",
       "      <td>413953.627883</td>\n",
       "    </tr>\n",
       "  </tbody>\n",
       "</table>\n",
       "</div>"
      ],
      "text/plain": [
       "                           Average_price\n",
       "London_Borough       Year               \n",
       "Wandsworth           1996   92270.037989\n",
       "Bexley               2020  343044.845675\n",
       "Newham               1996   55747.012583\n",
       "Hammersmith & Fulham 2010  502256.960300\n",
       "Harrow               2018  465907.463252\n",
       "Haringey             2006  263920.937508\n",
       "Enfield              1997   83609.439219\n",
       "Croydon              2017  372554.484167\n",
       "Ealing               1998  111343.154650\n",
       "Greenwich            2021  413953.627883"
      ]
     },
     "execution_count": 48,
     "metadata": {},
     "output_type": "execute_result"
    }
   ],
   "source": [
    "#Find the average prices for each borough, per year\n",
    "dfg = df.groupby(['London_Borough', 'Year']).mean()\n",
    "dfg.sample(10)"
   ]
  },
  {
   "cell_type": "code",
   "execution_count": 49,
   "metadata": {},
   "outputs": [
    {
     "data": {
      "text/html": [
       "<div>\n",
       "<style scoped>\n",
       "    .dataframe tbody tr th:only-of-type {\n",
       "        vertical-align: middle;\n",
       "    }\n",
       "\n",
       "    .dataframe tbody tr th {\n",
       "        vertical-align: top;\n",
       "    }\n",
       "\n",
       "    .dataframe thead th {\n",
       "        text-align: right;\n",
       "    }\n",
       "</style>\n",
       "<table border=\"1\" class=\"dataframe\">\n",
       "  <thead>\n",
       "    <tr style=\"text-align: right;\">\n",
       "      <th></th>\n",
       "      <th>London_Borough</th>\n",
       "      <th>Year</th>\n",
       "      <th>Average_price</th>\n",
       "    </tr>\n",
       "  </thead>\n",
       "  <tbody>\n",
       "    <tr>\n",
       "      <th>0</th>\n",
       "      <td>Barking &amp; Dagenham</td>\n",
       "      <td>1995</td>\n",
       "      <td>51817.969390</td>\n",
       "    </tr>\n",
       "    <tr>\n",
       "      <th>1</th>\n",
       "      <td>Barking &amp; Dagenham</td>\n",
       "      <td>1996</td>\n",
       "      <td>51718.192690</td>\n",
       "    </tr>\n",
       "    <tr>\n",
       "      <th>2</th>\n",
       "      <td>Barking &amp; Dagenham</td>\n",
       "      <td>1997</td>\n",
       "      <td>55974.262309</td>\n",
       "    </tr>\n",
       "    <tr>\n",
       "      <th>3</th>\n",
       "      <td>Barking &amp; Dagenham</td>\n",
       "      <td>1998</td>\n",
       "      <td>60285.821083</td>\n",
       "    </tr>\n",
       "    <tr>\n",
       "      <th>4</th>\n",
       "      <td>Barking &amp; Dagenham</td>\n",
       "      <td>1999</td>\n",
       "      <td>65320.934441</td>\n",
       "    </tr>\n",
       "  </tbody>\n",
       "</table>\n",
       "</div>"
      ],
      "text/plain": [
       "       London_Borough  Year  Average_price\n",
       "0  Barking & Dagenham  1995   51817.969390\n",
       "1  Barking & Dagenham  1996   51718.192690\n",
       "2  Barking & Dagenham  1997   55974.262309\n",
       "3  Barking & Dagenham  1998   60285.821083\n",
       "4  Barking & Dagenham  1999   65320.934441"
      ]
     },
     "execution_count": 49,
     "metadata": {},
     "output_type": "execute_result"
    }
   ],
   "source": [
    "#Reset index \n",
    "dfg=dfg.reset_index()\n",
    "dfg.head()"
   ]
  },
  {
   "cell_type": "code",
   "execution_count": 50,
   "metadata": {},
   "outputs": [
    {
     "data": {
      "text/plain": [
       "Text(0, 0.5, 'Average yearly price')"
      ]
     },
     "execution_count": 50,
     "metadata": {},
     "output_type": "execute_result"
    },
    {
     "data": {
      "image/png": "[encoded data removed]",
      "text/plain": [
       "<Figure size 432x288 with 1 Axes>"
      ]
     },
     "metadata": {
      "needs_background": "light"
     },
     "output_type": "display_data"
    }
   ],
   "source": [
    "#Re-plot average price for each borough vs year for Camden borough\n",
    "camden_borg = dfg[dfg['London_Borough']=='Camden']\n",
    "\n",
    "ax = camden_borg.plot(x='Year', y='Average_price')\n",
    "ax.set_ylabel('Average yearly price')"
   ]
  },
  {
   "cell_type": "markdown",
   "metadata": {
    "colab_type": "text",
    "id": "2knuTxAEqoJ4"
   },
   "source": [
    "**3. Modeling**\n",
    "\n",
    "Consider creating a function that will calculate a ratio of house prices, comparing the price of a house in 2018 to the price in 1998.\n",
    "\n",
    "Consider calling this function create_price_ratio.\n",
    "\n",
    "You'd want this function to:\n",
    "1. Take a filter of dfg, specifically where this filter constrains the London_Borough, as an argument. For example, one admissible argument should be: dfg[dfg['London_Borough']=='Camden'].\n",
    "2. Get the Average Price for that Borough, for the years 1998 and 2018.\n",
    "4. Calculate the ratio of the Average Price for 1998 divided by the Average Price for 2018.\n",
    "5. Return that ratio.\n",
    "\n",
    "Once you've written this function, you ultimately want to use it to iterate through all the unique London_Boroughs and work out the ratio capturing the difference of house prices between 1998 and 2018.\n",
    "\n",
    "Bear in mind: you don't have to write a function like this if you don't want to. If you can solve the brief otherwise, then great! \n",
    "\n",
    "***Hint***: This section should test the skills you acquired in:\n",
    "- Python Data Science Toolbox - Part One, all modules"
   ]
  },
  {
   "cell_type": "code",
   "execution_count": 51,
   "metadata": {
    "colab": {},
    "colab_type": "code",
    "id": "cKTyr437UgDa"
   },
   "outputs": [
    {
     "data": {
      "text/plain": [
       "[4.935353408884261]"
      ]
     },
     "execution_count": 51,
     "metadata": {},
     "output_type": "execute_result"
    }
   ],
   "source": [
    "def create_price_ratio(b):\n",
    "    '''Calculates the ratio of average price for year 1998 over average price in 2018'''\n",
    "    \n",
    "    y1998 = float(b['Average_price'][b['Year']==1998])\n",
    "    y2018 = float(b['Average_price'][b['Year']==2018])\n",
    "    ratio = [y2018/y1998]\n",
    "    return ratio\n",
    "\n",
    "#Test funcion for the Camden borough\n",
    "create_price_ratio(camden_borg)"
   ]
  },
  {
   "cell_type": "code",
   "execution_count": 52,
   "metadata": {},
   "outputs": [
    {
     "name": "stdout",
     "output_type": "stream",
     "text": [
      "{'Barking & Dagenham': [4.89661861291754], 'Barnet': [4.358195917538044], 'Bexley': [4.248977046127877], 'Brent': [4.8945544971392865], 'Bromley': [4.0947846853338765], 'Camden': [4.935353408884261], 'Croydon': [4.201100280024767], 'Ealing': [4.311450902121834], 'Enfield': [4.26347158349581], 'Greenwich': [4.763036347329193], 'Hackney': [6.198285561008662], 'Hammersmith & Fulham': [4.137798101936229], 'Haringey': [5.134624964136042], 'Harrow': [4.0591964329643195], 'Havering': [4.325230371335308], 'Hillingdon': [4.2002730803844575], 'Hounslow': [3.976409106143329], 'Islington': [4.844048012802298], 'Kensington & Chelsea': [5.082465066092464], 'Kingston upon Thames': [4.270549521484271], 'Lambeth': [4.957751163514063], 'Lewisham': [5.449221041059685], 'Merton': [4.741273313294604], 'Newham': [5.305390437201879], 'Redbridge': [4.471182006097364], 'Richmond upon Thames': [4.005161895721457], 'Southwark': [5.516485302379376], 'Sutton': [4.118522608573157], 'Tower Hamlets': [4.62670104006116], 'Waltham Forest': [5.83475580932281], 'Wandsworth': [4.757709347739269], 'Westminster': [5.353565392605413]}\n"
     ]
    }
   ],
   "source": [
    "#Create an empty dictionary 'final'. This will be populated with boroughs as keys and ratio of average\n",
    "#prices for 1998 and 2018 as values\n",
    "final={}\n",
    "\n",
    "for item in dfg['London_Borough'].unique():\n",
    "    borough = dfg[dfg['London_Borough']==item]\n",
    "    final[item] = (create_price_ratio(borough))\n",
    "    \n",
    "print(final)"
   ]
  },
  {
   "cell_type": "code",
   "execution_count": 53,
   "metadata": {},
   "outputs": [
    {
     "data": {
      "text/html": [
       "<div>\n",
       "<style scoped>\n",
       "    .dataframe tbody tr th:only-of-type {\n",
       "        vertical-align: middle;\n",
       "    }\n",
       "\n",
       "    .dataframe tbody tr th {\n",
       "        vertical-align: top;\n",
       "    }\n",
       "\n",
       "    .dataframe thead th {\n",
       "        text-align: right;\n",
       "    }\n",
       "</style>\n",
       "<table border=\"1\" class=\"dataframe\">\n",
       "  <thead>\n",
       "    <tr style=\"text-align: right;\">\n",
       "      <th></th>\n",
       "      <th>Barking &amp; Dagenham</th>\n",
       "      <th>Barnet</th>\n",
       "      <th>Bexley</th>\n",
       "      <th>Brent</th>\n",
       "      <th>Bromley</th>\n",
       "      <th>Camden</th>\n",
       "      <th>Croydon</th>\n",
       "      <th>Ealing</th>\n",
       "      <th>Enfield</th>\n",
       "      <th>Greenwich</th>\n",
       "      <th>...</th>\n",
       "      <th>Merton</th>\n",
       "      <th>Newham</th>\n",
       "      <th>Redbridge</th>\n",
       "      <th>Richmond upon Thames</th>\n",
       "      <th>Southwark</th>\n",
       "      <th>Sutton</th>\n",
       "      <th>Tower Hamlets</th>\n",
       "      <th>Waltham Forest</th>\n",
       "      <th>Wandsworth</th>\n",
       "      <th>Westminster</th>\n",
       "    </tr>\n",
       "  </thead>\n",
       "  <tbody>\n",
       "    <tr>\n",
       "      <th>0</th>\n",
       "      <td>4.896619</td>\n",
       "      <td>4.358196</td>\n",
       "      <td>4.248977</td>\n",
       "      <td>4.894554</td>\n",
       "      <td>4.094785</td>\n",
       "      <td>4.935353</td>\n",
       "      <td>4.2011</td>\n",
       "      <td>4.311451</td>\n",
       "      <td>4.263472</td>\n",
       "      <td>4.763036</td>\n",
       "      <td>...</td>\n",
       "      <td>4.741273</td>\n",
       "      <td>5.30539</td>\n",
       "      <td>4.471182</td>\n",
       "      <td>4.005162</td>\n",
       "      <td>5.516485</td>\n",
       "      <td>4.118523</td>\n",
       "      <td>4.626701</td>\n",
       "      <td>5.834756</td>\n",
       "      <td>4.757709</td>\n",
       "      <td>5.353565</td>\n",
       "    </tr>\n",
       "  </tbody>\n",
       "</table>\n",
       "<p>1 rows × 32 columns</p>\n",
       "</div>"
      ],
      "text/plain": [
       "   Barking & Dagenham    Barnet    Bexley     Brent   Bromley    Camden  \\\n",
       "0            4.896619  4.358196  4.248977  4.894554  4.094785  4.935353   \n",
       "\n",
       "   Croydon    Ealing   Enfield  Greenwich  ...    Merton   Newham  Redbridge  \\\n",
       "0   4.2011  4.311451  4.263472   4.763036  ...  4.741273  5.30539   4.471182   \n",
       "\n",
       "   Richmond upon Thames  Southwark    Sutton  Tower Hamlets  Waltham Forest  \\\n",
       "0              4.005162   5.516485  4.118523       4.626701        5.834756   \n",
       "\n",
       "   Wandsworth  Westminster  \n",
       "0    4.757709     5.353565  \n",
       "\n",
       "[1 rows x 32 columns]"
      ]
     },
     "execution_count": 53,
     "metadata": {},
     "output_type": "execute_result"
    }
   ],
   "source": [
    "#Convert the 'fianl' dictionary to a dataframe\n",
    "df_ratio = pd.DataFrame(final)\n",
    "df_ratio.head()"
   ]
  },
  {
   "cell_type": "code",
   "execution_count": 54,
   "metadata": {},
   "outputs": [
    {
     "data": {
      "text/html": [
       "<div>\n",
       "<style scoped>\n",
       "    .dataframe tbody tr th:only-of-type {\n",
       "        vertical-align: middle;\n",
       "    }\n",
       "\n",
       "    .dataframe tbody tr th {\n",
       "        vertical-align: top;\n",
       "    }\n",
       "\n",
       "    .dataframe thead th {\n",
       "        text-align: right;\n",
       "    }\n",
       "</style>\n",
       "<table border=\"1\" class=\"dataframe\">\n",
       "  <thead>\n",
       "    <tr style=\"text-align: right;\">\n",
       "      <th></th>\n",
       "      <th>London_Borough</th>\n",
       "      <th>2018</th>\n",
       "    </tr>\n",
       "  </thead>\n",
       "  <tbody>\n",
       "    <tr>\n",
       "      <th>0</th>\n",
       "      <td>Barking &amp; Dagenham</td>\n",
       "      <td>4.896619</td>\n",
       "    </tr>\n",
       "    <tr>\n",
       "      <th>1</th>\n",
       "      <td>Barnet</td>\n",
       "      <td>4.358196</td>\n",
       "    </tr>\n",
       "    <tr>\n",
       "      <th>2</th>\n",
       "      <td>Bexley</td>\n",
       "      <td>4.248977</td>\n",
       "    </tr>\n",
       "    <tr>\n",
       "      <th>3</th>\n",
       "      <td>Brent</td>\n",
       "      <td>4.894554</td>\n",
       "    </tr>\n",
       "    <tr>\n",
       "      <th>4</th>\n",
       "      <td>Bromley</td>\n",
       "      <td>4.094785</td>\n",
       "    </tr>\n",
       "  </tbody>\n",
       "</table>\n",
       "</div>"
      ],
      "text/plain": [
       "       London_Borough      2018\n",
       "0  Barking & Dagenham  4.896619\n",
       "1              Barnet  4.358196\n",
       "2              Bexley  4.248977\n",
       "3               Brent  4.894554\n",
       "4             Bromley  4.094785"
      ]
     },
     "execution_count": 54,
     "metadata": {},
     "output_type": "execute_result"
    }
   ],
   "source": [
    "#Transpose the df_ratio dataframe to get boroughs as rows\n",
    "df_ratio_T = df_ratio.T\n",
    "\n",
    "#Reset the index\n",
    "df_ratio_T = df_ratio_T.reset_index()\n",
    "\n",
    "#Rename column names\n",
    "df_ratio_T.rename(columns={'index':'London_Borough', 0: '2018'}, inplace=True)\n",
    "\n",
    "df_ratio_T.head()"
   ]
  },
  {
   "cell_type": "code",
   "execution_count": 55,
   "metadata": {},
   "outputs": [
    {
     "name": "stdout",
     "output_type": "stream",
     "text": [
      "          London_Borough      2018\n",
      "0                Hackney  6.198286\n",
      "1         Waltham Forest  5.834756\n",
      "2              Southwark  5.516485\n",
      "3               Lewisham  5.449221\n",
      "4            Westminster  5.353565\n",
      "5                 Newham  5.305390\n",
      "6               Haringey  5.134625\n",
      "7   Kensington & Chelsea  5.082465\n",
      "8                Lambeth  4.957751\n",
      "9                 Camden  4.935353\n",
      "10    Barking & Dagenham  4.896619\n",
      "11                 Brent  4.894554\n",
      "12             Islington  4.844048\n",
      "13             Greenwich  4.763036\n",
      "14            Wandsworth  4.757709\n",
      "15                Merton  4.741273\n",
      "16         Tower Hamlets  4.626701\n",
      "17             Redbridge  4.471182\n",
      "18                Barnet  4.358196\n",
      "19              Havering  4.325230\n",
      "20                Ealing  4.311451\n",
      "21  Kingston upon Thames  4.270550\n",
      "22               Enfield  4.263472\n",
      "23                Bexley  4.248977\n",
      "24               Croydon  4.201100\n",
      "25            Hillingdon  4.200273\n",
      "26  Hammersmith & Fulham  4.137798\n",
      "27                Sutton  4.118523\n",
      "28               Bromley  4.094785\n",
      "29                Harrow  4.059196\n",
      "30  Richmond upon Thames  4.005162\n",
      "31              Hounslow  3.976409\n"
     ]
    }
   ],
   "source": [
    "#Sort df_ratio_T in descending order\n",
    "df_sorted = df_ratio_T.sort_values('2018', ascending = False).reset_index(drop=True)\n",
    "print(df_sorted)"
   ]
  },
  {
   "cell_type": "code",
   "execution_count": 56,
   "metadata": {},
   "outputs": [
    {
     "data": {
      "image/png": "[encoded data removed]",
      "text/plain": [
       "<Figure size 432x288 with 1 Axes>"
      ]
     },
     "metadata": {
      "needs_background": "light"
     },
     "output_type": "display_data"
    }
   ],
   "source": [
    "#Create a bar plot of the ratios for each London borough\n",
    "\n",
    "ax = df_sorted[['London_Borough','2018']].plot(kind='bar')\n",
    "\n",
    "ax.set_xticklabels(df_sorted['London_Borough'])\n",
    "plt.show()"
   ]
  },
  {
   "cell_type": "code",
   "execution_count": 57,
   "metadata": {},
   "outputs": [
    {
     "data": {
      "image/png": "[encoded data removed]",
      "text/plain": [
       "<Figure size 432x288 with 1 Axes>"
      ]
     },
     "metadata": {
      "needs_background": "light"
     },
     "output_type": "display_data"
    }
   ],
   "source": [
    "#Top 15 \n",
    "\n",
    "top15 = df_sorted.head(15)\n",
    "\n",
    "ax = top15[['London_Borough','2018']].plot(kind='bar')\n",
    "\n",
    "ax.set_xticklabels(top15['London_Borough'])\n",
    "plt.show()"
   ]
  },
  {
   "cell_type": "markdown",
   "metadata": {
    "colab_type": "text",
    "id": "NzYUI7FxJpgv"
   },
   "source": [
    "### 4. Conclusion\n",
    "What can you conclude? Type out your conclusion below. \n",
    "\n",
    "Look back at your notebook. Think about how you might summarize what you have done, and prepare a quick presentation on it to your mentor at your next meeting. \n",
    "\n",
    "We hope you enjoyed this practical project. It should have consolidated your data hygiene and pandas skills by looking at a real-world problem involving just the kind of dataset you might encounter as a budding data scientist. Congratulations, and looking forward to seeing you at the next step in the course! "
   ]
  },
  {
   "cell_type": "markdown",
   "metadata": {},
   "source": [
    "***Which boroughs of London have seen the greatest increase in housing prices, on average, over the last two decades?***\n",
    "\n",
    "The ratio of housing prices represents how much prices have changed relative to the original price in 1998. Because prices of 2018 are guaranteed to be higher than those in 1998 due to market inflation over the years and we are dividing the price for the more recent year by the original year, a higher ratio represents a larger increase in housing prices. In the context of this problem, we can calculate this for any two years that span two decades.\n",
    "\n",
    "We can see that the three boroughs that had the greatest increase in housing prices, on average, over the two decades between 1998 and 2008 are **Hackney**, **Waltham Forest** and **Southwark** in that order. "
   ]
  },
  {
   "cell_type": "markdown",
   "metadata": {},
   "source": [
    "***Which borough is the most expensive?***\n",
    "\n",
    "The analysis above does not clarify whether the most increase in housing prices corresponds to the most expensive borough. To determine which boroughs were the most expensive, I'll plot the the average price for each borough for the year 2018.  "
   ]
  },
  {
   "cell_type": "code",
   "execution_count": 58,
   "metadata": {},
   "outputs": [
    {
     "data": {
      "text/html": [
       "<div>\n",
       "<style scoped>\n",
       "    .dataframe tbody tr th:only-of-type {\n",
       "        vertical-align: middle;\n",
       "    }\n",
       "\n",
       "    .dataframe tbody tr th {\n",
       "        vertical-align: top;\n",
       "    }\n",
       "\n",
       "    .dataframe thead th {\n",
       "        text-align: right;\n",
       "    }\n",
       "</style>\n",
       "<table border=\"1\" class=\"dataframe\">\n",
       "  <thead>\n",
       "    <tr style=\"text-align: right;\">\n",
       "      <th></th>\n",
       "      <th>London_Borough</th>\n",
       "      <th>Year</th>\n",
       "      <th>Average_price</th>\n",
       "    </tr>\n",
       "  </thead>\n",
       "  <tbody>\n",
       "    <tr>\n",
       "      <th>0</th>\n",
       "      <td>Kensington &amp; Chelsea</td>\n",
       "      <td>2018</td>\n",
       "      <td>1.363880e+06</td>\n",
       "    </tr>\n",
       "    <tr>\n",
       "      <th>1</th>\n",
       "      <td>Westminster</td>\n",
       "      <td>2018</td>\n",
       "      <td>1.020025e+06</td>\n",
       "    </tr>\n",
       "    <tr>\n",
       "      <th>2</th>\n",
       "      <td>Camden</td>\n",
       "      <td>2018</td>\n",
       "      <td>8.424104e+05</td>\n",
       "    </tr>\n",
       "    <tr>\n",
       "      <th>3</th>\n",
       "      <td>Hammersmith &amp; Fulham</td>\n",
       "      <td>2018</td>\n",
       "      <td>7.255253e+05</td>\n",
       "    </tr>\n",
       "    <tr>\n",
       "      <th>4</th>\n",
       "      <td>Richmond upon Thames</td>\n",
       "      <td>2018</td>\n",
       "      <td>6.526654e+05</td>\n",
       "    </tr>\n",
       "  </tbody>\n",
       "</table>\n",
       "</div>"
      ],
      "text/plain": [
       "         London_Borough  Year  Average_price\n",
       "0  Kensington & Chelsea  2018   1.363880e+06\n",
       "1           Westminster  2018   1.020025e+06\n",
       "2                Camden  2018   8.424104e+05\n",
       "3  Hammersmith & Fulham  2018   7.255253e+05\n",
       "4  Richmond upon Thames  2018   6.526654e+05"
      ]
     },
     "execution_count": 58,
     "metadata": {},
     "output_type": "execute_result"
    }
   ],
   "source": [
    "most_expensive = dfg.loc[dfg['Year']==2018].sort_values\\\n",
    "('Average_price', ascending = False).reset_index(drop=True)\n",
    "most_expensive.head()"
   ]
  },
  {
   "cell_type": "code",
   "execution_count": 59,
   "metadata": {},
   "outputs": [
    {
     "data": {
      "image/png": "[encoded data removed]",
      "text/plain": [
       "<Figure size 432x288 with 1 Axes>"
      ]
     },
     "metadata": {
      "needs_background": "light"
     },
     "output_type": "display_data"
    }
   ],
   "source": [
    "ax = most_expensive[['London_Borough','Average_price']].plot(kind='bar')\n",
    "\n",
    "ax.set_xticklabels(most_expensive['London_Borough'])\n",
    "ax.set_ylabel('Average Price for 2018')\n",
    "plt.show()"
   ]
  },
  {
   "cell_type": "markdown",
   "metadata": {},
   "source": [
    "We see that while the top three most expensive boroughs, **Kensington & Chelsea**, **Westminster**, and **Camden** are among the top 15 boroughs that had the greatest price hikes, they are not necessarily the boroughs that also experienced the largest increases. \n",
    "\n",
    "On the other hand, **Hackney** which had the greatest increase in housing prices was ranked the ninth most expensive borough and **Waltham Forest** which had the second price increase was not even among the top 15 most expensive boroughs. This could be due to the fact that for such boroughs there was greater room for price improvement and increase."
   ]
  },
  {
   "cell_type": "code",
   "execution_count": null,
   "metadata": {},
   "outputs": [],
   "source": []
  },
  {
   "cell_type": "code",
   "execution_count": null,
   "metadata": {},
   "outputs": [],
   "source": []
  }
 ],
 "metadata": {
  "colab": {
   "collapsed_sections": [],
   "name": "Springboard Data Science Career Track Unit 4 Challenge - Tier 3 Complete .ipynb",
   "provenance": []
  },
  "kernelspec": {
   "display_name": "Python 3",
   "language": "python",
   "name": "python3"
  },
  "language_info": {
   "codemirror_mode": {
    "name": "ipython",
    "version": 3
   },
   "file_extension": ".py",
   "mimetype": "text/x-python",
   "name": "python",
   "nbconvert_exporter": "python",
   "pygments_lexer": "ipython3",
   "version": "3.8.5"
  }
 },
 "nbformat": 4,
 "nbformat_minor": 1
}
